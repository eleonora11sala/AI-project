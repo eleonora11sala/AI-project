{
  "cells": [
    {
      "cell_type": "code",
      "outputs": [],
      "source": [
        "import keras\n",
        "from keras import initializers\n",
        "import tensorflow as tf\n",
        "\n",
        "# This will make GPU ops as deterministic as possible --> reproducibility\n",
        "tf.config.experimental.enable_op_determinism()\n",
        "\n",
        "tf.random.set_seed(42)\n",
        "\n",
        "import pandas as pd\n",
        "import numpy as np, os\n",
        "from tensorflow.keras.layers import Input, Dense, Conv1D, Flatten, MaxPooling1D, BatchNormalization, Dropout, Activation\n",
        "from keras.models import Sequential\n",
        "import matplotlib.pyplot as plt\n",
        "from sklearn.metrics import confusion_matrix\n",
        "import seaborn as sns\n"
      ],
      "metadata": {
        "ExecuteTime": {
          "end_time": "2024-01-26T19:20:02.739953800Z",
          "start_time": "2024-01-26T19:19:56.164219200Z"
        },
        "id": "c36bf3fe97730b0d"
      },
      "id": "c36bf3fe97730b0d",
      "execution_count": 1
    },
    {
      "cell_type": "code",
      "source": [
        "from google.colab import drive\n",
        "drive.mount('/content/drive')"
      ],
      "metadata": {
        "id": "UPMZ41IuseKs",
        "colab": {
          "base_uri": "https://localhost:8080/"
        },
        "outputId": "3bf788b6-d3e5-4915-dc66-7730e0e87379"
      },
      "id": "UPMZ41IuseKs",
      "execution_count": 2,
      "outputs": [
        {
          "output_type": "stream",
          "name": "stdout",
          "text": [
            "Mounted at /content/drive\n"
          ]
        }
      ]
    },
    {
      "cell_type": "markdown",
      "source": [
        "# Pre processing"
      ],
      "metadata": {
        "collapsed": false,
        "id": "673f6d3e97b64e50"
      },
      "id": "673f6d3e97b64e50"
    },
    {
      "cell_type": "code",
      "outputs": [],
      "source": [
        "folder_path = f\"/content/drive/MyDrive/AI-project/128\"\n",
        "\n",
        "# List all files in the folder\n",
        "file_names = [file for file in os.listdir(folder_path) if file.endswith('_128.csv')]\n",
        "\n",
        "# Initialize an empty DataFrame to concatenate all data\n",
        "all_data = pd.DataFrame()\n",
        "all_data_list = []\n",
        "list_128 = []\n",
        "\n",
        "# Loop through each file and concatenate the data\n",
        "for file_name in file_names:\n",
        "    file_path = os.path.join(folder_path, file_name)\n",
        "    data = pd.read_csv(file_path)\n",
        "    all_data_list.append(data)\n",
        "    list_128.append(data)\n",
        "    all_data = pd.concat([all_data, data], ignore_index=True)"
      ],
      "metadata": {
        "ExecuteTime": {
          "end_time": "2024-01-26T19:02:53.018763100Z",
          "start_time": "2024-01-26T19:02:40.889819400Z"
        },
        "id": "7fea189362b571db"
      },
      "id": "7fea189362b571db",
      "execution_count": 3
    },
    {
      "cell_type": "code",
      "outputs": [],
      "source": [
        "folder_path = f\"/content/drive/MyDrive/AI-project/250\"\n",
        "\n",
        "# List all files in the folder\n",
        "file_names = [file for file in os.listdir(folder_path) if file.endswith('_250.csv')]\n",
        "\n",
        "list_250 = []\n",
        "\n",
        "# Loop through each file and concatenate the data\n",
        "for file_name in file_names:\n",
        "    file_path = os.path.join(folder_path, file_name)\n",
        "    data = pd.read_csv(file_path)\n",
        "    all_data_list.append(data)\n",
        "    list_250.append(data)\n",
        "    all_data = pd.concat([all_data, data], ignore_index=True)\n",
        "\n",
        "# Now 'all_data_list' contains a list of all data from all CSV files"
      ],
      "metadata": {
        "ExecuteTime": {
          "end_time": "2024-01-26T19:03:17.233797500Z",
          "start_time": "2024-01-26T19:02:53.025760100Z"
        },
        "id": "c2e5f9d1a0083619"
      },
      "id": "c2e5f9d1a0083619",
      "execution_count": 4
    },
    {
      "cell_type": "markdown",
      "source": [
        "# Signal Segmentation"
      ],
      "metadata": {
        "collapsed": false,
        "id": "5862195933a7e969"
      },
      "id": "5862195933a7e969"
    },
    {
      "cell_type": "code",
      "outputs": [],
      "source": [
        "window_size = 200"
      ],
      "metadata": {
        "ExecuteTime": {
          "end_time": "2024-01-26T19:03:17.256764900Z",
          "start_time": "2024-01-26T19:03:17.241710400Z"
        },
        "id": "a38508dffd6412ef"
      },
      "id": "a38508dffd6412ef",
      "execution_count": 5
    },
    {
      "cell_type": "code",
      "outputs": [],
      "source": [
        "# Segment each patient's signal\n",
        "\n",
        "half_window = window_size // 2\n",
        "\n",
        "#Create a df that will contain the segments\n",
        "#An id column is added to store the id of the patient\n",
        "column_names = ['id', 'segment_values', 'label']\n",
        "df_segments_patients_all = pd.DataFrame(columns=column_names)\n",
        "\n",
        "id = 0\n",
        "\n",
        "for patient_data in list_128:\n",
        "    patient_signal = patient_data['value'].values\n",
        "\n",
        "  #Iterate through the signal\n",
        "    for i in range(0, len(patient_signal)):\n",
        "        #if a peak is detected\n",
        "        if(patient_data['IsPeak'].values[i] == True):\n",
        "          #If the margins of the window do not exceed the length of the signal\n",
        "            if(not(i-half_window <0) and not(i+half_window > len(patient_signal)-1) ):\n",
        "                segment = patient_signal[i-half_window:i+half_window]\n",
        "\n",
        "                #Add segment to list only if it is a 'proper window' --> i-window, i+ window garanteed\n",
        "                df_segments_patient_temp = pd.DataFrame({'id': id,\n",
        "                                        'segment_values': [segment],\n",
        "                                        'label': patient_data['PeakNature'].values[i]})\n",
        "                df_segments_patients_all = pd.concat([df_segments_patients_all, df_segments_patient_temp], ignore_index=True)\n",
        "\n",
        "    id = id + 1"
      ],
      "metadata": {
        "ExecuteTime": {
          "end_time": "2024-01-26T19:06:56.455090700Z",
          "start_time": "2024-01-26T19:03:17.247227900Z"
        },
        "id": "37b3e50a42603059"
      },
      "id": "37b3e50a42603059",
      "execution_count": 6
    },
    {
      "cell_type": "code",
      "outputs": [],
      "source": [
        "#Repeat the same operation for the samples sampled at 250\n",
        "#half_window * 2 considered in order to ensure comparability of signal windows\n",
        "#For the same reason, take one sample every 2 since 250Hz/128Hz=1,95 ≈2.\n",
        "\n",
        "for patient_data in list_250:\n",
        "    patient_signal = patient_data['value'].values\n",
        "\n",
        "    for i in range(0, len(patient_signal)):\n",
        "        if(patient_data['IsPeak'].values[i] == True):\n",
        "            if(not(i-(half_window*2) <0) and not(i+(half_window*2) > len(patient_signal)-1) ):\n",
        "                segment = patient_signal[i-(half_window*2):i+(half_window*2) : 2]\n",
        "\n",
        "                #Add segment to list only if it is a 'proper window' --> i-window, i+ window garanteed\n",
        "                df_segments_patient_temp = pd.DataFrame({'id': id,\n",
        "                                        'segment_values': [segment],\n",
        "                                        'label': patient_data['PeakNature'].values[i]})\n",
        "                df_segments_patients_all = pd.concat([df_segments_patients_all, df_segments_patient_temp], ignore_index=True)\n",
        "\n",
        "    id = id + 1"
      ],
      "metadata": {
        "ExecuteTime": {
          "end_time": "2024-01-26T19:12:54.894366800Z",
          "start_time": "2024-01-26T19:06:56.459707700Z"
        },
        "id": "fb263d4440572f38"
      },
      "id": "fb263d4440572f38",
      "execution_count": 7
    },
    {
      "cell_type": "markdown",
      "source": [
        "# Train / Val / Test split"
      ],
      "metadata": {
        "collapsed": false,
        "id": "f4e16defe3999dbf"
      },
      "id": "f4e16defe3999dbf"
    },
    {
      "cell_type": "code",
      "outputs": [],
      "source": [
        "#Set a seed for reproducibility\n",
        "np.random.seed(20)"
      ],
      "metadata": {
        "ExecuteTime": {
          "end_time": "2024-01-27T17:34:48.449904400Z",
          "start_time": "2024-01-27T17:34:48.415120700Z"
        },
        "id": "84198b520b0ab97d"
      },
      "id": "84198b520b0ab97d",
      "execution_count": 8
    },
    {
      "cell_type": "code",
      "source": [
        "#Binarize the annotations\n",
        "\n",
        "df_segments_patients_all['label'] = df_segments_patients_all['label'].str.replace('S', 'notN')\n",
        "df_segments_patients_all['label'] = df_segments_patients_all['label'].str.replace('V', 'notN')\n"
      ],
      "metadata": {
        "id": "rqzcY-_SwcWn"
      },
      "id": "rqzcY-_SwcWn",
      "execution_count": 9,
      "outputs": []
    },
    {
      "cell_type": "code",
      "outputs": [],
      "source": [
        "#Split segments depending on the patient id\n",
        "\n",
        "num_patients = df_segments_patients_all['id'].nunique()\n",
        "\n",
        "train_indices = np.random.choice(range(num_patients), size=int(num_patients * 0.7), replace=False)\n",
        "validation_indices = np.random.choice(list(set(range(num_patients)) - set(train_indices)), size=int(num_patients * 0.15), replace=False)\n",
        "test_indices = list(set(range(num_patients)) - set(train_indices) - set(validation_indices))\n"
      ],
      "metadata": {
        "ExecuteTime": {
          "end_time": "2024-01-27T17:34:49.181434100Z",
          "start_time": "2024-01-27T17:34:49.165432900Z"
        },
        "id": "1949b474af5907b3"
      },
      "id": "1949b474af5907b3",
      "execution_count": 10
    },
    {
      "cell_type": "code",
      "outputs": [],
      "source": [
        "#extract from the dataframe containing segments the one belonging to the indexes extracted and put them in train_df\n",
        "train_df = df_segments_patients_all[df_segments_patients_all['id'].isin(train_indices)].drop(['id'], axis=1)\n",
        "\n",
        "# Split dataframe into features and labels\n",
        "X_train = train_df.drop(['label'], axis=1).values\n",
        "y_train = train_df['label']\n",
        "\n",
        "# Convert segments to a numpy array and reshape for CNN input\n",
        "X_train_list = train_df['segment_values'].apply(lambda x: x.tolist()).tolist()\n",
        "X_train_df = pd.DataFrame(X_train_list)\n",
        "X_train_np = X_train_df.to_numpy()\n",
        "\n",
        "# One-hot encoding\n",
        "one_hot_encoded_df = pd.get_dummies(y_train, columns=['label'])\n",
        "one_hot_encoded_array_train = one_hot_encoded_df.values"
      ],
      "metadata": {
        "ExecuteTime": {
          "end_time": "2024-01-27T17:34:55.790389600Z",
          "start_time": "2024-01-27T17:34:50.778510900Z"
        },
        "id": "4b4d8595324abe5e"
      },
      "id": "4b4d8595324abe5e",
      "execution_count": 11
    },
    {
      "cell_type": "code",
      "outputs": [],
      "source": [
        "#extract from the dataframe containing segments the one belonging to the indexes extracted and put them in validation_df\n",
        "validation_df = df_segments_patients_all[df_segments_patients_all['id'].isin(validation_indices)].drop(['id'], axis=1)\n",
        "\n",
        "# Split dataframe into features and labels\n",
        "X_validation = validation_df.drop(['label'], axis=1).values\n",
        "y_validation = validation_df['label']\n",
        "\n",
        "# Convert segments to a numpy array and reshape for CNN input\n",
        "X_validation_list = validation_df['segment_values'].apply(lambda x: x.tolist()).tolist()\n",
        "X_validation_df = pd.DataFrame(X_validation_list)\n",
        "X_val_np = X_validation_df.to_numpy()\n",
        "\n",
        "# One-hot encoding\n",
        "one_hot_encoded_df = pd.get_dummies(y_validation, columns=['label'])\n",
        "one_hot_encoded_array_validation = one_hot_encoded_df.values"
      ],
      "metadata": {
        "ExecuteTime": {
          "end_time": "2024-01-27T17:35:17.752368200Z",
          "start_time": "2024-01-27T17:35:16.707605Z"
        },
        "id": "522c8df3c1e9dc36"
      },
      "id": "522c8df3c1e9dc36",
      "execution_count": 13
    },
    {
      "cell_type": "code",
      "outputs": [],
      "source": [
        "#extract from the dataframe containing segments the one belonging to the indexes extracted and put them in test_df\n",
        "test_df = df_segments_patients_all[df_segments_patients_all['id'].isin(test_indices)].drop(['id'], axis=1)\n",
        "\n",
        "# Split dataframe into features and labels\n",
        "X_test = test_df.drop(['label'], axis=1).values\n",
        "y_test = test_df['label']\n",
        "\n",
        "# Convert segments to a numpy array and reshape for CNN input\n",
        "X_test_list = test_df['segment_values'].apply(lambda x: x.tolist()).tolist()\n",
        "X_test_df = pd.DataFrame(X_test_list)\n",
        "X_test_np = X_test_df.to_numpy()\n",
        "\n",
        "# One-hot encoding\n",
        "one_hot_encoded_df = pd.get_dummies(y_test, columns=['label'])\n",
        "one_hot_encoded_array_test = one_hot_encoded_df.values"
      ],
      "metadata": {
        "ExecuteTime": {
          "end_time": "2024-01-27T17:35:19.039504400Z",
          "start_time": "2024-01-27T17:35:17.738688300Z"
        },
        "id": "7867f0f24d1c2289"
      },
      "id": "7867f0f24d1c2289",
      "execution_count": 14
    },
    {
      "cell_type": "markdown",
      "source": [
        "# Model"
      ],
      "metadata": {
        "collapsed": false,
        "id": "9135d062f5948b13"
      },
      "id": "9135d062f5948b13"
    },
    {
      "cell_type": "code",
      "source": [
        "#Set a seed for reproducibility\n",
        "keras.utils.set_random_seed(394)"
      ],
      "metadata": {
        "id": "G5UFAr6dS7fb"
      },
      "id": "G5UFAr6dS7fb",
      "execution_count": 66,
      "outputs": []
    },
    {
      "cell_type": "code",
      "outputs": [],
      "source": [
        "# Define the CNN architecture\n",
        "model = Sequential()\n",
        "\n",
        "model.add(Conv1D(filters=128, kernel_size=3, activation=tf.keras.layers.LeakyReLU(alpha=0.3), input_shape=(window_size, 1)))\n",
        "model.add(Conv1D(filters=64, kernel_size=3, activation=tf.keras.layers.LeakyReLU(alpha=0.3)))\n",
        "\n",
        "model.add(BatchNormalization())\n",
        "\n",
        "model.add(Activation(tf.keras.layers.LeakyReLU(alpha=0.3)))\n",
        "\n",
        "model.add(MaxPooling1D(pool_size=2))\n",
        "\n",
        "model.add(Flatten())\n",
        "\n",
        "model.add(Dense(1024))\n",
        "\n",
        "model.add(Dropout(0.5))\n",
        "\n",
        "model.add(Activation(tf.keras.layers.LeakyReLU(alpha=0.3)))\n",
        "\n",
        "model.add(Dense(2, activation='softmax'))"
      ],
      "metadata": {
        "ExecuteTime": {
          "end_time": "2024-01-27T20:35:13.907744500Z",
          "start_time": "2024-01-27T20:35:13.724707500Z"
        },
        "id": "715d3ff3ea59f6c6"
      },
      "id": "715d3ff3ea59f6c6",
      "execution_count": 67
    },
    {
      "cell_type": "code",
      "outputs": [],
      "source": [
        "#Implement early stopping\n",
        "from keras.callbacks import EarlyStopping\n",
        "\n",
        "early_stopping = EarlyStopping(\n",
        "    monitor='val_loss',  # Monitor the validation loss\n",
        "    patience=5,          # Number of epochs with no improvement after which training will stop\n",
        "    verbose=1,\n",
        "    restore_best_weights=True  # Restore the best model weights when training stops\n",
        ")"
      ],
      "metadata": {
        "ExecuteTime": {
          "end_time": "2024-01-27T20:35:13.938519900Z",
          "start_time": "2024-01-27T20:35:13.882532500Z"
        },
        "id": "21e8570e62ce5af"
      },
      "id": "21e8570e62ce5af",
      "execution_count": 68
    },
    {
      "cell_type": "code",
      "outputs": [],
      "source": [
        "#Calculate weights to manage data unbalance\n",
        "\n",
        "nN = np.count_nonzero(y_train == 'N')\n",
        "nnotN = np.count_nonzero(y_train == 'notN')\n",
        "\n",
        "class_sum = nN+nnotN\n",
        "wN = round(1-(nN/class_sum),2)\n",
        "wnotN = round(1-(nnotN/class_sum),2)\n",
        "\n",
        "class_weights_fed = {0: wN, 1: wnotN}"
      ],
      "metadata": {
        "ExecuteTime": {
          "end_time": "2024-01-27T20:35:13.989114Z",
          "start_time": "2024-01-27T20:35:13.895185600Z"
        },
        "id": "8f0ff3e78f521675"
      },
      "id": "8f0ff3e78f521675",
      "execution_count": 69
    },
    {
      "cell_type": "code",
      "outputs": [],
      "source": [
        "#Compile the model\n",
        "model.compile(optimizer='Nadam', loss='binary_crossentropy', metrics=['Accuracy', 'Precision', 'Recall' ])"
      ],
      "metadata": {
        "ExecuteTime": {
          "end_time": "2024-01-27T20:35:14.041297600Z",
          "start_time": "2024-01-27T20:35:13.945535200Z"
        },
        "id": "e477d52638f68fb5"
      },
      "id": "e477d52638f68fb5",
      "execution_count": 70
    },
    {
      "cell_type": "code",
      "outputs": [
        {
          "output_type": "stream",
          "name": "stdout",
          "text": [
            "Epoch 1/20\n",
            "3741/3741 [==============================] - 44s 11ms/step - loss: 0.0864 - Accuracy: 0.8212 - precision: 0.8212 - recall: 0.8212 - val_loss: 0.5236 - val_Accuracy: 0.8337 - val_precision: 0.8337 - val_recall: 0.8337\n",
            "Epoch 2/20\n",
            "3741/3741 [==============================] - 37s 10ms/step - loss: 0.0535 - Accuracy: 0.8416 - precision: 0.8416 - recall: 0.8416 - val_loss: 0.5331 - val_Accuracy: 0.7973 - val_precision: 0.7973 - val_recall: 0.7973\n",
            "Epoch 3/20\n",
            "3741/3741 [==============================] - 37s 10ms/step - loss: 0.0452 - Accuracy: 0.8520 - precision: 0.8520 - recall: 0.8520 - val_loss: 0.3571 - val_Accuracy: 0.8437 - val_precision: 0.8437 - val_recall: 0.8437\n",
            "Epoch 4/20\n",
            "3741/3741 [==============================] - 41s 11ms/step - loss: 0.0435 - Accuracy: 0.8555 - precision: 0.8555 - recall: 0.8555 - val_loss: 0.7090 - val_Accuracy: 0.8458 - val_precision: 0.8458 - val_recall: 0.8458\n",
            "Epoch 5/20\n",
            "3741/3741 [==============================] - 37s 10ms/step - loss: 0.0432 - Accuracy: 0.8559 - precision: 0.8559 - recall: 0.8559 - val_loss: 0.3455 - val_Accuracy: 0.8235 - val_precision: 0.8235 - val_recall: 0.8235\n",
            "Epoch 6/20\n",
            "3741/3741 [==============================] - 37s 10ms/step - loss: 0.0425 - Accuracy: 0.8556 - precision: 0.8556 - recall: 0.8556 - val_loss: 0.3361 - val_Accuracy: 0.8533 - val_precision: 0.8533 - val_recall: 0.8533\n",
            "Epoch 7/20\n",
            "3741/3741 [==============================] - 41s 11ms/step - loss: 0.0419 - Accuracy: 0.8563 - precision: 0.8563 - recall: 0.8563 - val_loss: 0.5389 - val_Accuracy: 0.7900 - val_precision: 0.7900 - val_recall: 0.7900\n",
            "Epoch 8/20\n",
            "3741/3741 [==============================] - 37s 10ms/step - loss: 0.0420 - Accuracy: 0.8569 - precision: 0.8569 - recall: 0.8569 - val_loss: 0.3636 - val_Accuracy: 0.8478 - val_precision: 0.8478 - val_recall: 0.8478\n",
            "Epoch 9/20\n",
            "3741/3741 [==============================] - 37s 10ms/step - loss: 0.0416 - Accuracy: 0.8571 - precision: 0.8571 - recall: 0.8571 - val_loss: 0.4048 - val_Accuracy: 0.8448 - val_precision: 0.8448 - val_recall: 0.8448\n",
            "Epoch 10/20\n",
            "3741/3741 [==============================] - 38s 10ms/step - loss: 0.0415 - Accuracy: 0.8584 - precision: 0.8584 - recall: 0.8584 - val_loss: 0.5090 - val_Accuracy: 0.7851 - val_precision: 0.7851 - val_recall: 0.7851\n",
            "Epoch 11/20\n",
            "3741/3741 [==============================] - 42s 11ms/step - loss: 0.0411 - Accuracy: 0.8600 - precision: 0.8600 - recall: 0.8600 - val_loss: 0.3043 - val_Accuracy: 0.8628 - val_precision: 0.8628 - val_recall: 0.8628\n",
            "Epoch 12/20\n",
            "3741/3741 [==============================] - 37s 10ms/step - loss: 0.0411 - Accuracy: 0.8590 - precision: 0.8590 - recall: 0.8590 - val_loss: 0.4070 - val_Accuracy: 0.8297 - val_precision: 0.8297 - val_recall: 0.8297\n",
            "Epoch 13/20\n",
            "3741/3741 [==============================] - 37s 10ms/step - loss: 0.0409 - Accuracy: 0.8609 - precision: 0.8609 - recall: 0.8609 - val_loss: 0.3525 - val_Accuracy: 0.8629 - val_precision: 0.8629 - val_recall: 0.8629\n",
            "Epoch 14/20\n",
            "3741/3741 [==============================] - 43s 12ms/step - loss: 0.0406 - Accuracy: 0.8614 - precision: 0.8614 - recall: 0.8614 - val_loss: 0.4336 - val_Accuracy: 0.8026 - val_precision: 0.8026 - val_recall: 0.8026\n",
            "Epoch 15/20\n",
            "3741/3741 [==============================] - 38s 10ms/step - loss: 0.0406 - Accuracy: 0.8615 - precision: 0.8615 - recall: 0.8615 - val_loss: 0.3964 - val_Accuracy: 0.8408 - val_precision: 0.8408 - val_recall: 0.8408\n",
            "Epoch 16/20\n",
            "3741/3741 [==============================] - ETA: 0s - loss: 0.0406 - Accuracy: 0.8617 - precision: 0.8617 - recall: 0.8617Restoring model weights from the end of the best epoch: 11.\n",
            "3741/3741 [==============================] - 40s 11ms/step - loss: 0.0406 - Accuracy: 0.8617 - precision: 0.8617 - recall: 0.8617 - val_loss: 0.5326 - val_Accuracy: 0.7837 - val_precision: 0.7837 - val_recall: 0.7837\n",
            "Epoch 16: early stopping\n"
          ]
        }
      ],
      "source": [
        "# Train the model on the training set\n",
        "history = model.fit(X_train_np,\n",
        "                    one_hot_encoded_array_train,\n",
        "                    epochs=20,\n",
        "                    callbacks=[early_stopping],\n",
        "                    class_weight = class_weights_fed,\n",
        "                    validation_data=(X_val_np, one_hot_encoded_array_validation))"
      ],
      "metadata": {
        "is_executing": true,
        "ExecuteTime": {
          "start_time": "2024-01-27T20:35:14.025699900Z"
        },
        "id": "a01df6191ad0c54c",
        "colab": {
          "base_uri": "https://localhost:8080/"
        },
        "outputId": "48870d16-1f7c-4ddb-bd27-32f6adaa8f73"
      },
      "id": "a01df6191ad0c54c",
      "execution_count": 71
    },
    {
      "cell_type": "markdown",
      "source": [
        "# Evaluate"
      ],
      "metadata": {
        "collapsed": false,
        "id": "149a052ba8f3753a"
      },
      "id": "149a052ba8f3753a"
    },
    {
      "cell_type": "code",
      "outputs": [],
      "source": [
        "#Function to plot confusion matrix\n",
        "def model_evaluation(y_predi, model_name_pred):\n",
        "    predicted_class = np.argmax(y_predi, axis=-1)\n",
        "    test_classes = np.argmax(one_hot_encoded_array_test, axis=-1)\n",
        "    cm = confusion_matrix(test_classes, predicted_class)\n",
        "    classes_name = ['N', 'notN']\n",
        "\n",
        "    #Normalized cm\n",
        "    cm = cm.astype('float') / cm.sum(axis=1)[:, np.newaxis]\n",
        "    plt.figure(figsize=(10, 8))\n",
        "    sns.heatmap(cm, xticklabels=list(classes_name), yticklabels=list(classes_name), cmap=\"Greens\", annot=True,\n",
        "                fmt='.2f')\n",
        "    plt.ylabel('Actual labels')\n",
        "    plt.xlabel('Predicted labels')\n",
        "    plt.title(model_name_pred)\n",
        "    plt.show()"
      ],
      "metadata": {
        "is_executing": true,
        "id": "e6aee5610ca8cdaf"
      },
      "id": "e6aee5610ca8cdaf",
      "execution_count": 72
    },
    {
      "cell_type": "code",
      "source": [
        "#Function to compute different metrics\n",
        "from sklearn.metrics import balanced_accuracy_score\n",
        "from sklearn.metrics import accuracy_score\n",
        "from sklearn.metrics import f1_score\n",
        "from sklearn.metrics import precision_score\n",
        "from sklearn.metrics import recall_score\n",
        "\n",
        "def compute_metrics (y_predi):\n",
        "    predicted_class = np.argmax(y_predi, axis=-1)\n",
        "    test_classes = np.argmax(one_hot_encoded_array_test, axis=-1)\n",
        "    print(\"Balanced accuracy score: \", balanced_accuracy_score(test_classes, predicted_class))\n",
        "    print(\"Accuracy score: \", accuracy_score(test_classes, predicted_class))\n",
        "    print(\"F1 score: \", f1_score(test_classes, predicted_class,average='macro'))\n",
        "    print(\"Precision score: \", precision_score(test_classes, predicted_class,average='macro'))\n",
        "    print(\"Recall score: \", recall_score(test_classes, predicted_class,average='macro'))\n",
        "\n",
        "    #Compute confidence\n",
        "    max_pred = np.argmax(y_predi,axis=1)\n",
        "    classes=pd.DataFrame(data=max_pred,columns=['Predicted class'])\n",
        "    label_remapping = {0:'N', 1: 'notN'}\n",
        "    classes['Predicted class']=classes['Predicted class'].replace(label_remapping)\n",
        "\n",
        "    prob=pd.DataFrame(data=np.take_along_axis(y_predi, np.expand_dims(max_pred, axis=-1), axis=-1),columns=['Confidence'])\n",
        "    conf=pd.concat([classes,prob],axis=1)\n",
        "\n",
        "    print(\"Average confidence of predictions: \", prob.sum()/len(prob))"
      ],
      "metadata": {
        "id": "b1QdpkfcAMar"
      },
      "id": "b1QdpkfcAMar",
      "execution_count": 73,
      "outputs": []
    },
    {
      "cell_type": "code",
      "outputs": [
        {
          "output_type": "stream",
          "name": "stdout",
          "text": [
            "984/984 [==============================] - 2s 2ms/step\n"
          ]
        },
        {
          "output_type": "display_data",
          "data": {
            "text/plain": [
              "<Figure size 1000x800 with 2 Axes>"
            ],
            "image/png": "[encoded data removed]"
          },
          "metadata": {}
        },
        {
          "output_type": "stream",
          "name": "stdout",
          "text": [
            "Balanced accuracy score:  0.8653581614970083\n",
            "Accuracy score:  0.8801295896328294\n",
            "F1 score:  0.7083035402860132\n",
            "Precision score:  0.6634656927812584\n",
            "Recall score:  0.8653581614970083\n",
            "Average confidence of predictions:  Confidence    0.90721\n",
            "dtype: float32\n"
          ]
        }
      ],
      "source": [
        "#Predict annotations of the test set\n",
        "y_predi = model.predict(X_test_np)\n",
        "\n",
        "#Plot confusion matrix\n",
        "model_evaluation(y_predi, \"Deep Learning Feature Extract\")\n",
        "\n",
        "#Print some metrics\n",
        "compute_metrics(y_predi)"
      ],
      "metadata": {
        "is_executing": true,
        "id": "5645b01a2adfb46",
        "colab": {
          "base_uri": "https://localhost:8080/",
          "height": 857
        },
        "outputId": "0230b425-70e4-4fd9-d3f7-551ccdae95ea"
      },
      "id": "5645b01a2adfb46",
      "execution_count": 74
    },
    {
      "cell_type": "code",
      "source": [
        "model.save(\"/content/drive/MyDrive/AI-project/binary_model_seed_394_CM_88_85.h5\")"
      ],
      "metadata": {
        "id": "LaKf2uo7ni7j"
      },
      "id": "LaKf2uo7ni7j",
      "execution_count": 75,
      "outputs": []
    }
  ],
  "metadata": {
    "kernelspec": {
      "display_name": "Python 3",
      "name": "python3"
    },
    "language_info": {
      "codemirror_mode": {
        "name": "ipython",
        "version": 2
      },
      "file_extension": ".py",
      "mimetype": "text/x-python",
      "name": "python",
      "nbconvert_exporter": "python",
      "pygments_lexer": "ipython2",
      "version": "2.7.6"
    },
    "colab": {
      "provenance": [],
      "gpuType": "T4"
    },
    "accelerator": "GPU"
  },
  "nbformat": 4,
  "nbformat_minor": 5
}