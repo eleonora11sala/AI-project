{
  "cells": [
    {
      "cell_type": "code",
      "outputs": [],
      "source": [
        "import keras\n",
        "from keras import initializers\n",
        "import tensorflow as tf\n",
        "\n",
        "# This will make GPU ops as deterministic as possible --> reproducibility\n",
        "tf.config.experimental.enable_op_determinism()\n",
        "\n",
        "tf.random.set_seed(42)\n",
        "\n",
        "import pandas as pd\n",
        "import numpy as np, os\n",
        "from tensorflow.keras.layers import Input, Dense, Conv1D, Flatten, MaxPooling1D, BatchNormalization, Dropout, Activation\n",
        "from keras.models import Sequential\n",
        "import matplotlib.pyplot as plt\n",
        "from sklearn.metrics import confusion_matrix\n",
        "import seaborn as sns\n"
      ],
      "metadata": {
        "ExecuteTime": {
          "end_time": "2024-01-26T19:20:02.739953800Z",
          "start_time": "2024-01-26T19:19:56.164219200Z"
        },
        "id": "c36bf3fe97730b0d"
      },
      "id": "c36bf3fe97730b0d",
      "execution_count": 1
    },
    {
      "cell_type": "code",
      "source": [
        "from google.colab import drive\n",
        "drive.mount('/content/drive')"
      ],
      "metadata": {
        "id": "UPMZ41IuseKs",
        "colab": {
          "base_uri": "https://localhost:8080/"
        },
        "outputId": "5eac04cc-2a3c-42e3-f940-3111ab1c5328"
      },
      "id": "UPMZ41IuseKs",
      "execution_count": 2,
      "outputs": [
        {
          "output_type": "stream",
          "name": "stdout",
          "text": [
            "Mounted at /content/drive\n"
          ]
        }
      ]
    },
    {
      "cell_type": "markdown",
      "source": [
        "# Pre processing"
      ],
      "metadata": {
        "collapsed": false,
        "id": "673f6d3e97b64e50"
      },
      "id": "673f6d3e97b64e50"
    },
    {
      "cell_type": "code",
      "outputs": [],
      "source": [
        "folder_path = f\"/content/drive/MyDrive/AI-project/signal_no_artifacts/128\"\n",
        "\n",
        "# List all files in the folder\n",
        "file_names = [file for file in os.listdir(folder_path) if file.endswith('_128.csv')]\n",
        "\n",
        "# Initialize an empty DataFrame to concatenate all data\n",
        "all_data = pd.DataFrame()\n",
        "all_data_list = []\n",
        "list_128 = []\n",
        "\n",
        "# Loop through each file and concatenate the data\n",
        "for file_name in file_names:\n",
        "    file_path = os.path.join(folder_path, file_name)\n",
        "    data = pd.read_csv(file_path)\n",
        "    all_data_list.append(data)\n",
        "    list_128.append(data)\n",
        "    all_data = pd.concat([all_data, data], ignore_index=True)"
      ],
      "metadata": {
        "ExecuteTime": {
          "end_time": "2024-01-26T19:02:53.018763100Z",
          "start_time": "2024-01-26T19:02:40.889819400Z"
        },
        "id": "7fea189362b571db"
      },
      "id": "7fea189362b571db",
      "execution_count": 4
    },
    {
      "cell_type": "code",
      "outputs": [],
      "source": [
        "folder_path = f\"/content/drive/MyDrive/AI-project/signal_no_artifacts/250\"\n",
        "\n",
        "# List all files in the folder\n",
        "file_names = [file for file in os.listdir(folder_path) if file.endswith('_250.csv')]\n",
        "\n",
        "list_250 = []\n",
        "\n",
        "# Loop through each file and concatenate the data\n",
        "for file_name in file_names:\n",
        "    file_path = os.path.join(folder_path, file_name)\n",
        "    data = pd.read_csv(file_path)\n",
        "    all_data_list.append(data)\n",
        "    list_250.append(data)\n",
        "    all_data = pd.concat([all_data, data], ignore_index=True)\n",
        "\n",
        "# Now 'all_data_list' contains a list of all data from all CSV files"
      ],
      "metadata": {
        "ExecuteTime": {
          "end_time": "2024-01-26T19:03:17.233797500Z",
          "start_time": "2024-01-26T19:02:53.025760100Z"
        },
        "id": "c2e5f9d1a0083619"
      },
      "id": "c2e5f9d1a0083619",
      "execution_count": 6
    },
    {
      "cell_type": "markdown",
      "source": [
        "# Signal Segmentation"
      ],
      "metadata": {
        "collapsed": false,
        "id": "5862195933a7e969"
      },
      "id": "5862195933a7e969"
    },
    {
      "cell_type": "code",
      "outputs": [],
      "source": [
        "window_size = 200"
      ],
      "metadata": {
        "ExecuteTime": {
          "end_time": "2024-01-26T19:03:17.256764900Z",
          "start_time": "2024-01-26T19:03:17.241710400Z"
        },
        "id": "a38508dffd6412ef"
      },
      "id": "a38508dffd6412ef",
      "execution_count": 7
    },
    {
      "cell_type": "code",
      "outputs": [],
      "source": [
        "# Segment each patient's signal\n",
        "\n",
        "half_window = window_size // 2\n",
        "\n",
        "#Create a df that will contain the segments\n",
        "#An id column is added to store the id of the patient\n",
        "column_names = ['id', 'segment_values', 'label']\n",
        "df_segments_patients_all = pd.DataFrame(columns=column_names)\n",
        "\n",
        "id = 0\n",
        "\n",
        "for patient_data in list_128:\n",
        "    patient_signal = patient_data['value'].values\n",
        "\n",
        "  #Iterate through the signal\n",
        "    for i in range(0, len(patient_signal)):\n",
        "        #if a peak is detected\n",
        "        if(patient_data['IsPeak'].values[i] == True):\n",
        "          #If the margins of the window do not exceed the length of the signal\n",
        "            if(not(i-half_window <0) and not(i+half_window > len(patient_signal)-1) ):\n",
        "                segment = patient_signal[i-half_window:i+half_window]\n",
        "\n",
        "                #Add segment to list only if it is a 'proper window' --> i-window, i+ window garanteed\n",
        "                df_segments_patient_temp = pd.DataFrame({'id': id,\n",
        "                                        'segment_values': [segment],\n",
        "                                        'label': patient_data['PeakNature'].values[i]})\n",
        "                df_segments_patients_all = pd.concat([df_segments_patients_all, df_segments_patient_temp], ignore_index=True)\n",
        "\n",
        "    id = id + 1"
      ],
      "metadata": {
        "ExecuteTime": {
          "end_time": "2024-01-26T19:06:56.455090700Z",
          "start_time": "2024-01-26T19:03:17.247227900Z"
        },
        "id": "37b3e50a42603059"
      },
      "id": "37b3e50a42603059",
      "execution_count": 8
    },
    {
      "cell_type": "code",
      "outputs": [],
      "source": [
        "#Repeat the same operation for the samples sampled at 250\n",
        "#half_window * 2 considered in order to ensure comparability of signal windows\n",
        "#For the same reason, take one sample every 2 since 250Hz/128Hz=1,95 ≈2.\n",
        "\n",
        "for patient_data in list_250:\n",
        "    patient_signal = patient_data['value'].values\n",
        "\n",
        "    for i in range(0, len(patient_signal)):\n",
        "        if(patient_data['IsPeak'].values[i] == True):\n",
        "            if(not(i-(half_window*2) <0) and not(i+(half_window*2) > len(patient_signal)-1) ):\n",
        "                segment = patient_signal[i-(half_window*2):i+(half_window*2) : 2]\n",
        "\n",
        "                #Add segment to list only if it is a 'proper window' --> i-window, i+ window garanteed\n",
        "                df_segments_patient_temp = pd.DataFrame({'id': id,\n",
        "                                        'segment_values': [segment],\n",
        "                                        'label': patient_data['PeakNature'].values[i]})\n",
        "                df_segments_patients_all = pd.concat([df_segments_patients_all, df_segments_patient_temp], ignore_index=True)\n",
        "\n",
        "    id = id + 1"
      ],
      "metadata": {
        "ExecuteTime": {
          "end_time": "2024-01-26T19:12:54.894366800Z",
          "start_time": "2024-01-26T19:06:56.459707700Z"
        },
        "id": "fb263d4440572f38"
      },
      "id": "fb263d4440572f38",
      "execution_count": 9
    },
    {
      "cell_type": "markdown",
      "source": [
        "# Train / Val / Test split"
      ],
      "metadata": {
        "collapsed": false,
        "id": "f4e16defe3999dbf"
      },
      "id": "f4e16defe3999dbf"
    },
    {
      "cell_type": "code",
      "outputs": [],
      "source": [
        "#Set a seed for reproducibility\n",
        "np.random.seed(20)"
      ],
      "metadata": {
        "ExecuteTime": {
          "end_time": "2024-01-27T17:34:48.449904400Z",
          "start_time": "2024-01-27T17:34:48.415120700Z"
        },
        "id": "84198b520b0ab97d"
      },
      "id": "84198b520b0ab97d",
      "execution_count": 10
    },
    {
      "cell_type": "code",
      "outputs": [],
      "source": [
        "#Split segments depending on the patient id\n",
        "\n",
        "num_patients = df_segments_patients_all['id'].nunique()\n",
        "\n",
        "train_indices = np.random.choice(range(num_patients), size=int(num_patients * 0.7), replace=False)\n",
        "validation_indices = np.random.choice(list(set(range(num_patients)) - set(train_indices)), size=int(num_patients * 0.15), replace=False)\n",
        "test_indices = list(set(range(num_patients)) - set(train_indices) - set(validation_indices))\n"
      ],
      "metadata": {
        "ExecuteTime": {
          "end_time": "2024-01-27T17:34:49.181434100Z",
          "start_time": "2024-01-27T17:34:49.165432900Z"
        },
        "id": "1949b474af5907b3"
      },
      "id": "1949b474af5907b3",
      "execution_count": 11
    },
    {
      "cell_type": "code",
      "outputs": [],
      "source": [
        "#extract from the dataframe containing segments the one belonging to the indexes extracted and put them in train_df\n",
        "train_df = df_segments_patients_all[df_segments_patients_all['id'].isin(train_indices)].drop(['id'], axis=1)\n",
        "\n",
        "# Split dataframe into features and labels\n",
        "X_train = train_df.drop(['label'], axis=1).values\n",
        "y_train = train_df['label']\n",
        "\n",
        "# Convert segments to a numpy array and reshape for CNN input\n",
        "X_train_list = train_df['segment_values'].apply(lambda x: x.tolist()).tolist()\n",
        "X_train_df = pd.DataFrame(X_train_list)\n",
        "X_train_np = X_train_df.to_numpy()\n",
        "\n",
        "# One-hot encoding\n",
        "one_hot_encoded_df = pd.get_dummies(y_train, columns=['label'])\n",
        "one_hot_encoded_array_train = one_hot_encoded_df.values"
      ],
      "metadata": {
        "ExecuteTime": {
          "end_time": "2024-01-27T17:34:55.790389600Z",
          "start_time": "2024-01-27T17:34:50.778510900Z"
        },
        "id": "4b4d8595324abe5e"
      },
      "id": "4b4d8595324abe5e",
      "execution_count": 12
    },
    {
      "cell_type": "code",
      "outputs": [
        {
          "output_type": "stream",
          "name": "stdout",
          "text": [
            "Perc N : \n",
            "0.9278707974065905\n",
            "Perc S : \n",
            "0.0348071652964374\n",
            "Perc V : \n",
            "0.03732203729697213\n"
          ]
        }
      ],
      "source": [
        "#Show the frequencies of the annotations in the train set\n",
        "\n",
        "nN = np.count_nonzero(y_train == 'N')\n",
        "nS = np.count_nonzero(y_train == 'S')\n",
        "nV = np.count_nonzero(y_train == 'V')\n",
        "\n",
        "print(\"Perc N : \")\n",
        "print(nN/(nN + nS + nV))\n",
        "print(\"Perc S : \")\n",
        "print(nS/(nN + nS + nV))\n",
        "print(\"Perc V : \")\n",
        "print(nV/(nN + nS + nV))"
      ],
      "metadata": {
        "ExecuteTime": {
          "end_time": "2024-01-27T17:34:55.827635900Z",
          "start_time": "2024-01-27T17:34:55.794989100Z"
        },
        "id": "f7bfeee787b4d940",
        "colab": {
          "base_uri": "https://localhost:8080/"
        },
        "outputId": "c18ffab9-66d8-4196-d4dc-8c7daa3df0fd"
      },
      "id": "f7bfeee787b4d940",
      "execution_count": 13
    },
    {
      "cell_type": "code",
      "outputs": [],
      "source": [
        "#extract from the dataframe containing segments the one belonging to the indexes extracted and put them in validation_df\n",
        "validation_df = df_segments_patients_all[df_segments_patients_all['id'].isin(validation_indices)].drop(['id'], axis=1)\n",
        "\n",
        "# Split dataframe into features and labels\n",
        "X_validation = validation_df.drop(['label'], axis=1).values\n",
        "y_validation = validation_df['label']\n",
        "\n",
        "# Convert segments to a numpy array and reshape for CNN input\n",
        "X_validation_list = validation_df['segment_values'].apply(lambda x: x.tolist()).tolist()\n",
        "X_validation_df = pd.DataFrame(X_validation_list)\n",
        "X_val_np = X_validation_df.to_numpy()\n",
        "\n",
        "# One-hot encoding\n",
        "one_hot_encoded_df = pd.get_dummies(y_validation, columns=['label'])\n",
        "one_hot_encoded_array_validation = one_hot_encoded_df.values"
      ],
      "metadata": {
        "ExecuteTime": {
          "end_time": "2024-01-27T17:35:17.752368200Z",
          "start_time": "2024-01-27T17:35:16.707605Z"
        },
        "id": "522c8df3c1e9dc36"
      },
      "id": "522c8df3c1e9dc36",
      "execution_count": 14
    },
    {
      "cell_type": "code",
      "outputs": [],
      "source": [
        "#extract from the dataframe containing segments the one belonging to the indexes extracted and put them in test_df\n",
        "test_df = df_segments_patients_all[df_segments_patients_all['id'].isin(test_indices)].drop(['id'], axis=1)\n",
        "\n",
        "# Split dataframe into features and labels\n",
        "X_test = test_df.drop(['label'], axis=1).values\n",
        "y_test = test_df['label']\n",
        "\n",
        "# Convert segments to a numpy array and reshape for CNN input\n",
        "X_test_list = test_df['segment_values'].apply(lambda x: x.tolist()).tolist()\n",
        "X_test_df = pd.DataFrame(X_test_list)\n",
        "X_test_np = X_test_df.to_numpy()\n",
        "\n",
        "# One-hot encoding\n",
        "one_hot_encoded_df = pd.get_dummies(y_test, columns=['label'])\n",
        "one_hot_encoded_array_test = one_hot_encoded_df.values"
      ],
      "metadata": {
        "ExecuteTime": {
          "end_time": "2024-01-27T17:35:19.039504400Z",
          "start_time": "2024-01-27T17:35:17.738688300Z"
        },
        "id": "7867f0f24d1c2289"
      },
      "id": "7867f0f24d1c2289",
      "execution_count": 15
    },
    {
      "cell_type": "markdown",
      "source": [
        "# Model"
      ],
      "metadata": {
        "collapsed": false,
        "id": "9135d062f5948b13"
      },
      "id": "9135d062f5948b13"
    },
    {
      "cell_type": "code",
      "source": [
        "#Set a seed for reproducibility\n",
        "keras.utils.set_random_seed(394)"
      ],
      "metadata": {
        "id": "G5UFAr6dS7fb"
      },
      "id": "G5UFAr6dS7fb",
      "execution_count": 16,
      "outputs": []
    },
    {
      "cell_type": "code",
      "outputs": [],
      "source": [
        "# Define the CNN architecture\n",
        "model = Sequential()\n",
        "\n",
        "model.add(Conv1D(filters=128, kernel_size=3, activation=tf.keras.layers.LeakyReLU(alpha=0.3), input_shape=(window_size, 1)))\n",
        "model.add(Conv1D(filters=64, kernel_size=3, activation=tf.keras.layers.LeakyReLU(alpha=0.3)))\n",
        "\n",
        "model.add(BatchNormalization())\n",
        "\n",
        "model.add(Activation(tf.keras.layers.LeakyReLU(alpha=0.3)))\n",
        "\n",
        "model.add(MaxPooling1D(pool_size=2))\n",
        "\n",
        "model.add(Flatten())\n",
        "\n",
        "model.add(Dense(1024))\n",
        "\n",
        "model.add(Dropout(0.5))\n",
        "\n",
        "model.add(Activation(tf.keras.layers.LeakyReLU(alpha=0.3)))\n",
        "\n",
        "model.add(Dense(3, activation='softmax'))"
      ],
      "metadata": {
        "ExecuteTime": {
          "end_time": "2024-01-27T20:35:13.907744500Z",
          "start_time": "2024-01-27T20:35:13.724707500Z"
        },
        "id": "715d3ff3ea59f6c6"
      },
      "id": "715d3ff3ea59f6c6",
      "execution_count": 17
    },
    {
      "cell_type": "code",
      "outputs": [],
      "source": [
        "#Implement early stopping\n",
        "from keras.callbacks import EarlyStopping\n",
        "\n",
        "early_stopping = EarlyStopping(\n",
        "    monitor='val_loss',  # Monitor the validation loss\n",
        "    patience=5,          # Number of epochs with no improvement after which training will stop\n",
        "    verbose=1,\n",
        "    restore_best_weights=True  # Restore the best model weights when training stops\n",
        ")"
      ],
      "metadata": {
        "ExecuteTime": {
          "end_time": "2024-01-27T20:35:13.938519900Z",
          "start_time": "2024-01-27T20:35:13.882532500Z"
        },
        "id": "21e8570e62ce5af"
      },
      "id": "21e8570e62ce5af",
      "execution_count": 18
    },
    {
      "cell_type": "code",
      "outputs": [],
      "source": [
        "#Calculate weights to manage data unbalance\n",
        "\n",
        "nN = np.count_nonzero(y_train == 'N')\n",
        "nS = np.count_nonzero(y_train == 'S')\n",
        "nV = np.count_nonzero(y_train == 'V')\n",
        "\n",
        "class_sum = nN+nV+nS\n",
        "wN = round(1-(nN/class_sum),2)\n",
        "wS = round(1-(nS/class_sum),2)\n",
        "wV = round(1-(nV/class_sum),2)\n",
        "\n",
        "class_weights_fed = {0: wN, 1: wS, 2: wV}"
      ],
      "metadata": {
        "ExecuteTime": {
          "end_time": "2024-01-27T20:35:13.989114Z",
          "start_time": "2024-01-27T20:35:13.895185600Z"
        },
        "id": "8f0ff3e78f521675"
      },
      "id": "8f0ff3e78f521675",
      "execution_count": 19
    },
    {
      "cell_type": "code",
      "outputs": [],
      "source": [
        "#Compile the model\n",
        "model.compile(optimizer='Nadam', loss='categorical_crossentropy', metrics=['Accuracy', 'Precision', 'Recall' ])"
      ],
      "metadata": {
        "ExecuteTime": {
          "end_time": "2024-01-27T20:35:14.041297600Z",
          "start_time": "2024-01-27T20:35:13.945535200Z"
        },
        "id": "e477d52638f68fb5"
      },
      "id": "e477d52638f68fb5",
      "execution_count": 20
    },
    {
      "cell_type": "code",
      "outputs": [
        {
          "output_type": "stream",
          "name": "stdout",
          "text": [
            "Epoch 1/20\n",
            "3741/3741 [==============================] - 44s 10ms/step - loss: 0.1995 - Accuracy: 0.8026 - precision: 0.8341 - recall: 0.7650 - val_loss: 0.8994 - val_Accuracy: 0.6847 - val_precision: 0.7377 - val_recall: 0.6217\n",
            "Epoch 2/20\n",
            "3741/3741 [==============================] - 34s 9ms/step - loss: 0.1175 - Accuracy: 0.8363 - precision: 0.8813 - recall: 0.7863 - val_loss: 0.9868 - val_Accuracy: 0.8576 - val_precision: 0.8578 - val_recall: 0.8575\n",
            "Epoch 3/20\n",
            "3741/3741 [==============================] - 33s 9ms/step - loss: 0.0983 - Accuracy: 0.8555 - precision: 0.9083 - recall: 0.8023 - val_loss: 0.5767 - val_Accuracy: 0.8185 - val_precision: 0.9380 - val_recall: 0.6917\n",
            "Epoch 4/20\n",
            "3741/3741 [==============================] - 32s 9ms/step - loss: 0.0939 - Accuracy: 0.8616 - precision: 0.9144 - recall: 0.8083 - val_loss: 0.5530 - val_Accuracy: 0.8162 - val_precision: 0.8790 - val_recall: 0.7608\n",
            "Epoch 5/20\n",
            "3741/3741 [==============================] - 35s 9ms/step - loss: 0.0925 - Accuracy: 0.8648 - precision: 0.9157 - recall: 0.8121 - val_loss: 0.5227 - val_Accuracy: 0.7636 - val_precision: 0.8161 - val_recall: 0.7093\n",
            "Epoch 6/20\n",
            "3741/3741 [==============================] - 34s 9ms/step - loss: 0.0921 - Accuracy: 0.8614 - precision: 0.9104 - recall: 0.8129 - val_loss: 0.3980 - val_Accuracy: 0.8474 - val_precision: 0.9123 - val_recall: 0.7622\n",
            "Epoch 7/20\n",
            "3741/3741 [==============================] - 34s 9ms/step - loss: 0.0916 - Accuracy: 0.8626 - precision: 0.9089 - recall: 0.8150 - val_loss: 0.8246 - val_Accuracy: 0.7359 - val_precision: 0.7954 - val_recall: 0.6635\n",
            "Epoch 8/20\n",
            "3741/3741 [==============================] - 35s 9ms/step - loss: 0.0914 - Accuracy: 0.8612 - precision: 0.9090 - recall: 0.8147 - val_loss: 0.5243 - val_Accuracy: 0.7856 - val_precision: 0.8639 - val_recall: 0.7330\n",
            "Epoch 9/20\n",
            "3741/3741 [==============================] - 34s 9ms/step - loss: 0.0902 - Accuracy: 0.8637 - precision: 0.9093 - recall: 0.8179 - val_loss: 0.4390 - val_Accuracy: 0.8479 - val_precision: 0.9194 - val_recall: 0.7594\n",
            "Epoch 10/20\n",
            "3741/3741 [==============================] - 34s 9ms/step - loss: 0.0903 - Accuracy: 0.8624 - precision: 0.9078 - recall: 0.8175 - val_loss: 0.5095 - val_Accuracy: 0.8267 - val_precision: 0.9367 - val_recall: 0.6873\n",
            "Epoch 11/20\n",
            "3738/3741 [============================>.] - ETA: 0s - loss: 0.0902 - Accuracy: 0.8620 - precision: 0.9057 - recall: 0.8186Restoring model weights from the end of the best epoch: 6.\n",
            "3741/3741 [==============================] - 34s 9ms/step - loss: 0.0902 - Accuracy: 0.8620 - precision: 0.9057 - recall: 0.8186 - val_loss: 0.3993 - val_Accuracy: 0.8367 - val_precision: 0.8703 - val_recall: 0.8042\n",
            "Epoch 11: early stopping\n"
          ]
        }
      ],
      "source": [
        "# Train the model on the training set\n",
        "history = model.fit(X_train_np,\n",
        "                    one_hot_encoded_array_train,\n",
        "                    epochs=20,\n",
        "                    callbacks=[early_stopping],\n",
        "                    class_weight = class_weights_fed,\n",
        "                    validation_data=(X_val_np, one_hot_encoded_array_validation))"
      ],
      "metadata": {
        "is_executing": true,
        "ExecuteTime": {
          "start_time": "2024-01-27T20:35:14.025699900Z"
        },
        "id": "a01df6191ad0c54c",
        "colab": {
          "base_uri": "https://localhost:8080/"
        },
        "outputId": "eb0dc37b-16b5-4db7-dfb7-77dce203d2c2"
      },
      "id": "a01df6191ad0c54c",
      "execution_count": 21
    },
    {
      "cell_type": "markdown",
      "source": [
        "# Evaluate"
      ],
      "metadata": {
        "collapsed": false,
        "id": "149a052ba8f3753a"
      },
      "id": "149a052ba8f3753a"
    },
    {
      "cell_type": "code",
      "outputs": [],
      "source": [
        "#Function to plot confusion matrix\n",
        "def model_evaluation(y_predi, model_name_pred):\n",
        "    predicted_class = np.argmax(y_predi, axis=-1)\n",
        "    test_classes = np.argmax(one_hot_encoded_array_test, axis=-1)\n",
        "    cm = confusion_matrix(test_classes, predicted_class)\n",
        "    classes_name = ['N', 'S', 'V']\n",
        "\n",
        "    #Normalized cm\n",
        "    cm = cm.astype('float') / cm.sum(axis=1)[:, np.newaxis]\n",
        "    plt.figure(figsize=(10, 8))\n",
        "    sns.heatmap(cm, xticklabels=list(classes_name), yticklabels=list(classes_name), cmap=\"Greens\", annot=True,\n",
        "                fmt='.2f')\n",
        "    plt.ylabel('Actual labels')\n",
        "    plt.xlabel('Predicted labels')\n",
        "    plt.title(model_name_pred)\n",
        "    plt.show()"
      ],
      "metadata": {
        "is_executing": true,
        "id": "e6aee5610ca8cdaf"
      },
      "id": "e6aee5610ca8cdaf",
      "execution_count": 22
    },
    {
      "cell_type": "code",
      "source": [
        "#Function to compute different metrics\n",
        "from sklearn.metrics import balanced_accuracy_score\n",
        "from sklearn.metrics import accuracy_score\n",
        "from sklearn.metrics import f1_score\n",
        "from sklearn.metrics import precision_score\n",
        "from sklearn.metrics import recall_score\n",
        "\n",
        "def compute_metrics (y_predi):\n",
        "    predicted_class = np.argmax(y_predi, axis=-1)\n",
        "    test_classes = np.argmax(one_hot_encoded_array_test, axis=-1)\n",
        "    print(\"Balanced accuracy score: \", balanced_accuracy_score(test_classes, predicted_class))\n",
        "    print(\"Accuracy score: \", accuracy_score(test_classes, predicted_class))\n",
        "    print(\"F1 score: \", f1_score(test_classes, predicted_class,average='macro'))\n",
        "    print(\"Precision score: \", precision_score(test_classes, predicted_class,average='macro'))\n",
        "    print(\"Recall score: \", recall_score(test_classes, predicted_class,average='macro'))"
      ],
      "metadata": {
        "id": "b1QdpkfcAMar"
      },
      "id": "b1QdpkfcAMar",
      "execution_count": 23,
      "outputs": []
    },
    {
      "cell_type": "code",
      "outputs": [
        {
          "output_type": "stream",
          "name": "stdout",
          "text": [
            "984/984 [==============================] - 2s 2ms/step\n"
          ]
        },
        {
          "output_type": "display_data",
          "data": {
            "text/plain": [
              "<Figure size 1000x800 with 2 Axes>"
            ],
            "image/png": "[encoded data removed]"
          },
          "metadata": {}
        },
        {
          "output_type": "stream",
          "name": "stdout",
          "text": [
            "Balanced accuracy score:  0.742616684963009\n",
            "Accuracy score:  0.9166243171134545\n",
            "F1 score:  0.6460437831893807\n",
            "Precision score:  0.5954543767252578\n",
            "Recall score:  0.742616684963009\n"
          ]
        }
      ],
      "source": [
        "#Predict annotations of the test set\n",
        "y_predi = model.predict(X_test_np)\n",
        "\n",
        "#Plot confusion matrix\n",
        "model_evaluation(y_predi, \"Deep Learning Feature Extract\")\n",
        "\n",
        "#Print some metrics\n",
        "compute_metrics(y_predi)"
      ],
      "metadata": {
        "is_executing": true,
        "id": "5645b01a2adfb46",
        "colab": {
          "base_uri": "https://localhost:8080/",
          "height": 822
        },
        "outputId": "eb75f379-be76-4c87-feab-7fc483100a00"
      },
      "id": "5645b01a2adfb46",
      "execution_count": 24
    },
    {
      "cell_type": "code",
      "source": [
        "model.save(\"/content/drive/MyDrive/AI-project/model_seed_394_CM_94_72_58.h5\")"
      ],
      "metadata": {
        "id": "LaKf2uo7ni7j",
        "colab": {
          "base_uri": "https://localhost:8080/"
        },
        "outputId": "5ed28368-4e55-4a5e-fee0-4f173db0a874"
      },
      "id": "LaKf2uo7ni7j",
      "execution_count": 25,
      "outputs": [
        {
          "output_type": "stream",
          "name": "stderr",
          "text": [
            "/usr/local/lib/python3.10/dist-packages/keras/src/engine/training.py:3103: UserWarning: You are saving your model as an HDF5 file via `model.save()`. This file format is considered legacy. We recommend using instead the native Keras format, e.g. `model.save('my_model.keras')`.\n",
            "  saving_api.save_model(\n"
          ]
        }
      ]
    },
    {
      "cell_type": "markdown",
      "source": [
        "# Confidence of predictions"
      ],
      "metadata": {
        "id": "32ow5gKpZVRL"
      },
      "id": "32ow5gKpZVRL"
    },
    {
      "cell_type": "code",
      "source": [
        "#Compute confidence\n",
        "max_pred = np.argmax(y_predi,axis=1)\n",
        "classes=pd.DataFrame(data=max_pred,columns=['Predicted class'])\n",
        "label_remapping = {0:'N', 1: 'S', 2: 'V'}\n",
        "classes['Predicted class']=classes['Predicted class'].replace(label_remapping)\n",
        "\n",
        "prob=pd.DataFrame(data=np.take_along_axis(y_predi, np.expand_dims(max_pred, axis=-1), axis=-1),columns=['Confidence'])\n",
        "conf=pd.concat([classes,prob],axis=1)\n",
        "\n",
        "print(\"Average confidence of predictions: \", prob.sum()/len(prob))\n",
        "conf"
      ],
      "metadata": {
        "colab": {
          "base_uri": "https://localhost:8080/",
          "height": 458
        },
        "id": "JwEUMMm0ZaH1",
        "outputId": "ff6f5e17-be2e-41de-f873-40c982751f63"
      },
      "id": "JwEUMMm0ZaH1",
      "execution_count": 27,
      "outputs": [
        {
          "output_type": "stream",
          "name": "stdout",
          "text": [
            "Average confidence of predictions:  Confidence    0.775485\n",
            "dtype: float32\n"
          ]
        },
        {
          "output_type": "execute_result",
          "data": {
            "text/plain": [
              "      Predicted class  Confidence\n",
              "0                   N    0.915908\n",
              "1                   N    0.868652\n",
              "2                   N    0.953048\n",
              "3                   N    0.617451\n",
              "4                   N    0.899799\n",
              "...               ...         ...\n",
              "31479               N    0.969208\n",
              "31480               N    0.968510\n",
              "31481               N    0.971557\n",
              "31482               N    0.963607\n",
              "31483               N    0.952727\n",
              "\n",
              "[31484 rows x 2 columns]"
            ],
            "text/html": [
              "\n",
              "  <div id=\"df-2e03f8f2-3afc-45f1-a04e-a22a3977d73d\" class=\"colab-df-container\">\n",
              "    <div>\n",
              "<style scoped>\n",
              "    .dataframe tbody tr th:only-of-type {\n",
              "        vertical-align: middle;\n",
              "    }\n",
              "\n",
              "    .dataframe tbody tr th {\n",
              "        vertical-align: top;\n",
              "    }\n",
              "\n",
              "    .dataframe thead th {\n",
              "        text-align: right;\n",
              "    }\n",
              "</style>\n",
              "<table border=\"1\" class=\"dataframe\">\n",
              "  <thead>\n",
              "    <tr style=\"text-align: right;\">\n",
              "      <th></th>\n",
              "      <th>Predicted class</th>\n",
              "      <th>Confidence</th>\n",
              "    </tr>\n",
              "  </thead>\n",
              "  <tbody>\n",
              "    <tr>\n",
              "      <th>0</th>\n",
              "      <td>N</td>\n",
              "      <td>0.915908</td>\n",
              "    </tr>\n",
              "    <tr>\n",
              "      <th>1</th>\n",
              "      <td>N</td>\n",
              "      <td>0.868652</td>\n",
              "    </tr>\n",
              "    <tr>\n",
              "      <th>2</th>\n",
              "      <td>N</td>\n",
              "      <td>0.953048</td>\n",
              "    </tr>\n",
              "    <tr>\n",
              "      <th>3</th>\n",
              "      <td>N</td>\n",
              "      <td>0.617451</td>\n",
              "    </tr>\n",
              "    <tr>\n",
              "      <th>4</th>\n",
              "      <td>N</td>\n",
              "      <td>0.899799</td>\n",
              "    </tr>\n",
              "    <tr>\n",
              "      <th>...</th>\n",
              "      <td>...</td>\n",
              "      <td>...</td>\n",
              "    </tr>\n",
              "    <tr>\n",
              "      <th>31479</th>\n",
              "      <td>N</td>\n",
              "      <td>0.969208</td>\n",
              "    </tr>\n",
              "    <tr>\n",
              "      <th>31480</th>\n",
              "      <td>N</td>\n",
              "      <td>0.968510</td>\n",
              "    </tr>\n",
              "    <tr>\n",
              "      <th>31481</th>\n",
              "      <td>N</td>\n",
              "      <td>0.971557</td>\n",
              "    </tr>\n",
              "    <tr>\n",
              "      <th>31482</th>\n",
              "      <td>N</td>\n",
              "      <td>0.963607</td>\n",
              "    </tr>\n",
              "    <tr>\n",
              "      <th>31483</th>\n",
              "      <td>N</td>\n",
              "      <td>0.952727</td>\n",
              "    </tr>\n",
              "  </tbody>\n",
              "</table>\n",
              "<p>31484 rows × 2 columns</p>\n",
              "</div>\n",
              "    <div class=\"colab-df-buttons\">\n",
              "\n",
              "  <div class=\"colab-df-container\">\n",
              "    <button class=\"colab-df-convert\" onclick=\"convertToInteractive('df-2e03f8f2-3afc-45f1-a04e-a22a3977d73d')\"\n",
              "            title=\"Convert this dataframe to an interactive table.\"\n",
              "            style=\"display:none;\">\n",
              "\n",
              "  <svg xmlns=\"http://www.w3.org/2000/svg\" height=\"24px\" viewBox=\"0 -960 960 960\">\n",
              "    <path d=\"M120-120v-720h720v720H120Zm60-500h600v-160H180v160Zm220 220h160v-160H400v160Zm0 220h160v-160H400v160ZM180-400h160v-160H180v160Zm440 0h160v-160H620v160ZM180-180h160v-160H180v160Zm440 0h160v-160H620v160Z\"/>\n",
              "  </svg>\n",
              "    </button>\n",
              "\n",
              "  <style>\n",
              "    .colab-df-container {\n",
              "      display:flex;\n",
              "      gap: 12px;\n",
              "    }\n",
              "\n",
              "    .colab-df-convert {\n",
              "      background-color: #E8F0FE;\n",
              "      border: none;\n",
              "      border-radius: 50%;\n",
              "      cursor: pointer;\n",
              "      display: none;\n",
              "      fill: #1967D2;\n",
              "      height: 32px;\n",
              "      padding: 0 0 0 0;\n",
              "      width: 32px;\n",
              "    }\n",
              "\n",
              "    .colab-df-convert:hover {\n",
              "      background-color: #E2EBFA;\n",
              "      box-shadow: 0px 1px 2px rgba(60, 64, 67, 0.3), 0px 1px 3px 1px rgba(60, 64, 67, 0.15);\n",
              "      fill: #174EA6;\n",
              "    }\n",
              "\n",
              "    .colab-df-buttons div {\n",
              "      margin-bottom: 4px;\n",
              "    }\n",
              "\n",
              "    [theme=dark] .colab-df-convert {\n",
              "      background-color: #3B4455;\n",
              "      fill: #D2E3FC;\n",
              "    }\n",
              "\n",
              "    [theme=dark] .colab-df-convert:hover {\n",
              "      background-color: #434B5C;\n",
              "      box-shadow: 0px 1px 3px 1px rgba(0, 0, 0, 0.15);\n",
              "      filter: drop-shadow(0px 1px 2px rgba(0, 0, 0, 0.3));\n",
              "      fill: #FFFFFF;\n",
              "    }\n",
              "  </style>\n",
              "\n",
              "    <script>\n",
              "      const buttonEl =\n",
              "        document.querySelector('#df-2e03f8f2-3afc-45f1-a04e-a22a3977d73d button.colab-df-convert');\n",
              "      buttonEl.style.display =\n",
              "        google.colab.kernel.accessAllowed ? 'block' : 'none';\n",
              "\n",
              "      async function convertToInteractive(key) {\n",
              "        const element = document.querySelector('#df-2e03f8f2-3afc-45f1-a04e-a22a3977d73d');\n",
              "        const dataTable =\n",
              "          await google.colab.kernel.invokeFunction('convertToInteractive',\n",
              "                                                    [key], {});\n",
              "        if (!dataTable) return;\n",
              "\n",
              "        const docLinkHtml = 'Like what you see? Visit the ' +\n",
              "          '<a target=\"_blank\" href=https://colab.research.google.com/notebooks/data_table.ipynb>data table notebook</a>'\n",
              "          + ' to learn more about interactive tables.';\n",
              "        element.innerHTML = '';\n",
              "        dataTable['output_type'] = 'display_data';\n",
              "        await google.colab.output.renderOutput(dataTable, element);\n",
              "        const docLink = document.createElement('div');\n",
              "        docLink.innerHTML = docLinkHtml;\n",
              "        element.appendChild(docLink);\n",
              "      }\n",
              "    </script>\n",
              "  </div>\n",
              "\n",
              "\n",
              "<div id=\"df-76a18241-0bb7-466e-bd48-d780c58f35d8\">\n",
              "  <button class=\"colab-df-quickchart\" onclick=\"quickchart('df-76a18241-0bb7-466e-bd48-d780c58f35d8')\"\n",
              "            title=\"Suggest charts\"\n",
              "            style=\"display:none;\">\n",
              "\n",
              "<svg xmlns=\"http://www.w3.org/2000/svg\" height=\"24px\"viewBox=\"0 0 24 24\"\n",
              "     width=\"24px\">\n",
              "    <g>\n",
              "        <path d=\"M19 3H5c-1.1 0-2 .9-2 2v14c0 1.1.9 2 2 2h14c1.1 0 2-.9 2-2V5c0-1.1-.9-2-2-2zM9 17H7v-7h2v7zm4 0h-2V7h2v10zm4 0h-2v-4h2v4z\"/>\n",
              "    </g>\n",
              "</svg>\n",
              "  </button>\n",
              "\n",
              "<style>\n",
              "  .colab-df-quickchart {\n",
              "      --bg-color: #E8F0FE;\n",
              "      --fill-color: #1967D2;\n",
              "      --hover-bg-color: #E2EBFA;\n",
              "      --hover-fill-color: #174EA6;\n",
              "      --disabled-fill-color: #AAA;\n",
              "      --disabled-bg-color: #DDD;\n",
              "  }\n",
              "\n",
              "  [theme=dark] .colab-df-quickchart {\n",
              "      --bg-color: #3B4455;\n",
              "      --fill-color: #D2E3FC;\n",
              "      --hover-bg-color: #434B5C;\n",
              "      --hover-fill-color: #FFFFFF;\n",
              "      --disabled-bg-color: #3B4455;\n",
              "      --disabled-fill-color: #666;\n",
              "  }\n",
              "\n",
              "  .colab-df-quickchart {\n",
              "    background-color: var(--bg-color);\n",
              "    border: none;\n",
              "    border-radius: 50%;\n",
              "    cursor: pointer;\n",
              "    display: none;\n",
              "    fill: var(--fill-color);\n",
              "    height: 32px;\n",
              "    padding: 0;\n",
              "    width: 32px;\n",
              "  }\n",
              "\n",
              "  .colab-df-quickchart:hover {\n",
              "    background-color: var(--hover-bg-color);\n",
              "    box-shadow: 0 1px 2px rgba(60, 64, 67, 0.3), 0 1px 3px 1px rgba(60, 64, 67, 0.15);\n",
              "    fill: var(--button-hover-fill-color);\n",
              "  }\n",
              "\n",
              "  .colab-df-quickchart-complete:disabled,\n",
              "  .colab-df-quickchart-complete:disabled:hover {\n",
              "    background-color: var(--disabled-bg-color);\n",
              "    fill: var(--disabled-fill-color);\n",
              "    box-shadow: none;\n",
              "  }\n",
              "\n",
              "  .colab-df-spinner {\n",
              "    border: 2px solid var(--fill-color);\n",
              "    border-color: transparent;\n",
              "    border-bottom-color: var(--fill-color);\n",
              "    animation:\n",
              "      spin 1s steps(1) infinite;\n",
              "  }\n",
              "\n",
              "  @keyframes spin {\n",
              "    0% {\n",
              "      border-color: transparent;\n",
              "      border-bottom-color: var(--fill-color);\n",
              "      border-left-color: var(--fill-color);\n",
              "    }\n",
              "    20% {\n",
              "      border-color: transparent;\n",
              "      border-left-color: var(--fill-color);\n",
              "      border-top-color: var(--fill-color);\n",
              "    }\n",
              "    30% {\n",
              "      border-color: transparent;\n",
              "      border-left-color: var(--fill-color);\n",
              "      border-top-color: var(--fill-color);\n",
              "      border-right-color: var(--fill-color);\n",
              "    }\n",
              "    40% {\n",
              "      border-color: transparent;\n",
              "      border-right-color: var(--fill-color);\n",
              "      border-top-color: var(--fill-color);\n",
              "    }\n",
              "    60% {\n",
              "      border-color: transparent;\n",
              "      border-right-color: var(--fill-color);\n",
              "    }\n",
              "    80% {\n",
              "      border-color: transparent;\n",
              "      border-right-color: var(--fill-color);\n",
              "      border-bottom-color: var(--fill-color);\n",
              "    }\n",
              "    90% {\n",
              "      border-color: transparent;\n",
              "      border-bottom-color: var(--fill-color);\n",
              "    }\n",
              "  }\n",
              "</style>\n",
              "\n",
              "  <script>\n",
              "    async function quickchart(key) {\n",
              "      const quickchartButtonEl =\n",
              "        document.querySelector('#' + key + ' button');\n",
              "      quickchartButtonEl.disabled = true;  // To prevent multiple clicks.\n",
              "      quickchartButtonEl.classList.add('colab-df-spinner');\n",
              "      try {\n",
              "        const charts = await google.colab.kernel.invokeFunction(\n",
              "            'suggestCharts', [key], {});\n",
              "      } catch (error) {\n",
              "        console.error('Error during call to suggestCharts:', error);\n",
              "      }\n",
              "      quickchartButtonEl.classList.remove('colab-df-spinner');\n",
              "      quickchartButtonEl.classList.add('colab-df-quickchart-complete');\n",
              "    }\n",
              "    (() => {\n",
              "      let quickchartButtonEl =\n",
              "        document.querySelector('#df-76a18241-0bb7-466e-bd48-d780c58f35d8 button');\n",
              "      quickchartButtonEl.style.display =\n",
              "        google.colab.kernel.accessAllowed ? 'block' : 'none';\n",
              "    })();\n",
              "  </script>\n",
              "</div>\n",
              "    </div>\n",
              "  </div>\n"
            ]
          },
          "metadata": {},
          "execution_count": 27
        }
      ]
    }
  ],
  "metadata": {
    "kernelspec": {
      "display_name": "Python 3",
      "name": "python3"
    },
    "language_info": {
      "codemirror_mode": {
        "name": "ipython",
        "version": 2
      },
      "file_extension": ".py",
      "mimetype": "text/x-python",
      "name": "python",
      "nbconvert_exporter": "python",
      "pygments_lexer": "ipython2",
      "version": "2.7.6"
    },
    "colab": {
      "provenance": [],
      "gpuType": "T4"
    },
    "accelerator": "GPU"
  },
  "nbformat": 4,
  "nbformat_minor": 5
}