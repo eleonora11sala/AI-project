{
 "cells": [
  {
   "cell_type": "code",
   "outputs": [],
   "source": [
    "import pandas as pd\n",
    "import numpy as np, os\n",
    "from tensorflow.keras.layers import Input, Dense, Conv1D, Flatten, MaxPooling1D, BatchNormalization, Dropout, Activation\n",
    "from keras.models import Sequential\n",
    "import matplotlib.pyplot as plt\n",
    "from sklearn.metrics import confusion_matrix\n",
    "import seaborn as sns\n",
    "import tensorflow as tf"
   ],
   "metadata": {
    "id": "c36bf3fe97730b0d",
    "ExecuteTime": {
     "end_time": "2024-01-28T11:27:32.174905600Z",
     "start_time": "2024-01-28T11:27:32.100668700Z"
    }
   },
   "id": "c36bf3fe97730b0d",
   "execution_count": 3
  },
  {
   "cell_type": "markdown",
   "source": [
    "# Pre processing"
   ],
   "metadata": {
    "collapsed": false,
    "id": "673f6d3e97b64e50"
   },
   "id": "673f6d3e97b64e50"
  },
  {
   "cell_type": "code",
   "outputs": [],
   "source": [
    "folder_path = u'C:/Users/user/Desktop/AI-project/signals_no_artifacts/128'\n",
    "\n",
    "# List all files in the folder\n",
    "file_names = [file for file in os.listdir(folder_path) if file.endswith('_128.csv')]\n",
    "\n",
    "# Initialize an empty DataFrame to concatenate all data\n",
    "all_data = pd.DataFrame()\n",
    "all_data_list = []\n",
    "list_128 = []\n",
    "# Loop through each file and concatenate the data\n",
    "for file_name in file_names:\n",
    "    file_path = os.path.join(folder_path, file_name)\n",
    "    data = pd.read_csv(file_path)\n",
    "    all_data_list.append(data)\n",
    "    list_128.append(data)\n",
    "    all_data = pd.concat([all_data, data], ignore_index=True)"
   ],
   "metadata": {
    "id": "7fea189362b571db",
    "ExecuteTime": {
     "end_time": "2024-01-28T11:27:42.244296Z",
     "start_time": "2024-01-28T11:27:32.108268600Z"
    }
   },
   "id": "7fea189362b571db",
   "execution_count": 4
  },
  {
   "cell_type": "code",
   "outputs": [],
   "source": [
    "folder_path = u'C:/Users/user/Desktop/AI-project/signals_no_artifacts/250'\n",
    "\n",
    "# List all files in the folder\n",
    "file_names = [file for file in os.listdir(folder_path) if file.endswith('_250.csv')]\n",
    "\n",
    "list_250 = []\n",
    "\n",
    "# Loop through each file and concatenate the data\n",
    "for file_name in file_names:\n",
    "    file_path = os.path.join(folder_path, file_name)\n",
    "    data = pd.read_csv(file_path)\n",
    "    all_data_list.append(data)\n",
    "    list_250.append(data)\n",
    "    all_data = pd.concat([all_data, data], ignore_index=True)\n",
    "\n",
    "# Now 'all_data_list' contains a list of all data from all CSV files"
   ],
   "metadata": {
    "id": "c2e5f9d1a0083619",
    "ExecuteTime": {
     "end_time": "2024-01-28T11:27:57.549604200Z",
     "start_time": "2024-01-28T11:27:42.248573600Z"
    }
   },
   "id": "c2e5f9d1a0083619",
   "execution_count": 5
  },
  {
   "cell_type": "markdown",
   "source": [
    "# Signal Segmentation"
   ],
   "metadata": {
    "collapsed": false,
    "id": "5862195933a7e969"
   },
   "id": "5862195933a7e969"
  },
  {
   "cell_type": "code",
   "outputs": [],
   "source": [
    "window_size = 200"
   ],
   "metadata": {
    "id": "a38508dffd6412ef",
    "ExecuteTime": {
     "end_time": "2024-01-28T11:27:57.562989300Z",
     "start_time": "2024-01-28T11:27:57.553938600Z"
    }
   },
   "id": "a38508dffd6412ef",
   "execution_count": 6
  },
  {
   "cell_type": "code",
   "outputs": [],
   "source": [
    "# Segment each patient's signal\n",
    "#Voglio window size di 5 secondi\n",
    "# --> 128 samples/s *5s = 640\n",
    "half_window = window_size // 2\n",
    "\n",
    "column_names = ['id', 'segment_values', 'label']\n",
    "df_segments_patients_all = pd.DataFrame(columns=column_names)\n",
    "\n",
    "id = 0\n",
    "\n",
    "for patient_data in list_128:\n",
    "    patient_signal = patient_data['value'].values\n",
    "\n",
    "    for i in range(0, len(patient_signal)):\n",
    "        if(patient_data['IsPeak'].values[i] == True):\n",
    "            if(not(i-half_window <0) and not(i+half_window > len(patient_signal)-1) ):\n",
    "                segment = patient_signal[i-half_window:i+half_window]\n",
    "\n",
    "                #Add segment to list only if it is a 'proper window' --> i-window, i+ window garanteed\n",
    "                df_segments_patient_temp = pd.DataFrame({'id': id,\n",
    "                                        'segment_values': [segment],\n",
    "                                        'label': patient_data['PeakNature'].values[i]})\n",
    "                df_segments_patients_all = pd.concat([df_segments_patients_all, df_segments_patient_temp], ignore_index=True)\n",
    "\n",
    "    id = id + 1"
   ],
   "metadata": {
    "id": "37b3e50a42603059",
    "ExecuteTime": {
     "end_time": "2024-01-28T11:32:32.082073800Z",
     "start_time": "2024-01-28T11:27:57.563888Z"
    }
   },
   "id": "37b3e50a42603059",
   "execution_count": 7
  },
  {
   "cell_type": "code",
   "outputs": [],
   "source": [
    "for patient_data in list_250:\n",
    "    patient_signal = patient_data['value'].values\n",
    "\n",
    "    for i in range(0, len(patient_signal)):\n",
    "        if(patient_data['IsPeak'].values[i] == True):\n",
    "            if(not(i-(half_window*2) <0) and not(i+(half_window*2) > len(patient_signal)-1) ):\n",
    "                segment = patient_signal[i-(half_window*2):i+(half_window*2) : 2]\n",
    "\n",
    "                #Add segment to list only if it is a 'proper window' --> i-window, i+ window garanteed\n",
    "                df_segments_patient_temp = pd.DataFrame({'id': id,\n",
    "                                        'segment_values': [segment],\n",
    "                                        'label': patient_data['PeakNature'].values[i]})\n",
    "                df_segments_patients_all = pd.concat([df_segments_patients_all, df_segments_patient_temp], ignore_index=True)\n",
    "\n",
    "    id = id + 1"
   ],
   "metadata": {
    "id": "fb263d4440572f38",
    "ExecuteTime": {
     "end_time": "2024-01-28T11:39:46.203218400Z",
     "start_time": "2024-01-28T11:32:32.083129200Z"
    }
   },
   "id": "fb263d4440572f38",
   "execution_count": 8
  },
  {
   "cell_type": "code",
   "outputs": [
    {
     "name": "stdout",
     "output_type": "stream",
     "text": [
      "Stored 'df_segments_patients_all' (DataFrame)\n"
     ]
    }
   ],
   "source": [
    "%store df_segments_patients_all"
   ],
   "metadata": {
    "colab": {
     "base_uri": "https://localhost:8080/"
    },
    "id": "9ccaf1fa1e98ebb1",
    "outputId": "59065035-e160-44be-c4f8-b2acd6f0843f",
    "ExecuteTime": {
     "end_time": "2024-01-28T11:39:49.241237100Z",
     "start_time": "2024-01-28T11:39:46.208222200Z"
    }
   },
   "id": "9ccaf1fa1e98ebb1",
   "execution_count": 9
  },
  {
   "cell_type": "markdown",
   "source": [
    "# For kernel restarting"
   ],
   "metadata": {
    "collapsed": false,
    "id": "ee6f05c79da026b4"
   },
   "id": "ee6f05c79da026b4"
  },
  {
   "cell_type": "code",
   "outputs": [],
   "source": [
    "\n",
    "import pandas as pd\n",
    "import numpy as np, os\n",
    "from tensorflow.keras.layers import Input, Dense, Conv1D, Flatten, MaxPooling1D, BatchNormalization, Dropout, Activation\n",
    "from keras.models import Sequential\n",
    "import matplotlib.pyplot as plt\n",
    "from sklearn.metrics import confusion_matrix\n",
    "import seaborn as sns\n",
    "import tensorflow as tf\n",
    "\n",
    "window_size = 200\n",
    "\n",
    "%store -r df_segments_patients_all\n"
   ],
   "metadata": {
    "id": "edb22c6c88d29cd0",
    "ExecuteTime": {
     "end_time": "2024-01-28T11:39:51.555711200Z",
     "start_time": "2024-01-28T11:39:49.245992600Z"
    }
   },
   "id": "edb22c6c88d29cd0",
   "execution_count": 10
  },
  {
   "cell_type": "markdown",
   "source": [
    "# Train / Val / Test split"
   ],
   "metadata": {
    "collapsed": false,
    "id": "f4e16defe3999dbf"
   },
   "id": "f4e16defe3999dbf"
  },
  {
   "cell_type": "code",
   "outputs": [
    {
     "data": {
      "text/plain": "         id                                     segment_values label\n0         0  [0.2058954076128947, 0.404473859991316, 0.5970...     N\n1         0  [-0.2666242824030803, -0.0795323175512104, 0.0...     N\n2         0  [-0.1162680016719362, 0.0678719958779269, 0.23...     N\n3         0  [-1.182943689494174, -1.219759579499485, -1.25...     S\n4         0  [0.6543489230048096, 0.6589239703337957, 0.656...     N\n...     ...                                                ...   ...\n174910  104  [-1.0629289182803177, -1.1187745188007785, -1....     N\n174911  104  [-1.1937303088779458, -1.24266277124888, -1.29...     N\n174912  104  [-1.0626134783938492, -1.1189344450827805, -1....     N\n174913  104  [-1.039934227396032, -1.0936256864302645, -1.1...     N\n174914  104  [-0.9340981888623192, -0.9910741605304588, -1....     N\n\n[174915 rows x 3 columns]",
      "text/html": "<div>\n<style scoped>\n    .dataframe tbody tr th:only-of-type {\n        vertical-align: middle;\n    }\n\n    .dataframe tbody tr th {\n        vertical-align: top;\n    }\n\n    .dataframe thead th {\n        text-align: right;\n    }\n</style>\n<table border=\"1\" class=\"dataframe\">\n  <thead>\n    <tr style=\"text-align: right;\">\n      <th></th>\n      <th>id</th>\n      <th>segment_values</th>\n      <th>label</th>\n    </tr>\n  </thead>\n  <tbody>\n    <tr>\n      <th>0</th>\n      <td>0</td>\n      <td>[0.2058954076128947, 0.404473859991316, 0.5970...</td>\n      <td>N</td>\n    </tr>\n    <tr>\n      <th>1</th>\n      <td>0</td>\n      <td>[-0.2666242824030803, -0.0795323175512104, 0.0...</td>\n      <td>N</td>\n    </tr>\n    <tr>\n      <th>2</th>\n      <td>0</td>\n      <td>[-0.1162680016719362, 0.0678719958779269, 0.23...</td>\n      <td>N</td>\n    </tr>\n    <tr>\n      <th>3</th>\n      <td>0</td>\n      <td>[-1.182943689494174, -1.219759579499485, -1.25...</td>\n      <td>S</td>\n    </tr>\n    <tr>\n      <th>4</th>\n      <td>0</td>\n      <td>[0.6543489230048096, 0.6589239703337957, 0.656...</td>\n      <td>N</td>\n    </tr>\n    <tr>\n      <th>...</th>\n      <td>...</td>\n      <td>...</td>\n      <td>...</td>\n    </tr>\n    <tr>\n      <th>174910</th>\n      <td>104</td>\n      <td>[-1.0629289182803177, -1.1187745188007785, -1....</td>\n      <td>N</td>\n    </tr>\n    <tr>\n      <th>174911</th>\n      <td>104</td>\n      <td>[-1.1937303088779458, -1.24266277124888, -1.29...</td>\n      <td>N</td>\n    </tr>\n    <tr>\n      <th>174912</th>\n      <td>104</td>\n      <td>[-1.0626134783938492, -1.1189344450827805, -1....</td>\n      <td>N</td>\n    </tr>\n    <tr>\n      <th>174913</th>\n      <td>104</td>\n      <td>[-1.039934227396032, -1.0936256864302645, -1.1...</td>\n      <td>N</td>\n    </tr>\n    <tr>\n      <th>174914</th>\n      <td>104</td>\n      <td>[-0.9340981888623192, -0.9910741605304588, -1....</td>\n      <td>N</td>\n    </tr>\n  </tbody>\n</table>\n<p>174915 rows × 3 columns</p>\n</div>"
     },
     "execution_count": 11,
     "metadata": {},
     "output_type": "execute_result"
    }
   ],
   "source": [
    "df_segments_patients_all"
   ],
   "metadata": {
    "colab": {
     "base_uri": "https://localhost:8080/",
     "height": 423
    },
    "id": "89f39b49168ae91e",
    "outputId": "86cb9599-0036-4db7-cd8c-c7e688e25daa",
    "ExecuteTime": {
     "end_time": "2024-01-28T11:39:51.632658800Z",
     "start_time": "2024-01-28T11:39:51.561216500Z"
    }
   },
   "id": "89f39b49168ae91e",
   "execution_count": 11
  },
  {
   "cell_type": "code",
   "outputs": [],
   "source": [
    "np.random.seed(20)"
   ],
   "metadata": {
    "id": "84198b520b0ab97d",
    "ExecuteTime": {
     "end_time": "2024-01-28T11:39:51.632658800Z",
     "start_time": "2024-01-28T11:39:51.590023500Z"
    }
   },
   "id": "84198b520b0ab97d",
   "execution_count": 12
  },
  {
   "cell_type": "code",
   "outputs": [],
   "source": [
    "num_patients = df_segments_patients_all['id'].nunique()\n",
    "\n",
    "train_indices = np.random.choice(range(num_patients), size=int(num_patients * 0.7), replace=False)\n",
    "validation_indices = np.random.choice(list(set(range(num_patients)) - set(train_indices)), size=int(num_patients * 0.15), replace=False)\n",
    "test_indices = list(set(range(num_patients)) - set(train_indices) - set(validation_indices))\n"
   ],
   "metadata": {
    "id": "1949b474af5907b3",
    "ExecuteTime": {
     "end_time": "2024-01-28T11:39:51.695932600Z",
     "start_time": "2024-01-28T11:39:51.599472Z"
    }
   },
   "id": "1949b474af5907b3",
   "execution_count": 13
  },
  {
   "cell_type": "code",
   "outputs": [],
   "source": [
    "label_mapping = {\"N\": 0, \"S\": 1, \"V\": 2}"
   ],
   "metadata": {
    "id": "9aa1405c0ac973a8",
    "ExecuteTime": {
     "end_time": "2024-01-28T11:39:51.748371100Z",
     "start_time": "2024-01-28T11:39:51.615117300Z"
    }
   },
   "id": "9aa1405c0ac973a8",
   "execution_count": 14
  },
  {
   "cell_type": "code",
   "outputs": [],
   "source": [
    "train_df = df_segments_patients_all[df_segments_patients_all['id'].isin(train_indices)].drop(['id'], axis=1)\n",
    "# Split dataframe into features and labels\n",
    "X_train = train_df.drop(['label'], axis=1).values\n",
    "y_train = train_df['label']\n",
    "\n",
    "# Convert segments to a numpy array and reshape for CNN input\n",
    "X_train_list = train_df['segment_values'].apply(lambda x: x.tolist()).tolist()\n",
    "X_train_df = pd.DataFrame(X_train_list)\n",
    "X_train_np = X_train_df.to_numpy()\n",
    "\n",
    "# One-hot encoding\n",
    "one_hot_encoded_df = pd.get_dummies(y_train, columns=['label'])\n",
    "one_hot_encoded_array_train = one_hot_encoded_df.values\n",
    "\n",
    "Y_train = [label_mapping[value] for value in y_train]\n",
    "Y_train_categorical = tf.keras.utils.to_categorical(Y_train, num_classes=3)"
   ],
   "metadata": {
    "id": "4b4d8595324abe5e",
    "ExecuteTime": {
     "end_time": "2024-01-28T11:39:58.540564200Z",
     "start_time": "2024-01-28T11:39:51.618654800Z"
    }
   },
   "id": "4b4d8595324abe5e",
   "execution_count": 15
  },
  {
   "cell_type": "code",
   "outputs": [
    {
     "name": "stdout",
     "output_type": "stream",
     "text": [
      "Perc N : \n",
      "0.904482047600364\n",
      "Perc S : \n",
      "0.052767783352394626\n",
      "Perc V : \n",
      "0.0427501690472414\n"
     ]
    }
   ],
   "source": [
    "nN = np.count_nonzero(y_train == 'N')\n",
    "nS = np.count_nonzero(y_train == 'S')\n",
    "nV = np.count_nonzero(y_train == 'V')\n",
    "\n",
    "print(\"Perc N : \")\n",
    "print(nN/(nN + nS + nV))\n",
    "print(\"Perc S : \")\n",
    "print(nS/(nN + nS + nV))\n",
    "print(\"Perc V : \")\n",
    "print(nV/(nN + nS + nV))"
   ],
   "metadata": {
    "colab": {
     "base_uri": "https://localhost:8080/"
    },
    "id": "f7bfeee787b4d940",
    "outputId": "63124100-381f-408f-9b49-37bdb20682e2",
    "ExecuteTime": {
     "end_time": "2024-01-28T11:39:58.573892200Z",
     "start_time": "2024-01-28T11:39:58.572536600Z"
    }
   },
   "id": "f7bfeee787b4d940",
   "execution_count": 16
  },
  {
   "cell_type": "code",
   "outputs": [],
   "source": [
    "validation_df = df_segments_patients_all[df_segments_patients_all['id'].isin(validation_indices)].drop(['id'], axis=1)\n",
    "# Split dataframe into features and labels\n",
    "X_validation = validation_df.drop(['label'], axis=1).values\n",
    "y_validation = validation_df['label']\n",
    "\n",
    "# Convert segments to a numpy array and reshape for CNN input\n",
    "X_validation_list = validation_df['segment_values'].apply(lambda x: x.tolist()).tolist()\n",
    "X_validation_df = pd.DataFrame(X_validation_list)\n",
    "X_val_np = X_validation_df.to_numpy()\n",
    "\n",
    "# One-hot encoding\n",
    "one_hot_encoded_df = pd.get_dummies(y_validation, columns=['label'])\n",
    "one_hot_encoded_array_validation = one_hot_encoded_df.values\n",
    "\n",
    "Y_validation = [label_mapping[value] for value in y_validation]\n",
    "Y_validation_categorical = tf.keras.utils.to_categorical(Y_validation, num_classes=3)"
   ],
   "metadata": {
    "id": "522c8df3c1e9dc36",
    "ExecuteTime": {
     "end_time": "2024-01-28T11:39:59.824192400Z",
     "start_time": "2024-01-28T11:39:58.573892200Z"
    }
   },
   "id": "522c8df3c1e9dc36",
   "execution_count": 17
  },
  {
   "cell_type": "code",
   "outputs": [],
   "source": [
    "test_df = df_segments_patients_all[df_segments_patients_all['id'].isin(test_indices)].drop(['id'], axis=1)\n",
    "# Split dataframe into features and labels\n",
    "X_test = test_df.drop(['label'], axis=1).values\n",
    "\n",
    "y_test = test_df['label']\n",
    "\n",
    "# Convert segments to a numpy array and reshape for CNN input\n",
    "X_test_list = test_df['segment_values'].apply(lambda x: x.tolist()).tolist()\n",
    "X_test_df = pd.DataFrame(X_test_list)\n",
    "X_test_np = X_test_df.to_numpy()\n",
    "\n",
    "# One-hot encoding\n",
    "one_hot_encoded_df = pd.get_dummies(y_test, columns=['label'])\n",
    "one_hot_encoded_array_test = one_hot_encoded_df.values\n",
    "\n",
    "Y_test = [label_mapping[value] for value in y_test]\n",
    "Y_test_categorical = tf.keras.utils.to_categorical(Y_test, num_classes=3)"
   ],
   "metadata": {
    "id": "7867f0f24d1c2289",
    "ExecuteTime": {
     "end_time": "2024-01-28T11:40:01.612771200Z",
     "start_time": "2024-01-28T11:39:59.829089200Z"
    }
   },
   "id": "7867f0f24d1c2289",
   "execution_count": 18
  },
  {
   "cell_type": "markdown",
   "source": [
    "# Model"
   ],
   "metadata": {
    "collapsed": false,
    "id": "9135d062f5948b13"
   },
   "id": "9135d062f5948b13"
  },
  {
   "cell_type": "code",
   "outputs": [
    {
     "name": "stderr",
     "output_type": "stream",
     "text": [
      "C:\\Users\\user\\Desktop\\AI-project\\venv\\Lib\\site-packages\\keras\\src\\layers\\convolutional\\base_conv.py:99: UserWarning: Do not pass an `input_shape`/`input_dim` argument to a layer. When using Sequential models, prefer using an `Input(shape)` object as the first layer in the model instead.\n",
      "  super().__init__(\n"
     ]
    }
   ],
   "source": [
    "# Define a simple 1D CNN model\n",
    "# Define the CNN architecture\n",
    "model = Sequential()\n",
    "\n",
    "model.add(Conv1D(filters=128, kernel_size=3, activation='relu', input_shape=(window_size, 1)))\n",
    "model.add(Conv1D(filters=64, kernel_size=3, activation='relu'))\n",
    "\n",
    "model.add(BatchNormalization())\n",
    "\n",
    "model.add(Activation('relu'))\n",
    "\n",
    "model.add(MaxPooling1D(pool_size=2))\n",
    "\n",
    "model.add(Flatten())\n",
    "\n",
    "model.add(Dense(1024))\n",
    "\n",
    "model.add(Dropout(0.5))\n",
    "\n",
    "model.add(Activation('relu'))\n",
    "\n",
    "model.add(Dense(3, activation='softmax'))\n"
   ],
   "metadata": {
    "id": "715d3ff3ea59f6c6",
    "ExecuteTime": {
     "end_time": "2024-01-28T11:40:01.853996900Z",
     "start_time": "2024-01-28T11:40:01.616478100Z"
    }
   },
   "id": "715d3ff3ea59f6c6",
   "execution_count": 19
  },
  {
   "cell_type": "code",
   "outputs": [],
   "source": [
    "from keras.callbacks import EarlyStopping\n",
    "\n",
    "early_stopping = EarlyStopping(\n",
    "    monitor='val_loss',  # Monitor the validation loss\n",
    "    patience=5,          # Number of epochs with no improvement after which training will stop\n",
    "    verbose=1,\n",
    "    restore_best_weights=True  # Restore the best model weights when training stops\n",
    ")"
   ],
   "metadata": {
    "id": "21e8570e62ce5af",
    "ExecuteTime": {
     "end_time": "2024-01-28T11:40:01.862568700Z",
     "start_time": "2024-01-28T11:40:01.859767800Z"
    }
   },
   "id": "21e8570e62ce5af",
   "execution_count": 20
  },
  {
   "cell_type": "code",
   "outputs": [],
   "source": [
    "nN = np.count_nonzero(y_train == 'N')\n",
    "nS = np.count_nonzero(y_train == 'S')\n",
    "nV = np.count_nonzero(y_train == 'V')\n",
    "\n",
    "class_sum = nN+nV+nS\n",
    "wN = round(1-(nN/class_sum),2)\n",
    "wS = round(1-(nS/class_sum),2)\n",
    "wV = round(1-(nV/class_sum),2)\n",
    "\n",
    "class_weights_fed = {0: wN, 1: wS, 2: wV}"
   ],
   "metadata": {
    "id": "8f0ff3e78f521675",
    "ExecuteTime": {
     "end_time": "2024-01-28T11:40:01.921257500Z",
     "start_time": "2024-01-28T11:40:01.866399Z"
    }
   },
   "id": "8f0ff3e78f521675",
   "execution_count": 21
  },
  {
   "cell_type": "code",
   "outputs": [
    {
     "data": {
      "text/plain": "{0: 0.1, 1: 0.95, 2: 0.96}"
     },
     "execution_count": 22,
     "metadata": {},
     "output_type": "execute_result"
    }
   ],
   "source": [
    "class_weights_fed"
   ],
   "metadata": {
    "colab": {
     "base_uri": "https://localhost:8080/"
    },
    "id": "6546654c5081c664",
    "outputId": "8bba43df-44a6-4658-d0e6-dc3dc32d0b9d",
    "ExecuteTime": {
     "end_time": "2024-01-28T11:40:01.921257500Z",
     "start_time": "2024-01-28T11:40:01.894141900Z"
    }
   },
   "id": "6546654c5081c664",
   "execution_count": 22
  },
  {
   "cell_type": "code",
   "outputs": [],
   "source": [
    "model.compile(optimizer='Nadam', loss='categorical_crossentropy', metrics=['Accuracy', 'Precision', 'Recall' ])"
   ],
   "metadata": {
    "id": "e477d52638f68fb5",
    "ExecuteTime": {
     "end_time": "2024-01-28T11:40:01.921257500Z",
     "start_time": "2024-01-28T11:40:01.900198700Z"
    }
   },
   "id": "e477d52638f68fb5",
   "execution_count": 23
  },
  {
   "cell_type": "code",
   "outputs": [
    {
     "name": "stdout",
     "output_type": "stream",
     "text": [
      "Epoch 1/20\n",
      "\u001B[1m3744/3744\u001B[0m \u001B[32m━━━━━━━━━━━━━━━━━━━━\u001B[0m\u001B[37m\u001B[0m \u001B[1m376s\u001B[0m 100ms/step - Accuracy: 0.8442 - Precision: 0.8836 - Recall: 0.7935 - loss: 0.1735 - val_Accuracy: 0.9263 - val_Precision: 0.9581 - val_Recall: 0.8597 - val_loss: 0.2721\n",
      "Epoch 2/20\n",
      "\u001B[1m3744/3744\u001B[0m \u001B[32m━━━━━━━━━━━━━━━━━━━━\u001B[0m\u001B[37m\u001B[0m \u001B[1m366s\u001B[0m 98ms/step - Accuracy: 0.8849 - Precision: 0.9293 - Recall: 0.8172 - loss: 0.1094 - val_Accuracy: 0.9015 - val_Precision: 0.9439 - val_Recall: 0.8324 - val_loss: 0.3154\n",
      "Epoch 3/20\n",
      "\u001B[1m3744/3744\u001B[0m \u001B[32m━━━━━━━━━━━━━━━━━━━━\u001B[0m\u001B[37m\u001B[0m \u001B[1m368s\u001B[0m 98ms/step - Accuracy: 0.9001 - Precision: 0.9389 - Recall: 0.8372 - loss: 0.0971 - val_Accuracy: 0.9165 - val_Precision: 0.9532 - val_Recall: 0.8449 - val_loss: 0.3257\n",
      "Epoch 4/20\n",
      "\u001B[1m3744/3744\u001B[0m \u001B[32m━━━━━━━━━━━━━━━━━━━━\u001B[0m\u001B[37m\u001B[0m \u001B[1m366s\u001B[0m 98ms/step - Accuracy: 0.9020 - Precision: 0.9392 - Recall: 0.8448 - loss: 0.0957 - val_Accuracy: 0.8881 - val_Precision: 0.9397 - val_Recall: 0.7855 - val_loss: 0.3772\n",
      "Epoch 5/20\n",
      "\u001B[1m3744/3744\u001B[0m \u001B[32m━━━━━━━━━━━━━━━━━━━━\u001B[0m\u001B[37m\u001B[0m \u001B[1m367s\u001B[0m 98ms/step - Accuracy: 0.8992 - Precision: 0.9374 - Recall: 0.8403 - loss: 0.0931 - val_Accuracy: 0.9168 - val_Precision: 0.9485 - val_Recall: 0.8748 - val_loss: 0.2774\n",
      "Epoch 6/20\n",
      "\u001B[1m3744/3744\u001B[0m \u001B[32m━━━━━━━━━━━━━━━━━━━━\u001B[0m\u001B[37m\u001B[0m \u001B[1m373s\u001B[0m 100ms/step - Accuracy: 0.9024 - Precision: 0.9365 - Recall: 0.8544 - loss: 0.0895 - val_Accuracy: 0.9202 - val_Precision: 0.9445 - val_Recall: 0.8905 - val_loss: 0.2536\n",
      "Epoch 7/20\n",
      "\u001B[1m 483/3744\u001B[0m \u001B[32m━━\u001B[0m\u001B[37m━━━━━━━━━━━━━━━━━━\u001B[0m \u001B[1m5:19\u001B[0m 98ms/step - Accuracy: 0.9121 - Precision: 0.9425 - Recall: 0.8571 - loss: 0.0825"
     ]
    },
    {
     "ename": "KeyboardInterrupt",
     "evalue": "",
     "output_type": "error",
     "traceback": [
      "\u001B[1;31m---------------------------------------------------------------------------\u001B[0m",
      "\u001B[1;31mKeyboardInterrupt\u001B[0m                         Traceback (most recent call last)",
      "\u001B[1;32m~\\AppData\\Local\\Temp\\ipykernel_1724\\2156623931.py\u001B[0m in \u001B[0;36m?\u001B[1;34m()\u001B[0m\n\u001B[0;32m      1\u001B[0m \u001B[1;31m# Train the model on the training set\u001B[0m\u001B[1;33m\u001B[0m\u001B[1;33m\u001B[0m\u001B[0m\n\u001B[1;32m----> 2\u001B[1;33m history = model.fit(X_train_np,\n\u001B[0m\u001B[0;32m      3\u001B[0m                     \u001B[0mone_hot_encoded_array_train\u001B[0m\u001B[1;33m,\u001B[0m\u001B[1;33m\u001B[0m\u001B[1;33m\u001B[0m\u001B[0m\n\u001B[0;32m      4\u001B[0m                     \u001B[0mepochs\u001B[0m\u001B[1;33m=\u001B[0m\u001B[1;36m20\u001B[0m\u001B[1;33m,\u001B[0m\u001B[1;33m\u001B[0m\u001B[1;33m\u001B[0m\u001B[0m\n\u001B[0;32m      5\u001B[0m                     \u001B[0mcallbacks\u001B[0m\u001B[1;33m=\u001B[0m\u001B[1;33m[\u001B[0m\u001B[0mearly_stopping\u001B[0m\u001B[1;33m]\u001B[0m\u001B[1;33m,\u001B[0m\u001B[1;33m\u001B[0m\u001B[1;33m\u001B[0m\u001B[0m\n",
      "\u001B[1;32m~\\Desktop\\AI-project\\venv\\Lib\\site-packages\\keras\\src\\utils\\traceback_utils.py\u001B[0m in \u001B[0;36m?\u001B[1;34m(*args, **kwargs)\u001B[0m\n\u001B[0;32m    121\u001B[0m             \u001B[1;31m# To get the full stack trace, call:\u001B[0m\u001B[1;33m\u001B[0m\u001B[1;33m\u001B[0m\u001B[0m\n\u001B[0;32m    122\u001B[0m             \u001B[1;31m# `keras.config.disable_traceback_filtering()`\u001B[0m\u001B[1;33m\u001B[0m\u001B[1;33m\u001B[0m\u001B[0m\n\u001B[0;32m    123\u001B[0m             \u001B[1;32mraise\u001B[0m \u001B[0me\u001B[0m\u001B[1;33m.\u001B[0m\u001B[0mwith_traceback\u001B[0m\u001B[1;33m(\u001B[0m\u001B[0mfiltered_tb\u001B[0m\u001B[1;33m)\u001B[0m \u001B[1;32mfrom\u001B[0m \u001B[1;32mNone\u001B[0m\u001B[1;33m\u001B[0m\u001B[1;33m\u001B[0m\u001B[0m\n\u001B[0;32m    124\u001B[0m         \u001B[1;32mfinally\u001B[0m\u001B[1;33m:\u001B[0m\u001B[1;33m\u001B[0m\u001B[1;33m\u001B[0m\u001B[0m\n\u001B[1;32m--> 125\u001B[1;33m             \u001B[1;32mdel\u001B[0m \u001B[0mfiltered_tb\u001B[0m\u001B[1;33m\u001B[0m\u001B[1;33m\u001B[0m\u001B[0m\n\u001B[0m",
      "\u001B[1;32m~\\Desktop\\AI-project\\venv\\Lib\\site-packages\\keras\\src\\backend\\tensorflow\\trainer.py\u001B[0m in \u001B[0;36m?\u001B[1;34m(self, x, y, batch_size, epochs, verbose, callbacks, validation_split, validation_data, shuffle, class_weight, sample_weight, initial_epoch, steps_per_epoch, validation_steps, validation_batch_size, validation_freq)\u001B[0m\n\u001B[0;32m    320\u001B[0m             \u001B[1;32mwith\u001B[0m \u001B[0mepoch_iterator\u001B[0m\u001B[1;33m.\u001B[0m\u001B[0mcatch_stop_iteration\u001B[0m\u001B[1;33m(\u001B[0m\u001B[1;33m)\u001B[0m\u001B[1;33m:\u001B[0m\u001B[1;33m\u001B[0m\u001B[1;33m\u001B[0m\u001B[0m\n\u001B[0;32m    321\u001B[0m                 \u001B[1;32mfor\u001B[0m \u001B[0mstep\u001B[0m\u001B[1;33m,\u001B[0m \u001B[0miterator\u001B[0m \u001B[1;32min\u001B[0m \u001B[0mepoch_iterator\u001B[0m\u001B[1;33m.\u001B[0m\u001B[0menumerate_epoch\u001B[0m\u001B[1;33m(\u001B[0m\u001B[1;33m)\u001B[0m\u001B[1;33m:\u001B[0m\u001B[1;33m\u001B[0m\u001B[1;33m\u001B[0m\u001B[0m\n\u001B[0;32m    322\u001B[0m                     \u001B[0mcallbacks\u001B[0m\u001B[1;33m.\u001B[0m\u001B[0mon_train_batch_begin\u001B[0m\u001B[1;33m(\u001B[0m\u001B[0mstep\u001B[0m\u001B[1;33m)\u001B[0m\u001B[1;33m\u001B[0m\u001B[1;33m\u001B[0m\u001B[0m\n\u001B[0;32m    323\u001B[0m                     \u001B[0mlogs\u001B[0m \u001B[1;33m=\u001B[0m \u001B[0mself\u001B[0m\u001B[1;33m.\u001B[0m\u001B[0mtrain_function\u001B[0m\u001B[1;33m(\u001B[0m\u001B[0miterator\u001B[0m\u001B[1;33m)\u001B[0m\u001B[1;33m\u001B[0m\u001B[1;33m\u001B[0m\u001B[0m\n\u001B[1;32m--> 324\u001B[1;33m                     callbacks.on_train_batch_end(\n\u001B[0m\u001B[0;32m    325\u001B[0m                         \u001B[0mstep\u001B[0m\u001B[1;33m,\u001B[0m \u001B[0mself\u001B[0m\u001B[1;33m.\u001B[0m\u001B[0m_pythonify_logs\u001B[0m\u001B[1;33m(\u001B[0m\u001B[0mlogs\u001B[0m\u001B[1;33m)\u001B[0m\u001B[1;33m\u001B[0m\u001B[1;33m\u001B[0m\u001B[0m\n\u001B[0;32m    326\u001B[0m                     )\n\u001B[0;32m    327\u001B[0m                     \u001B[1;32mif\u001B[0m \u001B[0mself\u001B[0m\u001B[1;33m.\u001B[0m\u001B[0mstop_training\u001B[0m\u001B[1;33m:\u001B[0m\u001B[1;33m\u001B[0m\u001B[1;33m\u001B[0m\u001B[0m\n",
      "\u001B[1;32m~\\Desktop\\AI-project\\venv\\Lib\\site-packages\\keras\\src\\callbacks\\callback_list.py\u001B[0m in \u001B[0;36m?\u001B[1;34m(self, batch, logs)\u001B[0m\n\u001B[0;32m    104\u001B[0m     \u001B[1;32mdef\u001B[0m \u001B[0mon_train_batch_end\u001B[0m\u001B[1;33m(\u001B[0m\u001B[0mself\u001B[0m\u001B[1;33m,\u001B[0m \u001B[0mbatch\u001B[0m\u001B[1;33m,\u001B[0m \u001B[0mlogs\u001B[0m\u001B[1;33m=\u001B[0m\u001B[1;32mNone\u001B[0m\u001B[1;33m)\u001B[0m\u001B[1;33m:\u001B[0m\u001B[1;33m\u001B[0m\u001B[1;33m\u001B[0m\u001B[0m\n\u001B[0;32m    105\u001B[0m         \u001B[0mlogs\u001B[0m \u001B[1;33m=\u001B[0m \u001B[0mlogs\u001B[0m \u001B[1;32mor\u001B[0m \u001B[1;33m{\u001B[0m\u001B[1;33m}\u001B[0m\u001B[1;33m\u001B[0m\u001B[1;33m\u001B[0m\u001B[0m\n\u001B[0;32m    106\u001B[0m         \u001B[1;32mfor\u001B[0m \u001B[0mcallback\u001B[0m \u001B[1;32min\u001B[0m \u001B[0mself\u001B[0m\u001B[1;33m.\u001B[0m\u001B[0mcallbacks\u001B[0m\u001B[1;33m:\u001B[0m\u001B[1;33m\u001B[0m\u001B[1;33m\u001B[0m\u001B[0m\n\u001B[1;32m--> 107\u001B[1;33m             \u001B[0mcallback\u001B[0m\u001B[1;33m.\u001B[0m\u001B[0mon_train_batch_end\u001B[0m\u001B[1;33m(\u001B[0m\u001B[0mbatch\u001B[0m\u001B[1;33m,\u001B[0m \u001B[0mlogs\u001B[0m\u001B[1;33m=\u001B[0m\u001B[0mlogs\u001B[0m\u001B[1;33m)\u001B[0m\u001B[1;33m\u001B[0m\u001B[1;33m\u001B[0m\u001B[0m\n\u001B[0m",
      "\u001B[1;32m~\\Desktop\\AI-project\\venv\\Lib\\site-packages\\keras\\src\\callbacks\\progbar_logger.py\u001B[0m in \u001B[0;36m?\u001B[1;34m(self, batch, logs)\u001B[0m\n\u001B[0;32m     57\u001B[0m     \u001B[1;32mdef\u001B[0m \u001B[0mon_train_batch_end\u001B[0m\u001B[1;33m(\u001B[0m\u001B[0mself\u001B[0m\u001B[1;33m,\u001B[0m \u001B[0mbatch\u001B[0m\u001B[1;33m,\u001B[0m \u001B[0mlogs\u001B[0m\u001B[1;33m=\u001B[0m\u001B[1;32mNone\u001B[0m\u001B[1;33m)\u001B[0m\u001B[1;33m:\u001B[0m\u001B[1;33m\u001B[0m\u001B[1;33m\u001B[0m\u001B[0m\n\u001B[1;32m---> 58\u001B[1;33m         \u001B[0mself\u001B[0m\u001B[1;33m.\u001B[0m\u001B[0m_update_progbar\u001B[0m\u001B[1;33m(\u001B[0m\u001B[0mbatch\u001B[0m\u001B[1;33m,\u001B[0m \u001B[0mlogs\u001B[0m\u001B[1;33m)\u001B[0m\u001B[1;33m\u001B[0m\u001B[1;33m\u001B[0m\u001B[0m\n\u001B[0m",
      "\u001B[1;32m~\\Desktop\\AI-project\\venv\\Lib\\site-packages\\keras\\src\\callbacks\\progbar_logger.py\u001B[0m in \u001B[0;36m?\u001B[1;34m(self, batch, logs)\u001B[0m\n\u001B[0;32m     91\u001B[0m         \u001B[0mself\u001B[0m\u001B[1;33m.\u001B[0m\u001B[0m_maybe_init_progbar\u001B[0m\u001B[1;33m(\u001B[0m\u001B[1;33m)\u001B[0m\u001B[1;33m\u001B[0m\u001B[1;33m\u001B[0m\u001B[0m\n\u001B[0;32m     92\u001B[0m         \u001B[0mself\u001B[0m\u001B[1;33m.\u001B[0m\u001B[0mseen\u001B[0m \u001B[1;33m=\u001B[0m \u001B[0mbatch\u001B[0m \u001B[1;33m+\u001B[0m \u001B[1;36m1\u001B[0m  \u001B[1;31m# One-indexed.\u001B[0m\u001B[1;33m\u001B[0m\u001B[1;33m\u001B[0m\u001B[0m\n\u001B[0;32m     93\u001B[0m \u001B[1;33m\u001B[0m\u001B[0m\n\u001B[0;32m     94\u001B[0m         \u001B[1;32mif\u001B[0m \u001B[0mself\u001B[0m\u001B[1;33m.\u001B[0m\u001B[0mverbose\u001B[0m \u001B[1;33m==\u001B[0m \u001B[1;36m1\u001B[0m\u001B[1;33m:\u001B[0m\u001B[1;33m\u001B[0m\u001B[1;33m\u001B[0m\u001B[0m\n\u001B[1;32m---> 95\u001B[1;33m             \u001B[0mself\u001B[0m\u001B[1;33m.\u001B[0m\u001B[0mprogbar\u001B[0m\u001B[1;33m.\u001B[0m\u001B[0mupdate\u001B[0m\u001B[1;33m(\u001B[0m\u001B[0mself\u001B[0m\u001B[1;33m.\u001B[0m\u001B[0mseen\u001B[0m\u001B[1;33m,\u001B[0m \u001B[0mlist\u001B[0m\u001B[1;33m(\u001B[0m\u001B[0mlogs\u001B[0m\u001B[1;33m.\u001B[0m\u001B[0mitems\u001B[0m\u001B[1;33m(\u001B[0m\u001B[1;33m)\u001B[0m\u001B[1;33m)\u001B[0m\u001B[1;33m,\u001B[0m \u001B[0mfinalize\u001B[0m\u001B[1;33m=\u001B[0m\u001B[1;32mFalse\u001B[0m\u001B[1;33m)\u001B[0m\u001B[1;33m\u001B[0m\u001B[1;33m\u001B[0m\u001B[0m\n\u001B[0m",
      "\u001B[1;32m~\\Desktop\\AI-project\\venv\\Lib\\site-packages\\keras\\src\\utils\\progbar.py\u001B[0m in \u001B[0;36m?\u001B[1;34m(self, current, values, finalize)\u001B[0m\n\u001B[0;32m    159\u001B[0m             \u001B[1;32mfor\u001B[0m \u001B[0mk\u001B[0m \u001B[1;32min\u001B[0m \u001B[0mself\u001B[0m\u001B[1;33m.\u001B[0m\u001B[0m_values_order\u001B[0m\u001B[1;33m:\u001B[0m\u001B[1;33m\u001B[0m\u001B[1;33m\u001B[0m\u001B[0m\n\u001B[0;32m    160\u001B[0m                 \u001B[0minfo\u001B[0m \u001B[1;33m+=\u001B[0m \u001B[1;34mf\" - {k}:\"\u001B[0m\u001B[1;33m\u001B[0m\u001B[1;33m\u001B[0m\u001B[0m\n\u001B[0;32m    161\u001B[0m                 \u001B[1;32mif\u001B[0m \u001B[0misinstance\u001B[0m\u001B[1;33m(\u001B[0m\u001B[0mself\u001B[0m\u001B[1;33m.\u001B[0m\u001B[0m_values\u001B[0m\u001B[1;33m[\u001B[0m\u001B[0mk\u001B[0m\u001B[1;33m]\u001B[0m\u001B[1;33m,\u001B[0m \u001B[0mlist\u001B[0m\u001B[1;33m)\u001B[0m\u001B[1;33m:\u001B[0m\u001B[1;33m\u001B[0m\u001B[1;33m\u001B[0m\u001B[0m\n\u001B[0;32m    162\u001B[0m                     avg = backend.convert_to_numpy(\n\u001B[1;32m--> 163\u001B[1;33m                         backend.numpy.mean(\n\u001B[0m\u001B[0;32m    164\u001B[0m                             \u001B[0mself\u001B[0m\u001B[1;33m.\u001B[0m\u001B[0m_values\u001B[0m\u001B[1;33m[\u001B[0m\u001B[0mk\u001B[0m\u001B[1;33m]\u001B[0m\u001B[1;33m[\u001B[0m\u001B[1;36m0\u001B[0m\u001B[1;33m]\u001B[0m \u001B[1;33m/\u001B[0m \u001B[0mmax\u001B[0m\u001B[1;33m(\u001B[0m\u001B[1;36m1\u001B[0m\u001B[1;33m,\u001B[0m \u001B[0mself\u001B[0m\u001B[1;33m.\u001B[0m\u001B[0m_values\u001B[0m\u001B[1;33m[\u001B[0m\u001B[0mk\u001B[0m\u001B[1;33m]\u001B[0m\u001B[1;33m[\u001B[0m\u001B[1;36m1\u001B[0m\u001B[1;33m]\u001B[0m\u001B[1;33m)\u001B[0m\u001B[1;33m\u001B[0m\u001B[1;33m\u001B[0m\u001B[0m\n\u001B[0;32m    165\u001B[0m                         )\n\u001B[0;32m    166\u001B[0m                     )\n",
      "\u001B[1;32m~\\Desktop\\AI-project\\venv\\Lib\\site-packages\\keras\\src\\backend\\tensorflow\\numpy.py\u001B[0m in \u001B[0;36m?\u001B[1;34m(x, axis, keepdims)\u001B[0m\n\u001B[0;32m    315\u001B[0m     \u001B[1;32mif\u001B[0m \u001B[1;34m\"int\"\u001B[0m \u001B[1;32min\u001B[0m \u001B[0mori_dtype\u001B[0m \u001B[1;32mor\u001B[0m \u001B[0mori_dtype\u001B[0m \u001B[1;33m==\u001B[0m \u001B[1;34m\"bool\"\u001B[0m\u001B[1;33m:\u001B[0m\u001B[1;33m\u001B[0m\u001B[1;33m\u001B[0m\u001B[0m\n\u001B[0;32m    316\u001B[0m         \u001B[0mresult_dtype\u001B[0m \u001B[1;33m=\u001B[0m \u001B[0mcompute_dtype\u001B[0m\u001B[1;33m\u001B[0m\u001B[1;33m\u001B[0m\u001B[0m\n\u001B[0;32m    317\u001B[0m     \u001B[1;32melse\u001B[0m\u001B[1;33m:\u001B[0m\u001B[1;33m\u001B[0m\u001B[1;33m\u001B[0m\u001B[0m\n\u001B[0;32m    318\u001B[0m         \u001B[0mresult_dtype\u001B[0m \u001B[1;33m=\u001B[0m \u001B[0mori_dtype\u001B[0m\u001B[1;33m\u001B[0m\u001B[1;33m\u001B[0m\u001B[0m\n\u001B[1;32m--> 319\u001B[1;33m     output = tf.reduce_mean(\n\u001B[0m\u001B[0;32m    320\u001B[0m         \u001B[0mtf\u001B[0m\u001B[1;33m.\u001B[0m\u001B[0mcast\u001B[0m\u001B[1;33m(\u001B[0m\u001B[0mx\u001B[0m\u001B[1;33m,\u001B[0m \u001B[0mcompute_dtype\u001B[0m\u001B[1;33m)\u001B[0m\u001B[1;33m,\u001B[0m \u001B[0maxis\u001B[0m\u001B[1;33m=\u001B[0m\u001B[0maxis\u001B[0m\u001B[1;33m,\u001B[0m \u001B[0mkeepdims\u001B[0m\u001B[1;33m=\u001B[0m\u001B[0mkeepdims\u001B[0m\u001B[1;33m\u001B[0m\u001B[1;33m\u001B[0m\u001B[0m\n\u001B[0;32m    321\u001B[0m     )\n\u001B[0;32m    322\u001B[0m     \u001B[1;32mreturn\u001B[0m \u001B[0mtf\u001B[0m\u001B[1;33m.\u001B[0m\u001B[0mcast\u001B[0m\u001B[1;33m(\u001B[0m\u001B[0moutput\u001B[0m\u001B[1;33m,\u001B[0m \u001B[0mresult_dtype\u001B[0m\u001B[1;33m)\u001B[0m\u001B[1;33m\u001B[0m\u001B[1;33m\u001B[0m\u001B[0m\n",
      "\u001B[1;32m~\\Desktop\\AI-project\\venv\\Lib\\site-packages\\tensorflow\\python\\ops\\weak_tensor_ops.py\u001B[0m in \u001B[0;36m?\u001B[1;34m(*args, **kwargs)\u001B[0m\n\u001B[0;32m     86\u001B[0m   \u001B[1;32mdef\u001B[0m \u001B[0mwrapper\u001B[0m\u001B[1;33m(\u001B[0m\u001B[1;33m*\u001B[0m\u001B[0margs\u001B[0m\u001B[1;33m,\u001B[0m \u001B[1;33m**\u001B[0m\u001B[0mkwargs\u001B[0m\u001B[1;33m)\u001B[0m\u001B[1;33m:\u001B[0m\u001B[1;33m\u001B[0m\u001B[1;33m\u001B[0m\u001B[0m\n\u001B[0;32m     87\u001B[0m     \u001B[1;32mif\u001B[0m \u001B[1;32mnot\u001B[0m \u001B[0mops\u001B[0m\u001B[1;33m.\u001B[0m\u001B[0mis_auto_dtype_conversion_enabled\u001B[0m\u001B[1;33m(\u001B[0m\u001B[1;33m)\u001B[0m\u001B[1;33m:\u001B[0m\u001B[1;33m\u001B[0m\u001B[1;33m\u001B[0m\u001B[0m\n\u001B[1;32m---> 88\u001B[1;33m       \u001B[1;32mreturn\u001B[0m \u001B[0mop\u001B[0m\u001B[1;33m(\u001B[0m\u001B[1;33m*\u001B[0m\u001B[0margs\u001B[0m\u001B[1;33m,\u001B[0m \u001B[1;33m**\u001B[0m\u001B[0mkwargs\u001B[0m\u001B[1;33m)\u001B[0m\u001B[1;33m\u001B[0m\u001B[1;33m\u001B[0m\u001B[0m\n\u001B[0m\u001B[0;32m     89\u001B[0m     \u001B[0mbound_arguments\u001B[0m \u001B[1;33m=\u001B[0m \u001B[0msignature\u001B[0m\u001B[1;33m.\u001B[0m\u001B[0mbind\u001B[0m\u001B[1;33m(\u001B[0m\u001B[1;33m*\u001B[0m\u001B[0margs\u001B[0m\u001B[1;33m,\u001B[0m \u001B[1;33m**\u001B[0m\u001B[0mkwargs\u001B[0m\u001B[1;33m)\u001B[0m\u001B[1;33m\u001B[0m\u001B[1;33m\u001B[0m\u001B[0m\n\u001B[0;32m     90\u001B[0m     \u001B[0mbound_arguments\u001B[0m\u001B[1;33m.\u001B[0m\u001B[0mapply_defaults\u001B[0m\u001B[1;33m(\u001B[0m\u001B[1;33m)\u001B[0m\u001B[1;33m\u001B[0m\u001B[1;33m\u001B[0m\u001B[0m\n\u001B[0;32m     91\u001B[0m     \u001B[0mbound_kwargs\u001B[0m \u001B[1;33m=\u001B[0m \u001B[0mbound_arguments\u001B[0m\u001B[1;33m.\u001B[0m\u001B[0marguments\u001B[0m\u001B[1;33m\u001B[0m\u001B[1;33m\u001B[0m\u001B[0m\n",
      "\u001B[1;32m~\\Desktop\\AI-project\\venv\\Lib\\site-packages\\tensorflow\\python\\util\\traceback_utils.py\u001B[0m in \u001B[0;36m?\u001B[1;34m(*args, **kwargs)\u001B[0m\n\u001B[0;32m    151\u001B[0m     \u001B[1;32mexcept\u001B[0m \u001B[0mException\u001B[0m \u001B[1;32mas\u001B[0m \u001B[0me\u001B[0m\u001B[1;33m:\u001B[0m\u001B[1;33m\u001B[0m\u001B[1;33m\u001B[0m\u001B[0m\n\u001B[0;32m    152\u001B[0m       \u001B[0mfiltered_tb\u001B[0m \u001B[1;33m=\u001B[0m \u001B[0m_process_traceback_frames\u001B[0m\u001B[1;33m(\u001B[0m\u001B[0me\u001B[0m\u001B[1;33m.\u001B[0m\u001B[0m__traceback__\u001B[0m\u001B[1;33m)\u001B[0m\u001B[1;33m\u001B[0m\u001B[1;33m\u001B[0m\u001B[0m\n\u001B[0;32m    153\u001B[0m       \u001B[1;32mraise\u001B[0m \u001B[0me\u001B[0m\u001B[1;33m.\u001B[0m\u001B[0mwith_traceback\u001B[0m\u001B[1;33m(\u001B[0m\u001B[0mfiltered_tb\u001B[0m\u001B[1;33m)\u001B[0m \u001B[1;32mfrom\u001B[0m \u001B[1;32mNone\u001B[0m\u001B[1;33m\u001B[0m\u001B[1;33m\u001B[0m\u001B[0m\n\u001B[0;32m    154\u001B[0m     \u001B[1;32mfinally\u001B[0m\u001B[1;33m:\u001B[0m\u001B[1;33m\u001B[0m\u001B[1;33m\u001B[0m\u001B[0m\n\u001B[1;32m--> 155\u001B[1;33m       \u001B[1;32mdel\u001B[0m \u001B[0mfiltered_tb\u001B[0m\u001B[1;33m\u001B[0m\u001B[1;33m\u001B[0m\u001B[0m\n\u001B[0m",
      "\u001B[1;32m~\\Desktop\\AI-project\\venv\\Lib\\site-packages\\tensorflow\\python\\util\\dispatch.py\u001B[0m in \u001B[0;36m?\u001B[1;34m(*args, **kwargs)\u001B[0m\n\u001B[0;32m   1257\u001B[0m \u001B[1;33m\u001B[0m\u001B[0m\n\u001B[0;32m   1258\u001B[0m       \u001B[1;31m# Fallback dispatch system (dispatch v1):\u001B[0m\u001B[1;33m\u001B[0m\u001B[1;33m\u001B[0m\u001B[0m\n\u001B[0;32m   1259\u001B[0m       \u001B[1;32mtry\u001B[0m\u001B[1;33m:\u001B[0m\u001B[1;33m\u001B[0m\u001B[1;33m\u001B[0m\u001B[0m\n\u001B[0;32m   1260\u001B[0m         \u001B[1;32mreturn\u001B[0m \u001B[0mdispatch_target\u001B[0m\u001B[1;33m(\u001B[0m\u001B[1;33m*\u001B[0m\u001B[0margs\u001B[0m\u001B[1;33m,\u001B[0m \u001B[1;33m**\u001B[0m\u001B[0mkwargs\u001B[0m\u001B[1;33m)\u001B[0m\u001B[1;33m\u001B[0m\u001B[1;33m\u001B[0m\u001B[0m\n\u001B[1;32m-> 1261\u001B[1;33m       \u001B[1;32mexcept\u001B[0m \u001B[1;33m(\u001B[0m\u001B[0mTypeError\u001B[0m\u001B[1;33m,\u001B[0m \u001B[0mValueError\u001B[0m\u001B[1;33m)\u001B[0m\u001B[1;33m:\u001B[0m\u001B[1;33m\u001B[0m\u001B[1;33m\u001B[0m\u001B[0m\n\u001B[0m\u001B[0;32m   1262\u001B[0m         \u001B[1;31m# Note: convert_to_eager_tensor currently raises a ValueError, not a\u001B[0m\u001B[1;33m\u001B[0m\u001B[1;33m\u001B[0m\u001B[0m\n\u001B[0;32m   1263\u001B[0m         \u001B[1;31m# TypeError, when given unexpected types.  So we need to catch both.\u001B[0m\u001B[1;33m\u001B[0m\u001B[1;33m\u001B[0m\u001B[0m\n\u001B[0;32m   1264\u001B[0m         \u001B[0mresult\u001B[0m \u001B[1;33m=\u001B[0m \u001B[0mdispatch\u001B[0m\u001B[1;33m(\u001B[0m\u001B[0mop_dispatch_handler\u001B[0m\u001B[1;33m,\u001B[0m \u001B[0margs\u001B[0m\u001B[1;33m,\u001B[0m \u001B[0mkwargs\u001B[0m\u001B[1;33m)\u001B[0m\u001B[1;33m\u001B[0m\u001B[1;33m\u001B[0m\u001B[0m\n",
      "\u001B[1;32m~\\Desktop\\AI-project\\venv\\Lib\\site-packages\\tensorflow\\python\\ops\\math_ops.py\u001B[0m in \u001B[0;36m?\u001B[1;34m(input_tensor, axis, keepdims, name)\u001B[0m\n\u001B[0;32m   2765\u001B[0m   \u001B[0mkeepdims\u001B[0m \u001B[1;33m=\u001B[0m \u001B[1;32mFalse\u001B[0m \u001B[1;32mif\u001B[0m \u001B[0mkeepdims\u001B[0m \u001B[1;32mis\u001B[0m \u001B[1;32mNone\u001B[0m \u001B[1;32melse\u001B[0m \u001B[0mbool\u001B[0m\u001B[1;33m(\u001B[0m\u001B[0mkeepdims\u001B[0m\u001B[1;33m)\u001B[0m\u001B[1;33m\u001B[0m\u001B[1;33m\u001B[0m\u001B[0m\n\u001B[0;32m   2766\u001B[0m   return _may_reduce_to_scalar(\n\u001B[0;32m   2767\u001B[0m       \u001B[0mkeepdims\u001B[0m\u001B[1;33m,\u001B[0m \u001B[0maxis\u001B[0m\u001B[1;33m,\u001B[0m\u001B[1;33m\u001B[0m\u001B[1;33m\u001B[0m\u001B[0m\n\u001B[0;32m   2768\u001B[0m       gen_math_ops.mean(\n\u001B[1;32m-> 2769\u001B[1;33m           \u001B[0minput_tensor\u001B[0m\u001B[1;33m,\u001B[0m \u001B[0m_ReductionDims\u001B[0m\u001B[1;33m(\u001B[0m\u001B[0minput_tensor\u001B[0m\u001B[1;33m,\u001B[0m \u001B[0maxis\u001B[0m\u001B[1;33m)\u001B[0m\u001B[1;33m,\u001B[0m \u001B[0mkeepdims\u001B[0m\u001B[1;33m,\u001B[0m\u001B[1;33m\u001B[0m\u001B[1;33m\u001B[0m\u001B[0m\n\u001B[0m\u001B[0;32m   2770\u001B[0m           name=name))\n",
      "\u001B[1;32m~\\Desktop\\AI-project\\venv\\Lib\\site-packages\\tensorflow\\python\\ops\\math_ops.py\u001B[0m in \u001B[0;36m?\u001B[1;34m(x, axis)\u001B[0m\n\u001B[0;32m   2269\u001B[0m     \u001B[1;32mif\u001B[0m \u001B[0mx_rank\u001B[0m\u001B[1;33m:\u001B[0m\u001B[1;33m\u001B[0m\u001B[1;33m\u001B[0m\u001B[0m\n\u001B[0;32m   2270\u001B[0m       \u001B[1;32mreturn\u001B[0m \u001B[0mconstant_op\u001B[0m\u001B[1;33m.\u001B[0m\u001B[0mconstant\u001B[0m\u001B[1;33m(\u001B[0m\u001B[0mnp\u001B[0m\u001B[1;33m.\u001B[0m\u001B[0marange\u001B[0m\u001B[1;33m(\u001B[0m\u001B[0mx_rank\u001B[0m\u001B[1;33m,\u001B[0m \u001B[0mdtype\u001B[0m\u001B[1;33m=\u001B[0m\u001B[0mnp\u001B[0m\u001B[1;33m.\u001B[0m\u001B[0mint32\u001B[0m\u001B[1;33m)\u001B[0m\u001B[1;33m)\u001B[0m\u001B[1;33m\u001B[0m\u001B[1;33m\u001B[0m\u001B[0m\n\u001B[0;32m   2271\u001B[0m     \u001B[1;32melse\u001B[0m\u001B[1;33m:\u001B[0m\u001B[1;33m\u001B[0m\u001B[1;33m\u001B[0m\u001B[0m\n\u001B[0;32m   2272\u001B[0m       \u001B[1;31m# Otherwise, we rely on Range and Rank to do the right thing at run-time.\u001B[0m\u001B[1;33m\u001B[0m\u001B[1;33m\u001B[0m\u001B[0m\n\u001B[1;32m-> 2273\u001B[1;33m       \u001B[1;32mreturn\u001B[0m \u001B[0mrange\u001B[0m\u001B[1;33m(\u001B[0m\u001B[1;36m0\u001B[0m\u001B[1;33m,\u001B[0m \u001B[0marray_ops\u001B[0m\u001B[1;33m.\u001B[0m\u001B[0mrank\u001B[0m\u001B[1;33m(\u001B[0m\u001B[0mx\u001B[0m\u001B[1;33m)\u001B[0m\u001B[1;33m)\u001B[0m\u001B[1;33m\u001B[0m\u001B[1;33m\u001B[0m\u001B[0m\n\u001B[0m",
      "\u001B[1;32m~\\Desktop\\AI-project\\venv\\Lib\\site-packages\\tensorflow\\python\\util\\traceback_utils.py\u001B[0m in \u001B[0;36m?\u001B[1;34m(*args, **kwargs)\u001B[0m\n\u001B[0;32m    151\u001B[0m     \u001B[1;32mexcept\u001B[0m \u001B[0mException\u001B[0m \u001B[1;32mas\u001B[0m \u001B[0me\u001B[0m\u001B[1;33m:\u001B[0m\u001B[1;33m\u001B[0m\u001B[1;33m\u001B[0m\u001B[0m\n\u001B[0;32m    152\u001B[0m       \u001B[0mfiltered_tb\u001B[0m \u001B[1;33m=\u001B[0m \u001B[0m_process_traceback_frames\u001B[0m\u001B[1;33m(\u001B[0m\u001B[0me\u001B[0m\u001B[1;33m.\u001B[0m\u001B[0m__traceback__\u001B[0m\u001B[1;33m)\u001B[0m\u001B[1;33m\u001B[0m\u001B[1;33m\u001B[0m\u001B[0m\n\u001B[0;32m    153\u001B[0m       \u001B[1;32mraise\u001B[0m \u001B[0me\u001B[0m\u001B[1;33m.\u001B[0m\u001B[0mwith_traceback\u001B[0m\u001B[1;33m(\u001B[0m\u001B[0mfiltered_tb\u001B[0m\u001B[1;33m)\u001B[0m \u001B[1;32mfrom\u001B[0m \u001B[1;32mNone\u001B[0m\u001B[1;33m\u001B[0m\u001B[1;33m\u001B[0m\u001B[0m\n\u001B[0;32m    154\u001B[0m     \u001B[1;32mfinally\u001B[0m\u001B[1;33m:\u001B[0m\u001B[1;33m\u001B[0m\u001B[1;33m\u001B[0m\u001B[0m\n\u001B[1;32m--> 155\u001B[1;33m       \u001B[1;32mdel\u001B[0m \u001B[0mfiltered_tb\u001B[0m\u001B[1;33m\u001B[0m\u001B[1;33m\u001B[0m\u001B[0m\n\u001B[0m",
      "\u001B[1;32m~\\Desktop\\AI-project\\venv\\Lib\\site-packages\\tensorflow\\python\\util\\dispatch.py\u001B[0m in \u001B[0;36m?\u001B[1;34m(*args, **kwargs)\u001B[0m\n\u001B[0;32m   1257\u001B[0m \u001B[1;33m\u001B[0m\u001B[0m\n\u001B[0;32m   1258\u001B[0m       \u001B[1;31m# Fallback dispatch system (dispatch v1):\u001B[0m\u001B[1;33m\u001B[0m\u001B[1;33m\u001B[0m\u001B[0m\n\u001B[0;32m   1259\u001B[0m       \u001B[1;32mtry\u001B[0m\u001B[1;33m:\u001B[0m\u001B[1;33m\u001B[0m\u001B[1;33m\u001B[0m\u001B[0m\n\u001B[0;32m   1260\u001B[0m         \u001B[1;32mreturn\u001B[0m \u001B[0mdispatch_target\u001B[0m\u001B[1;33m(\u001B[0m\u001B[1;33m*\u001B[0m\u001B[0margs\u001B[0m\u001B[1;33m,\u001B[0m \u001B[1;33m**\u001B[0m\u001B[0mkwargs\u001B[0m\u001B[1;33m)\u001B[0m\u001B[1;33m\u001B[0m\u001B[1;33m\u001B[0m\u001B[0m\n\u001B[1;32m-> 1261\u001B[1;33m       \u001B[1;32mexcept\u001B[0m \u001B[1;33m(\u001B[0m\u001B[0mTypeError\u001B[0m\u001B[1;33m,\u001B[0m \u001B[0mValueError\u001B[0m\u001B[1;33m)\u001B[0m\u001B[1;33m:\u001B[0m\u001B[1;33m\u001B[0m\u001B[1;33m\u001B[0m\u001B[0m\n\u001B[0m\u001B[0;32m   1262\u001B[0m         \u001B[1;31m# Note: convert_to_eager_tensor currently raises a ValueError, not a\u001B[0m\u001B[1;33m\u001B[0m\u001B[1;33m\u001B[0m\u001B[0m\n\u001B[0;32m   1263\u001B[0m         \u001B[1;31m# TypeError, when given unexpected types.  So we need to catch both.\u001B[0m\u001B[1;33m\u001B[0m\u001B[1;33m\u001B[0m\u001B[0m\n\u001B[0;32m   1264\u001B[0m         \u001B[0mresult\u001B[0m \u001B[1;33m=\u001B[0m \u001B[0mdispatch\u001B[0m\u001B[1;33m(\u001B[0m\u001B[0mop_dispatch_handler\u001B[0m\u001B[1;33m,\u001B[0m \u001B[0margs\u001B[0m\u001B[1;33m,\u001B[0m \u001B[0mkwargs\u001B[0m\u001B[1;33m)\u001B[0m\u001B[1;33m\u001B[0m\u001B[1;33m\u001B[0m\u001B[0m\n",
      "\u001B[1;32m~\\Desktop\\AI-project\\venv\\Lib\\site-packages\\tensorflow\\python\\ops\\math_ops.py\u001B[0m in \u001B[0;36m?\u001B[1;34m(start, limit, delta, dtype, name)\u001B[0m\n\u001B[0;32m   2240\u001B[0m     \u001B[0mstart\u001B[0m \u001B[1;33m=\u001B[0m \u001B[0mcast\u001B[0m\u001B[1;33m(\u001B[0m\u001B[0mstart\u001B[0m\u001B[1;33m,\u001B[0m \u001B[0minferred_dtype\u001B[0m\u001B[1;33m)\u001B[0m\u001B[1;33m\u001B[0m\u001B[1;33m\u001B[0m\u001B[0m\n\u001B[0;32m   2241\u001B[0m     \u001B[0mlimit\u001B[0m \u001B[1;33m=\u001B[0m \u001B[0mcast\u001B[0m\u001B[1;33m(\u001B[0m\u001B[0mlimit\u001B[0m\u001B[1;33m,\u001B[0m \u001B[0minferred_dtype\u001B[0m\u001B[1;33m)\u001B[0m\u001B[1;33m\u001B[0m\u001B[1;33m\u001B[0m\u001B[0m\n\u001B[0;32m   2242\u001B[0m     \u001B[0mdelta\u001B[0m \u001B[1;33m=\u001B[0m \u001B[0mcast\u001B[0m\u001B[1;33m(\u001B[0m\u001B[0mdelta\u001B[0m\u001B[1;33m,\u001B[0m \u001B[0minferred_dtype\u001B[0m\u001B[1;33m)\u001B[0m\u001B[1;33m\u001B[0m\u001B[1;33m\u001B[0m\u001B[0m\n\u001B[0;32m   2243\u001B[0m \u001B[1;33m\u001B[0m\u001B[0m\n\u001B[1;32m-> 2244\u001B[1;33m     \u001B[1;32mreturn\u001B[0m \u001B[0mgen_math_ops\u001B[0m\u001B[1;33m.\u001B[0m\u001B[0m_range\u001B[0m\u001B[1;33m(\u001B[0m\u001B[0mstart\u001B[0m\u001B[1;33m,\u001B[0m \u001B[0mlimit\u001B[0m\u001B[1;33m,\u001B[0m \u001B[0mdelta\u001B[0m\u001B[1;33m,\u001B[0m \u001B[0mname\u001B[0m\u001B[1;33m=\u001B[0m\u001B[0mname\u001B[0m\u001B[1;33m)\u001B[0m\u001B[1;33m\u001B[0m\u001B[1;33m\u001B[0m\u001B[0m\n\u001B[0m",
      "\u001B[1;32m~\\Desktop\\AI-project\\venv\\Lib\\site-packages\\tensorflow\\python\\ops\\gen_math_ops.py\u001B[0m in \u001B[0;36m?\u001B[1;34m(start, limit, delta, name)\u001B[0m\n\u001B[0;32m   7947\u001B[0m         _ctx, \"Range\", name, start, limit, delta)\n\u001B[0;32m   7948\u001B[0m       \u001B[1;32mreturn\u001B[0m \u001B[0m_result\u001B[0m\u001B[1;33m\u001B[0m\u001B[1;33m\u001B[0m\u001B[0m\n\u001B[0;32m   7949\u001B[0m     \u001B[1;32mexcept\u001B[0m \u001B[0m_core\u001B[0m\u001B[1;33m.\u001B[0m\u001B[0m_NotOkStatusException\u001B[0m \u001B[1;32mas\u001B[0m \u001B[0me\u001B[0m\u001B[1;33m:\u001B[0m\u001B[1;33m\u001B[0m\u001B[1;33m\u001B[0m\u001B[0m\n\u001B[0;32m   7950\u001B[0m       \u001B[0m_ops\u001B[0m\u001B[1;33m.\u001B[0m\u001B[0mraise_from_not_ok_status\u001B[0m\u001B[1;33m(\u001B[0m\u001B[0me\u001B[0m\u001B[1;33m,\u001B[0m \u001B[0mname\u001B[0m\u001B[1;33m)\u001B[0m\u001B[1;33m\u001B[0m\u001B[1;33m\u001B[0m\u001B[0m\n\u001B[1;32m-> 7951\u001B[1;33m     \u001B[1;32mexcept\u001B[0m \u001B[0m_core\u001B[0m\u001B[1;33m.\u001B[0m\u001B[0m_FallbackException\u001B[0m\u001B[1;33m:\u001B[0m\u001B[1;33m\u001B[0m\u001B[1;33m\u001B[0m\u001B[0m\n\u001B[0m\u001B[0;32m   7952\u001B[0m       \u001B[1;32mpass\u001B[0m\u001B[1;33m\u001B[0m\u001B[1;33m\u001B[0m\u001B[0m\n\u001B[0;32m   7953\u001B[0m     \u001B[1;32mtry\u001B[0m\u001B[1;33m:\u001B[0m\u001B[1;33m\u001B[0m\u001B[1;33m\u001B[0m\u001B[0m\n\u001B[0;32m   7954\u001B[0m       return _range_eager_fallback(\n",
      "\u001B[1;31mKeyboardInterrupt\u001B[0m: "
     ]
    }
   ],
   "source": [
    "# Train the model on the training set\n",
    "history = model.fit(X_train_np,\n",
    "                    one_hot_encoded_array_train,\n",
    "                    epochs=20,\n",
    "                    callbacks=[early_stopping],\n",
    "                    class_weight = class_weights_fed,\n",
    "                    validation_data=(X_val_np, one_hot_encoded_array_validation))"
   ],
   "metadata": {
    "colab": {
     "base_uri": "https://localhost:8080/"
    },
    "id": "a01df6191ad0c54c",
    "outputId": "9fe224fa-256c-462b-e2ec-4e98d969e804",
    "ExecuteTime": {
     "end_time": "2024-01-28T12:17:46.172515400Z",
     "start_time": "2024-01-28T11:40:01.917751Z"
    }
   },
   "id": "a01df6191ad0c54c",
   "execution_count": 24
  },
  {
   "cell_type": "markdown",
   "source": [
    "# Evaluate"
   ],
   "metadata": {
    "collapsed": false,
    "id": "149a052ba8f3753a"
   },
   "id": "149a052ba8f3753a"
  },
  {
   "cell_type": "code",
   "outputs": [],
   "source": [
    "def model_evaluation(y_predi, model_name_pred):\n",
    "    predicted_class = np.argmax(y_predi, axis=-1)\n",
    "    test_classes = np.argmax(one_hot_encoded_array_test, axis=-1)\n",
    "    cm = confusion_matrix(test_classes, predicted_class)\n",
    "    classes_name = ['N', 'S', 'V']\n",
    "\n",
    "    #Normalized cm\n",
    "\n",
    "    cm = cm.astype('float') / cm.sum(axis=1)[:, np.newaxis]\n",
    "    plt.figure(figsize=(10, 8))\n",
    "    sns.heatmap(cm, xticklabels=list(classes_name), yticklabels=list(classes_name), cmap=\"Greens\", annot=True,\n",
    "                fmt='.2f')\n",
    "    plt.ylabel('Actual labels')\n",
    "    plt.xlabel('Predicted labels')\n",
    "    plt.title(model_name_pred)\n",
    "    plt.show()"
   ],
   "metadata": {
    "id": "e6aee5610ca8cdaf",
    "ExecuteTime": {
     "start_time": "2024-01-28T12:17:46.173790500Z"
    }
   },
   "id": "e6aee5610ca8cdaf",
   "execution_count": null
  },
  {
   "cell_type": "code",
   "outputs": [],
   "source": [
    "y_predi = model.predict(X_test_np)\n",
    "\n",
    "model_evaluation(y_predi, \"Deep Learning Feature Extract\")"
   ],
   "metadata": {
    "colab": {
     "base_uri": "https://localhost:8080/",
     "height": 735
    },
    "id": "5645b01a2adfb46",
    "outputId": "7f0d1301-159d-4dd2-adec-07cbe533780d",
    "ExecuteTime": {
     "start_time": "2024-01-28T12:17:46.174735600Z"
    }
   },
   "id": "5645b01a2adfb46",
   "execution_count": null
  },
  {
   "cell_type": "code",
   "outputs": [],
   "source": [],
   "metadata": {
    "id": "f95d09e12303ca03",
    "ExecuteTime": {
     "start_time": "2024-01-28T12:17:46.174735600Z"
    }
   },
   "id": "f95d09e12303ca03",
   "execution_count": null
  },
  {
   "cell_type": "code",
   "outputs": [],
   "source": [],
   "metadata": {
    "id": "d514863cc522d32f",
    "ExecuteTime": {
     "end_time": "2024-01-28T12:17:46.174735600Z",
     "start_time": "2024-01-28T12:17:46.174735600Z"
    }
   },
   "id": "d514863cc522d32f",
   "execution_count": null
  }
 ],
 "metadata": {
  "kernelspec": {
   "name": "python3",
   "language": "python",
   "display_name": "Python 3 (ipykernel)"
  },
  "language_info": {
   "codemirror_mode": {
    "name": "ipython",
    "version": 2
   },
   "file_extension": ".py",
   "mimetype": "text/x-python",
   "name": "python",
   "nbconvert_exporter": "python",
   "pygments_lexer": "ipython2",
   "version": "2.7.6"
  },
  "colab": {
   "provenance": [],
   "gpuType": "T4"
  },
  "accelerator": "GPU"
 },
 "nbformat": 4,
 "nbformat_minor": 5
}
