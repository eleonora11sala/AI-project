{
  "cells": [
    {
      "cell_type": "code",
      "outputs": [],
      "source": [
        "import pandas as pd\n",
        "import numpy as np, os\n",
        "from tensorflow.keras.layers import Input, Dense, Conv1D, Flatten, MaxPooling1D, BatchNormalization, Dropout, Activation\n",
        "from keras.models import Sequential\n",
        "import matplotlib.pyplot as plt\n",
        "from sklearn.metrics import confusion_matrix\n",
        "import seaborn as sns\n",
        "import tensorflow as tf"
      ],
      "metadata": {
        "ExecuteTime": {
          "end_time": "2024-01-26T19:20:02.739953800Z",
          "start_time": "2024-01-26T19:19:56.164219200Z"
        },
        "id": "c36bf3fe97730b0d"
      },
      "id": "c36bf3fe97730b0d",
      "execution_count": null
    },
    {
      "cell_type": "code",
      "source": [
        "from google.colab import drive\n",
        "drive.mount('/content/drive')"
      ],
      "metadata": {
        "colab": {
          "base_uri": "https://localhost:8080/"
        },
        "id": "UPMZ41IuseKs",
        "outputId": "0bd05c72-e696-47a7-afaa-35a3fe477726"
      },
      "id": "UPMZ41IuseKs",
      "execution_count": null,
      "outputs": [
        {
          "output_type": "stream",
          "name": "stdout",
          "text": [
            "Mounted at /content/drive\n"
          ]
        }
      ]
    },
    {
      "cell_type": "markdown",
      "source": [
        "# Pre processing"
      ],
      "metadata": {
        "collapsed": false,
        "id": "673f6d3e97b64e50"
      },
      "id": "673f6d3e97b64e50"
    },
    {
      "cell_type": "code",
      "outputs": [],
      "source": [
        "folder_path = f\"/content/drive/MyDrive/AI-project/128\"\n",
        "\n",
        "# List all files in the folder\n",
        "file_names = [file for file in os.listdir(folder_path) if file.endswith('_128.csv')]\n",
        "\n",
        "# Initialize an empty DataFrame to concatenate all data\n",
        "all_data = pd.DataFrame()\n",
        "all_data_list = []\n",
        "list_128 = []\n",
        "# Loop through each file and concatenate the data\n",
        "for file_name in file_names:\n",
        "    file_path = os.path.join(folder_path, file_name)\n",
        "    data = pd.read_csv(file_path)\n",
        "    all_data_list.append(data)\n",
        "    list_128.append(data)\n",
        "    all_data = pd.concat([all_data, data], ignore_index=True)"
      ],
      "metadata": {
        "ExecuteTime": {
          "end_time": "2024-01-26T19:02:53.018763100Z",
          "start_time": "2024-01-26T19:02:40.889819400Z"
        },
        "id": "7fea189362b571db"
      },
      "id": "7fea189362b571db",
      "execution_count": null
    },
    {
      "cell_type": "code",
      "outputs": [],
      "source": [
        "folder_path = f\"/content/drive/MyDrive/AI-project/250\"\n",
        "\n",
        "# List all files in the folder\n",
        "file_names = [file for file in os.listdir(folder_path) if file.endswith('_250.csv')]\n",
        "\n",
        "list_250 = []\n",
        "\n",
        "# Loop through each file and concatenate the data\n",
        "for file_name in file_names:\n",
        "    file_path = os.path.join(folder_path, file_name)\n",
        "    data = pd.read_csv(file_path)\n",
        "    all_data_list.append(data)\n",
        "    list_250.append(data)\n",
        "    all_data = pd.concat([all_data, data], ignore_index=True)\n",
        "\n",
        "# Now 'all_data_list' contains a list of all data from all CSV files"
      ],
      "metadata": {
        "ExecuteTime": {
          "end_time": "2024-01-26T19:03:17.233797500Z",
          "start_time": "2024-01-26T19:02:53.025760100Z"
        },
        "id": "c2e5f9d1a0083619"
      },
      "id": "c2e5f9d1a0083619",
      "execution_count": null
    },
    {
      "cell_type": "markdown",
      "source": [
        "# Signal Segmentation"
      ],
      "metadata": {
        "collapsed": false,
        "id": "5862195933a7e969"
      },
      "id": "5862195933a7e969"
    },
    {
      "cell_type": "code",
      "outputs": [],
      "source": [
        " = 200window_size"
      ],
      "metadata": {
        "ExecuteTime": {
          "end_time": "2024-01-26T19:03:17.256764900Z",
          "start_time": "2024-01-26T19:03:17.241710400Z"
        },
        "id": "a38508dffd6412ef"
      },
      "id": "a38508dffd6412ef",
      "execution_count": null
    },
    {
      "cell_type": "code",
      "outputs": [],
      "source": [
        "# Segment each patient's signal\n",
        "#Voglio window size di 5 secondi\n",
        "# --> 128 samples/s *5s = 640\n",
        "half_window = window_size // 2\n",
        "\n",
        "column_names = ['id', 'segment_values', 'label']\n",
        "df_segments_patients_all = pd.DataFrame(columns=column_names)\n",
        "\n",
        "id = 0\n",
        "\n",
        "for patient_data in list_128:\n",
        "    patient_signal = patient_data['value'].values\n",
        "\n",
        "    for i in range(0, len(patient_signal)):\n",
        "        if(patient_data['IsPeak'].values[i] == True):\n",
        "            if(not(i-half_window <0) and not(i+half_window > len(patient_signal)-1) ):\n",
        "                segment = patient_signal[i-half_window:i+half_window]\n",
        "\n",
        "                #Add segment to list only if it is a 'proper window' --> i-window, i+ window garanteed\n",
        "                df_segments_patient_temp = pd.DataFrame({'id': id,\n",
        "                                        'segment_values': [segment],\n",
        "                                        'label': patient_data['PeakNature'].values[i]})\n",
        "                df_segments_patients_all = pd.concat([df_segments_patients_all, df_segments_patient_temp], ignore_index=True)\n",
        "\n",
        "    id = id + 1"
      ],
      "metadata": {
        "ExecuteTime": {
          "end_time": "2024-01-26T19:06:56.455090700Z",
          "start_time": "2024-01-26T19:03:17.247227900Z"
        },
        "id": "37b3e50a42603059"
      },
      "id": "37b3e50a42603059",
      "execution_count": null
    },
    {
      "cell_type": "code",
      "outputs": [],
      "source": [
        "for patient_data in list_250:\n",
        "    patient_signal = patient_data['value'].values\n",
        "\n",
        "    for i in range(0, len(patient_signal)):\n",
        "        if(patient_data['IsPeak'].values[i] == True):\n",
        "            if(not(i-(half_window*2) <0) and not(i+(half_window*2) > len(patient_signal)-1) ):\n",
        "                segment = patient_signal[i-(half_window*2):i+(half_window*2) : 2]\n",
        "\n",
        "                #Add segment to list only if it is a 'proper window' --> i-window, i+ window garanteed\n",
        "                df_segments_patient_temp = pd.DataFrame({'id': id,\n",
        "                                        'segment_values': [segment],\n",
        "                                        'label': patient_data['PeakNature'].values[i]})\n",
        "                df_segments_patients_all = pd.concat([df_segments_patients_all, df_segments_patient_temp], ignore_index=True)\n",
        "\n",
        "    id = id + 1"
      ],
      "metadata": {
        "ExecuteTime": {
          "end_time": "2024-01-26T19:12:54.894366800Z",
          "start_time": "2024-01-26T19:06:56.459707700Z"
        },
        "id": "fb263d4440572f38"
      },
      "id": "fb263d4440572f38",
      "execution_count": null
    },
    {
      "cell_type": "code",
      "outputs": [
        {
          "output_type": "stream",
          "name": "stdout",
          "text": [
            "Stored 'df_segments_patients_all' (DataFrame)\n"
          ]
        }
      ],
      "source": [
        "%store df_segments_patients_all"
      ],
      "metadata": {
        "ExecuteTime": {
          "end_time": "2024-01-26T19:12:57.630959700Z",
          "start_time": "2024-01-26T19:12:54.896906500Z"
        },
        "colab": {
          "base_uri": "https://localhost:8080/"
        },
        "id": "9ccaf1fa1e98ebb1",
        "outputId": "59065035-e160-44be-c4f8-b2acd6f0843f"
      },
      "id": "9ccaf1fa1e98ebb1",
      "execution_count": null
    },
    {
      "cell_type": "markdown",
      "source": [
        "# For kernel restarting"
      ],
      "metadata": {
        "collapsed": false,
        "id": "ee6f05c79da026b4"
      },
      "id": "ee6f05c79da026b4"
    },
    {
      "cell_type": "code",
      "outputs": [],
      "source": [
        "\n",
        "import pandas as pd\n",
        "import numpy as np, os\n",
        "from tensorflow.keras.layers import Input, Dense, Conv1D, Flatten, MaxPooling1D, BatchNormalization, Dropout, Activation\n",
        "from keras.models import Sequential\n",
        "import matplotlib.pyplot as plt\n",
        "from sklearn.metrics import confusion_matrix\n",
        "import seaborn as sns\n",
        "import tensorflow as tf\n",
        "\n",
        "window_size = 100\n",
        "\n",
        "%store -r df_segments_patients_all\n"
      ],
      "metadata": {
        "ExecuteTime": {
          "end_time": "2024-01-27T16:39:27.800475400Z",
          "start_time": "2024-01-27T16:39:11.310823100Z"
        },
        "id": "edb22c6c88d29cd0"
      },
      "id": "edb22c6c88d29cd0",
      "execution_count": null
    },
    {
      "cell_type": "markdown",
      "source": [
        "# Train / Val / Test split"
      ],
      "metadata": {
        "collapsed": false,
        "id": "f4e16defe3999dbf"
      },
      "id": "f4e16defe3999dbf"
    },
    {
      "cell_type": "code",
      "outputs": [
        {
          "output_type": "execute_result",
          "data": {
            "text/plain": [
              "         id                                     segment_values label\n",
              "0         0  [-0.8033273470740767, -0.8149286909426211, -0....     N\n",
              "1         0  [-0.6996423492429004, -0.7525355246396694, -0....     N\n",
              "2         0  [-0.9486917475027408, -0.9923837820854492, -1....     N\n",
              "3         0  [0.0764916719532077, 0.0125841409351811, -0.04...     S\n",
              "4         0  [-0.6048863489604988, -0.6482966832142557, -0....     N\n",
              "...     ...                                                ...   ...\n",
              "174878  104  [-4.850159121439207, -3.874373577847762, -2.86...     N\n",
              "174879  104  [8.614188480807233, 7.967094035250176, 7.10134...     N\n",
              "174880  104  [-1.1104398054454914, -1.1675897682392098, -1....     N\n",
              "174881  104  [-1.094942867015577, -1.1373028821267126, -1.1...     N\n",
              "174882  104  [-1.279794136626173, -1.3140767372386872, -1.3...     N\n",
              "\n",
              "[174883 rows x 3 columns]"
            ],
            "text/html": [
              "\n",
              "  <div id=\"df-06b61bfd-8a0f-4b1b-bce3-94049b40987e\" class=\"colab-df-container\">\n",
              "    <div>\n",
              "<style scoped>\n",
              "    .dataframe tbody tr th:only-of-type {\n",
              "        vertical-align: middle;\n",
              "    }\n",
              "\n",
              "    .dataframe tbody tr th {\n",
              "        vertical-align: top;\n",
              "    }\n",
              "\n",
              "    .dataframe thead th {\n",
              "        text-align: right;\n",
              "    }\n",
              "</style>\n",
              "<table border=\"1\" class=\"dataframe\">\n",
              "  <thead>\n",
              "    <tr style=\"text-align: right;\">\n",
              "      <th></th>\n",
              "      <th>id</th>\n",
              "      <th>segment_values</th>\n",
              "      <th>label</th>\n",
              "    </tr>\n",
              "  </thead>\n",
              "  <tbody>\n",
              "    <tr>\n",
              "      <th>0</th>\n",
              "      <td>0</td>\n",
              "      <td>[-0.8033273470740767, -0.8149286909426211, -0....</td>\n",
              "      <td>N</td>\n",
              "    </tr>\n",
              "    <tr>\n",
              "      <th>1</th>\n",
              "      <td>0</td>\n",
              "      <td>[-0.6996423492429004, -0.7525355246396694, -0....</td>\n",
              "      <td>N</td>\n",
              "    </tr>\n",
              "    <tr>\n",
              "      <th>2</th>\n",
              "      <td>0</td>\n",
              "      <td>[-0.9486917475027408, -0.9923837820854492, -1....</td>\n",
              "      <td>N</td>\n",
              "    </tr>\n",
              "    <tr>\n",
              "      <th>3</th>\n",
              "      <td>0</td>\n",
              "      <td>[0.0764916719532077, 0.0125841409351811, -0.04...</td>\n",
              "      <td>S</td>\n",
              "    </tr>\n",
              "    <tr>\n",
              "      <th>4</th>\n",
              "      <td>0</td>\n",
              "      <td>[-0.6048863489604988, -0.6482966832142557, -0....</td>\n",
              "      <td>N</td>\n",
              "    </tr>\n",
              "    <tr>\n",
              "      <th>...</th>\n",
              "      <td>...</td>\n",
              "      <td>...</td>\n",
              "      <td>...</td>\n",
              "    </tr>\n",
              "    <tr>\n",
              "      <th>174878</th>\n",
              "      <td>104</td>\n",
              "      <td>[-4.850159121439207, -3.874373577847762, -2.86...</td>\n",
              "      <td>N</td>\n",
              "    </tr>\n",
              "    <tr>\n",
              "      <th>174879</th>\n",
              "      <td>104</td>\n",
              "      <td>[8.614188480807233, 7.967094035250176, 7.10134...</td>\n",
              "      <td>N</td>\n",
              "    </tr>\n",
              "    <tr>\n",
              "      <th>174880</th>\n",
              "      <td>104</td>\n",
              "      <td>[-1.1104398054454914, -1.1675897682392098, -1....</td>\n",
              "      <td>N</td>\n",
              "    </tr>\n",
              "    <tr>\n",
              "      <th>174881</th>\n",
              "      <td>104</td>\n",
              "      <td>[-1.094942867015577, -1.1373028821267126, -1.1...</td>\n",
              "      <td>N</td>\n",
              "    </tr>\n",
              "    <tr>\n",
              "      <th>174882</th>\n",
              "      <td>104</td>\n",
              "      <td>[-1.279794136626173, -1.3140767372386872, -1.3...</td>\n",
              "      <td>N</td>\n",
              "    </tr>\n",
              "  </tbody>\n",
              "</table>\n",
              "<p>174883 rows × 3 columns</p>\n",
              "</div>\n",
              "    <div class=\"colab-df-buttons\">\n",
              "\n",
              "  <div class=\"colab-df-container\">\n",
              "    <button class=\"colab-df-convert\" onclick=\"convertToInteractive('df-06b61bfd-8a0f-4b1b-bce3-94049b40987e')\"\n",
              "            title=\"Convert this dataframe to an interactive table.\"\n",
              "            style=\"display:none;\">\n",
              "\n",
              "  <svg xmlns=\"http://www.w3.org/2000/svg\" height=\"24px\" viewBox=\"0 -960 960 960\">\n",
              "    <path d=\"M120-120v-720h720v720H120Zm60-500h600v-160H180v160Zm220 220h160v-160H400v160Zm0 220h160v-160H400v160ZM180-400h160v-160H180v160Zm440 0h160v-160H620v160ZM180-180h160v-160H180v160Zm440 0h160v-160H620v160Z\"/>\n",
              "  </svg>\n",
              "    </button>\n",
              "\n",
              "  <style>\n",
              "    .colab-df-container {\n",
              "      display:flex;\n",
              "      gap: 12px;\n",
              "    }\n",
              "\n",
              "    .colab-df-convert {\n",
              "      background-color: #E8F0FE;\n",
              "      border: none;\n",
              "      border-radius: 50%;\n",
              "      cursor: pointer;\n",
              "      display: none;\n",
              "      fill: #1967D2;\n",
              "      height: 32px;\n",
              "      padding: 0 0 0 0;\n",
              "      width: 32px;\n",
              "    }\n",
              "\n",
              "    .colab-df-convert:hover {\n",
              "      background-color: #E2EBFA;\n",
              "      box-shadow: 0px 1px 2px rgba(60, 64, 67, 0.3), 0px 1px 3px 1px rgba(60, 64, 67, 0.15);\n",
              "      fill: #174EA6;\n",
              "    }\n",
              "\n",
              "    .colab-df-buttons div {\n",
              "      margin-bottom: 4px;\n",
              "    }\n",
              "\n",
              "    [theme=dark] .colab-df-convert {\n",
              "      background-color: #3B4455;\n",
              "      fill: #D2E3FC;\n",
              "    }\n",
              "\n",
              "    [theme=dark] .colab-df-convert:hover {\n",
              "      background-color: #434B5C;\n",
              "      box-shadow: 0px 1px 3px 1px rgba(0, 0, 0, 0.15);\n",
              "      filter: drop-shadow(0px 1px 2px rgba(0, 0, 0, 0.3));\n",
              "      fill: #FFFFFF;\n",
              "    }\n",
              "  </style>\n",
              "\n",
              "    <script>\n",
              "      const buttonEl =\n",
              "        document.querySelector('#df-06b61bfd-8a0f-4b1b-bce3-94049b40987e button.colab-df-convert');\n",
              "      buttonEl.style.display =\n",
              "        google.colab.kernel.accessAllowed ? 'block' : 'none';\n",
              "\n",
              "      async function convertToInteractive(key) {\n",
              "        const element = document.querySelector('#df-06b61bfd-8a0f-4b1b-bce3-94049b40987e');\n",
              "        const dataTable =\n",
              "          await google.colab.kernel.invokeFunction('convertToInteractive',\n",
              "                                                    [key], {});\n",
              "        if (!dataTable) return;\n",
              "\n",
              "        const docLinkHtml = 'Like what you see? Visit the ' +\n",
              "          '<a target=\"_blank\" href=https://colab.research.google.com/notebooks/data_table.ipynb>data table notebook</a>'\n",
              "          + ' to learn more about interactive tables.';\n",
              "        element.innerHTML = '';\n",
              "        dataTable['output_type'] = 'display_data';\n",
              "        await google.colab.output.renderOutput(dataTable, element);\n",
              "        const docLink = document.createElement('div');\n",
              "        docLink.innerHTML = docLinkHtml;\n",
              "        element.appendChild(docLink);\n",
              "      }\n",
              "    </script>\n",
              "  </div>\n",
              "\n",
              "\n",
              "<div id=\"df-bfd90617-7bbd-4705-b46d-611ece704cd4\">\n",
              "  <button class=\"colab-df-quickchart\" onclick=\"quickchart('df-bfd90617-7bbd-4705-b46d-611ece704cd4')\"\n",
              "            title=\"Suggest charts\"\n",
              "            style=\"display:none;\">\n",
              "\n",
              "<svg xmlns=\"http://www.w3.org/2000/svg\" height=\"24px\"viewBox=\"0 0 24 24\"\n",
              "     width=\"24px\">\n",
              "    <g>\n",
              "        <path d=\"M19 3H5c-1.1 0-2 .9-2 2v14c0 1.1.9 2 2 2h14c1.1 0 2-.9 2-2V5c0-1.1-.9-2-2-2zM9 17H7v-7h2v7zm4 0h-2V7h2v10zm4 0h-2v-4h2v4z\"/>\n",
              "    </g>\n",
              "</svg>\n",
              "  </button>\n",
              "\n",
              "<style>\n",
              "  .colab-df-quickchart {\n",
              "      --bg-color: #E8F0FE;\n",
              "      --fill-color: #1967D2;\n",
              "      --hover-bg-color: #E2EBFA;\n",
              "      --hover-fill-color: #174EA6;\n",
              "      --disabled-fill-color: #AAA;\n",
              "      --disabled-bg-color: #DDD;\n",
              "  }\n",
              "\n",
              "  [theme=dark] .colab-df-quickchart {\n",
              "      --bg-color: #3B4455;\n",
              "      --fill-color: #D2E3FC;\n",
              "      --hover-bg-color: #434B5C;\n",
              "      --hover-fill-color: #FFFFFF;\n",
              "      --disabled-bg-color: #3B4455;\n",
              "      --disabled-fill-color: #666;\n",
              "  }\n",
              "\n",
              "  .colab-df-quickchart {\n",
              "    background-color: var(--bg-color);\n",
              "    border: none;\n",
              "    border-radius: 50%;\n",
              "    cursor: pointer;\n",
              "    display: none;\n",
              "    fill: var(--fill-color);\n",
              "    height: 32px;\n",
              "    padding: 0;\n",
              "    width: 32px;\n",
              "  }\n",
              "\n",
              "  .colab-df-quickchart:hover {\n",
              "    background-color: var(--hover-bg-color);\n",
              "    box-shadow: 0 1px 2px rgba(60, 64, 67, 0.3), 0 1px 3px 1px rgba(60, 64, 67, 0.15);\n",
              "    fill: var(--button-hover-fill-color);\n",
              "  }\n",
              "\n",
              "  .colab-df-quickchart-complete:disabled,\n",
              "  .colab-df-quickchart-complete:disabled:hover {\n",
              "    background-color: var(--disabled-bg-color);\n",
              "    fill: var(--disabled-fill-color);\n",
              "    box-shadow: none;\n",
              "  }\n",
              "\n",
              "  .colab-df-spinner {\n",
              "    border: 2px solid var(--fill-color);\n",
              "    border-color: transparent;\n",
              "    border-bottom-color: var(--fill-color);\n",
              "    animation:\n",
              "      spin 1s steps(1) infinite;\n",
              "  }\n",
              "\n",
              "  @keyframes spin {\n",
              "    0% {\n",
              "      border-color: transparent;\n",
              "      border-bottom-color: var(--fill-color);\n",
              "      border-left-color: var(--fill-color);\n",
              "    }\n",
              "    20% {\n",
              "      border-color: transparent;\n",
              "      border-left-color: var(--fill-color);\n",
              "      border-top-color: var(--fill-color);\n",
              "    }\n",
              "    30% {\n",
              "      border-color: transparent;\n",
              "      border-left-color: var(--fill-color);\n",
              "      border-top-color: var(--fill-color);\n",
              "      border-right-color: var(--fill-color);\n",
              "    }\n",
              "    40% {\n",
              "      border-color: transparent;\n",
              "      border-right-color: var(--fill-color);\n",
              "      border-top-color: var(--fill-color);\n",
              "    }\n",
              "    60% {\n",
              "      border-color: transparent;\n",
              "      border-right-color: var(--fill-color);\n",
              "    }\n",
              "    80% {\n",
              "      border-color: transparent;\n",
              "      border-right-color: var(--fill-color);\n",
              "      border-bottom-color: var(--fill-color);\n",
              "    }\n",
              "    90% {\n",
              "      border-color: transparent;\n",
              "      border-bottom-color: var(--fill-color);\n",
              "    }\n",
              "  }\n",
              "</style>\n",
              "\n",
              "  <script>\n",
              "    async function quickchart(key) {\n",
              "      const quickchartButtonEl =\n",
              "        document.querySelector('#' + key + ' button');\n",
              "      quickchartButtonEl.disabled = true;  // To prevent multiple clicks.\n",
              "      quickchartButtonEl.classList.add('colab-df-spinner');\n",
              "      try {\n",
              "        const charts = await google.colab.kernel.invokeFunction(\n",
              "            'suggestCharts', [key], {});\n",
              "      } catch (error) {\n",
              "        console.error('Error during call to suggestCharts:', error);\n",
              "      }\n",
              "      quickchartButtonEl.classList.remove('colab-df-spinner');\n",
              "      quickchartButtonEl.classList.add('colab-df-quickchart-complete');\n",
              "    }\n",
              "    (() => {\n",
              "      let quickchartButtonEl =\n",
              "        document.querySelector('#df-bfd90617-7bbd-4705-b46d-611ece704cd4 button');\n",
              "      quickchartButtonEl.style.display =\n",
              "        google.colab.kernel.accessAllowed ? 'block' : 'none';\n",
              "    })();\n",
              "  </script>\n",
              "</div>\n",
              "    </div>\n",
              "  </div>\n"
            ]
          },
          "metadata": {},
          "execution_count": 68
        }
      ],
      "source": [
        "df_segments_patients_all"
      ],
      "metadata": {
        "colab": {
          "base_uri": "https://localhost:8080/",
          "height": 423
        },
        "id": "89f39b49168ae91e",
        "outputId": "86cb9599-0036-4db7-cd8c-c7e688e25daa"
      },
      "id": "89f39b49168ae91e",
      "execution_count": null
    },
    {
      "cell_type": "code",
      "outputs": [],
      "source": [
        "np.random.seed(20)"
      ],
      "metadata": {
        "ExecuteTime": {
          "end_time": "2024-01-27T17:34:48.449904400Z",
          "start_time": "2024-01-27T17:34:48.415120700Z"
        },
        "id": "84198b520b0ab97d"
      },
      "id": "84198b520b0ab97d",
      "execution_count": null
    },
    {
      "cell_type": "code",
      "outputs": [],
      "source": [
        "num_patients = df_segments_patients_all['id'].nunique()\n",
        "\n",
        "train_indices = np.random.choice(range(num_patients), size=int(num_patients * 0.7), replace=False)\n",
        "validation_indices = np.random.choice(list(set(range(num_patients)) - set(train_indices)), size=int(num_patients * 0.15), replace=False)\n",
        "test_indices = list(set(range(num_patients)) - set(train_indices) - set(validation_indices))\n"
      ],
      "metadata": {
        "ExecuteTime": {
          "end_time": "2024-01-27T17:34:49.181434100Z",
          "start_time": "2024-01-27T17:34:49.165432900Z"
        },
        "id": "1949b474af5907b3"
      },
      "id": "1949b474af5907b3",
      "execution_count": null
    },
    {
      "cell_type": "code",
      "outputs": [],
      "source": [
        "label_mapping = {\"N\": 0, \"V\": 1, \"S\": 2}"
      ],
      "metadata": {
        "ExecuteTime": {
          "end_time": "2024-01-27T17:34:50.026544800Z",
          "start_time": "2024-01-27T17:34:50.018518400Z"
        },
        "id": "9aa1405c0ac973a8"
      },
      "id": "9aa1405c0ac973a8",
      "execution_count": null
    },
    {
      "cell_type": "code",
      "outputs": [],
      "source": [
        "train_df = df_segments_patients_all[df_segments_patients_all['id'].isin(train_indices)].drop(['id'], axis=1)\n",
        "# Split dataframe into features and labels\n",
        "X_train = train_df.drop(['label'], axis=1).values\n",
        "y_train = train_df['label']\n",
        "\n",
        "# Convert segments to a numpy array and reshape for CNN input\n",
        "X_train_list = train_df['segment_values'].apply(lambda x: x.tolist()).tolist()\n",
        "X_train_df = pd.DataFrame(X_train_list)\n",
        "X_train_np = X_train_df.to_numpy()\n",
        "\n",
        "# One-hot encoding\n",
        "one_hot_encoded_df = pd.get_dummies(y_train, columns=['label'])\n",
        "one_hot_encoded_array_train = one_hot_encoded_df.values\n",
        "\n",
        "Y_train = [label_mapping[value] for value in y_train]\n",
        "Y_train_categorical = tf.keras.utils.to_categorical(Y_train, num_classes=3)"
      ],
      "metadata": {
        "ExecuteTime": {
          "end_time": "2024-01-27T17:34:55.790389600Z",
          "start_time": "2024-01-27T17:34:50.778510900Z"
        },
        "id": "4b4d8595324abe5e"
      },
      "id": "4b4d8595324abe5e",
      "execution_count": null
    },
    {
      "cell_type": "code",
      "outputs": [
        {
          "output_type": "stream",
          "name": "stdout",
          "text": [
            "Perc N : \n",
            "0.9278587425209747\n",
            "Perc S : \n",
            "0.03481298258515225\n",
            "Perc V : \n",
            "0.03732827489387305\n"
          ]
        }
      ],
      "source": [
        "nN = np.count_nonzero(y_train == 'N')\n",
        "nS = np.count_nonzero(y_train == 'S')\n",
        "nV = np.count_nonzero(y_train == 'V')\n",
        "\n",
        "print(\"Perc N : \")\n",
        "print(nN/(nN + nS + nV))\n",
        "print(\"Perc S : \")\n",
        "print(nS/(nN + nS + nV))\n",
        "print(\"Perc V : \")\n",
        "print(nV/(nN + nS + nV))"
      ],
      "metadata": {
        "ExecuteTime": {
          "end_time": "2024-01-27T17:34:55.827635900Z",
          "start_time": "2024-01-27T17:34:55.794989100Z"
        },
        "colab": {
          "base_uri": "https://localhost:8080/"
        },
        "id": "f7bfeee787b4d940",
        "outputId": "63124100-381f-408f-9b49-37bdb20682e2"
      },
      "id": "f7bfeee787b4d940",
      "execution_count": null
    },
    {
      "cell_type": "code",
      "outputs": [],
      "source": [
        "validation_df = df_segments_patients_all[df_segments_patients_all['id'].isin(validation_indices)].drop(['id'], axis=1)\n",
        "# Split dataframe into features and labels\n",
        "X_validation = validation_df.drop(['label'], axis=1).values\n",
        "y_validation = validation_df['label']\n",
        "\n",
        "# Convert segments to a numpy array and reshape for CNN input\n",
        "X_validation_list = validation_df['segment_values'].apply(lambda x: x.tolist()).tolist()\n",
        "X_validation_df = pd.DataFrame(X_validation_list)\n",
        "X_val_np = X_validation_df.to_numpy()\n",
        "\n",
        "# One-hot encoding\n",
        "one_hot_encoded_df = pd.get_dummies(y_validation, columns=['label'])\n",
        "one_hot_encoded_array_validation = one_hot_encoded_df.values\n",
        "\n",
        "Y_validation = [label_mapping[value] for value in y_validation]\n",
        "Y_validation_categorical = tf.keras.utils.to_categorical(Y_validation, num_classes=3)"
      ],
      "metadata": {
        "ExecuteTime": {
          "end_time": "2024-01-27T17:35:17.752368200Z",
          "start_time": "2024-01-27T17:35:16.707605Z"
        },
        "id": "522c8df3c1e9dc36"
      },
      "id": "522c8df3c1e9dc36",
      "execution_count": null
    },
    {
      "cell_type": "code",
      "outputs": [],
      "source": [
        "test_df = df_segments_patients_all[df_segments_patients_all['id'].isin(test_indices)].drop(['id'], axis=1)\n",
        "# Split dataframe into features and labels\n",
        "X_test = test_df.drop(['label'], axis=1).values\n",
        "\n",
        "y_test = test_df['label']\n",
        "\n",
        "# Convert segments to a numpy array and reshape for CNN input\n",
        "X_test_list = test_df['segment_values'].apply(lambda x: x.tolist()).tolist()\n",
        "X_test_df = pd.DataFrame(X_test_list)\n",
        "X_test_np = X_test_df.to_numpy()\n",
        "\n",
        "# One-hot encoding\n",
        "one_hot_encoded_df = pd.get_dummies(y_test, columns=['label'])\n",
        "one_hot_encoded_array_test = one_hot_encoded_df.values\n",
        "\n",
        "Y_test = [label_mapping[value] for value in y_test]\n",
        "Y_test_categorical = tf.keras.utils.to_categorical(Y_test, num_classes=3)"
      ],
      "metadata": {
        "ExecuteTime": {
          "end_time": "2024-01-27T17:35:19.039504400Z",
          "start_time": "2024-01-27T17:35:17.738688300Z"
        },
        "id": "7867f0f24d1c2289"
      },
      "id": "7867f0f24d1c2289",
      "execution_count": null
    },
    {
      "cell_type": "markdown",
      "source": [
        "# Model"
      ],
      "metadata": {
        "collapsed": false,
        "id": "9135d062f5948b13"
      },
      "id": "9135d062f5948b13"
    },
    {
      "cell_type": "code",
      "outputs": [],
      "source": [
        "# Define a simple 1D CNN model\n",
        "# Define the CNN architecture\n",
        "model = Sequential()\n",
        "\n",
        "model.add(Conv1D(filters=128, kernel_size=3, activation='relu', input_shape=(window_size, 1)))\n",
        "model.add(Conv1D(filters=64, kernel_size=3, activation='relu'))\n",
        "\n",
        "model.add(BatchNormalization())\n",
        "\n",
        "model.add(Activation('relu'))\n",
        "\n",
        "model.add(MaxPooling1D(pool_size=2))\n",
        "\n",
        "model.add(Flatten())\n",
        "\n",
        "model.add(Dense(1024))\n",
        "\n",
        "model.add(Dropout(0.5))\n",
        "\n",
        "model.add(Activation('relu'))\n",
        "\n",
        "model.add(Dense(3, activation='softmax'))\n"
      ],
      "metadata": {
        "ExecuteTime": {
          "end_time": "2024-01-27T20:35:13.907744500Z",
          "start_time": "2024-01-27T20:35:13.724707500Z"
        },
        "id": "715d3ff3ea59f6c6"
      },
      "id": "715d3ff3ea59f6c6",
      "execution_count": null
    },
    {
      "cell_type": "code",
      "outputs": [],
      "source": [
        "from keras.callbacks import EarlyStopping\n",
        "\n",
        "early_stopping = EarlyStopping(\n",
        "    monitor='val_loss',  # Monitor the validation loss\n",
        "    patience=5,          # Number of epochs with no improvement after which training will stop\n",
        "    verbose=1,\n",
        "    restore_best_weights=True  # Restore the best model weights when training stops\n",
        ")"
      ],
      "metadata": {
        "ExecuteTime": {
          "end_time": "2024-01-27T20:35:13.938519900Z",
          "start_time": "2024-01-27T20:35:13.882532500Z"
        },
        "id": "21e8570e62ce5af"
      },
      "id": "21e8570e62ce5af",
      "execution_count": null
    },
    {
      "cell_type": "code",
      "outputs": [],
      "source": [
        "nN = np.count_nonzero(y_train == 'N')\n",
        "nS = np.count_nonzero(y_train == 'S')\n",
        "nV = np.count_nonzero(y_train == 'V')\n",
        "\n",
        "class_sum = nN+nV+nS\n",
        "wN = round(1-(nN/class_sum),2)\n",
        "wS = round(1-(nS/class_sum),2)\n",
        "wV = round(1-(nV/class_sum),2)\n",
        "\n",
        "class_weights_fed = {0: wN, 1: wS, 2: wV}"
      ],
      "metadata": {
        "ExecuteTime": {
          "end_time": "2024-01-27T20:35:13.989114Z",
          "start_time": "2024-01-27T20:35:13.895185600Z"
        },
        "id": "8f0ff3e78f521675"
      },
      "id": "8f0ff3e78f521675",
      "execution_count": null
    },
    {
      "cell_type": "code",
      "outputs": [
        {
          "output_type": "execute_result",
          "data": {
            "text/plain": [
              "{0: 0.07, 1: 0.97, 2: 0.96}"
            ]
          },
          "metadata": {},
          "execution_count": 85
        }
      ],
      "source": [
        "class_weights_fed"
      ],
      "metadata": {
        "ExecuteTime": {
          "end_time": "2024-01-27T20:35:14.038523700Z",
          "start_time": "2024-01-27T20:35:13.934270300Z"
        },
        "colab": {
          "base_uri": "https://localhost:8080/"
        },
        "id": "6546654c5081c664",
        "outputId": "8bba43df-44a6-4658-d0e6-dc3dc32d0b9d"
      },
      "id": "6546654c5081c664",
      "execution_count": null
    },
    {
      "cell_type": "code",
      "outputs": [],
      "source": [
        "model.compile(optimizer='Nadam', loss='categorical_crossentropy', metrics=['Accuracy', 'Precision', 'Recall' ])"
      ],
      "metadata": {
        "ExecuteTime": {
          "end_time": "2024-01-27T20:35:14.041297600Z",
          "start_time": "2024-01-27T20:35:13.945535200Z"
        },
        "id": "e477d52638f68fb5"
      },
      "id": "e477d52638f68fb5",
      "execution_count": null
    },
    {
      "cell_type": "code",
      "outputs": [
        {
          "output_type": "stream",
          "name": "stdout",
          "text": [
            "Epoch 1/20\n",
            "3740/3740 [==============================] - 45s 11ms/step - loss: 0.1141 - Accuracy: 0.8539 - precision: 0.9036 - recall: 0.7819 - val_loss: 0.4597 - val_Accuracy: 0.8489 - val_precision: 0.9044 - val_recall: 0.7490\n",
            "Epoch 2/20\n",
            "3740/3740 [==============================] - 38s 10ms/step - loss: 0.0902 - Accuracy: 0.8808 - precision: 0.9254 - recall: 0.7980 - val_loss: 0.4478 - val_Accuracy: 0.8870 - val_precision: 0.8985 - val_recall: 0.8796\n",
            "Epoch 3/20\n",
            "3740/3740 [==============================] - 43s 12ms/step - loss: 0.0835 - Accuracy: 0.8988 - precision: 0.9386 - recall: 0.8040 - val_loss: 0.3939 - val_Accuracy: 0.8708 - val_precision: 0.9094 - val_recall: 0.7618\n",
            "Epoch 4/20\n",
            "3740/3740 [==============================] - 40s 11ms/step - loss: 0.0830 - Accuracy: 0.8944 - precision: 0.9339 - recall: 0.8152 - val_loss: 0.4142 - val_Accuracy: 0.8672 - val_precision: 0.9217 - val_recall: 0.7390\n",
            "Epoch 5/20\n",
            "3740/3740 [==============================] - 39s 10ms/step - loss: 0.0787 - Accuracy: 0.9043 - precision: 0.9411 - recall: 0.8114 - val_loss: 0.4659 - val_Accuracy: 0.8392 - val_precision: 0.8838 - val_recall: 0.7773\n",
            "Epoch 6/20\n",
            "3740/3740 [==============================] - 37s 10ms/step - loss: 0.0750 - Accuracy: 0.9111 - precision: 0.9436 - recall: 0.8203 - val_loss: 0.4857 - val_Accuracy: 0.8510 - val_precision: 0.9008 - val_recall: 0.7133\n",
            "Epoch 7/20\n",
            "3740/3740 [==============================] - 38s 10ms/step - loss: 0.0728 - Accuracy: 0.9110 - precision: 0.9431 - recall: 0.8298 - val_loss: 0.4172 - val_Accuracy: 0.8554 - val_precision: 0.9075 - val_recall: 0.7649\n",
            "Epoch 8/20\n",
            "3738/3740 [============================>.] - ETA: 0s - loss: 0.0717 - Accuracy: 0.9092 - precision: 0.9429 - recall: 0.8352Restoring model weights from the end of the best epoch: 3.\n",
            "3740/3740 [==============================] - 39s 10ms/step - loss: 0.0717 - Accuracy: 0.9092 - precision: 0.9429 - recall: 0.8352 - val_loss: 0.4967 - val_Accuracy: 0.8394 - val_precision: 0.8754 - val_recall: 0.7760\n",
            "Epoch 8: early stopping\n"
          ]
        }
      ],
      "source": [
        "# Train the model on the training set\n",
        "history = model.fit(X_train_np,\n",
        "                    one_hot_encoded_array_train,\n",
        "                    epochs=20,\n",
        "                    callbacks=[early_stopping],\n",
        "                    class_weight = class_weights_fed,\n",
        "                    validation_data=(X_val_np, one_hot_encoded_array_validation))"
      ],
      "metadata": {
        "is_executing": true,
        "ExecuteTime": {
          "start_time": "2024-01-27T20:35:14.025699900Z"
        },
        "colab": {
          "base_uri": "https://localhost:8080/"
        },
        "id": "a01df6191ad0c54c",
        "outputId": "9fe224fa-256c-462b-e2ec-4e98d969e804"
      },
      "id": "a01df6191ad0c54c",
      "execution_count": null
    },
    {
      "cell_type": "markdown",
      "source": [
        "# Evaluate"
      ],
      "metadata": {
        "collapsed": false,
        "id": "149a052ba8f3753a"
      },
      "id": "149a052ba8f3753a"
    },
    {
      "cell_type": "code",
      "outputs": [],
      "source": [
        "def model_evaluation(y_predi, model_name_pred):\n",
        "    predicted_class = np.argmax(y_predi, axis=-1)\n",
        "    test_classes = np.argmax(one_hot_encoded_array_test, axis=-1)\n",
        "    cm = confusion_matrix(test_classes, predicted_class)\n",
        "    classes_name = ['N', 'S', 'V']\n",
        "\n",
        "    #Normalized cm\n",
        "\n",
        "    cm = cm.astype('float') / cm.sum(axis=1)[:, np.newaxis]\n",
        "    plt.figure(figsize=(10, 8))\n",
        "    sns.heatmap(cm, xticklabels=list(classes_name), yticklabels=list(classes_name), cmap=\"Greens\", annot=True,\n",
        "                fmt='.2f')\n",
        "    plt.ylabel('Actual labels')\n",
        "    plt.xlabel('Predicted labels')\n",
        "    plt.title(model_name_pred)\n",
        "    plt.show()"
      ],
      "metadata": {
        "is_executing": true,
        "id": "e6aee5610ca8cdaf"
      },
      "id": "e6aee5610ca8cdaf",
      "execution_count": null
    },
    {
      "cell_type": "code",
      "outputs": [
        {
          "output_type": "stream",
          "name": "stdout",
          "text": [
            "984/984 [==============================] - 3s 3ms/step\n"
          ]
        },
        {
          "output_type": "display_data",
          "data": {
            "text/plain": [
              "<Figure size 1000x800 with 2 Axes>"
            ],
            "image/png": "[encoded data removed]"
          },
          "metadata": {}
        }
      ],
      "source": [
        "y_predi = model.predict(X_test_np)\n",
        "\n",
        "model_evaluation(y_predi, \"Deep Learning Feature Extract\")"
      ],
      "metadata": {
        "is_executing": true,
        "colab": {
          "base_uri": "https://localhost:8080/",
          "height": 735
        },
        "id": "5645b01a2adfb46",
        "outputId": "7f0d1301-159d-4dd2-adec-07cbe533780d"
      },
      "id": "5645b01a2adfb46",
      "execution_count": null
    },
    {
      "cell_type": "code",
      "outputs": [],
      "source": [],
      "metadata": {
        "is_executing": true,
        "id": "f95d09e12303ca03"
      },
      "id": "f95d09e12303ca03",
      "execution_count": null
    },
    {
      "cell_type": "code",
      "outputs": [],
      "source": [],
      "metadata": {
        "is_executing": true,
        "id": "d514863cc522d32f"
      },
      "id": "d514863cc522d32f",
      "execution_count": null
    }
  ],
  "metadata": {
    "kernelspec": {
      "display_name": "Python 3",
      "name": "python3"
    },
    "language_info": {
      "codemirror_mode": {
        "name": "ipython",
        "version": 2
      },
      "file_extension": ".py",
      "mimetype": "text/x-python",
      "name": "python",
      "nbconvert_exporter": "python",
      "pygments_lexer": "ipython2",
      "version": "2.7.6"
    },
    "colab": {
      "provenance": [],
      "gpuType": "T4"
    },
    "accelerator": "GPU"
  },
  "nbformat": 4,
  "nbformat_minor": 5
}