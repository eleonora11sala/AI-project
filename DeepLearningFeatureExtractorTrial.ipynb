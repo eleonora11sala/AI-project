{
 "cells": [
  {
   "cell_type": "code",
   "outputs": [],
   "source": [
    "import pandas as pd\n",
    "import numpy as np, os\n",
    "from tensorflow.keras.layers import Input, Dense, Conv1D, Flatten, MaxPooling1D, BatchNormalization, Dropout, Activation\n",
    "from keras.models import Sequential\n",
    "import matplotlib.pyplot as plt\n",
    "from sklearn.metrics import confusion_matrix\n",
    "import seaborn as sns"
   ],
   "metadata": {
    "collapsed": false,
    "ExecuteTime": {
     "end_time": "2024-01-23T10:29:14.082581700Z",
     "start_time": "2024-01-23T10:29:14.077502700Z"
    }
   },
   "id": "c36bf3fe97730b0d",
   "execution_count": 155
  },
  {
   "cell_type": "markdown",
   "source": [
    "# Pre processing"
   ],
   "metadata": {
    "collapsed": false
   },
   "id": "673f6d3e97b64e50"
  },
  {
   "cell_type": "code",
   "outputs": [],
   "source": [
    "folder_path = f\"C:/Users/cricr/PycharmProjects/AI-proj/signals_no_artificats/128\"\n",
    "\n",
    "# List all files in the folder\n",
    "file_names = [file for file in os.listdir(folder_path) if file.endswith('_128.csv')]\n",
    "\n",
    "# Initialize an empty DataFrame to concatenate all data\n",
    "all_data = pd.DataFrame()\n",
    "all_data_list = []\n",
    "# Loop through each file and concatenate the data\n",
    "for file_name in file_names:\n",
    "    file_path = os.path.join(folder_path, file_name)\n",
    "    data = pd.read_csv(file_path)\n",
    "    all_data_list.append(data)\n",
    "    all_data = pd.concat([all_data, data], ignore_index=True)"
   ],
   "metadata": {
    "collapsed": false,
    "ExecuteTime": {
     "end_time": "2024-01-23T08:19:05.726711800Z",
     "start_time": "2024-01-23T08:18:53.234316700Z"
    }
   },
   "id": "7fea189362b571db",
   "execution_count": 2
  },
  {
   "cell_type": "code",
   "outputs": [],
   "source": [
    "folder_path = f\"C:/Users/cricr/PycharmProjects/AI-proj/signals_no_artificats/250\"\n",
    "\n",
    "# List all files in the folder\n",
    "file_names = [file for file in os.listdir(folder_path) if file.endswith('_250.csv')]\n",
    "\n",
    "# Loop through each file and concatenate the data\n",
    "for file_name in file_names:\n",
    "    file_path = os.path.join(folder_path, file_name)\n",
    "    data = pd.read_csv(file_path)\n",
    "    all_data_list.append(data)\n",
    "    all_data = pd.concat([all_data, data], ignore_index=True)\n",
    "\n",
    "# Now 'all_data_list' contains a list of all data from all CSV files"
   ],
   "metadata": {
    "collapsed": false,
    "ExecuteTime": {
     "end_time": "2024-01-23T08:19:27.815052500Z",
     "start_time": "2024-01-23T08:19:05.731440600Z"
    }
   },
   "id": "c2e5f9d1a0083619",
   "execution_count": 3
  },
  {
   "cell_type": "code",
   "outputs": [],
   "source": [
    "# Segment each patient's signal\n",
    "#Voglio window size di 5 secondi\n",
    "# --> 128 samples/s *5s = 640\n",
    "window_size = 100\n",
    "\n",
    "column_names = ['id', 'segment_values', 'label']\n",
    "df_segments_patients_all = pd.DataFrame(columns=column_names)\n",
    "\n",
    "id = 0\n",
    "\n",
    "for patient_data in all_data_list:\n",
    "    patient_signal = patient_data['value'].values\n",
    "    for i in range(0, len(patient_signal) - window_size + 1, window_size):\n",
    "     \n",
    "        segment = patient_signal[i:i+window_size]\n",
    "        \n",
    "        for j in range(i, i+window_size):\n",
    "            if(patient_data['IsPeak'].values[j] == True):\n",
    "                #Add segment to list only if in the considered window there is a peak\n",
    "                df_segments_patient_temp = pd.DataFrame({'id': id,\n",
    "                                        'segment_values': [segment],\n",
    "                                        'label': patient_data['PeakNature'].values[j]})\n",
    "                df_segments_patients_all = pd.concat([df_segments_patients_all, df_segments_patient_temp], ignore_index=True)\n",
    "                break\n",
    "                \n",
    "    id = id + 1"
   ],
   "metadata": {
    "collapsed": false,
    "ExecuteTime": {
     "end_time": "2024-01-23T08:28:33.849816900Z",
     "start_time": "2024-01-23T08:19:27.821892100Z"
    }
   },
   "id": "37b3e50a42603059",
   "execution_count": 4
  },
  {
   "cell_type": "code",
   "outputs": [],
   "source": [
    "file_name = f\"C:/Users/cricr/PycharmProjects/AI-proj/patients_segmented.csv\"\n",
    "df_segments_patients_all.to_csv(file_name, sep=',', index=False, encoding='utf-8')"
   ],
   "metadata": {
    "collapsed": false,
    "ExecuteTime": {
     "end_time": "2024-01-23T10:14:36.843367900Z",
     "start_time": "2024-01-23T10:13:16.680288300Z"
    }
   },
   "id": "d14598829ded9cbc",
   "execution_count": 141
  },
  {
   "cell_type": "markdown",
   "source": [
    "# Train / Val / Test split"
   ],
   "metadata": {
    "collapsed": false
   },
   "id": "f4e16defe3999dbf"
  },
  {
   "cell_type": "code",
   "outputs": [],
   "source": [
    "num_patients = df_segments_patients_all['id'].nunique()\n",
    "\n",
    "train_indices = np.random.choice(range(num_patients), size=int(num_patients * 0.7), replace=False)\n",
    "validation_indices = np.random.choice(list(set(range(num_patients)) - set(train_indices)), size=int(num_patients * 0.15), replace=False)\n",
    "test_indices = list(set(range(num_patients)) - set(train_indices) - set(validation_indices))\n"
   ],
   "metadata": {
    "collapsed": false,
    "ExecuteTime": {
     "end_time": "2024-01-23T10:14:36.870373700Z",
     "start_time": "2024-01-23T10:14:36.847119Z"
    }
   },
   "id": "1949b474af5907b3",
   "execution_count": 142
  },
  {
   "cell_type": "code",
   "outputs": [],
   "source": [
    "train_df = df_segments_patients_all[df_segments_patients_all['id'].isin(train_indices)].drop(['id'], axis=1)\n",
    "# Split dataframe into features and labels\n",
    "X_train = train_df.drop(['label'], axis=1).values\n",
    "y_train = train_df['label']\n",
    "\n",
    "# Convert segments to a numpy array and reshape for CNN input\n",
    "X_train_list = train_df['segment_values'].apply(lambda x: x.tolist()).tolist()\n",
    "X_train_df = pd.DataFrame(X_train_list)\n",
    "X_train_np = X_train_df.to_numpy()\n",
    "\n",
    "# One-hot encoding\n",
    "one_hot_encoded_df = pd.get_dummies(y_train, columns=['label'])\n",
    "one_hot_encoded_array_train = one_hot_encoded_df.values"
   ],
   "metadata": {
    "collapsed": false,
    "ExecuteTime": {
     "end_time": "2024-01-23T10:14:40.201827200Z",
     "start_time": "2024-01-23T10:14:36.866365600Z"
    }
   },
   "id": "4b4d8595324abe5e",
   "execution_count": 143
  },
  {
   "cell_type": "code",
   "outputs": [],
   "source": [
    "validation_df = df_segments_patients_all[df_segments_patients_all['id'].isin(validation_indices)].drop(['id'], axis=1)\n",
    "# Split dataframe into features and labels\n",
    "X_validation = validation_df.drop(['label'], axis=1).values\n",
    "y_validation = validation_df['label']\n",
    "\n",
    "# Convert segments to a numpy array and reshape for CNN input\n",
    "X_validation_list = validation_df['segment_values'].apply(lambda x: x.tolist()).tolist()\n",
    "X_validation_df = pd.DataFrame(X_validation_list)\n",
    "X_val_np = X_validation_df.to_numpy()\n",
    "\n",
    "# One-hot encoding\n",
    "one_hot_encoded_df = pd.get_dummies(y_validation, columns=['label'])\n",
    "one_hot_encoded_array_validation = one_hot_encoded_df.values"
   ],
   "metadata": {
    "collapsed": false,
    "ExecuteTime": {
     "end_time": "2024-01-23T10:14:40.918439600Z",
     "start_time": "2024-01-23T10:14:40.205799200Z"
    }
   },
   "id": "522c8df3c1e9dc36",
   "execution_count": 144
  },
  {
   "cell_type": "code",
   "outputs": [],
   "source": [
    "test_df = df_segments_patients_all[df_segments_patients_all['id'].isin(test_indices)].drop(['id'], axis=1)\n",
    "# Split dataframe into features and labels\n",
    "X_test = test_df.drop(['label'], axis=1).values\n",
    "\n",
    "y_test = test_df['label']\n",
    "\n",
    "# Convert segments to a numpy array and reshape for CNN input\n",
    "X_test_list = test_df['segment_values'].apply(lambda x: x.tolist()).tolist()\n",
    "X_test_df = pd.DataFrame(X_test_list)\n",
    "X_test_np = X_test_df.to_numpy()\n",
    "\n",
    "# One-hot encoding\n",
    "one_hot_encoded_df = pd.get_dummies(y_test, columns=['label'])\n",
    "one_hot_encoded_array_test = one_hot_encoded_df.values"
   ],
   "metadata": {
    "collapsed": false,
    "ExecuteTime": {
     "end_time": "2024-01-23T10:14:41.582711600Z",
     "start_time": "2024-01-23T10:14:40.922087400Z"
    }
   },
   "id": "7867f0f24d1c2289",
   "execution_count": 145
  },
  {
   "cell_type": "markdown",
   "source": [
    "# Model"
   ],
   "metadata": {
    "collapsed": false
   },
   "id": "9135d062f5948b13"
  },
  {
   "cell_type": "code",
   "outputs": [],
   "source": [
    "# Define a simple 1D CNN model\n",
    "model = Sequential([\n",
    "    Input(shape=(window_size, 1)),\n",
    "    \n",
    "    Conv1D(filters=64, kernel_size=3, activation='relu'),\n",
    "    Conv1D(filters=128, kernel_size=3, activation='relu'),\n",
    "    \n",
    "    BatchNormalization(),\n",
    "    Activation('relu'),\n",
    "    MaxPooling1D(pool_size=2),\n",
    "    Flatten(),\n",
    "    \n",
    "    Dense(614, activation='relu'),\n",
    "    Dropout(0.3),\n",
    "    Activation('relu'),\n",
    "    Dense(3, activation='softmax')\n",
    "])"
   ],
   "metadata": {
    "collapsed": false,
    "ExecuteTime": {
     "end_time": "2024-01-23T10:45:10.874323100Z",
     "start_time": "2024-01-23T10:45:10.776280Z"
    }
   },
   "id": "715d3ff3ea59f6c6",
   "execution_count": 178
  },
  {
   "cell_type": "code",
   "outputs": [
    {
     "data": {
      "text/plain": "\u001B[1mModel: \"sequential_7\"\u001B[0m\n",
      "text/html": "<pre style=\"white-space:pre;overflow-x:auto;line-height:normal;font-family:Menlo,'DejaVu Sans Mono',consolas,'Courier New',monospace\"><span style=\"font-weight: bold\">Model: \"sequential_7\"</span>\n</pre>\n"
     },
     "metadata": {},
     "output_type": "display_data"
    },
    {
     "data": {
      "text/plain": "┏━━━━━━━━━━━━━━━━━━━━━━━━━━━━━━━━━┳━━━━━━━━━━━━━━━━━━━━━━━━━━━┳━━━━━━━━━━━━┓\n┃\u001B[1m \u001B[0m\u001B[1mLayer (type)                   \u001B[0m\u001B[1m \u001B[0m┃\u001B[1m \u001B[0m\u001B[1mOutput Shape             \u001B[0m\u001B[1m \u001B[0m┃\u001B[1m \u001B[0m\u001B[1m   Param #\u001B[0m\u001B[1m \u001B[0m┃\n┡━━━━━━━━━━━━━━━━━━━━━━━━━━━━━━━━━╇━━━━━━━━━━━━━━━━━━━━━━━━━━━╇━━━━━━━━━━━━┩\n│ conv1d_9 (\u001B[38;5;33mConv1D\u001B[0m)               │ (\u001B[38;5;45mNone\u001B[0m, \u001B[38;5;34m98\u001B[0m, \u001B[38;5;34m64\u001B[0m)            │        \u001B[38;5;34m256\u001B[0m │\n├─────────────────────────────────┼───────────────────────────┼────────────┤\n│ conv1d_10 (\u001B[38;5;33mConv1D\u001B[0m)              │ (\u001B[38;5;45mNone\u001B[0m, \u001B[38;5;34m96\u001B[0m, \u001B[38;5;34m128\u001B[0m)           │     \u001B[38;5;34m24,704\u001B[0m │\n├─────────────────────────────────┼───────────────────────────┼────────────┤\n│ batch_normalization_2           │ (\u001B[38;5;45mNone\u001B[0m, \u001B[38;5;34m96\u001B[0m, \u001B[38;5;34m128\u001B[0m)           │        \u001B[38;5;34m512\u001B[0m │\n│ (\u001B[38;5;33mBatchNormalization\u001B[0m)            │                           │            │\n├─────────────────────────────────┼───────────────────────────┼────────────┤\n│ activation_1 (\u001B[38;5;33mActivation\u001B[0m)       │ (\u001B[38;5;45mNone\u001B[0m, \u001B[38;5;34m96\u001B[0m, \u001B[38;5;34m128\u001B[0m)           │          \u001B[38;5;34m0\u001B[0m │\n├─────────────────────────────────┼───────────────────────────┼────────────┤\n│ max_pooling1d_6 (\u001B[38;5;33mMaxPooling1D\u001B[0m)  │ (\u001B[38;5;45mNone\u001B[0m, \u001B[38;5;34m48\u001B[0m, \u001B[38;5;34m128\u001B[0m)           │          \u001B[38;5;34m0\u001B[0m │\n├─────────────────────────────────┼───────────────────────────┼────────────┤\n│ flatten_6 (\u001B[38;5;33mFlatten\u001B[0m)             │ (\u001B[38;5;45mNone\u001B[0m, \u001B[38;5;34m6144\u001B[0m)              │          \u001B[38;5;34m0\u001B[0m │\n├─────────────────────────────────┼───────────────────────────┼────────────┤\n│ dense_19 (\u001B[38;5;33mDense\u001B[0m)                │ (\u001B[38;5;45mNone\u001B[0m, \u001B[38;5;34m70\u001B[0m)                │    \u001B[38;5;34m430,150\u001B[0m │\n├─────────────────────────────────┼───────────────────────────┼────────────┤\n│ dropout (\u001B[38;5;33mDropout\u001B[0m)               │ (\u001B[38;5;45mNone\u001B[0m, \u001B[38;5;34m70\u001B[0m)                │          \u001B[38;5;34m0\u001B[0m │\n├─────────────────────────────────┼───────────────────────────┼────────────┤\n│ activation_2 (\u001B[38;5;33mActivation\u001B[0m)       │ (\u001B[38;5;45mNone\u001B[0m, \u001B[38;5;34m70\u001B[0m)                │          \u001B[38;5;34m0\u001B[0m │\n├─────────────────────────────────┼───────────────────────────┼────────────┤\n│ dense_20 (\u001B[38;5;33mDense\u001B[0m)                │ (\u001B[38;5;45mNone\u001B[0m, \u001B[38;5;34m3\u001B[0m)                 │        \u001B[38;5;34m213\u001B[0m │\n└─────────────────────────────────┴───────────────────────────┴────────────┘\n",
      "text/html": "<pre style=\"white-space:pre;overflow-x:auto;line-height:normal;font-family:Menlo,'DejaVu Sans Mono',consolas,'Courier New',monospace\">┏━━━━━━━━━━━━━━━━━━━━━━━━━━━━━━━━━┳━━━━━━━━━━━━━━━━━━━━━━━━━━━┳━━━━━━━━━━━━┓\n┃<span style=\"font-weight: bold\"> Layer (type)                    </span>┃<span style=\"font-weight: bold\"> Output Shape              </span>┃<span style=\"font-weight: bold\">    Param # </span>┃\n┡━━━━━━━━━━━━━━━━━━━━━━━━━━━━━━━━━╇━━━━━━━━━━━━━━━━━━━━━━━━━━━╇━━━━━━━━━━━━┩\n│ conv1d_9 (<span style=\"color: #0087ff; text-decoration-color: #0087ff\">Conv1D</span>)               │ (<span style=\"color: #00d7ff; text-decoration-color: #00d7ff\">None</span>, <span style=\"color: #00af00; text-decoration-color: #00af00\">98</span>, <span style=\"color: #00af00; text-decoration-color: #00af00\">64</span>)            │        <span style=\"color: #00af00; text-decoration-color: #00af00\">256</span> │\n├─────────────────────────────────┼───────────────────────────┼────────────┤\n│ conv1d_10 (<span style=\"color: #0087ff; text-decoration-color: #0087ff\">Conv1D</span>)              │ (<span style=\"color: #00d7ff; text-decoration-color: #00d7ff\">None</span>, <span style=\"color: #00af00; text-decoration-color: #00af00\">96</span>, <span style=\"color: #00af00; text-decoration-color: #00af00\">128</span>)           │     <span style=\"color: #00af00; text-decoration-color: #00af00\">24,704</span> │\n├─────────────────────────────────┼───────────────────────────┼────────────┤\n│ batch_normalization_2           │ (<span style=\"color: #00d7ff; text-decoration-color: #00d7ff\">None</span>, <span style=\"color: #00af00; text-decoration-color: #00af00\">96</span>, <span style=\"color: #00af00; text-decoration-color: #00af00\">128</span>)           │        <span style=\"color: #00af00; text-decoration-color: #00af00\">512</span> │\n│ (<span style=\"color: #0087ff; text-decoration-color: #0087ff\">BatchNormalization</span>)            │                           │            │\n├─────────────────────────────────┼───────────────────────────┼────────────┤\n│ activation_1 (<span style=\"color: #0087ff; text-decoration-color: #0087ff\">Activation</span>)       │ (<span style=\"color: #00d7ff; text-decoration-color: #00d7ff\">None</span>, <span style=\"color: #00af00; text-decoration-color: #00af00\">96</span>, <span style=\"color: #00af00; text-decoration-color: #00af00\">128</span>)           │          <span style=\"color: #00af00; text-decoration-color: #00af00\">0</span> │\n├─────────────────────────────────┼───────────────────────────┼────────────┤\n│ max_pooling1d_6 (<span style=\"color: #0087ff; text-decoration-color: #0087ff\">MaxPooling1D</span>)  │ (<span style=\"color: #00d7ff; text-decoration-color: #00d7ff\">None</span>, <span style=\"color: #00af00; text-decoration-color: #00af00\">48</span>, <span style=\"color: #00af00; text-decoration-color: #00af00\">128</span>)           │          <span style=\"color: #00af00; text-decoration-color: #00af00\">0</span> │\n├─────────────────────────────────┼───────────────────────────┼────────────┤\n│ flatten_6 (<span style=\"color: #0087ff; text-decoration-color: #0087ff\">Flatten</span>)             │ (<span style=\"color: #00d7ff; text-decoration-color: #00d7ff\">None</span>, <span style=\"color: #00af00; text-decoration-color: #00af00\">6144</span>)              │          <span style=\"color: #00af00; text-decoration-color: #00af00\">0</span> │\n├─────────────────────────────────┼───────────────────────────┼────────────┤\n│ dense_19 (<span style=\"color: #0087ff; text-decoration-color: #0087ff\">Dense</span>)                │ (<span style=\"color: #00d7ff; text-decoration-color: #00d7ff\">None</span>, <span style=\"color: #00af00; text-decoration-color: #00af00\">70</span>)                │    <span style=\"color: #00af00; text-decoration-color: #00af00\">430,150</span> │\n├─────────────────────────────────┼───────────────────────────┼────────────┤\n│ dropout (<span style=\"color: #0087ff; text-decoration-color: #0087ff\">Dropout</span>)               │ (<span style=\"color: #00d7ff; text-decoration-color: #00d7ff\">None</span>, <span style=\"color: #00af00; text-decoration-color: #00af00\">70</span>)                │          <span style=\"color: #00af00; text-decoration-color: #00af00\">0</span> │\n├─────────────────────────────────┼───────────────────────────┼────────────┤\n│ activation_2 (<span style=\"color: #0087ff; text-decoration-color: #0087ff\">Activation</span>)       │ (<span style=\"color: #00d7ff; text-decoration-color: #00d7ff\">None</span>, <span style=\"color: #00af00; text-decoration-color: #00af00\">70</span>)                │          <span style=\"color: #00af00; text-decoration-color: #00af00\">0</span> │\n├─────────────────────────────────┼───────────────────────────┼────────────┤\n│ dense_20 (<span style=\"color: #0087ff; text-decoration-color: #0087ff\">Dense</span>)                │ (<span style=\"color: #00d7ff; text-decoration-color: #00d7ff\">None</span>, <span style=\"color: #00af00; text-decoration-color: #00af00\">3</span>)                 │        <span style=\"color: #00af00; text-decoration-color: #00af00\">213</span> │\n└─────────────────────────────────┴───────────────────────────┴────────────┘\n</pre>\n"
     },
     "metadata": {},
     "output_type": "display_data"
    },
    {
     "data": {
      "text/plain": "\u001B[1m Total params: \u001B[0m\u001B[38;5;34m455,835\u001B[0m (1.74 MB)\n",
      "text/html": "<pre style=\"white-space:pre;overflow-x:auto;line-height:normal;font-family:Menlo,'DejaVu Sans Mono',consolas,'Courier New',monospace\"><span style=\"font-weight: bold\"> Total params: </span><span style=\"color: #00af00; text-decoration-color: #00af00\">455,835</span> (1.74 MB)\n</pre>\n"
     },
     "metadata": {},
     "output_type": "display_data"
    },
    {
     "data": {
      "text/plain": "\u001B[1m Trainable params: \u001B[0m\u001B[38;5;34m455,579\u001B[0m (1.74 MB)\n",
      "text/html": "<pre style=\"white-space:pre;overflow-x:auto;line-height:normal;font-family:Menlo,'DejaVu Sans Mono',consolas,'Courier New',monospace\"><span style=\"font-weight: bold\"> Trainable params: </span><span style=\"color: #00af00; text-decoration-color: #00af00\">455,579</span> (1.74 MB)\n</pre>\n"
     },
     "metadata": {},
     "output_type": "display_data"
    },
    {
     "data": {
      "text/plain": "\u001B[1m Non-trainable params: \u001B[0m\u001B[38;5;34m256\u001B[0m (1.00 KB)\n",
      "text/html": "<pre style=\"white-space:pre;overflow-x:auto;line-height:normal;font-family:Menlo,'DejaVu Sans Mono',consolas,'Courier New',monospace\"><span style=\"font-weight: bold\"> Non-trainable params: </span><span style=\"color: #00af00; text-decoration-color: #00af00\">256</span> (1.00 KB)\n</pre>\n"
     },
     "metadata": {},
     "output_type": "display_data"
    }
   ],
   "source": [
    "model.summary()"
   ],
   "metadata": {
    "collapsed": false,
    "ExecuteTime": {
     "end_time": "2024-01-23T10:45:10.891756800Z",
     "start_time": "2024-01-23T10:45:10.843239200Z"
    }
   },
   "id": "6fa8938c91512aa9",
   "execution_count": 179
  },
  {
   "cell_type": "code",
   "outputs": [],
   "source": [
    "model.compile(optimizer='adam', loss='categorical_crossentropy', metrics=['Accuracy', 'Precision', 'Recall' ])"
   ],
   "metadata": {
    "collapsed": false,
    "ExecuteTime": {
     "end_time": "2024-01-23T10:45:10.891756800Z",
     "start_time": "2024-01-23T10:45:10.866473400Z"
    }
   },
   "id": "3ac46647705c35e9",
   "execution_count": 180
  },
  {
   "cell_type": "code",
   "outputs": [],
   "source": [
    "from keras.callbacks import EarlyStopping\n",
    "\n",
    "early_stopping = EarlyStopping(\n",
    "    monitor='val_loss',  # Monitor the validation loss\n",
    "    patience=10,          # Number of epochs with no improvement after which training will stop\n",
    "    verbose=1,\n",
    "    restore_best_weights=True  # Restore the best model weights when training stops\n",
    ")"
   ],
   "metadata": {
    "collapsed": false,
    "ExecuteTime": {
     "end_time": "2024-01-23T10:45:10.928289Z",
     "start_time": "2024-01-23T10:45:10.896389800Z"
    }
   },
   "id": "21e8570e62ce5af",
   "execution_count": 181
  },
  {
   "cell_type": "code",
   "outputs": [
    {
     "name": "stdout",
     "output_type": "stream",
     "text": [
      "{0: 0.06, 1: 0.97, 2: 0.97}\n"
     ]
    }
   ],
   "source": [
    "nN = np.count_nonzero(y_train == 'N')\n",
    "nV = np.count_nonzero(y_train == 'V')\n",
    "nS = np.count_nonzero(y_train == 'S')\n",
    "\n",
    "class_sum = nN+nV+nS\n",
    "wN = round(1-(nN/class_sum),2)\n",
    "wV = round(1-(nV/class_sum),2)  \n",
    "wS = round(1-(nS/class_sum),2)\n",
    "\n",
    "class_weights_fed = {0: wN, 1: wV, 2: wS}\n",
    "\n",
    "print(class_weights_fed)"
   ],
   "metadata": {
    "collapsed": false,
    "ExecuteTime": {
     "end_time": "2024-01-23T10:47:12.621236500Z",
     "start_time": "2024-01-23T10:47:12.598127500Z"
    }
   },
   "id": "29c180241ead2c0d",
   "execution_count": 184
  },
  {
   "cell_type": "code",
   "outputs": [
    {
     "name": "stdout",
     "output_type": "stream",
     "text": [
      "Epoch 1/30\n",
      "\u001B[1m3583/3583\u001B[0m \u001B[32m━━━━━━━━━━━━━━━━━━━━\u001B[0m\u001B[37m\u001B[0m \u001B[1m56s\u001B[0m 15ms/step - Accuracy: 0.8283 - Precision: 0.9101 - Recall: 0.5344 - loss: 0.1263 - val_Accuracy: 0.9426 - val_Precision: 0.9747 - val_Recall: 0.8060 - val_loss: 0.4149\n",
      "Epoch 2/30\n",
      "\u001B[1m3583/3583\u001B[0m \u001B[32m━━━━━━━━━━━━━━━━━━━━\u001B[0m\u001B[37m\u001B[0m \u001B[1m52s\u001B[0m 14ms/step - Accuracy: 0.9031 - Precision: 0.9493 - Recall: 0.6754 - loss: 0.0969 - val_Accuracy: 0.7677 - val_Precision: 0.9057 - val_Recall: 0.5303 - val_loss: 0.8861\n",
      "Epoch 3/30\n",
      "\u001B[1m3583/3583\u001B[0m \u001B[32m━━━━━━━━━━━━━━━━━━━━\u001B[0m\u001B[37m\u001B[0m \u001B[1m52s\u001B[0m 15ms/step - Accuracy: 0.9054 - Precision: 0.9553 - Recall: 0.6676 - loss: 0.0970 - val_Accuracy: 0.9577 - val_Precision: 0.9841 - val_Recall: 0.7650 - val_loss: 0.3585\n",
      "Epoch 4/30\n",
      "\u001B[1m3583/3583\u001B[0m \u001B[32m━━━━━━━━━━━━━━━━━━━━\u001B[0m\u001B[37m\u001B[0m \u001B[1m52s\u001B[0m 14ms/step - Accuracy: 0.9111 - Precision: 0.9537 - Recall: 0.6799 - loss: 0.0938 - val_Accuracy: 0.9485 - val_Precision: 0.9781 - val_Recall: 0.8137 - val_loss: 0.3547\n",
      "Epoch 5/30\n",
      "\u001B[1m3583/3583\u001B[0m \u001B[32m━━━━━━━━━━━━━━━━━━━━\u001B[0m\u001B[37m\u001B[0m \u001B[1m52s\u001B[0m 14ms/step - Accuracy: 0.9093 - Precision: 0.9507 - Recall: 0.6861 - loss: 0.0931 - val_Accuracy: 0.9465 - val_Precision: 0.9780 - val_Recall: 0.8052 - val_loss: 0.3508\n",
      "Epoch 6/30\n",
      "\u001B[1m3583/3583\u001B[0m \u001B[32m━━━━━━━━━━━━━━━━━━━━\u001B[0m\u001B[37m\u001B[0m \u001B[1m52s\u001B[0m 15ms/step - Accuracy: 0.9103 - Precision: 0.9529 - Recall: 0.6946 - loss: 0.0942 - val_Accuracy: 0.9426 - val_Precision: 0.9689 - val_Recall: 0.7646 - val_loss: 0.4148\n",
      "Epoch 7/30\n",
      "\u001B[1m3583/3583\u001B[0m \u001B[32m━━━━━━━━━━━━━━━━━━━━\u001B[0m\u001B[37m\u001B[0m \u001B[1m52s\u001B[0m 14ms/step - Accuracy: 0.9098 - Precision: 0.9517 - Recall: 0.6949 - loss: 0.0930 - val_Accuracy: 0.9519 - val_Precision: 0.9769 - val_Recall: 0.8314 - val_loss: 0.2730\n",
      "Epoch 8/30\n",
      "\u001B[1m3583/3583\u001B[0m \u001B[32m━━━━━━━━━━━━━━━━━━━━\u001B[0m\u001B[37m\u001B[0m \u001B[1m52s\u001B[0m 15ms/step - Accuracy: 0.9104 - Precision: 0.9529 - Recall: 0.6943 - loss: 0.0924 - val_Accuracy: 0.9494 - val_Precision: 0.9823 - val_Recall: 0.7505 - val_loss: 0.4001\n",
      "Epoch 9/30\n",
      "\u001B[1m3583/3583\u001B[0m \u001B[32m━━━━━━━━━━━━━━━━━━━━\u001B[0m\u001B[37m\u001B[0m \u001B[1m53s\u001B[0m 15ms/step - Accuracy: 0.9103 - Precision: 0.9523 - Recall: 0.6891 - loss: 0.0933 - val_Accuracy: 0.9489 - val_Precision: 0.9767 - val_Recall: 0.8218 - val_loss: 0.3053\n",
      "Epoch 10/30\n",
      "\u001B[1m3583/3583\u001B[0m \u001B[32m━━━━━━━━━━━━━━━━━━━━\u001B[0m\u001B[37m\u001B[0m \u001B[1m55s\u001B[0m 15ms/step - Accuracy: 0.9098 - Precision: 0.9535 - Recall: 0.7020 - loss: 0.0915 - val_Accuracy: 0.9481 - val_Precision: 0.9817 - val_Recall: 0.7803 - val_loss: 0.3593\n",
      "Epoch 11/30\n",
      "\u001B[1m3583/3583\u001B[0m \u001B[32m━━━━━━━━━━━━━━━━━━━━\u001B[0m\u001B[37m\u001B[0m \u001B[1m56s\u001B[0m 16ms/step - Accuracy: 0.9073 - Precision: 0.9522 - Recall: 0.6990 - loss: 0.0917 - val_Accuracy: 0.9442 - val_Precision: 0.9708 - val_Recall: 0.7925 - val_loss: 0.3668\n",
      "Epoch 12/30\n",
      "\u001B[1m3583/3583\u001B[0m \u001B[32m━━━━━━━━━━━━━━━━━━━━\u001B[0m\u001B[37m\u001B[0m \u001B[1m53s\u001B[0m 15ms/step - Accuracy: 0.9096 - Precision: 0.9510 - Recall: 0.7058 - loss: 0.0914 - val_Accuracy: 0.9416 - val_Precision: 0.9798 - val_Recall: 0.7831 - val_loss: 0.3844\n",
      "Epoch 13/30\n",
      "\u001B[1m3583/3583\u001B[0m \u001B[32m━━━━━━━━━━━━━━━━━━━━\u001B[0m\u001B[37m\u001B[0m \u001B[1m52s\u001B[0m 15ms/step - Accuracy: 0.9088 - Precision: 0.9514 - Recall: 0.6985 - loss: 0.0913 - val_Accuracy: 0.9548 - val_Precision: 0.9791 - val_Recall: 0.8076 - val_loss: 0.3273\n",
      "Epoch 14/30\n",
      "\u001B[1m3583/3583\u001B[0m \u001B[32m━━━━━━━━━━━━━━━━━━━━\u001B[0m\u001B[37m\u001B[0m \u001B[1m52s\u001B[0m 15ms/step - Accuracy: 0.9134 - Precision: 0.9531 - Recall: 0.7021 - loss: 0.0899 - val_Accuracy: 0.9515 - val_Precision: 0.9778 - val_Recall: 0.7988 - val_loss: 0.3369\n",
      "Epoch 15/30\n",
      "\u001B[1m3583/3583\u001B[0m \u001B[32m━━━━━━━━━━━━━━━━━━━━\u001B[0m\u001B[37m\u001B[0m \u001B[1m52s\u001B[0m 15ms/step - Accuracy: 0.9112 - Precision: 0.9494 - Recall: 0.6961 - loss: 0.0918 - val_Accuracy: 0.9457 - val_Precision: 0.9765 - val_Recall: 0.7799 - val_loss: 0.3517\n",
      "Epoch 16/30\n",
      "\u001B[1m3583/3583\u001B[0m \u001B[32m━━━━━━━━━━━━━━━━━━━━\u001B[0m\u001B[37m\u001B[0m \u001B[1m53s\u001B[0m 15ms/step - Accuracy: 0.9110 - Precision: 0.9525 - Recall: 0.7024 - loss: 0.0900 - val_Accuracy: 0.9521 - val_Precision: 0.9786 - val_Recall: 0.8026 - val_loss: 0.3159\n",
      "Epoch 17/30\n",
      "\u001B[1m3583/3583\u001B[0m \u001B[32m━━━━━━━━━━━━━━━━━━━━\u001B[0m\u001B[37m\u001B[0m \u001B[1m52s\u001B[0m 15ms/step - Accuracy: 0.9096 - Precision: 0.9497 - Recall: 0.7029 - loss: 0.0906 - val_Accuracy: 0.9517 - val_Precision: 0.9780 - val_Recall: 0.8083 - val_loss: 0.2945\n",
      "Epoch 17: early stopping\n",
      "Restoring model weights from the end of the best epoch: 7.\n"
     ]
    }
   ],
   "source": [
    "# Train the model on the training set\n",
    "history = model.fit(X_train_np, \n",
    "                    one_hot_encoded_array_train, \n",
    "                    epochs=30, \n",
    "                    callbacks=[early_stopping],\n",
    "                    class_weight = class_weights_fed,\n",
    "                    validation_data=(X_val_np, one_hot_encoded_array_validation))"
   ],
   "metadata": {
    "collapsed": false,
    "ExecuteTime": {
     "end_time": "2024-01-23T11:02:20.932310Z",
     "start_time": "2024-01-23T10:47:20.769022600Z"
    }
   },
   "id": "a01df6191ad0c54c",
   "execution_count": 185
  },
  {
   "cell_type": "markdown",
   "source": [
    "# Evaluate"
   ],
   "metadata": {
    "collapsed": false
   },
   "id": "149a052ba8f3753a"
  },
  {
   "cell_type": "code",
   "outputs": [
    {
     "name": "stdout",
     "output_type": "stream",
     "text": [
      "\u001B[1m789/789\u001B[0m \u001B[32m━━━━━━━━━━━━━━━━━━━━\u001B[0m\u001B[37m\u001B[0m \u001B[1m3s\u001B[0m 4ms/step - Accuracy: 0.8903 - Precision: 0.9398 - Recall: 0.7349 - loss: 0.4061\n"
     ]
    },
    {
     "ename": "ValueError",
     "evalue": "too many values to unpack (expected 2)",
     "output_type": "error",
     "traceback": [
      "\u001B[1;31m---------------------------------------------------------------------------\u001B[0m",
      "\u001B[1;31mValueError\u001B[0m                                Traceback (most recent call last)",
      "Cell \u001B[1;32mIn[186], line 2\u001B[0m\n\u001B[0;32m      1\u001B[0m \u001B[38;5;66;03m# Evaluate the model on the test set\u001B[39;00m\n\u001B[1;32m----> 2\u001B[0m test_loss, test_accuracy \u001B[38;5;241m=\u001B[39m model\u001B[38;5;241m.\u001B[39mevaluate(X_test_np, one_hot_encoded_array_test)\n\u001B[0;32m      3\u001B[0m \u001B[38;5;28mprint\u001B[39m(\u001B[38;5;124mf\u001B[39m\u001B[38;5;124m\"\u001B[39m\u001B[38;5;124mTest Accuracy: \u001B[39m\u001B[38;5;132;01m{\u001B[39;00mtest_accuracy\u001B[38;5;132;01m:\u001B[39;00m\u001B[38;5;124m.4f\u001B[39m\u001B[38;5;132;01m}\u001B[39;00m\u001B[38;5;124m\"\u001B[39m)\n",
      "\u001B[1;31mValueError\u001B[0m: too many values to unpack (expected 2)"
     ]
    }
   ],
   "source": [
    "test_loss, test_accuracy = model.evaluate(X_test_np, one_hot_encoded_array_test)\n",
    "print(f\"Test Accuracy: {test_accuracy:.4f}\")"
   ],
   "metadata": {
    "collapsed": false,
    "ExecuteTime": {
     "end_time": "2024-01-23T11:02:23.893455800Z",
     "start_time": "2024-01-23T11:02:20.936846600Z"
    }
   },
   "id": "d1f70d230fb1148f",
   "execution_count": 186
  },
  {
   "cell_type": "code",
   "outputs": [],
   "source": [
    "def model_evaluation(y_predi, model_name_pred):\n",
    "    predicted_class = np.argmax(y_predi, axis=-1)\n",
    "    test_classes = np.argmax(one_hot_encoded_array_test, axis=-1)\n",
    "    cm = confusion_matrix(test_classes, predicted_class)\n",
    "    classes_name = ['N', 'S', 'V']\n",
    "\n",
    "    #Normalized cm\n",
    "\n",
    "    cm = cm.astype('float') / cm.sum(axis=1)[:, np.newaxis]\n",
    "    plt.figure(figsize=(10, 8))\n",
    "    sns.heatmap(cm, xticklabels=list(classes_name), yticklabels=list(classes_name), cmap=\"Greens\", annot=True,\n",
    "                fmt='.2f')\n",
    "    plt.ylabel('Actual labels')\n",
    "    plt.xlabel('Predicted labels')\n",
    "    plt.title(model_name_pred)\n",
    "    plt.show()"
   ],
   "metadata": {
    "collapsed": false,
    "ExecuteTime": {
     "end_time": "2024-01-23T11:02:57.378840600Z",
     "start_time": "2024-01-23T11:02:57.364320Z"
    }
   },
   "id": "e6aee5610ca8cdaf",
   "execution_count": 187
  },
  {
   "cell_type": "code",
   "outputs": [
    {
     "name": "stdout",
     "output_type": "stream",
     "text": [
      "\u001B[1m789/789\u001B[0m \u001B[32m━━━━━━━━━━━━━━━━━━━━\u001B[0m\u001B[37m\u001B[0m \u001B[1m3s\u001B[0m 4ms/step\n"
     ]
    },
    {
     "data": {
      "text/plain": "<Figure size 1000x800 with 2 Axes>",
      "image/png": "[encoded data removed]"
     },
     "metadata": {},
     "output_type": "display_data"
    }
   ],
   "source": [
    "y_predi = model.predict(X_test_np)\n",
    "\n",
    "model_evaluation(y_predi, \"Deep Learning Feature Extract\")"
   ],
   "metadata": {
    "collapsed": false,
    "ExecuteTime": {
     "end_time": "2024-01-23T11:03:02.993576500Z",
     "start_time": "2024-01-23T11:02:59.310733600Z"
    }
   },
   "id": "5645b01a2adfb46",
   "execution_count": 188
  }
 ],
 "metadata": {
  "kernelspec": {
   "display_name": "Python 3",
   "language": "python",
   "name": "python3"
  },
  "language_info": {
   "codemirror_mode": {
    "name": "ipython",
    "version": 2
   },
   "file_extension": ".py",
   "mimetype": "text/x-python",
   "name": "python",
   "nbconvert_exporter": "python",
   "pygments_lexer": "ipython2",
   "version": "2.7.6"
  }
 },
 "nbformat": 4,
 "nbformat_minor": 5
}
