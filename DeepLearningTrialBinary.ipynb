{
 "cells": [
  {
   "cell_type": "code",
   "execution_count": 1,
   "id": "initial_id",
   "metadata": {
    "collapsed": true,
    "ExecuteTime": {
     "end_time": "2024-01-08T18:20:41.698793500Z",
     "start_time": "2024-01-08T18:20:38.726146600Z"
    }
   },
   "outputs": [],
   "source": [
    "import pandas as pd\n",
    "import numpy as np, os\n",
    "from sklearn.model_selection import train_test_split\n",
    "\n",
    "import tensorflow as tf\n",
    "from keras.models import Sequential\n",
    "from keras.layers import Dense, Dropout\n",
    "\n",
    "import matplotlib.pyplot as plt\n",
    "from sklearn.metrics import confusion_matrix\n",
    "import seaborn as sns"
   ]
  },
  {
   "cell_type": "markdown",
   "source": [
    "# Load Data"
   ],
   "metadata": {
    "collapsed": false
   },
   "id": "1e50d4d505fc2a45"
  },
  {
   "cell_type": "code",
   "execution_count": 2,
   "outputs": [],
   "source": [
    "folder_path = u'C:/Users/cricr/PycharmProjects/AI-project/features/128' \n",
    "\n",
    "# List all files in the folder\n",
    "file_names = [file for file in os.listdir(folder_path) if file.endswith('_128.csv')]\n",
    "\n",
    "# Initialize an empty DataFrame to concatenate all data\n",
    "all_data = pd.DataFrame()\n",
    "all_data_list = []\n",
    "# Loop through each file and concatenate the data\n",
    "for file_name in file_names:\n",
    "    file_path = os.path.join(folder_path, file_name)\n",
    "    data = pd.read_csv(file_path)\n",
    "    all_data_list.append(data)\n",
    "    all_data = pd.concat([all_data, data], ignore_index=True)\n",
    "\n",
    "# Now 'all_data_list' contains a list of all data from all CSV files"
   ],
   "metadata": {
    "collapsed": false,
    "ExecuteTime": {
     "end_time": "2024-01-08T18:20:42.827763Z",
     "start_time": "2024-01-08T18:20:41.698793500Z"
    }
   },
   "id": "13a4166f80afa3b"
  },
  {
   "cell_type": "code",
   "execution_count": 3,
   "outputs": [],
   "source": [
    "folder_path = u'C:/Users/cricr/PycharmProjects/AI-project/features/250' \n",
    "\n",
    "# List all files in the folder\n",
    "file_names = [file for file in os.listdir(folder_path) if file.endswith('_250.csv')]\n",
    "\n",
    "# Loop through each file and concatenate the data\n",
    "for file_name in file_names:\n",
    "    file_path = os.path.join(folder_path, file_name)\n",
    "    data = pd.read_csv(file_path)\n",
    "    all_data_list.append(data)\n",
    "    all_data = pd.concat([all_data, data], ignore_index=True)\n",
    "\n",
    "# Now 'all_data_list' contains a list of all data from all CSV files"
   ],
   "metadata": {
    "collapsed": false,
    "ExecuteTime": {
     "end_time": "2024-01-08T18:20:43.861442800Z",
     "start_time": "2024-01-08T18:20:42.834329100Z"
    }
   },
   "id": "2d9aa1da9bec23aa"
  },
  {
   "cell_type": "markdown",
   "source": [
    "# Label mapping"
   ],
   "metadata": {
    "collapsed": false
   },
   "id": "18b454bef1ece199"
  },
  {
   "cell_type": "code",
   "execution_count": 4,
   "outputs": [],
   "source": [
    "#Sobstitute N, S, V with 0, 1, 2\n",
    "label_mapping = {'N': 0, 'S': 1, 'V': 1}\n",
    "for data in all_data_list:\n",
    "    data['annotation'] = data['annotation'].replace(label_mapping)"
   ],
   "metadata": {
    "collapsed": false,
    "ExecuteTime": {
     "end_time": "2024-01-08T18:20:43.961191900Z",
     "start_time": "2024-01-08T18:20:43.863753200Z"
    }
   },
   "id": "bc1c8093311631c7"
  },
  {
   "cell_type": "markdown",
   "source": [
    "# Drop positions columns    "
   ],
   "metadata": {
    "collapsed": false
   },
   "id": "f1d5154e9e2a386f"
  },
  {
   "cell_type": "code",
   "execution_count": 5,
   "outputs": [],
   "source": [
    "for i in range(len(all_data_list)):\n",
    "    all_data_list[i] = all_data_list[i].drop(['peak_pos', 'onset', 'diastolic_notch'], axis=1)"
   ],
   "metadata": {
    "collapsed": false,
    "ExecuteTime": {
     "end_time": "2024-01-08T18:20:44.020432300Z",
     "start_time": "2024-01-08T18:20:43.965698400Z"
    }
   },
   "id": "2ff8f8973756b3db"
  },
  {
   "cell_type": "code",
   "execution_count": 6,
   "outputs": [
    {
     "data": {
      "text/plain": "           asp       adp       adn        rp        d1        d2        rd  \\\n0     0.055274  0.823215  0.886627  0.719899  0.042081  0.425326  0.723122   \n1     0.045354  0.814343  0.884302  0.712917  0.040983  0.423003  0.726116   \n2     0.045747  0.813519  0.884597  0.712486  0.040809  0.422454  0.726397   \n3     0.047270  0.813824  0.885389  0.713275  0.040509  0.422070  0.726600   \n4     0.036112  0.818934  0.883222  0.712234  0.038791  0.425694  0.724313   \n...        ...       ...       ...       ...       ...       ...       ...   \n1955  0.046900  0.811773  0.884741  0.711761  0.041072  0.421604  0.726617   \n1956  0.049071  0.812713  0.885598  0.713176  0.040937  0.421452  0.726687   \n1957  0.047486  0.813713  0.876084  0.713276  0.050609  0.428090  0.762211   \n1958  0.049821  0.810715  0.870102  0.712228  0.057901  0.430694  0.737648   \n1959  0.062697  0.807983  0.870226  0.714173  0.062442  0.429431  0.746447   \n\n            rn        T1        T2        TP        ST  pi2pi_pr  pi2pi_po  \\\n0     0.288666  0.024067  0.643411  0.967991  0.210000  0.000000  0.015020   \n1     0.288231  0.024067  0.232558  0.909492  0.229630  0.027357  0.015020   \n2     0.288305  0.022864  0.232558  0.910596  0.228571  0.027357  0.015020   \n3     0.288490  0.022864  0.240310  0.911700  0.227586  0.027357  0.008678   \n4     0.287615  0.027677  0.201550  0.901766  0.240000  0.021094  0.020360   \n...        ...       ...       ...       ...       ...       ...       ...   \n1955  0.288342  0.025271  0.279070  0.915011  0.225000  0.031641  0.018358   \n1956  0.288525  0.025271  0.279070  0.915011  0.225000  0.030653  0.017356   \n1957  0.286395  0.036101  0.333333  0.912804  0.226667  0.029664  0.051736   \n1958  0.285364  0.046931  0.488372  0.924945  0.219512  0.063612  0.112483   \n1959  0.286412  0.051745  0.635659  0.941501  0.214286  0.123599  0.010347   \n\n      area_peak  annotation  \n0      0.000992           0  \n1      0.000561           0  \n2      0.000578           0  \n3      0.000659           0  \n4      0.000249           1  \n...         ...         ...  \n1955   0.000684           0  \n1956   0.000793           0  \n1957   0.002078           0  \n1958   0.005547           0  \n1959   0.001778           0  \n\n[1960 rows x 16 columns]",
      "text/html": "<div>\n<style scoped>\n    .dataframe tbody tr th:only-of-type {\n        vertical-align: middle;\n    }\n\n    .dataframe tbody tr th {\n        vertical-align: top;\n    }\n\n    .dataframe thead th {\n        text-align: right;\n    }\n</style>\n<table border=\"1\" class=\"dataframe\">\n  <thead>\n    <tr style=\"text-align: right;\">\n      <th></th>\n      <th>asp</th>\n      <th>adp</th>\n      <th>adn</th>\n      <th>rp</th>\n      <th>d1</th>\n      <th>d2</th>\n      <th>rd</th>\n      <th>rn</th>\n      <th>T1</th>\n      <th>T2</th>\n      <th>TP</th>\n      <th>ST</th>\n      <th>pi2pi_pr</th>\n      <th>pi2pi_po</th>\n      <th>area_peak</th>\n      <th>annotation</th>\n    </tr>\n  </thead>\n  <tbody>\n    <tr>\n      <th>0</th>\n      <td>0.055274</td>\n      <td>0.823215</td>\n      <td>0.886627</td>\n      <td>0.719899</td>\n      <td>0.042081</td>\n      <td>0.425326</td>\n      <td>0.723122</td>\n      <td>0.288666</td>\n      <td>0.024067</td>\n      <td>0.643411</td>\n      <td>0.967991</td>\n      <td>0.210000</td>\n      <td>0.000000</td>\n      <td>0.015020</td>\n      <td>0.000992</td>\n      <td>0</td>\n    </tr>\n    <tr>\n      <th>1</th>\n      <td>0.045354</td>\n      <td>0.814343</td>\n      <td>0.884302</td>\n      <td>0.712917</td>\n      <td>0.040983</td>\n      <td>0.423003</td>\n      <td>0.726116</td>\n      <td>0.288231</td>\n      <td>0.024067</td>\n      <td>0.232558</td>\n      <td>0.909492</td>\n      <td>0.229630</td>\n      <td>0.027357</td>\n      <td>0.015020</td>\n      <td>0.000561</td>\n      <td>0</td>\n    </tr>\n    <tr>\n      <th>2</th>\n      <td>0.045747</td>\n      <td>0.813519</td>\n      <td>0.884597</td>\n      <td>0.712486</td>\n      <td>0.040809</td>\n      <td>0.422454</td>\n      <td>0.726397</td>\n      <td>0.288305</td>\n      <td>0.022864</td>\n      <td>0.232558</td>\n      <td>0.910596</td>\n      <td>0.228571</td>\n      <td>0.027357</td>\n      <td>0.015020</td>\n      <td>0.000578</td>\n      <td>0</td>\n    </tr>\n    <tr>\n      <th>3</th>\n      <td>0.047270</td>\n      <td>0.813824</td>\n      <td>0.885389</td>\n      <td>0.713275</td>\n      <td>0.040509</td>\n      <td>0.422070</td>\n      <td>0.726600</td>\n      <td>0.288490</td>\n      <td>0.022864</td>\n      <td>0.240310</td>\n      <td>0.911700</td>\n      <td>0.227586</td>\n      <td>0.027357</td>\n      <td>0.008678</td>\n      <td>0.000659</td>\n      <td>0</td>\n    </tr>\n    <tr>\n      <th>4</th>\n      <td>0.036112</td>\n      <td>0.818934</td>\n      <td>0.883222</td>\n      <td>0.712234</td>\n      <td>0.038791</td>\n      <td>0.425694</td>\n      <td>0.724313</td>\n      <td>0.287615</td>\n      <td>0.027677</td>\n      <td>0.201550</td>\n      <td>0.901766</td>\n      <td>0.240000</td>\n      <td>0.021094</td>\n      <td>0.020360</td>\n      <td>0.000249</td>\n      <td>1</td>\n    </tr>\n    <tr>\n      <th>...</th>\n      <td>...</td>\n      <td>...</td>\n      <td>...</td>\n      <td>...</td>\n      <td>...</td>\n      <td>...</td>\n      <td>...</td>\n      <td>...</td>\n      <td>...</td>\n      <td>...</td>\n      <td>...</td>\n      <td>...</td>\n      <td>...</td>\n      <td>...</td>\n      <td>...</td>\n      <td>...</td>\n    </tr>\n    <tr>\n      <th>1955</th>\n      <td>0.046900</td>\n      <td>0.811773</td>\n      <td>0.884741</td>\n      <td>0.711761</td>\n      <td>0.041072</td>\n      <td>0.421604</td>\n      <td>0.726617</td>\n      <td>0.288342</td>\n      <td>0.025271</td>\n      <td>0.279070</td>\n      <td>0.915011</td>\n      <td>0.225000</td>\n      <td>0.031641</td>\n      <td>0.018358</td>\n      <td>0.000684</td>\n      <td>0</td>\n    </tr>\n    <tr>\n      <th>1956</th>\n      <td>0.049071</td>\n      <td>0.812713</td>\n      <td>0.885598</td>\n      <td>0.713176</td>\n      <td>0.040937</td>\n      <td>0.421452</td>\n      <td>0.726687</td>\n      <td>0.288525</td>\n      <td>0.025271</td>\n      <td>0.279070</td>\n      <td>0.915011</td>\n      <td>0.225000</td>\n      <td>0.030653</td>\n      <td>0.017356</td>\n      <td>0.000793</td>\n      <td>0</td>\n    </tr>\n    <tr>\n      <th>1957</th>\n      <td>0.047486</td>\n      <td>0.813713</td>\n      <td>0.876084</td>\n      <td>0.713276</td>\n      <td>0.050609</td>\n      <td>0.428090</td>\n      <td>0.762211</td>\n      <td>0.286395</td>\n      <td>0.036101</td>\n      <td>0.333333</td>\n      <td>0.912804</td>\n      <td>0.226667</td>\n      <td>0.029664</td>\n      <td>0.051736</td>\n      <td>0.002078</td>\n      <td>0</td>\n    </tr>\n    <tr>\n      <th>1958</th>\n      <td>0.049821</td>\n      <td>0.810715</td>\n      <td>0.870102</td>\n      <td>0.712228</td>\n      <td>0.057901</td>\n      <td>0.430694</td>\n      <td>0.737648</td>\n      <td>0.285364</td>\n      <td>0.046931</td>\n      <td>0.488372</td>\n      <td>0.924945</td>\n      <td>0.219512</td>\n      <td>0.063612</td>\n      <td>0.112483</td>\n      <td>0.005547</td>\n      <td>0</td>\n    </tr>\n    <tr>\n      <th>1959</th>\n      <td>0.062697</td>\n      <td>0.807983</td>\n      <td>0.870226</td>\n      <td>0.714173</td>\n      <td>0.062442</td>\n      <td>0.429431</td>\n      <td>0.746447</td>\n      <td>0.286412</td>\n      <td>0.051745</td>\n      <td>0.635659</td>\n      <td>0.941501</td>\n      <td>0.214286</td>\n      <td>0.123599</td>\n      <td>0.010347</td>\n      <td>0.001778</td>\n      <td>0</td>\n    </tr>\n  </tbody>\n</table>\n<p>1960 rows × 16 columns</p>\n</div>"
     },
     "execution_count": 6,
     "metadata": {},
     "output_type": "execute_result"
    }
   ],
   "source": [
    "all_data_list[0]"
   ],
   "metadata": {
    "collapsed": false,
    "ExecuteTime": {
     "end_time": "2024-01-08T18:20:44.045210400Z",
     "start_time": "2024-01-08T18:20:44.022656Z"
    }
   },
   "id": "31b518e8eb5dc66e"
  },
  {
   "cell_type": "markdown",
   "source": [
    "# Divide train/test"
   ],
   "metadata": {
    "collapsed": false
   },
   "id": "7098aa93f71a2207"
  },
  {
   "cell_type": "code",
   "execution_count": 7,
   "outputs": [],
   "source": [
    "# Split Data\n",
    "#A list of all csv is gived: because each element of a list represent a patient,\n",
    "# a patient will stay only or in train or in test\n",
    "train_list, test_list = train_test_split(all_data_list, test_size=0.2, random_state=42)\n",
    "train_list, val_list = train_test_split(train_list, test_size=0.2, random_state=42)"
   ],
   "metadata": {
    "collapsed": false,
    "ExecuteTime": {
     "end_time": "2024-01-08T18:20:44.060007900Z",
     "start_time": "2024-01-08T18:20:44.048662600Z"
    }
   },
   "id": "533f760b5338243"
  },
  {
   "cell_type": "code",
   "execution_count": 8,
   "outputs": [],
   "source": [
    "#Create a dataframe only for train and one for all test data\n",
    "train_data = pd.DataFrame()\n",
    "i = 0\n",
    "for train in train_list:\n",
    "    train_data = pd.concat([train_data, train], ignore_index=True)\n",
    "    i = i + 1"
   ],
   "metadata": {
    "collapsed": false,
    "ExecuteTime": {
     "end_time": "2024-01-08T18:20:44.385182100Z",
     "start_time": "2024-01-08T18:20:44.058764500Z"
    }
   },
   "id": "f491145acd118c72"
  },
  {
   "cell_type": "code",
   "execution_count": 9,
   "outputs": [],
   "source": [
    "# Model Training\n",
    "X_train = train_data.drop('annotation', axis=1)\n",
    "y_train = train_data['annotation']"
   ],
   "metadata": {
    "collapsed": false,
    "ExecuteTime": {
     "end_time": "2024-01-08T18:20:44.410375900Z",
     "start_time": "2024-01-08T18:20:44.391492900Z"
    }
   },
   "id": "ce53e9b489a2ecf7"
  },
  {
   "cell_type": "code",
   "execution_count": 10,
   "outputs": [
    {
     "name": "stdout",
     "output_type": "stream",
     "text": [
      "           0      1\n",
      "0       True  False\n",
      "1       True  False\n",
      "2       True  False\n",
      "3       True  False\n",
      "4       True  False\n",
      "...      ...    ...\n",
      "110769  True  False\n",
      "110770  True  False\n",
      "110771  True  False\n",
      "110772  True  False\n",
      "110773  True  False\n",
      "\n",
      "[110774 rows x 2 columns]\n",
      "[[ True False]\n",
      " [ True False]\n",
      " [ True False]\n",
      " ...\n",
      " [ True False]\n",
      " [ True False]\n",
      " [ True False]]\n"
     ]
    }
   ],
   "source": [
    "# One-hot encoding\n",
    "one_hot_encoded_df = pd.get_dummies(y_train, columns=['annotation'])\n",
    "\n",
    "one_hot_encoded_array_train = one_hot_encoded_df.values\n",
    "\n",
    "print(one_hot_encoded_df)\n",
    "print(one_hot_encoded_array_train)"
   ],
   "metadata": {
    "collapsed": false,
    "ExecuteTime": {
     "end_time": "2024-01-08T18:20:44.420149300Z",
     "start_time": "2024-01-08T18:20:44.406039800Z"
    }
   },
   "id": "bf2d6cf9b2cb4ed9"
  },
  {
   "cell_type": "code",
   "execution_count": 11,
   "outputs": [],
   "source": [
    "#Create a dataframe only for train and one for all test data\n",
    "\n",
    "val_data = pd.DataFrame()\n",
    "\n",
    "for val in val_list:\n",
    "    val_data = pd.concat([val_data, val], ignore_index=True) "
   ],
   "metadata": {
    "collapsed": false,
    "ExecuteTime": {
     "end_time": "2024-01-08T18:20:44.450234700Z",
     "start_time": "2024-01-08T18:20:44.425688800Z"
    }
   },
   "id": "884f33f312645b43"
  },
  {
   "cell_type": "code",
   "execution_count": 12,
   "outputs": [],
   "source": [
    "X_val = val_data.drop('annotation', axis=1)\n",
    "y_val = val_data['annotation']"
   ],
   "metadata": {
    "collapsed": false,
    "ExecuteTime": {
     "end_time": "2024-01-08T18:20:44.497794100Z",
     "start_time": "2024-01-08T18:20:44.453473800Z"
    }
   },
   "id": "200cdc946a139044"
  },
  {
   "cell_type": "code",
   "execution_count": 13,
   "outputs": [],
   "source": [
    "one_hot_encoded_df_val = pd.get_dummies(y_val, columns=['annotation'])\n",
    "\n",
    "one_hot_encoded_array_val = one_hot_encoded_df_val.values "
   ],
   "metadata": {
    "collapsed": false,
    "ExecuteTime": {
     "end_time": "2024-01-08T18:20:44.499930Z",
     "start_time": "2024-01-08T18:20:44.467326200Z"
    }
   },
   "id": "f75f581f1ca49711"
  },
  {
   "cell_type": "code",
   "execution_count": 14,
   "outputs": [],
   "source": [
    "test_data = pd.DataFrame()\n",
    "\n",
    "for test in test_list:\n",
    "    test_data = pd.concat([test_data, test], ignore_index=True)"
   ],
   "metadata": {
    "collapsed": false,
    "ExecuteTime": {
     "end_time": "2024-01-08T18:20:44.539899200Z",
     "start_time": "2024-01-08T18:20:44.476308500Z"
    }
   },
   "id": "637afae39029162"
  },
  {
   "cell_type": "code",
   "execution_count": 15,
   "outputs": [],
   "source": [
    "X_test = test_data.drop('annotation', axis=1)\n",
    "y_test= test_data['annotation']"
   ],
   "metadata": {
    "collapsed": false,
    "ExecuteTime": {
     "end_time": "2024-01-08T18:20:44.542353700Z",
     "start_time": "2024-01-08T18:20:44.518436300Z"
    }
   },
   "id": "8a7251a461255e88"
  },
  {
   "cell_type": "code",
   "execution_count": 16,
   "outputs": [],
   "source": [
    "one_hot_encoded_df_test = pd.get_dummies(y_test, columns=['annotation'])\n",
    "\n",
    "one_hot_encoded_array_test = one_hot_encoded_df_test.values"
   ],
   "metadata": {
    "collapsed": false,
    "ExecuteTime": {
     "end_time": "2024-01-08T18:20:44.543422700Z",
     "start_time": "2024-01-08T18:20:44.529089100Z"
    }
   },
   "id": "45e9498928bad2b"
  },
  {
   "cell_type": "markdown",
   "source": [
    "# Model"
   ],
   "metadata": {
    "collapsed": false
   },
   "id": "661f2f22cc395e04"
  },
  {
   "cell_type": "code",
   "execution_count": 34,
   "outputs": [
    {
     "name": "stderr",
     "output_type": "stream",
     "text": [
      "C:\\Users\\cricr\\PycharmProjects\\Ai-proj\\.venv\\Lib\\site-packages\\keras\\src\\layers\\core\\dense.py:73: UserWarning: Do not pass an `input_shape`/`input_dim` argument to a layer. When using Sequential models, prefer using an `Input(shape)` object as the first layer in the model instead.\n",
      "  super().__init__(activity_regularizer=activity_regularizer, **kwargs)\n"
     ]
    }
   ],
   "source": [
    "from keras.layers import BatchNormalization\n",
    "model = Sequential()\n",
    "\n",
    "# Input layer\n",
    "model.add(Dense(18, activation=\"relu\", input_shape=(len(all_data_list[0].columns) - 1,)))\n",
    "\n",
    "model.add(Dropout(0.2))\n",
    "\n",
    "# Hidden layers\n",
    "model.add(Dense(10, activation=\"relu\"))\n",
    "model.add(Dropout(0.3))\n",
    "\n",
    "\n",
    "model.add(Dense(5, activation=\"relu\"))\n",
    "#model.add(Dense(8, activation=\"relu\"))\n",
    "\n",
    "# Output layer\n",
    "\n",
    "model.add(Dense(2, activation='sigmoid'))"
   ],
   "metadata": {
    "collapsed": false,
    "ExecuteTime": {
     "end_time": "2024-01-08T18:36:46.090260200Z",
     "start_time": "2024-01-08T18:36:45.987581Z"
    }
   },
   "id": "78e2e6c3625d8957"
  },
  {
   "cell_type": "code",
   "execution_count": 35,
   "outputs": [],
   "source": [
    "model.compile(optimizer= tf.keras.optimizers.Adam(), loss='binary_crossentropy', metrics=['accuracy', 'Precision', 'Recall' ])"
   ],
   "metadata": {
    "collapsed": false,
    "ExecuteTime": {
     "end_time": "2024-01-08T18:36:46.093501300Z",
     "start_time": "2024-01-08T18:36:46.055215900Z"
    }
   },
   "id": "ea4a6e980035ff5c"
  },
  {
   "cell_type": "code",
   "execution_count": 36,
   "outputs": [],
   "source": [
    "from keras.callbacks import EarlyStopping\n",
    "\n",
    "early_stopping = EarlyStopping(\n",
    "    monitor='val_loss', \n",
    "    patience=10,        \n",
    "    verbose=1,         \n",
    "    restore_best_weights=True  \n",
    ")"
   ],
   "metadata": {
    "collapsed": false,
    "ExecuteTime": {
     "end_time": "2024-01-08T18:36:46.148896700Z",
     "start_time": "2024-01-08T18:36:46.098795200Z"
    }
   },
   "id": "98a391488effda8f"
  },
  {
   "cell_type": "code",
   "execution_count": 37,
   "outputs": [
    {
     "name": "stdout",
     "output_type": "stream",
     "text": [
      "Epoch 1/60\n",
      "\u001B[1m6924/6924\u001B[0m \u001B[32m━━━━━━━━━━━━━━━━━━━━\u001B[0m\u001B[37m\u001B[0m \u001B[1m18s\u001B[0m 2ms/step - Precision: 0.9173 - Recall: 0.9078 - accuracy: 0.9172 - loss: 0.2821 - val_Precision: 0.9572 - val_Recall: 0.9572 - val_accuracy: 0.9572 - val_loss: 0.1458\n",
      "Epoch 2/60\n",
      "\u001B[1m6924/6924\u001B[0m \u001B[32m━━━━━━━━━━━━━━━━━━━━\u001B[0m\u001B[37m\u001B[0m \u001B[1m13s\u001B[0m 2ms/step - Precision: 0.9157 - Recall: 0.9157 - accuracy: 0.9157 - loss: 0.2297 - val_Precision: 0.9572 - val_Recall: 0.9572 - val_accuracy: 0.9572 - val_loss: 0.1538\n",
      "Epoch 3/60\n",
      "\u001B[1m6924/6924\u001B[0m \u001B[32m━━━━━━━━━━━━━━━━━━━━\u001B[0m\u001B[37m\u001B[0m \u001B[1m13s\u001B[0m 2ms/step - Precision: 0.9204 - Recall: 0.9230 - accuracy: 0.9217 - loss: 0.2156 - val_Precision: 0.9571 - val_Recall: 0.9571 - val_accuracy: 0.9571 - val_loss: 0.1584\n",
      "Epoch 4/60\n",
      "\u001B[1m6924/6924\u001B[0m \u001B[32m━━━━━━━━━━━━━━━━━━━━\u001B[0m\u001B[37m\u001B[0m \u001B[1m13s\u001B[0m 2ms/step - Precision: 0.9268 - Recall: 0.9287 - accuracy: 0.9276 - loss: 0.2114 - val_Precision: 0.9571 - val_Recall: 0.9571 - val_accuracy: 0.9571 - val_loss: 0.1570\n",
      "Epoch 5/60\n",
      "\u001B[1m6924/6924\u001B[0m \u001B[32m━━━━━━━━━━━━━━━━━━━━\u001B[0m\u001B[37m\u001B[0m \u001B[1m14s\u001B[0m 2ms/step - Precision: 0.9290 - Recall: 0.9295 - accuracy: 0.9292 - loss: 0.2113 - val_Precision: 0.9569 - val_Recall: 0.9569 - val_accuracy: 0.9569 - val_loss: 0.1696\n",
      "Epoch 6/60\n",
      "\u001B[1m6924/6924\u001B[0m \u001B[32m━━━━━━━━━━━━━━━━━━━━\u001B[0m\u001B[37m\u001B[0m \u001B[1m13s\u001B[0m 2ms/step - Precision: 0.9265 - Recall: 0.9266 - accuracy: 0.9265 - loss: 0.2110 - val_Precision: 0.9572 - val_Recall: 0.9572 - val_accuracy: 0.9572 - val_loss: 0.1867\n",
      "Epoch 7/60\n",
      "\u001B[1m6924/6924\u001B[0m \u001B[32m━━━━━━━━━━━━━━━━━━━━\u001B[0m\u001B[37m\u001B[0m \u001B[1m14s\u001B[0m 2ms/step - Precision: 0.9281 - Recall: 0.9284 - accuracy: 0.9282 - loss: 0.2049 - val_Precision: 0.9570 - val_Recall: 0.9570 - val_accuracy: 0.9570 - val_loss: 0.1894\n",
      "Epoch 8/60\n",
      "\u001B[1m6924/6924\u001B[0m \u001B[32m━━━━━━━━━━━━━━━━━━━━\u001B[0m\u001B[37m\u001B[0m \u001B[1m13s\u001B[0m 2ms/step - Precision: 0.9287 - Recall: 0.9290 - accuracy: 0.9289 - loss: 0.2040 - val_Precision: 0.9570 - val_Recall: 0.9570 - val_accuracy: 0.9570 - val_loss: 0.1779\n",
      "Epoch 9/60\n",
      "\u001B[1m6924/6924\u001B[0m \u001B[32m━━━━━━━━━━━━━━━━━━━━\u001B[0m\u001B[37m\u001B[0m \u001B[1m13s\u001B[0m 2ms/step - Precision: 0.9288 - Recall: 0.9290 - accuracy: 0.9289 - loss: 0.2038 - val_Precision: 0.9574 - val_Recall: 0.9573 - val_accuracy: 0.9574 - val_loss: 0.1626\n",
      "Epoch 10/60\n",
      "\u001B[1m6924/6924\u001B[0m \u001B[32m━━━━━━━━━━━━━━━━━━━━\u001B[0m\u001B[37m\u001B[0m \u001B[1m13s\u001B[0m 2ms/step - Precision: 0.9306 - Recall: 0.9308 - accuracy: 0.9306 - loss: 0.1994 - val_Precision: 0.9579 - val_Recall: 0.9580 - val_accuracy: 0.9578 - val_loss: 0.1887\n",
      "Epoch 11/60\n",
      "\u001B[1m6924/6924\u001B[0m \u001B[32m━━━━━━━━━━━━━━━━━━━━\u001B[0m\u001B[37m\u001B[0m \u001B[1m13s\u001B[0m 2ms/step - Precision: 0.9292 - Recall: 0.9294 - accuracy: 0.9294 - loss: 0.1982 - val_Precision: 0.9577 - val_Recall: 0.9577 - val_accuracy: 0.9577 - val_loss: 0.1946\n",
      "Epoch 11: early stopping\n",
      "Restoring model weights from the end of the best epoch: 1.\n"
     ]
    }
   ],
   "source": [
    "modelHistory = model.fit(X_train, \n",
    "                         one_hot_encoded_array_train, \n",
    "                         epochs=60, \n",
    "                         batch_size=16, \n",
    "                         validation_data=(X_val, one_hot_encoded_array_val),\n",
    "                         callbacks=[early_stopping] \n",
    "                         ).history"
   ],
   "metadata": {
    "collapsed": false,
    "ExecuteTime": {
     "end_time": "2024-01-08T18:39:16.146447Z",
     "start_time": "2024-01-08T18:36:46.140416200Z"
    }
   },
   "id": "6991e4fe52fa805e"
  },
  {
   "cell_type": "markdown",
   "source": [
    "# Evaluation"
   ],
   "metadata": {
    "collapsed": false
   },
   "id": "549a574734a30058"
  },
  {
   "cell_type": "code",
   "execution_count": 38,
   "outputs": [],
   "source": [
    "def model_evaluation(y_predi, model_name_pred):\n",
    "\n",
    "    predicted_class = np.argmax(y_predi, axis=-1)\n",
    "    test_classes = np.argmax(one_hot_encoded_array_test, axis=-1)\n",
    "    cm = confusion_matrix(test_classes, predicted_class)\n",
    "    classes_name = ['N', 'not N']\n",
    "    '''\n",
    "    plt.figure(figsize=(10, 8))\n",
    "    sns.heatmap(cm, xticklabels=list(classes_name), yticklabels=list(classes_name), cmap=\"Greens\", annot=True, fmt='.2f')\n",
    "    plt.ylabel('Actual labels')\n",
    "    plt.xlabel('Predicted labels')\n",
    "    plt.show()\n",
    "    '''\n",
    "    \n",
    "    #Normalized cm\n",
    "    \n",
    "    cm = cm.astype('float') / cm.sum(axis=1)[:, np.newaxis]\n",
    "    plt.figure(figsize=(10, 8))\n",
    "    sns.heatmap(cm, xticklabels=list(classes_name), yticklabels=list(classes_name), cmap=\"Greens\", annot=True, fmt='.2f')\n",
    "    plt.ylabel('Actual labels')\n",
    "    plt.xlabel('Predicted labels')\n",
    "    plt.title(model_name_pred)\n",
    "    plt.show()"
   ],
   "metadata": {
    "collapsed": false,
    "ExecuteTime": {
     "end_time": "2024-01-08T18:39:16.161921400Z",
     "start_time": "2024-01-08T18:39:16.149189100Z"
    }
   },
   "id": "4ea0c433843b4e6d"
  },
  {
   "cell_type": "code",
   "execution_count": 39,
   "outputs": [
    {
     "name": "stdout",
     "output_type": "stream",
     "text": [
      "\u001B[1m1153/1153\u001B[0m \u001B[32m━━━━━━━━━━━━━━━━━━━━\u001B[0m\u001B[37m\u001B[0m \u001B[1m1s\u001B[0m 1ms/step\n"
     ]
    },
    {
     "data": {
      "text/plain": "<Figure size 1000x800 with 2 Axes>",
      "image/png": "[encoded data removed]"
     },
     "metadata": {},
     "output_type": "display_data"
    }
   ],
   "source": [
    "y_predi = model.predict(X_test)\n",
    "\n",
    "model_evaluation(y_predi, \"Neural Network Model\")"
   ],
   "metadata": {
    "collapsed": false,
    "ExecuteTime": {
     "end_time": "2024-01-08T18:39:18.160506900Z",
     "start_time": "2024-01-08T18:39:16.154014300Z"
    }
   },
   "id": "afc345d599305f5d"
  },
  {
   "cell_type": "code",
   "execution_count": 40,
   "outputs": [
    {
     "ename": "KeyError",
     "evalue": "'Accuracy'",
     "output_type": "error",
     "traceback": [
      "\u001B[1;31m---------------------------------------------------------------------------\u001B[0m",
      "\u001B[1;31mKeyError\u001B[0m                                  Traceback (most recent call last)",
      "Cell \u001B[1;32mIn[40], line 11\u001B[0m\n\u001B[0;32m      8\u001B[0m plt\u001B[38;5;241m.\u001B[39mlegend()\n\u001B[0;32m     10\u001B[0m plt\u001B[38;5;241m.\u001B[39msubplot(\u001B[38;5;241m1\u001B[39m,\u001B[38;5;241m2\u001B[39m,\u001B[38;5;241m2\u001B[39m)\n\u001B[1;32m---> 11\u001B[0m plt\u001B[38;5;241m.\u001B[39mplot(\u001B[43mhistory\u001B[49m\u001B[43m[\u001B[49m\u001B[38;5;124;43m'\u001B[39;49m\u001B[38;5;124;43mAccuracy\u001B[39;49m\u001B[38;5;124;43m'\u001B[39;49m\u001B[43m]\u001B[49m, label\u001B[38;5;241m=\u001B[39m\u001B[38;5;124m\"\u001B[39m\u001B[38;5;124mtraining accuracy\u001B[39m\u001B[38;5;124m\"\u001B[39m)\n\u001B[0;32m     12\u001B[0m plt\u001B[38;5;241m.\u001B[39mplot(history[\u001B[38;5;124m'\u001B[39m\u001B[38;5;124mval_Accuracy\u001B[39m\u001B[38;5;124m'\u001B[39m], label\u001B[38;5;241m=\u001B[39m\u001B[38;5;124m\"\u001B[39m\u001B[38;5;124mvalidation accuracy\u001B[39m\u001B[38;5;124m\"\u001B[39m)\n\u001B[0;32m     13\u001B[0m plt\u001B[38;5;241m.\u001B[39mtitle(\u001B[38;5;124m'\u001B[39m\u001B[38;5;124mAccuracy:\u001B[39m\u001B[38;5;124m'\u001B[39m)\n",
      "\u001B[1;31mKeyError\u001B[0m: 'Accuracy'"
     ]
    },
    {
     "data": {
      "text/plain": "<Figure size 1200x400 with 2 Axes>",
      "image/png": "[encoded data removed]"
     },
     "metadata": {},
     "output_type": "display_data"
    }
   ],
   "source": [
    "#plot performances\n",
    "history = modelHistory\n",
    "plt.figure(figsize = (12,4))\n",
    "plt.subplot(1,2,1)\n",
    "plt.plot(history['loss'], label=\"training loss\")\n",
    "plt.plot(history['val_loss'], label=\"validation loss\")\n",
    "plt.title('Lossfunction:')\n",
    "plt.legend()\n",
    "\n",
    "plt.subplot(1,2,2)\n",
    "plt.plot(history['Accuracy'], label=\"training accuracy\")\n",
    "plt.plot(history['val_Accuracy'], label=\"validation accuracy\")\n",
    "plt.title('Accuracy:')\n",
    "plt.legend()\n",
    "\n",
    "#plot performances\n",
    "plt.figure(figsize = (12,4))\n",
    "plt.subplot(1,2,1)\n",
    "plt.plot(history['Precision'], label=\"training precision\")\n",
    "plt.plot(history['val_Precision'], label=\"validation precision\")\n",
    "plt.title('Precision')\n",
    "plt.legend()\n",
    "\n",
    "plt.subplot(1,2,2)\n",
    "plt.plot(history['Recall'], label=\"training recall\")\n",
    "plt.plot(history['val_Recall'], label=\"validation recall\")\n",
    "plt.title('Recall:')\n",
    "plt.legend()"
   ],
   "metadata": {
    "collapsed": false,
    "ExecuteTime": {
     "end_time": "2024-01-08T18:39:18.590375Z",
     "start_time": "2024-01-08T18:39:18.168509Z"
    }
   },
   "id": "88301b13f5ebc316"
  },
  {
   "cell_type": "code",
   "execution_count": null,
   "outputs": [],
   "source": [],
   "metadata": {
    "collapsed": false,
    "ExecuteTime": {
     "start_time": "2024-01-08T18:39:18.592373600Z"
    }
   },
   "id": "1fe5303c06226aca"
  }
 ],
 "metadata": {
  "kernelspec": {
   "display_name": "Python 3",
   "language": "python",
   "name": "python3"
  },
  "language_info": {
   "codemirror_mode": {
    "name": "ipython",
    "version": 2
   },
   "file_extension": ".py",
   "mimetype": "text/x-python",
   "name": "python",
   "nbconvert_exporter": "python",
   "pygments_lexer": "ipython2",
   "version": "2.7.6"
  }
 },
 "nbformat": 4,
 "nbformat_minor": 5
}
