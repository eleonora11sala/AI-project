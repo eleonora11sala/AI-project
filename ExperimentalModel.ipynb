{
 "cells": [
  {
   "cell_type": "code",
   "execution_count": 43,
   "id": "initial_id",
   "metadata": {
    "collapsed": true,
    "ExecuteTime": {
     "end_time": "2023-12-20T21:26:43.074401300Z",
     "start_time": "2023-12-20T21:26:42.565513900Z"
    }
   },
   "outputs": [],
   "source": [
    "import pandas as pd\n",
    "import numpy as np, os\n",
    "from sklearn.model_selection import train_test_split\n",
    "from sklearn.preprocessing import LabelEncoder\n",
    "from sklearn.metrics import accuracy_score\n",
    "import tensorflow as tf\n",
    "from keras.models import Sequential\n",
    "from keras.layers import Dense, Dropout\n",
    "from keras.utils import to_categorical\n",
    "import keras.backend as K\n",
    "import matplotlib.pyplot as plt\n",
    "from sklearn.metrics import confusion_matrix\n",
    "import seaborn as sns"
   ]
  },
  {
   "cell_type": "markdown",
   "source": [
    "# Load Data"
   ],
   "metadata": {
    "collapsed": false
   },
   "id": "1e50d4d505fc2a45"
  },
  {
   "cell_type": "code",
   "execution_count": 44,
   "outputs": [],
   "source": [
    "folder_path = u'C:/Users/user/Desktop/AI-project/features/128' \n",
    "\n",
    "# List all files in the folder\n",
    "file_names = [file for file in os.listdir(folder_path) if file.endswith('_128.csv')]\n",
    "\n",
    "# Initialize an empty DataFrame to concatenate all data\n",
    "all_data = pd.DataFrame()\n",
    "all_data_list = []\n",
    "# Loop through each file and concatenate the data\n",
    "for file_name in file_names:\n",
    "    file_path = os.path.join(folder_path, file_name)\n",
    "    data = pd.read_csv(file_path)\n",
    "    all_data_list.append(data)\n",
    "    all_data = pd.concat([all_data, data], ignore_index=True)\n",
    "\n",
    "# Now 'all_data_list' contains a list of all data from all CSV files"
   ],
   "metadata": {
    "collapsed": false,
    "ExecuteTime": {
     "end_time": "2023-12-20T21:26:45.575770800Z",
     "start_time": "2023-12-20T21:26:42.609866500Z"
    }
   },
   "id": "13a4166f80afa3b"
  },
  {
   "cell_type": "code",
   "execution_count": 45,
   "outputs": [],
   "source": [
    "folder_path = u'C:/Users/user/Desktop/AI-project/features/250' \n",
    "\n",
    "# List all files in the folder\n",
    "file_names = [file for file in os.listdir(folder_path) if file.endswith('_250.csv')]\n",
    "\n",
    "# Loop through each file and concatenate the data\n",
    "for file_name in file_names:\n",
    "    file_path = os.path.join(folder_path, file_name)\n",
    "    data = pd.read_csv(file_path)\n",
    "    all_data_list.append(data)\n",
    "    all_data = pd.concat([all_data, data], ignore_index=True)\n",
    "\n",
    "# Now 'all_data_list' contains a list of all data from all CSV files"
   ],
   "metadata": {
    "collapsed": false,
    "ExecuteTime": {
     "end_time": "2023-12-20T21:26:47.615935Z",
     "start_time": "2023-12-20T21:26:45.581663300Z"
    }
   },
   "id": "2d9aa1da9bec23aa"
  },
  {
   "cell_type": "markdown",
   "source": [
    "# Label mapping"
   ],
   "metadata": {
    "collapsed": false
   },
   "id": "18b454bef1ece199"
  },
  {
   "cell_type": "code",
   "execution_count": 46,
   "outputs": [],
   "source": [
    "#Sobstitute N, S, V with 0, 1, 2\n",
    "label_mapping = {'N': 0, 'S': 1, 'V': 2}\n",
    "for data in all_data_list:\n",
    "    data['annotation'] = data['annotation'].replace(label_mapping)"
   ],
   "metadata": {
    "collapsed": false,
    "ExecuteTime": {
     "end_time": "2023-12-20T21:26:47.838732500Z",
     "start_time": "2023-12-20T21:26:47.618529800Z"
    }
   },
   "id": "bc1c8093311631c7"
  },
  {
   "cell_type": "markdown",
   "source": [
    "# Divide train/test"
   ],
   "metadata": {
    "collapsed": false
   },
   "id": "7098aa93f71a2207"
  },
  {
   "cell_type": "code",
   "execution_count": 47,
   "outputs": [],
   "source": [
    "random_state =50"
   ],
   "metadata": {
    "collapsed": false,
    "ExecuteTime": {
     "end_time": "2023-12-20T21:26:47.861897Z",
     "start_time": "2023-12-20T21:26:47.842959400Z"
    }
   },
   "id": "6c50741f622256ed"
  },
  {
   "cell_type": "code",
   "execution_count": 48,
   "outputs": [],
   "source": [
    "# Split Data\n",
    "#A list of all csv is gived: because each element of a list represent a patient,\n",
    "# a patient will stay only or in train or in test\n",
    "train_list, test_list = train_test_split(all_data_list, test_size=0.2, random_state=random_state)\n",
    "#train_list, val_list = train_test_split(train_list, test_size=0.2, random_state=42)"
   ],
   "metadata": {
    "collapsed": false,
    "ExecuteTime": {
     "end_time": "2023-12-20T21:26:47.943209100Z",
     "start_time": "2023-12-20T21:26:47.858682800Z"
    }
   },
   "id": "533f760b5338243"
  },
  {
   "cell_type": "code",
   "execution_count": 49,
   "outputs": [],
   "source": [
    "#Create a dataframe only for train and one for all test data\n",
    "train_data = pd.DataFrame()\n",
    "i = 0\n",
    "for train in train_list:\n",
    "    train_data = pd.concat([train_data, train], ignore_index=True)\n",
    "    i = i + 1"
   ],
   "metadata": {
    "collapsed": false,
    "ExecuteTime": {
     "end_time": "2023-12-20T21:26:48.434664Z",
     "start_time": "2023-12-20T21:26:47.893763Z"
    }
   },
   "id": "f491145acd118c72"
  },
  {
   "cell_type": "code",
   "execution_count": 50,
   "outputs": [],
   "source": [
    "# Model Training\n",
    "X_train = train_data.drop('annotation', axis=1)\n",
    "y_train = train_data['annotation']"
   ],
   "metadata": {
    "collapsed": false,
    "ExecuteTime": {
     "end_time": "2023-12-20T21:26:48.461062600Z",
     "start_time": "2023-12-20T21:26:48.437655700Z"
    }
   },
   "id": "ce53e9b489a2ecf7"
  },
  {
   "cell_type": "code",
   "execution_count": 51,
   "outputs": [
    {
     "name": "stdout",
     "output_type": "stream",
     "text": [
      "            0      1      2\n",
      "0        True  False  False\n",
      "1        True  False  False\n",
      "2       False   True  False\n",
      "3        True  False  False\n",
      "4       False   True  False\n",
      "...       ...    ...    ...\n",
      "135576   True  False  False\n",
      "135577   True  False  False\n",
      "135578   True  False  False\n",
      "135579   True  False  False\n",
      "135580   True  False  False\n",
      "\n",
      "[135581 rows x 3 columns]\n",
      "[[ True False False]\n",
      " [ True False False]\n",
      " [False  True False]\n",
      " ...\n",
      " [ True False False]\n",
      " [ True False False]\n",
      " [ True False False]]\n"
     ]
    }
   ],
   "source": [
    "# One-hot encoding\n",
    "one_hot_encoded_df = pd.get_dummies(y_train, columns=['annotation'])\n",
    "\n",
    "one_hot_encoded_array_train = one_hot_encoded_df.values\n",
    "\n",
    "print(one_hot_encoded_df)\n",
    "print(one_hot_encoded_array_train)"
   ],
   "metadata": {
    "collapsed": false,
    "ExecuteTime": {
     "end_time": "2023-12-20T21:26:48.512532600Z",
     "start_time": "2023-12-20T21:26:48.467559800Z"
    }
   },
   "id": "bf2d6cf9b2cb4ed9"
  },
  {
   "cell_type": "code",
   "execution_count": 52,
   "outputs": [
    {
     "data": {
      "text/plain": "'\\nval_data = pd.DataFrame()\\n\\nfor val in val_list:\\n    val_data = pd.concat([val_data, val], ignore_index=True) '"
     },
     "execution_count": 52,
     "metadata": {},
     "output_type": "execute_result"
    }
   ],
   "source": [
    "#Create a dataframe only for train and one for all test data\n",
    "'''\n",
    "val_data = pd.DataFrame()\n",
    "\n",
    "for val in val_list:\n",
    "    val_data = pd.concat([val_data, val], ignore_index=True) '''"
   ],
   "metadata": {
    "collapsed": false,
    "ExecuteTime": {
     "end_time": "2023-12-20T21:26:48.513688200Z",
     "start_time": "2023-12-20T21:26:48.499493400Z"
    }
   },
   "id": "884f33f312645b43"
  },
  {
   "cell_type": "code",
   "execution_count": 53,
   "outputs": [
    {
     "data": {
      "text/plain": "\"X_val = val_data.drop('annotation', axis=1)\\ny_val = val_data['annotation'] \""
     },
     "execution_count": 53,
     "metadata": {},
     "output_type": "execute_result"
    }
   ],
   "source": [
    "'''X_val = val_data.drop('annotation', axis=1)\n",
    "y_val = val_data['annotation'] '''"
   ],
   "metadata": {
    "collapsed": false,
    "ExecuteTime": {
     "end_time": "2023-12-20T21:26:48.586573400Z",
     "start_time": "2023-12-20T21:26:48.518461600Z"
    }
   },
   "id": "200cdc946a139044"
  },
  {
   "cell_type": "code",
   "execution_count": 54,
   "outputs": [
    {
     "data": {
      "text/plain": "\"one_hot_encoded_df_val = pd.get_dummies(y_val, columns=['annotation'])\\n\\none_hot_encoded_array_val = one_hot_encoded_df_val.values \""
     },
     "execution_count": 54,
     "metadata": {},
     "output_type": "execute_result"
    }
   ],
   "source": [
    "'''one_hot_encoded_df_val = pd.get_dummies(y_val, columns=['annotation'])\n",
    "\n",
    "one_hot_encoded_array_val = one_hot_encoded_df_val.values '''"
   ],
   "metadata": {
    "collapsed": false,
    "ExecuteTime": {
     "end_time": "2023-12-20T21:26:48.715859800Z",
     "start_time": "2023-12-20T21:26:48.534609700Z"
    }
   },
   "id": "f75f581f1ca49711"
  },
  {
   "cell_type": "code",
   "execution_count": 55,
   "outputs": [],
   "source": [
    "test_data = pd.DataFrame()\n",
    "\n",
    "for test in test_list:\n",
    "    test_data = pd.concat([test_data, test], ignore_index=True)"
   ],
   "metadata": {
    "collapsed": false,
    "ExecuteTime": {
     "end_time": "2023-12-20T21:26:48.783947Z",
     "start_time": "2023-12-20T21:26:48.549524700Z"
    }
   },
   "id": "637afae39029162"
  },
  {
   "cell_type": "code",
   "execution_count": 56,
   "outputs": [],
   "source": [
    "X_test = test_data.drop('annotation', axis=1)\n",
    "y_test= test_data['annotation']"
   ],
   "metadata": {
    "collapsed": false,
    "ExecuteTime": {
     "end_time": "2023-12-20T21:26:48.785942200Z",
     "start_time": "2023-12-20T21:26:48.630926200Z"
    }
   },
   "id": "8a7251a461255e88"
  },
  {
   "cell_type": "code",
   "execution_count": 57,
   "outputs": [],
   "source": [
    "one_hot_encoded_df_test = pd.get_dummies(y_test, columns=['annotation'])\n",
    "\n",
    "one_hot_encoded_array_test = one_hot_encoded_df_test.values"
   ],
   "metadata": {
    "collapsed": false,
    "ExecuteTime": {
     "end_time": "2023-12-20T21:26:48.786938600Z",
     "start_time": "2023-12-20T21:26:48.651413400Z"
    }
   },
   "id": "45e9498928bad2b"
  },
  {
   "cell_type": "code",
   "execution_count": 58,
   "outputs": [
    {
     "name": "stdout",
     "output_type": "stream",
     "text": [
      "Perc di N in train: 0.9207706094511768\n",
      "Perc di S in train: 0.0428821147505919\n",
      "Perc di V in train: 0.03634727579823131\n",
      "Perc di S in test: 0.9174713298299205\n",
      "Perc di S in test: 0.05006601258122136\n",
      "Perc di S in test: 0.032462657588858114\n"
     ]
    }
   ],
   "source": [
    "N_train = (y_train == 0).sum() \n",
    "S_train = (y_train == 1).sum() \n",
    "V_train = (y_train == 2).sum() \n",
    "'''\n",
    "N_val = (y_val == 0).sum() \n",
    "S_val = (y_val == 1).sum() \n",
    "V_val = (y_val == 2).sum() \n",
    "\n",
    "'''\n",
    "N_test = (y_test == 0).sum() \n",
    "S_test = (y_test == 1).sum() \n",
    "V_test = (y_test == 2).sum() \n",
    "\n",
    "N_perc = N_train/(N_train+S_train+V_train)\n",
    "S_perc = S_train/(N_train+S_train+V_train)\n",
    "V_perc = V_train/(N_train+S_train+V_train)\n",
    "print(f\"Perc di N in train: {N_perc}\")\n",
    "print(f\"Perc di S in train: {S_perc}\")\n",
    "print(f\"Perc di V in train: {V_perc}\")\n",
    "'''\n",
    "N_perc = N_val/(N_val+S_val+V_val)\n",
    "S_perc = S_val/(N_val+S_val+V_val)\n",
    "V_perc = V_val/(N_val+S_val+V_val)\n",
    "\n",
    "print(f\"Perc di S in val: {N_perc}\")\n",
    "print(f\"Perc di S in val: {S_perc}\")\n",
    "print(f\"Perc di S in val: {V_perc}\")\n",
    "'''\n",
    "N_perc = N_test/(N_test+S_test+V_test)\n",
    "S_perc = S_test/(N_test+S_test+V_test)\n",
    "V_perc = V_test/(N_test+S_test+V_test)\n",
    "print(f\"Perc di S in test: {N_perc}\")\n",
    "print(f\"Perc di S in test: {S_perc}\")\n",
    "print(f\"Perc di S in test: {V_perc}\")\n"
   ],
   "metadata": {
    "collapsed": false,
    "ExecuteTime": {
     "end_time": "2023-12-20T21:26:48.804412200Z",
     "start_time": "2023-12-20T21:26:48.682245600Z"
    }
   },
   "id": "66f8c5b79913cfac"
  },
  {
   "cell_type": "markdown",
   "source": [
    "# Model"
   ],
   "metadata": {
    "collapsed": false
   },
   "id": "661f2f22cc395e04"
  },
  {
   "cell_type": "code",
   "execution_count": 59,
   "outputs": [],
   "source": [
    "def compute_class_freqs(labels):\n",
    "\n",
    "    N = labels.shape[0]\n",
    "\n",
    "    positive_frequencies = np.sum(labels, axis = 0) / N\n",
    "    negative_frequencies = 1 - positive_frequencies\n",
    "\n",
    "    return positive_frequencies, negative_frequencies"
   ],
   "metadata": {
    "collapsed": false,
    "ExecuteTime": {
     "end_time": "2023-12-20T21:26:48.804412200Z",
     "start_time": "2023-12-20T21:26:48.702305700Z"
    }
   },
   "id": "661364fdf6ac93d5"
  },
  {
   "cell_type": "code",
   "execution_count": 60,
   "outputs": [
    {
     "name": "stdout",
     "output_type": "stream",
     "text": [
      "pos freqs: [0.92077061 0.04288211 0.03634728]\n",
      "neg freqs: [0.07922939 0.95711789 0.96365272]\n"
     ]
    }
   ],
   "source": [
    "freq_pos, freq_neg = compute_class_freqs(one_hot_encoded_array_train)\n",
    "\n",
    "print(f\"pos freqs: {freq_pos}\")\n",
    "\n",
    "print(f\"neg freqs: {freq_neg}\")"
   ],
   "metadata": {
    "collapsed": false,
    "ExecuteTime": {
     "end_time": "2023-12-20T21:26:48.808972900Z",
     "start_time": "2023-12-20T21:26:48.710603900Z"
    }
   },
   "id": "9294257b56898d19"
  },
  {
   "cell_type": "code",
   "execution_count": 61,
   "outputs": [
    {
     "data": {
      "text/plain": "{0: 0.07922939054882316, 1: 0.9571178852494081, 2: 0.9636527242017687}"
     },
     "execution_count": 61,
     "metadata": {},
     "output_type": "execute_result"
    }
   ],
   "source": [
    "pos_weights = freq_neg\n",
    "neg_weights = freq_pos\n",
    "pos_contribution = freq_pos * pos_weights\n",
    "neg_contribution = freq_neg * neg_weights\n",
    "\n",
    "keys = np.arange(0,3,1)\n",
    "weight_dictionary_freq = dict(zip(keys, pos_weights))\n",
    "weight_dictionary_freq"
   ],
   "metadata": {
    "collapsed": false,
    "ExecuteTime": {
     "end_time": "2023-12-20T21:26:48.825491600Z",
     "start_time": "2023-12-20T21:26:48.724920600Z"
    }
   },
   "id": "31939fca096637a4"
  },
  {
   "cell_type": "code",
   "execution_count": 62,
   "outputs": [
    {
     "data": {
      "text/plain": "{0: 0.5430234141574348, 1: 11.659872721018232, 2: 13.756189123376624}"
     },
     "execution_count": 62,
     "metadata": {},
     "output_type": "execute_result"
    }
   ],
   "source": [
    "#@title Calculating Weights\n",
    "from sklearn.utils.class_weight import compute_class_weight\n",
    "\n",
    "def calculating_class_weights(y_true):\n",
    "    num_classes = y_true.shape[1]\n",
    "    weights = np.empty([num_classes, 2])\n",
    "    for i in range(num_classes):\n",
    "        weights[i] = compute_class_weight(class_weight='balanced', classes=[0.,1.], y=y_true[:, i])\n",
    "    return weights\n",
    "\n",
    "class_weights = calculating_class_weights(one_hot_encoded_array_train)\n",
    "\n",
    "keys = np.arange(0,3,1)\n",
    "weight_dictionary_fold = dict(zip(keys, class_weights.T[1]))\n",
    "weight_dictionary_fold"
   ],
   "metadata": {
    "collapsed": false,
    "ExecuteTime": {
     "end_time": "2023-12-20T21:26:49.041239700Z",
     "start_time": "2023-12-20T21:26:48.741935300Z"
    }
   },
   "id": "7f4ed3fadbeac45"
  },
  {
   "cell_type": "code",
   "execution_count": 63,
   "outputs": [],
   "source": [
    "def model_evaluation(y_predi, model_name_pred):\n",
    "\n",
    "    predicted_class = np.argmax(y_predi, axis=-1)\n",
    "    test_classes = np.argmax(one_hot_encoded_array_test, axis=-1)\n",
    "    cm = confusion_matrix(test_classes, predicted_class)\n",
    "    classes_name = ['N', 'S', 'V']\n",
    "    '''\n",
    "    plt.figure(figsize=(10, 8))\n",
    "    sns.heatmap(cm, xticklabels=list(classes_name), yticklabels=list(classes_name), cmap=\"Greens\", annot=True, fmt='.2f')\n",
    "    plt.ylabel('Actual labels')\n",
    "    plt.xlabel('Predicted labels')\n",
    "    plt.show()\n",
    "    '''\n",
    "    \n",
    "    #Normalized cm\n",
    "    \n",
    "    cm = cm.astype('float') / cm.sum(axis=1)[:, np.newaxis]\n",
    "    plt.figure(figsize=(10, 8))\n",
    "    sns.heatmap(cm, xticklabels=list(classes_name), yticklabels=list(classes_name), cmap=\"Greens\", annot=True, fmt='.2f')\n",
    "    plt.ylabel('Actual labels')\n",
    "    plt.xlabel('Predicted labels')\n",
    "    plt.title(model_name_pred)\n",
    "    plt.show()"
   ],
   "metadata": {
    "collapsed": false,
    "ExecuteTime": {
     "end_time": "2023-12-20T21:26:49.087113800Z",
     "start_time": "2023-12-20T21:26:48.805922300Z"
    }
   },
   "id": "1e998f5b887c67d8"
  },
  {
   "cell_type": "markdown",
   "source": [
    "# AdaBoost"
   ],
   "metadata": {
    "collapsed": false
   },
   "id": "628d134e7184734f"
  },
  {
   "cell_type": "code",
   "execution_count": 64,
   "outputs": [],
   "source": [
    "from imblearn.ensemble import EasyEnsembleClassifier\n",
    "\n",
    "modelEasyEns = EasyEnsembleClassifier(n_estimators=100, n_jobs=-1, random_state=random_state,sampling_strategy='not minority')\n",
    "modelEasyEns.fit(X_train, y_train)\n",
    "\n",
    "y_predEasyEns = modelEasyEns.predict(X_test)"
   ],
   "metadata": {
    "collapsed": false,
    "ExecuteTime": {
     "end_time": "2023-12-20T21:29:09.554081700Z",
     "start_time": "2023-12-20T21:26:48.816969600Z"
    }
   },
   "id": "ec129b92dd018449"
  },
  {
   "cell_type": "code",
   "execution_count": 65,
   "outputs": [
    {
     "data": {
      "text/plain": "<Figure size 1000x800 with 2 Axes>",
      "image/png": "[encoded data removed]"
     },
     "metadata": {},
     "output_type": "display_data"
    }
   ],
   "source": [
    "one_hot_encoded_pred_ens = pd.get_dummies(y_predEasyEns, columns=['0'])\n",
    "\n",
    "model_evaluation(one_hot_encoded_pred_ens, \"EasyEnsembleClassifier\")"
   ],
   "metadata": {
    "collapsed": false,
    "ExecuteTime": {
     "end_time": "2023-12-20T21:29:10.403182500Z",
     "start_time": "2023-12-20T21:29:09.561618600Z"
    }
   },
   "id": "3493df72fd864d07"
  },
  {
   "cell_type": "markdown",
   "source": [
    "# Random Forest"
   ],
   "metadata": {
    "collapsed": false
   },
   "id": "9210a167068bbab6"
  },
  {
   "cell_type": "code",
   "execution_count": 66,
   "outputs": [
    {
     "data": {
      "text/plain": "\"from sklearn.model_selection import GridSearchCV\\n\\nparameter_grid = { \\n    'n_estimators': [50, 100],\\n    'max_features': [None, 'sqrt', 'log2', 3],\\n    'max_depth' : [10, 15],\\n    'criterion' :['gini', 'entropy'],\\n    'min_samples_split' : [22, 42]\\n}\\nmy_model = RandomForestClassifier()\\nclf = GridSearchCV(my_model, parameter_grid, cv = 5, scoring = 'f1', n_jobs = -1, verbose = 1)\\nclf.fit(X_train, y_train)\\nfrom sklearn import metrics\\nprint(clf.best_params_)\\nprint(clf.best_score_)\\n\""
     },
     "execution_count": 66,
     "metadata": {},
     "output_type": "execute_result"
    }
   ],
   "source": [
    "'''from sklearn.model_selection import GridSearchCV\n",
    "\n",
    "parameter_grid = { \n",
    "    'n_estimators': [50, 100],\n",
    "    'max_features': [None, 'sqrt', 'log2', 3],\n",
    "    'max_depth' : [10, 15],\n",
    "    'criterion' :['gini', 'entropy'],\n",
    "    'min_samples_split' : [22, 42]\n",
    "}\n",
    "my_model = RandomForestClassifier()\n",
    "clf = GridSearchCV(my_model, parameter_grid, cv = 5, scoring = 'f1', n_jobs = -1, verbose = 1)\n",
    "clf.fit(X_train, y_train)\n",
    "from sklearn import metrics\n",
    "print(clf.best_params_)\n",
    "print(clf.best_score_)\n",
    "'''"
   ],
   "metadata": {
    "collapsed": false,
    "ExecuteTime": {
     "end_time": "2023-12-20T21:29:10.433471700Z",
     "start_time": "2023-12-20T21:29:10.404181100Z"
    }
   },
   "id": "eed82717b621a960"
  },
  {
   "cell_type": "code",
   "execution_count": 67,
   "outputs": [],
   "source": [
    "from sklearn.ensemble import RandomForestClassifier\n",
    "randomForestModel = RandomForestClassifier(n_estimators=100, \n",
    "                                              criterion='gini', \n",
    "                                              class_weight=weight_dictionary_freq)\n",
    "randomForestModel.fit(X_train, y_train)\n",
    "\n",
    "y_predRanFor = randomForestModel.predict(X_test)"
   ],
   "metadata": {
    "collapsed": false,
    "ExecuteTime": {
     "end_time": "2023-12-20T21:34:01.575386700Z",
     "start_time": "2023-12-20T21:29:10.431477Z"
    }
   },
   "id": "d3661e87fd06ba46"
  },
  {
   "cell_type": "code",
   "execution_count": 68,
   "outputs": [
    {
     "data": {
      "text/plain": "<Figure size 1000x800 with 2 Axes>",
      "image/png": "[encoded data removed]"
     },
     "metadata": {},
     "output_type": "display_data"
    }
   ],
   "source": [
    "one_hot_encoded_pred = pd.get_dummies(y_predRanFor, columns=['0'])\n",
    "\n",
    "model_evaluation(one_hot_encoded_pred, \"Random forest weighted\")"
   ],
   "metadata": {
    "collapsed": false,
    "ExecuteTime": {
     "end_time": "2023-12-20T21:34:01.850441400Z",
     "start_time": "2023-12-20T21:34:01.579410300Z"
    }
   },
   "id": "7a64a5032149987b"
  },
  {
   "cell_type": "code",
   "execution_count": 69,
   "outputs": [
    {
     "name": "stdout",
     "output_type": "stream",
     "text": [
      "{0: 0.5, 1: 0.99, 2: 0.98}\n"
     ]
    }
   ],
   "source": [
    "nN = np.count_nonzero(y_train == 0)\n",
    "nV = np.count_nonzero(y_train == 1)\n",
    "nS = np.count_nonzero(y_train == 2)\n",
    "\n",
    "class_sum = nN+nV+nS\n",
    "wN = round(1-(nN/class_sum),2)\n",
    "wV = round(1-(nV/class_sum),2)  \n",
    "wS = round(1-(nS/class_sum),2)\n",
    "\n",
    "class_weights = {0: wN+0.42, 1: wV+0.03, 2: wS+0.02}\n",
    "\n",
    "print(class_weights)"
   ],
   "metadata": {
    "collapsed": false,
    "ExecuteTime": {
     "end_time": "2023-12-20T21:34:01.860060300Z",
     "start_time": "2023-12-20T21:34:01.852438800Z"
    }
   },
   "id": "84f50dad568aeaa7"
  },
  {
   "cell_type": "markdown",
   "source": [
    "# Balanced Random Forest"
   ],
   "metadata": {
    "collapsed": false
   },
   "id": "3537d7f4ead46c6"
  },
  {
   "cell_type": "code",
   "execution_count": 70,
   "outputs": [
    {
     "data": {
      "text/plain": "<Figure size 1000x800 with 2 Axes>",
      "image/png": "[encoded data removed]"
     },
     "metadata": {},
     "output_type": "display_data"
    }
   ],
   "source": [
    "from imblearn.ensemble import BalancedRandomForestClassifier\n",
    "randomForestModel = BalancedRandomForestClassifier(n_estimators= 100,\n",
    "                                                   criterion= 'gini',\n",
    "                                                   max_depth= 20,\n",
    "                                                   min_samples_split= 30,\n",
    "                                                   min_samples_leaf = 1,\n",
    "                                                   min_weight_fraction_leaf = 0.0,\n",
    "                                                   max_features= None,\n",
    "                                                   sampling_strategy='not minority',\n",
    "                                                   replacement= False,\n",
    "                                                   n_jobs= -1,\n",
    "                                                   random_state=random_state,\n",
    "                                                   class_weight= weight_dictionary_fold,\n",
    "                                                   bootstrap=True\n",
    "                                                   )\n",
    "randomForestModel.fit(X_train, \n",
    "              y_train)\n",
    "y_pred = randomForestModel.predict(X_test)\n",
    "one_hot_encoded_pred = pd.get_dummies(y_pred, columns=['0'])\n",
    "\n",
    "model_evaluation(one_hot_encoded_pred, \"Random forest balanced\")"
   ],
   "metadata": {
    "collapsed": false,
    "ExecuteTime": {
     "end_time": "2023-12-20T21:34:17.049919500Z",
     "start_time": "2023-12-20T21:34:01.877961500Z"
    }
   },
   "id": "5628fe8909bd99f7"
  },
  {
   "cell_type": "markdown",
   "source": [
    "# KNN"
   ],
   "metadata": {
    "collapsed": false
   },
   "id": "1175d7ef454535ea"
  },
  {
   "cell_type": "code",
   "execution_count": 71,
   "outputs": [
    {
     "data": {
      "text/plain": "<Figure size 1000x800 with 2 Axes>",
      "image/png": "[encoded data removed]"
     },
     "metadata": {},
     "output_type": "display_data"
    }
   ],
   "source": [
    "from sklearn.neighbors import KNeighborsClassifier\n",
    "kneig  = KNeighborsClassifier(n_neighbors=10)\n",
    "\n",
    "kneig.fit(X_train, \n",
    "              y_train)\n",
    "y_pred = kneig.predict(X_test)\n",
    "one_hot_encoded_pred = pd.get_dummies(y_pred, columns=['0'])\n",
    "\n",
    "model_evaluation(one_hot_encoded_pred, \"kneig\")"
   ],
   "metadata": {
    "collapsed": false,
    "ExecuteTime": {
     "end_time": "2023-12-20T21:35:22.072928800Z",
     "start_time": "2023-12-20T21:34:17.055583300Z"
    }
   },
   "id": "17233323cfe8904"
  },
  {
   "cell_type": "code",
   "execution_count": 72,
   "outputs": [
    {
     "data": {
      "text/plain": "<Figure size 1000x800 with 2 Axes>",
      "image/png": "[encoded data removed]"
     },
     "metadata": {},
     "output_type": "display_data"
    },
    {
     "name": "stderr",
     "output_type": "stream",
     "text": [
      "C:\\Users\\user\\Desktop\\AI-project\\venv\\Lib\\site-packages\\imblearn\\ensemble\\_forest.py:546: FutureWarning: The default of `sampling_strategy` will change from `'auto'` to `'all'` in version 0.13. This change will follow the implementation proposed in the original paper. Set to `'all'` to silence this warning and adopt the future behaviour.\n",
      "  warn(\n",
      "C:\\Users\\user\\Desktop\\AI-project\\venv\\Lib\\site-packages\\imblearn\\ensemble\\_forest.py:558: FutureWarning: The default of `replacement` will change from `False` to `True` in version 0.13. This change will follow the implementation proposed in the original paper. Set to `True` to silence this warning and adopt the future behaviour.\n",
      "  warn(\n"
     ]
    },
    {
     "ename": "ValueError",
     "evalue": "For multi-output, class_weight should be a list of dicts, or a valid string.",
     "output_type": "error",
     "traceback": [
      "\u001B[1;31m---------------------------------------------------------------------------\u001B[0m",
      "\u001B[1;31mValueError\u001B[0m                                Traceback (most recent call last)",
      "Cell \u001B[1;32mIn[72], line 31\u001B[0m\n\u001B[0;32m     28\u001B[0m \u001B[38;5;66;03m# Train and evaluate each model\u001B[39;00m\n\u001B[0;32m     30\u001B[0m \u001B[38;5;28;01mfor\u001B[39;00m model_name, model \u001B[38;5;129;01min\u001B[39;00m models\u001B[38;5;241m.\u001B[39mitems():\n\u001B[1;32m---> 31\u001B[0m     \u001B[43mmodel\u001B[49m\u001B[38;5;241;43m.\u001B[39;49m\u001B[43mfit\u001B[49m\u001B[43m(\u001B[49m\u001B[43mX_train\u001B[49m\u001B[43m,\u001B[49m\u001B[43m \u001B[49m\n\u001B[0;32m     32\u001B[0m \u001B[43m              \u001B[49m\u001B[43mone_hot_encoded_array_train\u001B[49m\u001B[43m)\u001B[49m\n\u001B[0;32m     33\u001B[0m     y_pred \u001B[38;5;241m=\u001B[39m model\u001B[38;5;241m.\u001B[39mpredict(X_test)\n\u001B[0;32m     34\u001B[0m     model_evaluation(y_pred, model_name)\n",
      "File \u001B[1;32m~\\Desktop\\AI-project\\venv\\Lib\\site-packages\\sklearn\\base.py:1152\u001B[0m, in \u001B[0;36m_fit_context.<locals>.decorator.<locals>.wrapper\u001B[1;34m(estimator, *args, **kwargs)\u001B[0m\n\u001B[0;32m   1145\u001B[0m     estimator\u001B[38;5;241m.\u001B[39m_validate_params()\n\u001B[0;32m   1147\u001B[0m \u001B[38;5;28;01mwith\u001B[39;00m config_context(\n\u001B[0;32m   1148\u001B[0m     skip_parameter_validation\u001B[38;5;241m=\u001B[39m(\n\u001B[0;32m   1149\u001B[0m         prefer_skip_nested_validation \u001B[38;5;129;01mor\u001B[39;00m global_skip_validation\n\u001B[0;32m   1150\u001B[0m     )\n\u001B[0;32m   1151\u001B[0m ):\n\u001B[1;32m-> 1152\u001B[0m     \u001B[38;5;28;01mreturn\u001B[39;00m \u001B[43mfit_method\u001B[49m\u001B[43m(\u001B[49m\u001B[43mestimator\u001B[49m\u001B[43m,\u001B[49m\u001B[43m \u001B[49m\u001B[38;5;241;43m*\u001B[39;49m\u001B[43margs\u001B[49m\u001B[43m,\u001B[49m\u001B[43m \u001B[49m\u001B[38;5;241;43m*\u001B[39;49m\u001B[38;5;241;43m*\u001B[39;49m\u001B[43mkwargs\u001B[49m\u001B[43m)\u001B[49m\n",
      "File \u001B[1;32m~\\Desktop\\AI-project\\venv\\Lib\\site-packages\\imblearn\\ensemble\\_forest.py:601\u001B[0m, in \u001B[0;36mBalancedRandomForestClassifier.fit\u001B[1;34m(self, X, y, sample_weight)\u001B[0m\n\u001B[0;32m    597\u001B[0m     y \u001B[38;5;241m=\u001B[39m np\u001B[38;5;241m.\u001B[39mreshape(y, (\u001B[38;5;241m-\u001B[39m\u001B[38;5;241m1\u001B[39m, \u001B[38;5;241m1\u001B[39m))\n\u001B[0;32m    599\u001B[0m \u001B[38;5;28mself\u001B[39m\u001B[38;5;241m.\u001B[39mn_outputs_ \u001B[38;5;241m=\u001B[39m y\u001B[38;5;241m.\u001B[39mshape[\u001B[38;5;241m1\u001B[39m]\n\u001B[1;32m--> 601\u001B[0m y_encoded, expanded_class_weight \u001B[38;5;241m=\u001B[39m \u001B[38;5;28;43mself\u001B[39;49m\u001B[38;5;241;43m.\u001B[39;49m\u001B[43m_validate_y_class_weight\u001B[49m\u001B[43m(\u001B[49m\u001B[43my\u001B[49m\u001B[43m)\u001B[49m\n\u001B[0;32m    603\u001B[0m \u001B[38;5;28;01mif\u001B[39;00m \u001B[38;5;28mgetattr\u001B[39m(y, \u001B[38;5;124m\"\u001B[39m\u001B[38;5;124mdtype\u001B[39m\u001B[38;5;124m\"\u001B[39m, \u001B[38;5;28;01mNone\u001B[39;00m) \u001B[38;5;241m!=\u001B[39m DOUBLE \u001B[38;5;129;01mor\u001B[39;00m \u001B[38;5;129;01mnot\u001B[39;00m y\u001B[38;5;241m.\u001B[39mflags\u001B[38;5;241m.\u001B[39mcontiguous:\n\u001B[0;32m    604\u001B[0m     y_encoded \u001B[38;5;241m=\u001B[39m np\u001B[38;5;241m.\u001B[39mascontiguousarray(y_encoded, dtype\u001B[38;5;241m=\u001B[39mDOUBLE)\n",
      "File \u001B[1;32m~\\Desktop\\AI-project\\venv\\Lib\\site-packages\\sklearn\\ensemble\\_forest.py:798\u001B[0m, in \u001B[0;36mForestClassifier._validate_y_class_weight\u001B[1;34m(self, y)\u001B[0m\n\u001B[0;32m    796\u001B[0m         \u001B[38;5;28;01melse\u001B[39;00m:\n\u001B[0;32m    797\u001B[0m             class_weight \u001B[38;5;241m=\u001B[39m \u001B[38;5;28mself\u001B[39m\u001B[38;5;241m.\u001B[39mclass_weight\n\u001B[1;32m--> 798\u001B[0m         expanded_class_weight \u001B[38;5;241m=\u001B[39m \u001B[43mcompute_sample_weight\u001B[49m\u001B[43m(\u001B[49m\u001B[43mclass_weight\u001B[49m\u001B[43m,\u001B[49m\u001B[43m \u001B[49m\u001B[43my_original\u001B[49m\u001B[43m)\u001B[49m\n\u001B[0;32m    800\u001B[0m \u001B[38;5;28;01mreturn\u001B[39;00m y, expanded_class_weight\n",
      "File \u001B[1;32m~\\Desktop\\AI-project\\venv\\Lib\\site-packages\\sklearn\\utils\\class_weight.py:139\u001B[0m, in \u001B[0;36mcompute_sample_weight\u001B[1;34m(class_weight, y, indices)\u001B[0m\n\u001B[0;32m    137\u001B[0m \u001B[38;5;28;01melif\u001B[39;00m n_outputs \u001B[38;5;241m>\u001B[39m \u001B[38;5;241m1\u001B[39m:\n\u001B[0;32m    138\u001B[0m     \u001B[38;5;28;01mif\u001B[39;00m \u001B[38;5;129;01mnot\u001B[39;00m \u001B[38;5;28mhasattr\u001B[39m(class_weight, \u001B[38;5;124m\"\u001B[39m\u001B[38;5;124m__iter__\u001B[39m\u001B[38;5;124m\"\u001B[39m) \u001B[38;5;129;01mor\u001B[39;00m \u001B[38;5;28misinstance\u001B[39m(class_weight, \u001B[38;5;28mdict\u001B[39m):\n\u001B[1;32m--> 139\u001B[0m         \u001B[38;5;28;01mraise\u001B[39;00m \u001B[38;5;167;01mValueError\u001B[39;00m(\n\u001B[0;32m    140\u001B[0m             \u001B[38;5;124m\"\u001B[39m\u001B[38;5;124mFor multi-output, class_weight should be a \u001B[39m\u001B[38;5;124m\"\u001B[39m\n\u001B[0;32m    141\u001B[0m             \u001B[38;5;124m\"\u001B[39m\u001B[38;5;124mlist of dicts, or a valid string.\u001B[39m\u001B[38;5;124m\"\u001B[39m\n\u001B[0;32m    142\u001B[0m         )\n\u001B[0;32m    143\u001B[0m     \u001B[38;5;28;01mif\u001B[39;00m \u001B[38;5;28mlen\u001B[39m(class_weight) \u001B[38;5;241m!=\u001B[39m n_outputs:\n\u001B[0;32m    144\u001B[0m         \u001B[38;5;28;01mraise\u001B[39;00m \u001B[38;5;167;01mValueError\u001B[39;00m(\n\u001B[0;32m    145\u001B[0m             \u001B[38;5;124m\"\u001B[39m\u001B[38;5;124mFor multi-output, number of elements in \u001B[39m\u001B[38;5;124m\"\u001B[39m\n\u001B[0;32m    146\u001B[0m             \u001B[38;5;124m\"\u001B[39m\u001B[38;5;124mclass_weight should match number of outputs.\u001B[39m\u001B[38;5;124m\"\u001B[39m\n\u001B[0;32m    147\u001B[0m         )\n",
      "\u001B[1;31mValueError\u001B[0m: For multi-output, class_weight should be a list of dicts, or a valid string."
     ]
    }
   ],
   "source": [
    "from sklearn.model_selection import train_test_split\n",
    "from sklearn.ensemble import RandomForestClassifier\n",
    "from sklearn.metrics import accuracy_score, classification_report\n",
    "from sklearn.svm import SVC\n",
    "from sklearn.neighbors import KNeighborsClassifier\n",
    "from sklearn.naive_bayes import GaussianNB\n",
    "from xgboost import XGBClassifier\n",
    "from lightgbm import LGBMClassifier\n",
    "from sklearn.neural_network import MLPClassifier\n",
    "from imblearn.ensemble import BalancedRandomForestClassifier\n",
    "# Models\n",
    "models = {\n",
    "   #'Random Forest': RandomForestClassifier(n_estimators=100, random_state=42),\n",
    "    'Random Forest 2': RandomForestClassifier(n_estimators=100, \n",
    "                                              criterion='gini', \n",
    "                                              max_depth=15 ,\n",
    "                                              min_samples_split=22, \n",
    "                                              #class_weight=[{0: 0.5779660434423975, 1: 6.675863437872171, 2: 8.333250743310208}] \n",
    "                                              ),\n",
    "    'Balanced Random Forest': BalancedRandomForestClassifier(n_estimators=100, class_weight={0: 0.5779660434423975, 1: 6.675863437872171, 2: 8.333250743310208}),\n",
    "    'K-Nearest Neighbors': KNeighborsClassifier(n_neighbors=5),\n",
    "    'Naive Bayes': GaussianNB(),\n",
    "    'XGBoost': XGBClassifier(),\n",
    "    'LightGBM': LGBMClassifier(),\n",
    "    'Neural Network': MLPClassifier(hidden_layer_sizes=(64, 32), max_iter=1000, random_state=random_state)\n",
    "}\n",
    "\n",
    "# Train and evaluate each model\n",
    "\n",
    "for model_name, model in models.items():\n",
    "    model.fit(X_train, \n",
    "              one_hot_encoded_array_train)\n",
    "    y_pred = model.predict(X_test)\n",
    "    model_evaluation(y_pred, model_name)\n",
    "    "
   ],
   "metadata": {
    "collapsed": false,
    "ExecuteTime": {
     "end_time": "2023-12-20T21:37:18.333838800Z",
     "start_time": "2023-12-20T21:35:22.085583Z"
    }
   },
   "id": "58c40d95e396a73f"
  }
 ],
 "metadata": {
  "kernelspec": {
   "display_name": "Python 3",
   "language": "python",
   "name": "python3"
  },
  "language_info": {
   "codemirror_mode": {
    "name": "ipython",
    "version": 2
   },
   "file_extension": ".py",
   "mimetype": "text/x-python",
   "name": "python",
   "nbconvert_exporter": "python",
   "pygments_lexer": "ipython2",
   "version": "2.7.6"
  }
 },
 "nbformat": 4,
 "nbformat_minor": 5
}
