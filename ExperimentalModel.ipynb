{
 "cells": [
  {
   "cell_type": "code",
   "execution_count": 1,
   "id": "initial_id",
   "metadata": {
    "collapsed": true,
    "ExecuteTime": {
     "end_time": "2024-01-14T08:10:14.961385100Z",
     "start_time": "2024-01-14T08:10:03.540770600Z"
    }
   },
   "outputs": [],
   "source": [
    "import pandas as pd\n",
    "import numpy as np, os\n",
    "from sklearn.model_selection import train_test_split\n",
    "\n",
    "import matplotlib.pyplot as plt\n",
    "from sklearn.metrics import confusion_matrix\n",
    "import seaborn as sns"
   ]
  },
  {
   "cell_type": "markdown",
   "source": [
    "# Load Data"
   ],
   "metadata": {
    "collapsed": false
   },
   "id": "1e50d4d505fc2a45"
  },
  {
   "cell_type": "code",
   "execution_count": 2,
   "outputs": [],
   "source": [
    "folder_path = u'C:/Users/cricr/PycharmProjects/AI-project/features/128' \n",
    "\n",
    "# List all files in the folder\n",
    "file_names = [file for file in os.listdir(folder_path) if file.endswith('_128.csv')]\n",
    "\n",
    "# Initialize an empty DataFrame to concatenate all data\n",
    "all_data = pd.DataFrame()\n",
    "all_data_list = []\n",
    "# Loop through each file and concatenate the data\n",
    "for file_name in file_names:\n",
    "    file_path = os.path.join(folder_path, file_name)\n",
    "    data = pd.read_csv(file_path)\n",
    "    all_data_list.append(data)\n",
    "    all_data = pd.concat([all_data, data], ignore_index=True)\n"
   ],
   "metadata": {
    "collapsed": false,
    "ExecuteTime": {
     "end_time": "2024-01-14T08:10:16.878863800Z",
     "start_time": "2024-01-14T08:10:14.960249500Z"
    }
   },
   "id": "13a4166f80afa3b"
  },
  {
   "cell_type": "code",
   "execution_count": 3,
   "outputs": [],
   "source": [
    "folder_path = u'C:/Users/cricr/PycharmProjects/AI-project/features/250' \n",
    "\n",
    "# List all files in the folder\n",
    "file_names = [file for file in os.listdir(folder_path) if file.endswith('_250.csv')]\n",
    "\n",
    "# Loop through each file and concatenate the data\n",
    "for file_name in file_names:\n",
    "    file_path = os.path.join(folder_path, file_name)\n",
    "    data = pd.read_csv(file_path)\n",
    "    all_data_list.append(data)\n",
    "    all_data = pd.concat([all_data, data], ignore_index=True)\n",
    "\n",
    "# Now 'all_data_list' contains a list of all data from all CSV files"
   ],
   "metadata": {
    "collapsed": false,
    "ExecuteTime": {
     "end_time": "2024-01-14T08:10:18.168187100Z",
     "start_time": "2024-01-14T08:10:16.879967500Z"
    }
   },
   "id": "2d9aa1da9bec23aa"
  },
  {
   "cell_type": "markdown",
   "source": [
    "# Label mapping"
   ],
   "metadata": {
    "collapsed": false
   },
   "id": "18b454bef1ece199"
  },
  {
   "cell_type": "code",
   "execution_count": 4,
   "outputs": [],
   "source": [
    "#Sobstitute N, S, V with 0, 1, 2\n",
    "label_mapping = {'N': 0, 'S': 1, 'V': 2}\n",
    "for data in all_data_list:\n",
    "    data['annotation'] = data['annotation'].replace(label_mapping)"
   ],
   "metadata": {
    "collapsed": false,
    "ExecuteTime": {
     "end_time": "2024-01-14T08:10:18.272735200Z",
     "start_time": "2024-01-14T08:10:18.169324700Z"
    }
   },
   "id": "bc1c8093311631c7"
  },
  {
   "cell_type": "markdown",
   "source": [
    "# Drop positions columns    "
   ],
   "metadata": {
    "collapsed": false
   },
   "id": "f1d5154e9e2a386f"
  },
  {
   "cell_type": "code",
   "execution_count": 5,
   "outputs": [],
   "source": [
    "#drop the columns which contain positional info\n",
    "for i in range(len(all_data_list)):\n",
    "    all_data_list[i] = all_data_list[i].drop(['peak_pos', 'onset', 'diastolic_notch'], axis=1)"
   ],
   "metadata": {
    "collapsed": false,
    "ExecuteTime": {
     "end_time": "2024-01-14T08:10:18.333012500Z",
     "start_time": "2024-01-14T08:10:18.273873400Z"
    }
   },
   "id": "2ff8f8973756b3db"
  },
  {
   "cell_type": "code",
   "execution_count": 6,
   "outputs": [
    {
     "data": {
      "text/plain": "           asp       adp       adn        rp        d1        d2        rd  \\\n0     0.055274  0.823215  0.886627  0.719899  0.042081  0.425326  0.723122   \n1     0.045354  0.814343  0.884302  0.712917  0.040983  0.423003  0.726116   \n2     0.045747  0.813519  0.884597  0.712486  0.040809  0.422454  0.726397   \n3     0.047270  0.813824  0.885389  0.713275  0.040509  0.422070  0.726600   \n4     0.036112  0.818934  0.883222  0.712234  0.038791  0.425694  0.724313   \n...        ...       ...       ...       ...       ...       ...       ...   \n1955  0.046900  0.811773  0.884741  0.711761  0.041072  0.421604  0.726617   \n1956  0.049071  0.812713  0.885598  0.713176  0.040937  0.421452  0.726687   \n1957  0.047486  0.813713  0.876084  0.713276  0.050609  0.428090  0.762211   \n1958  0.049821  0.810715  0.870102  0.712228  0.057901  0.430694  0.737648   \n1959  0.062697  0.807983  0.870226  0.714173  0.062442  0.429431  0.746447   \n\n            rn        T1        T2        TP        ST  pi2pi_pr  pi2pi_po  \\\n0     0.288666  0.024067  0.643411  0.967991  0.210000  0.000000  0.015020   \n1     0.288231  0.024067  0.232558  0.909492  0.229630  0.027357  0.015020   \n2     0.288305  0.022864  0.232558  0.910596  0.228571  0.027357  0.015020   \n3     0.288490  0.022864  0.240310  0.911700  0.227586  0.027357  0.008678   \n4     0.287615  0.027677  0.201550  0.901766  0.240000  0.021094  0.020360   \n...        ...       ...       ...       ...       ...       ...       ...   \n1955  0.288342  0.025271  0.279070  0.915011  0.225000  0.031641  0.018358   \n1956  0.288525  0.025271  0.279070  0.915011  0.225000  0.030653  0.017356   \n1957  0.286395  0.036101  0.333333  0.912804  0.226667  0.029664  0.051736   \n1958  0.285364  0.046931  0.488372  0.924945  0.219512  0.063612  0.112483   \n1959  0.286412  0.051745  0.635659  0.941501  0.214286  0.123599  0.010347   \n\n      area_peak  annotation  \n0      0.000992           0  \n1      0.000561           0  \n2      0.000578           0  \n3      0.000659           0  \n4      0.000249           1  \n...         ...         ...  \n1955   0.000684           0  \n1956   0.000793           0  \n1957   0.002078           0  \n1958   0.005547           0  \n1959   0.001778           0  \n\n[1960 rows x 16 columns]",
      "text/html": "<div>\n<style scoped>\n    .dataframe tbody tr th:only-of-type {\n        vertical-align: middle;\n    }\n\n    .dataframe tbody tr th {\n        vertical-align: top;\n    }\n\n    .dataframe thead th {\n        text-align: right;\n    }\n</style>\n<table border=\"1\" class=\"dataframe\">\n  <thead>\n    <tr style=\"text-align: right;\">\n      <th></th>\n      <th>asp</th>\n      <th>adp</th>\n      <th>adn</th>\n      <th>rp</th>\n      <th>d1</th>\n      <th>d2</th>\n      <th>rd</th>\n      <th>rn</th>\n      <th>T1</th>\n      <th>T2</th>\n      <th>TP</th>\n      <th>ST</th>\n      <th>pi2pi_pr</th>\n      <th>pi2pi_po</th>\n      <th>area_peak</th>\n      <th>annotation</th>\n    </tr>\n  </thead>\n  <tbody>\n    <tr>\n      <th>0</th>\n      <td>0.055274</td>\n      <td>0.823215</td>\n      <td>0.886627</td>\n      <td>0.719899</td>\n      <td>0.042081</td>\n      <td>0.425326</td>\n      <td>0.723122</td>\n      <td>0.288666</td>\n      <td>0.024067</td>\n      <td>0.643411</td>\n      <td>0.967991</td>\n      <td>0.210000</td>\n      <td>0.000000</td>\n      <td>0.015020</td>\n      <td>0.000992</td>\n      <td>0</td>\n    </tr>\n    <tr>\n      <th>1</th>\n      <td>0.045354</td>\n      <td>0.814343</td>\n      <td>0.884302</td>\n      <td>0.712917</td>\n      <td>0.040983</td>\n      <td>0.423003</td>\n      <td>0.726116</td>\n      <td>0.288231</td>\n      <td>0.024067</td>\n      <td>0.232558</td>\n      <td>0.909492</td>\n      <td>0.229630</td>\n      <td>0.027357</td>\n      <td>0.015020</td>\n      <td>0.000561</td>\n      <td>0</td>\n    </tr>\n    <tr>\n      <th>2</th>\n      <td>0.045747</td>\n      <td>0.813519</td>\n      <td>0.884597</td>\n      <td>0.712486</td>\n      <td>0.040809</td>\n      <td>0.422454</td>\n      <td>0.726397</td>\n      <td>0.288305</td>\n      <td>0.022864</td>\n      <td>0.232558</td>\n      <td>0.910596</td>\n      <td>0.228571</td>\n      <td>0.027357</td>\n      <td>0.015020</td>\n      <td>0.000578</td>\n      <td>0</td>\n    </tr>\n    <tr>\n      <th>3</th>\n      <td>0.047270</td>\n      <td>0.813824</td>\n      <td>0.885389</td>\n      <td>0.713275</td>\n      <td>0.040509</td>\n      <td>0.422070</td>\n      <td>0.726600</td>\n      <td>0.288490</td>\n      <td>0.022864</td>\n      <td>0.240310</td>\n      <td>0.911700</td>\n      <td>0.227586</td>\n      <td>0.027357</td>\n      <td>0.008678</td>\n      <td>0.000659</td>\n      <td>0</td>\n    </tr>\n    <tr>\n      <th>4</th>\n      <td>0.036112</td>\n      <td>0.818934</td>\n      <td>0.883222</td>\n      <td>0.712234</td>\n      <td>0.038791</td>\n      <td>0.425694</td>\n      <td>0.724313</td>\n      <td>0.287615</td>\n      <td>0.027677</td>\n      <td>0.201550</td>\n      <td>0.901766</td>\n      <td>0.240000</td>\n      <td>0.021094</td>\n      <td>0.020360</td>\n      <td>0.000249</td>\n      <td>1</td>\n    </tr>\n    <tr>\n      <th>...</th>\n      <td>...</td>\n      <td>...</td>\n      <td>...</td>\n      <td>...</td>\n      <td>...</td>\n      <td>...</td>\n      <td>...</td>\n      <td>...</td>\n      <td>...</td>\n      <td>...</td>\n      <td>...</td>\n      <td>...</td>\n      <td>...</td>\n      <td>...</td>\n      <td>...</td>\n      <td>...</td>\n    </tr>\n    <tr>\n      <th>1955</th>\n      <td>0.046900</td>\n      <td>0.811773</td>\n      <td>0.884741</td>\n      <td>0.711761</td>\n      <td>0.041072</td>\n      <td>0.421604</td>\n      <td>0.726617</td>\n      <td>0.288342</td>\n      <td>0.025271</td>\n      <td>0.279070</td>\n      <td>0.915011</td>\n      <td>0.225000</td>\n      <td>0.031641</td>\n      <td>0.018358</td>\n      <td>0.000684</td>\n      <td>0</td>\n    </tr>\n    <tr>\n      <th>1956</th>\n      <td>0.049071</td>\n      <td>0.812713</td>\n      <td>0.885598</td>\n      <td>0.713176</td>\n      <td>0.040937</td>\n      <td>0.421452</td>\n      <td>0.726687</td>\n      <td>0.288525</td>\n      <td>0.025271</td>\n      <td>0.279070</td>\n      <td>0.915011</td>\n      <td>0.225000</td>\n      <td>0.030653</td>\n      <td>0.017356</td>\n      <td>0.000793</td>\n      <td>0</td>\n    </tr>\n    <tr>\n      <th>1957</th>\n      <td>0.047486</td>\n      <td>0.813713</td>\n      <td>0.876084</td>\n      <td>0.713276</td>\n      <td>0.050609</td>\n      <td>0.428090</td>\n      <td>0.762211</td>\n      <td>0.286395</td>\n      <td>0.036101</td>\n      <td>0.333333</td>\n      <td>0.912804</td>\n      <td>0.226667</td>\n      <td>0.029664</td>\n      <td>0.051736</td>\n      <td>0.002078</td>\n      <td>0</td>\n    </tr>\n    <tr>\n      <th>1958</th>\n      <td>0.049821</td>\n      <td>0.810715</td>\n      <td>0.870102</td>\n      <td>0.712228</td>\n      <td>0.057901</td>\n      <td>0.430694</td>\n      <td>0.737648</td>\n      <td>0.285364</td>\n      <td>0.046931</td>\n      <td>0.488372</td>\n      <td>0.924945</td>\n      <td>0.219512</td>\n      <td>0.063612</td>\n      <td>0.112483</td>\n      <td>0.005547</td>\n      <td>0</td>\n    </tr>\n    <tr>\n      <th>1959</th>\n      <td>0.062697</td>\n      <td>0.807983</td>\n      <td>0.870226</td>\n      <td>0.714173</td>\n      <td>0.062442</td>\n      <td>0.429431</td>\n      <td>0.746447</td>\n      <td>0.286412</td>\n      <td>0.051745</td>\n      <td>0.635659</td>\n      <td>0.941501</td>\n      <td>0.214286</td>\n      <td>0.123599</td>\n      <td>0.010347</td>\n      <td>0.001778</td>\n      <td>0</td>\n    </tr>\n  </tbody>\n</table>\n<p>1960 rows × 16 columns</p>\n</div>"
     },
     "execution_count": 6,
     "metadata": {},
     "output_type": "execute_result"
    }
   ],
   "source": [
    "all_data_list[0]"
   ],
   "metadata": {
    "collapsed": false,
    "ExecuteTime": {
     "end_time": "2024-01-14T08:10:18.369988300Z",
     "start_time": "2024-01-14T08:10:18.336592300Z"
    }
   },
   "id": "31b518e8eb5dc66e"
  },
  {
   "cell_type": "markdown",
   "source": [
    "# Divide train/test"
   ],
   "metadata": {
    "collapsed": false
   },
   "id": "7098aa93f71a2207"
  },
  {
   "cell_type": "code",
   "execution_count": 7,
   "outputs": [],
   "source": [
    "# Split Data\n",
    "#A list of all csv is gived: because each element of a list represent a patient,\n",
    "# a patient will stay only or in train or in test\n",
    "train_list, test_list = train_test_split(all_data_list, test_size=0.2, random_state=42)\n",
    "#train_list, val_list = train_test_split(train_list, test_size=0.2, random_state=42)"
   ],
   "metadata": {
    "collapsed": false,
    "ExecuteTime": {
     "end_time": "2024-01-14T08:10:18.401015400Z",
     "start_time": "2024-01-14T08:10:18.365634500Z"
    }
   },
   "id": "533f760b5338243"
  },
  {
   "cell_type": "code",
   "execution_count": 8,
   "outputs": [],
   "source": [
    "#Create a dataframe only for train and one for all test data\n",
    "train_data = pd.DataFrame()\n",
    "i = 0\n",
    "for train in train_list:\n",
    "    train_data = pd.concat([train_data, train], ignore_index=True)\n",
    "    i = i + 1"
   ],
   "metadata": {
    "collapsed": false,
    "ExecuteTime": {
     "end_time": "2024-01-14T08:10:18.929357300Z",
     "start_time": "2024-01-14T08:10:18.378258100Z"
    }
   },
   "id": "f491145acd118c72"
  },
  {
   "cell_type": "code",
   "execution_count": 9,
   "outputs": [],
   "source": [
    "# Model Training\n",
    "X_train = train_data.drop('annotation', axis=1)\n",
    "y_train = train_data['annotation']"
   ],
   "metadata": {
    "collapsed": false,
    "ExecuteTime": {
     "end_time": "2024-01-14T08:10:18.994519Z",
     "start_time": "2024-01-14T08:10:18.930485500Z"
    }
   },
   "id": "ce53e9b489a2ecf7"
  },
  {
   "cell_type": "code",
   "execution_count": 10,
   "outputs": [
    {
     "name": "stdout",
     "output_type": "stream",
     "text": [
      "           0      1      2\n",
      "0       True  False  False\n",
      "1       True  False  False\n",
      "2       True  False  False\n",
      "3       True  False  False\n",
      "4       True  False  False\n",
      "...      ...    ...    ...\n",
      "137339  True  False  False\n",
      "137340  True  False  False\n",
      "137341  True  False  False\n",
      "137342  True  False  False\n",
      "137343  True  False  False\n",
      "\n",
      "[137344 rows x 3 columns]\n",
      "[[ True False False]\n",
      " [ True False False]\n",
      " [ True False False]\n",
      " ...\n",
      " [ True False False]\n",
      " [ True False False]\n",
      " [ True False False]]\n"
     ]
    }
   ],
   "source": [
    "# One-hot encoding\n",
    "one_hot_encoded_df = pd.get_dummies(y_train, columns=['annotation'])\n",
    "\n",
    "one_hot_encoded_array_train = one_hot_encoded_df.values\n",
    "\n",
    "print(one_hot_encoded_df)\n",
    "print(one_hot_encoded_array_train)"
   ],
   "metadata": {
    "collapsed": false,
    "ExecuteTime": {
     "end_time": "2024-01-14T08:10:18.998406100Z",
     "start_time": "2024-01-14T08:10:18.975037200Z"
    }
   },
   "id": "bf2d6cf9b2cb4ed9"
  },
  {
   "cell_type": "code",
   "execution_count": 11,
   "outputs": [
    {
     "data": {
      "text/plain": "'\\nval_data = pd.DataFrame()\\n\\nfor val in val_list:\\n    val_data = pd.concat([val_data, val], ignore_index=True) '"
     },
     "execution_count": 11,
     "metadata": {},
     "output_type": "execute_result"
    }
   ],
   "source": [
    "\n",
    "'''\n",
    "val_data = pd.DataFrame()\n",
    "\n",
    "for val in val_list:\n",
    "    val_data = pd.concat([val_data, val], ignore_index=True) '''"
   ],
   "metadata": {
    "collapsed": false,
    "ExecuteTime": {
     "end_time": "2024-01-14T08:10:19.034307400Z",
     "start_time": "2024-01-14T08:10:18.993516500Z"
    }
   },
   "id": "884f33f312645b43"
  },
  {
   "cell_type": "code",
   "execution_count": 12,
   "outputs": [
    {
     "data": {
      "text/plain": "\"X_val = val_data.drop('annotation', axis=1)\\ny_val = val_data['annotation'] \""
     },
     "execution_count": 12,
     "metadata": {},
     "output_type": "execute_result"
    }
   ],
   "source": [
    "'''X_val = val_data.drop('annotation', axis=1)\n",
    "y_val = val_data['annotation'] '''"
   ],
   "metadata": {
    "collapsed": false,
    "ExecuteTime": {
     "end_time": "2024-01-14T08:10:19.041390Z",
     "start_time": "2024-01-14T08:10:19.002881200Z"
    }
   },
   "id": "200cdc946a139044"
  },
  {
   "cell_type": "code",
   "execution_count": 13,
   "outputs": [
    {
     "data": {
      "text/plain": "\"one_hot_encoded_df_val = pd.get_dummies(y_val, columns=['annotation'])\\n\\none_hot_encoded_array_val = one_hot_encoded_df_val.values \""
     },
     "execution_count": 13,
     "metadata": {},
     "output_type": "execute_result"
    }
   ],
   "source": [
    "'''one_hot_encoded_df_val = pd.get_dummies(y_val, columns=['annotation'])\n",
    "\n",
    "one_hot_encoded_array_val = one_hot_encoded_df_val.values '''"
   ],
   "metadata": {
    "collapsed": false,
    "ExecuteTime": {
     "end_time": "2024-01-14T08:10:19.044842400Z",
     "start_time": "2024-01-14T08:10:19.017949Z"
    }
   },
   "id": "f75f581f1ca49711"
  },
  {
   "cell_type": "code",
   "execution_count": 14,
   "outputs": [],
   "source": [
    "test_data = pd.DataFrame()\n",
    "\n",
    "for test in test_list:\n",
    "    test_data = pd.concat([test_data, test], ignore_index=True)"
   ],
   "metadata": {
    "collapsed": false,
    "ExecuteTime": {
     "end_time": "2024-01-14T08:10:19.234774900Z",
     "start_time": "2024-01-14T08:10:19.027422300Z"
    }
   },
   "id": "637afae39029162"
  },
  {
   "cell_type": "code",
   "execution_count": 15,
   "outputs": [],
   "source": [
    "X_test = test_data.drop('annotation', axis=1)\n",
    "y_test= test_data['annotation']"
   ],
   "metadata": {
    "collapsed": false,
    "ExecuteTime": {
     "end_time": "2024-01-14T08:10:19.236914400Z",
     "start_time": "2024-01-14T08:10:19.072821700Z"
    }
   },
   "id": "8a7251a461255e88"
  },
  {
   "cell_type": "code",
   "execution_count": 16,
   "outputs": [],
   "source": [
    "one_hot_encoded_df_test = pd.get_dummies(y_test, columns=['annotation'])\n",
    "\n",
    "one_hot_encoded_array_test = one_hot_encoded_df_test.values"
   ],
   "metadata": {
    "collapsed": false,
    "ExecuteTime": {
     "end_time": "2024-01-14T08:10:19.283332200Z",
     "start_time": "2024-01-14T08:10:19.085366800Z"
    }
   },
   "id": "45e9498928bad2b"
  },
  {
   "cell_type": "code",
   "execution_count": 17,
   "outputs": [
    {
     "name": "stdout",
     "output_type": "stream",
     "text": [
      "Perc di N in train: 0.9240884203168686\n",
      "Perc di S in train: 0.04832391658900279\n",
      "Perc di V in train: 0.027587663094128613\n",
      "Perc di S in val: 0.9240884203168686\n",
      "Perc di S in val: 0.04832391658900279\n",
      "Perc di S in val: 0.027587663094128613\n",
      "Perc di S in test: 0.9049530732924645\n",
      "Perc di S in test: 0.03013616882764607\n",
      "Perc di S in test: 0.06491075787988933\n"
     ]
    }
   ],
   "source": [
    "N_train = (y_train == 0).sum() \n",
    "S_train = (y_train == 1).sum() \n",
    "V_train = (y_train == 2).sum() \n",
    "'''\n",
    "N_val = (y_val == 0).sum() \n",
    "S_val = (y_val == 1).sum() \n",
    "V_val = (y_val == 2).sum() \n",
    "\n",
    "'''\n",
    "N_test = (y_test == 0).sum() \n",
    "S_test = (y_test == 1).sum() \n",
    "V_test = (y_test == 2).sum() \n",
    "\n",
    "N_perc = N_train/(N_train+S_train+V_train)\n",
    "S_perc = S_train/(N_train+S_train+V_train)\n",
    "V_perc = V_train/(N_train+S_train+V_train)\n",
    "print(f\"Perc di N in train: {N_perc}\")\n",
    "print(f\"Perc di S in train: {S_perc}\")\n",
    "print(f\"Perc di V in train: {V_perc}\")\n",
    "'''\n",
    "N_perc = N_val/(N_val+S_val+V_val)\n",
    "S_perc = S_val/(N_val+S_val+V_val)\n",
    "V_perc = V_val/(N_val+S_val+V_val)\n",
    "'''\n",
    "print(f\"Perc di S in val: {N_perc}\")\n",
    "print(f\"Perc di S in val: {S_perc}\")\n",
    "print(f\"Perc di S in val: {V_perc}\")\n",
    "\n",
    "N_perc = N_test/(N_test+S_test+V_test)\n",
    "S_perc = S_test/(N_test+S_test+V_test)\n",
    "V_perc = V_test/(N_test+S_test+V_test)\n",
    "print(f\"Perc di S in test: {N_perc}\")\n",
    "print(f\"Perc di S in test: {S_perc}\")\n",
    "print(f\"Perc di S in test: {V_perc}\")\n"
   ],
   "metadata": {
    "collapsed": false,
    "ExecuteTime": {
     "end_time": "2024-01-14T08:10:19.284501800Z",
     "start_time": "2024-01-14T08:10:19.111065500Z"
    }
   },
   "id": "66f8c5b79913cfac"
  },
  {
   "cell_type": "markdown",
   "source": [
    "# Evaluation function"
   ],
   "metadata": {
    "collapsed": false
   },
   "id": "f7728cb324e43c7a"
  },
  {
   "cell_type": "code",
   "execution_count": 18,
   "outputs": [],
   "source": [
    "# produce a normalized convulational matrix\n",
    "def model_evaluation(y_predi, model_name_pred):\n",
    "\n",
    "    predicted_class = np.argmax(y_predi, axis=-1)\n",
    "    test_classes = np.argmax(one_hot_encoded_array_test, axis=-1)\n",
    "    cm = confusion_matrix(test_classes, predicted_class)\n",
    "    classes_name = ['N', 'S', 'V']\n",
    "    \n",
    "    \n",
    "    #Normalized cm\n",
    "    \n",
    "    cm = cm.astype('float') / cm.sum(axis=1)[:, np.newaxis]\n",
    "    plt.figure(figsize=(10, 8))\n",
    "    sns.heatmap(cm, xticklabels=list(classes_name), yticklabels=list(classes_name), cmap=\"Greens\", annot=True, fmt='.2f')\n",
    "    plt.ylabel('Actual labels')\n",
    "    plt.xlabel('Predicted labels')\n",
    "    plt.title(model_name_pred)\n",
    "    plt.show()"
   ],
   "metadata": {
    "collapsed": false,
    "ExecuteTime": {
     "end_time": "2024-01-14T08:10:19.285612900Z",
     "start_time": "2024-01-14T08:10:19.129950600Z"
    }
   },
   "id": "bc0b27b6d783191a"
  },
  {
   "cell_type": "markdown",
   "source": [
    "# Models"
   ],
   "metadata": {
    "collapsed": false
   },
   "id": "661f2f22cc395e04"
  },
  {
   "cell_type": "markdown",
   "source": [
    "## K fold"
   ],
   "metadata": {
    "collapsed": false
   },
   "id": "f81dd6fff096e474"
  },
  {
   "cell_type": "code",
   "outputs": [],
   "source": [
    "def downsample_majority_class(df, class_column):\n",
    "    \n",
    "    # Calculate the class counts\n",
    "    class_counts = df[class_column].value_counts()\n",
    "    \n",
    "    print(class_counts)\n",
    "\n",
    "    # Find the maximum value among the two least represented classes\n",
    "    min_class_size = class_counts.nsmallest(2).max()\n",
    "\n",
    "    subsampled_df = pd.DataFrame()\n",
    "\n",
    "    for class_label in class_counts.index:\n",
    "        class_subset = df[df[class_column] == class_label]\n",
    "\n",
    "        # Downsample if this is the majority class\n",
    "        if class_counts[class_label] > min_class_size:\n",
    "            class_subset = class_subset.sample(n=min_class_size, random_state=42)\n",
    "        \n",
    "        subsampled_df = pd.concat([subsampled_df, class_subset], ignore_index=True)\n",
    "        \n",
    "    class_counts_sub = subsampled_df[class_column].value_counts()\n",
    "    print(class_counts_sub)\n",
    "\n",
    "    return subsampled_df"
   ],
   "metadata": {
    "collapsed": false,
    "ExecuteTime": {
     "end_time": "2024-01-14T08:56:45.805456300Z",
     "start_time": "2024-01-14T08:56:45.778283900Z"
    }
   },
   "id": "bdd7cd96ae69c700",
   "execution_count": 41
  },
  {
   "cell_type": "code",
   "outputs": [],
   "source": [
    "import itertools\n",
    "#generate confusion matrix for k fold\n",
    "def generate_confusion_matrix(cnf_matrix, classes, normalize=False, title='Confusion matrix'):\n",
    "    if normalize:\n",
    "        cnf_matrix = cnf_matrix.astype('float') / cnf_matrix.sum(axis=1)[:, np.newaxis]\n",
    "        print(\"Normalized confusion matrix\")\n",
    "    else:\n",
    "        print('Confusion matrix, without normalization')\n",
    "\n",
    "    plt.imshow(cnf_matrix, interpolation='nearest', cmap=plt.get_cmap('Blues'))\n",
    "    plt.title(title)\n",
    "    plt.colorbar()\n",
    "\n",
    "    tick_marks = np.arange(len(classes))\n",
    "    plt.xticks(tick_marks, classes, rotation=45)\n",
    "    plt.yticks(tick_marks, classes)\n",
    "\n",
    "    fmt = '.2f' if normalize else 'd'\n",
    "    thresh = cnf_matrix.max() / 2.\n",
    "\n",
    "    for i, j in itertools.product(range(cnf_matrix.shape[0]), range(cnf_matrix.shape[1])):\n",
    "        plt.text(j, i, format(cnf_matrix[i, j], fmt), horizontalalignment=\"center\",\n",
    "                 color=\"white\" if cnf_matrix[i, j] > thresh else \"black\")\n",
    "\n",
    "    plt.tight_layout()\n",
    "    plt.ylabel('True label')\n",
    "    plt.xlabel('Predicted label')\n",
    "\n",
    "    return cnf_matrix"
   ],
   "metadata": {
    "collapsed": false,
    "ExecuteTime": {
     "end_time": "2024-01-14T08:30:05.171186800Z",
     "start_time": "2024-01-14T08:30:05.135273200Z"
    }
   },
   "id": "bf372da4cfa712de",
   "execution_count": 25
  },
  {
   "cell_type": "code",
   "outputs": [],
   "source": [
    "def plot_confusion_matrix(predicted_labels_list, y_test_list):\n",
    "    cnf_matrix = confusion_matrix(y_test_list, predicted_labels_list)\n",
    "    np.set_printoptions(precision=2)\n",
    "\n",
    "    # Plot normalized confusion matrix\n",
    "    plt.figure()\n",
    "    generate_confusion_matrix(cnf_matrix, classes=['N', 'S', 'V'], normalize=True, title='Normalized confusion matrix')\n",
    "    plt.show()"
   ],
   "metadata": {
    "collapsed": false,
    "ExecuteTime": {
     "end_time": "2024-01-14T08:37:39.231443400Z",
     "start_time": "2024-01-14T08:37:39.216273400Z"
    }
   },
   "id": "9de503e3c76a1026",
   "execution_count": 31
  },
  {
   "cell_type": "code",
   "outputs": [
    {
     "name": "stdout",
     "output_type": "stream",
     "text": [
      "{0: 0.08, 1: 0.96, 2: 0.96}\n",
      "Training for fold 1 ...\n",
      "{0: 0.08, 1: 0.96, 2: 0.96}\n",
      "Training for fold 2 ...\n",
      "{0: 0.08, 1: 0.95, 2: 0.96}\n",
      "Training for fold 3 ...\n",
      "{0: 0.08, 1: 0.95, 2: 0.96}\n",
      "Training for fold 4 ...\n",
      "{0: 0.08, 1: 0.95, 2: 0.97}\n",
      "Training for fold 5 ...\n",
      "{0: 0.08, 1: 0.96, 2: 0.96}\n",
      "Training for fold 6 ...\n",
      "{0: 0.08, 1: 0.96, 2: 0.97}\n",
      "Training for fold 7 ...\n",
      "{0: 0.08, 1: 0.96, 2: 0.96}\n",
      "Training for fold 8 ...\n",
      "{0: 0.08, 1: 0.96, 2: 0.96}\n",
      "Training for fold 9 ...\n",
      "{0: 0.08, 1: 0.95, 2: 0.96}\n",
      "Training for fold 10 ...\n",
      "{0: 0.08, 1: 0.95, 2: 0.96}\n",
      "Training for fold 11 ...\n",
      "{0: 0.07, 1: 0.96, 2: 0.96}\n",
      "Training for fold 12 ...\n",
      "{0: 0.08, 1: 0.96, 2: 0.96}\n",
      "Training for fold 13 ...\n",
      "{0: 0.08, 1: 0.95, 2: 0.97}\n",
      "Training for fold 14 ...\n",
      "{0: 0.08, 1: 0.96, 2: 0.97}\n",
      "Training for fold 15 ...\n",
      "{0: 0.08, 1: 0.95, 2: 0.96}\n",
      "Training for fold 16 ...\n",
      "{0: 0.08, 1: 0.95, 2: 0.96}\n",
      "Training for fold 17 ...\n",
      "{0: 0.08, 1: 0.95, 2: 0.97}\n",
      "Training for fold 18 ...\n",
      "{0: 0.08, 1: 0.96, 2: 0.96}\n",
      "Training for fold 19 ...\n",
      "{0: 0.08, 1: 0.95, 2: 0.96}\n",
      "Training for fold 20 ...\n",
      "{0: 0.08, 1: 0.95, 2: 0.96}\n",
      "Training for fold 21 ...\n"
     ]
    }
   ],
   "source": [
    "# K fold\n",
    "from sklearn.model_selection import KFold\n",
    "from sklearn.ensemble import RandomForestClassifier\n",
    "\n",
    "num_folds = 21\n",
    "\n",
    "# Convert list of dataframes into a single dataframe with an additional 'patient_id' column\n",
    "all_data_df = pd.DataFrame()\n",
    "i = 0\n",
    "for df in all_data_list:\n",
    "    df['patient_id'] = i\n",
    "    all_data_df = pd.concat([all_data_df, df], ignore_index=True)\n",
    "    i = i + 1\n",
    "\n",
    "# Split dataframe into features and labels\n",
    "X = all_data_df.drop(['annotation', 'patient_id'], axis=1).values\n",
    "y = all_data_df['annotation']\n",
    "patient_ids = all_data_df['patient_id'].values\n",
    "\n",
    "kfold = KFold(n_splits=num_folds, shuffle=True)\n",
    "\n",
    "fold_no = 1\n",
    "\n",
    "predicted_targets = np.array([])\n",
    "actual_targets = np.array([])\n",
    "\n",
    "for train_index, test_index in kfold.split(np.unique(patient_ids)):\n",
    "    # Splitting the patient IDs for training and testing\n",
    "    train_patient_ids = np.unique(patient_ids)[train_index]\n",
    "    test_patient_ids = np.unique(patient_ids)[test_index]\n",
    "    \n",
    "    # Handle class imbalance in the training set \n",
    "    train_df = downsample_majority_class(all_data_df[all_data_df['patient_id'].isin(train_patient_ids)].drop(['patient_id'], axis=1), 'annotation')\n",
    "\n",
    "    # Creating training and testing sets\n",
    "    X_train = train_df.drop(['annotation'], axis=1)\n",
    "    y_train = train_df['annotation']\n",
    "    one_hot_encoded_y_train = (pd.get_dummies(y_train, columns=['annotation'])).values\n",
    "    \n",
    "    X_test = all_data_df[all_data_df['patient_id'].isin(test_patient_ids)].drop(['annotation', 'patient_id'], axis=1)\n",
    "    y_test = all_data_df[all_data_df['patient_id'].isin(test_patient_ids)]['annotation']\n",
    "    one_hot_encoded_y_test = (pd.get_dummies(y_test, columns=['annotation'])).values\n",
    "    \n",
    "    randomForestModel = RandomForestClassifier(n_estimators=50,\n",
    "                                               criterion='entropy',\n",
    "                                               max_depth=15,\n",
    "                                               min_samples_split=22,\n",
    "                                               class_weight='balanced',\n",
    "                                               n_jobs=-1,\n",
    "                                               )\n",
    "    \n",
    "    print(f'Training for fold {fold_no} ...')\n",
    "\n",
    "    #randomForestModel.fit(X_train, one_hot_encoded_y_train)\n",
    "    randomForestModel.fit(X_train, y_train)\n",
    "    y_pred = randomForestModel.predict(X_test)\n",
    "    \n",
    "    predicted_targets = np.append(predicted_targets, y_pred)\n",
    "    actual_targets = np.append(actual_targets, y_test)\n",
    "    \n",
    "    fold_no += 1"
   ],
   "metadata": {
    "collapsed": false,
    "ExecuteTime": {
     "end_time": "2024-01-14T09:16:37.103696600Z",
     "start_time": "2024-01-14T09:11:25.477520600Z"
    }
   },
   "id": "e58b28cb74c8ef47",
   "execution_count": 47
  },
  {
   "cell_type": "code",
   "outputs": [
    {
     "name": "stdout",
     "output_type": "stream",
     "text": [
      "Normalized confusion matrix\n"
     ]
    },
    {
     "data": {
      "text/plain": "<Figure size 640x480 with 2 Axes>",
      "image/png": "[encoded data removed]"
     },
     "metadata": {},
     "output_type": "display_data"
    }
   ],
   "source": [
    "plot_confusion_matrix(predicted_targets, actual_targets)"
   ],
   "metadata": {
    "collapsed": false,
    "ExecuteTime": {
     "end_time": "2024-01-14T09:16:49.083382200Z",
     "start_time": "2024-01-14T09:16:48.791753900Z"
    }
   },
   "id": "b940099a152b2f63",
   "execution_count": 48
  },
  {
   "cell_type": "markdown",
   "source": [
    "\n",
    "from imblearn.ensemble import EasyEnsembleClassifier\n",
    "\n",
    "modelEasyEns = EasyEnsembleClassifier(n_estimators=100, \n",
    "                                      n_jobs=-1, \n",
    "                                      random_state=42,\n",
    "                                      sampling_strategy='majority',\n",
    "                                      estimator=None\n",
    "                                      )\n",
    "modelEasyEns.fit(X_train, \n",
    "                 y_train)\n",
    "\n",
    "y_predEasyEns = modelEasyEns.predict(X_test)\n",
    "one_hot_encoded_pred_ens = pd.get_dummies(y_predEasyEns, columns=['0'])\n",
    "\n",
    "model_evaluation(one_hot_encoded_pred_ens, \"EasyEnsembleClassifier\")"
   ],
   "metadata": {
    "collapsed": false
   },
   "id": "3bd7e7c103b81cbe"
  },
  {
   "cell_type": "markdown",
   "source": [
    "# Multiple models evaluated together"
   ],
   "metadata": {
    "collapsed": false
   },
   "id": "a32439e6e8eddaa7"
  },
  {
   "cell_type": "code",
   "execution_count": 20,
   "outputs": [
    {
     "data": {
      "text/plain": "\"from sklearn.model_selection import train_test_split\\nfrom sklearn.ensemble import RandomForestClassifier\\nfrom sklearn.metrics import accuracy_score, classification_report\\nfrom sklearn.svm import SVC\\nfrom sklearn.neighbors import KNeighborsClassifier\\nfrom sklearn.naive_bayes import GaussianNB\\nfrom xgboost import XGBClassifier\\nfrom lightgbm import LGBMClassifier\\nfrom sklearn.neural_network import MLPClassifier\\nfrom imblearn.ensemble import BalancedRandomForestClassifier\\n# Models\\nmodels = {\\n   #'Random Forest': RandomForestClassifier(n_estimators=100, random_state=42),\\n    'Random Forest 2': RandomForestClassifier(n_estimators=100, \\n                                              criterion='gini', \\n                                              max_depth=15 ,\\n                                              min_samples_split=22, \\n                                              class_weight=[{0: 0.5779660434423975, 1: 6.675863437872171, 2: 8.333250743310208}] ),\\n    'Balanced Random Forest': BalancedRandomForestClassifier(n_estimators=100, class_weight={0: 0.5779660434423975, 1: 6.675863437872171, 2: 8.333250743310208}),\\n    'K-Nearest Neighbors': KNeighborsClassifier(n_neighbors=5),\\n    'Naive Bayes': GaussianNB(),\\n    'XGBoost': XGBClassifier(),\\n    'LightGBM': LGBMClassifier(),\\n    'Neural Network': MLPClassifier(hidden_layer_sizes=(64, 32), max_iter=1000, random_state=42)\\n}\\n\\n# Train and evaluate each model\\n\\nfor model_name, model in models.items():\\n    model.fit(X_train, \\n              one_hot_encoded_array_train)\\n    y_pred = model.predict(X_test)\\n    model_evaluation(y_pred, model_name)\\n    \""
     },
     "execution_count": 20,
     "metadata": {},
     "output_type": "execute_result"
    }
   ],
   "source": [
    "'''from sklearn.model_selection import train_test_split\n",
    "from sklearn.ensemble import RandomForestClassifier\n",
    "from sklearn.metrics import accuracy_score, classification_report\n",
    "from sklearn.svm import SVC\n",
    "from sklearn.neighbors import KNeighborsClassifier\n",
    "from sklearn.naive_bayes import GaussianNB\n",
    "from xgboost import XGBClassifier\n",
    "from lightgbm import LGBMClassifier\n",
    "from sklearn.neural_network import MLPClassifier\n",
    "from imblearn.ensemble import BalancedRandomForestClassifier\n",
    "# Models\n",
    "models = {\n",
    "   #'Random Forest': RandomForestClassifier(n_estimators=100, random_state=42),\n",
    "    'Random Forest 2': RandomForestClassifier(n_estimators=100, \n",
    "                                              criterion='gini', \n",
    "                                              max_depth=15 ,\n",
    "                                              min_samples_split=22, \n",
    "                                              class_weight=[{0: 0.5779660434423975, 1: 6.675863437872171, 2: 8.333250743310208}] ),\n",
    "    'Balanced Random Forest': BalancedRandomForestClassifier(n_estimators=100, class_weight={0: 0.5779660434423975, 1: 6.675863437872171, 2: 8.333250743310208}),\n",
    "    'K-Nearest Neighbors': KNeighborsClassifier(n_neighbors=5),\n",
    "    'Naive Bayes': GaussianNB(),\n",
    "    'XGBoost': XGBClassifier(),\n",
    "    'LightGBM': LGBMClassifier(),\n",
    "    'Neural Network': MLPClassifier(hidden_layer_sizes=(64, 32), max_iter=1000, random_state=42)\n",
    "}\n",
    "\n",
    "# Train and evaluate each model\n",
    "\n",
    "for model_name, model in models.items():\n",
    "    model.fit(X_train, \n",
    "              one_hot_encoded_array_train)\n",
    "    y_pred = model.predict(X_test)\n",
    "    model_evaluation(y_pred, model_name)\n",
    "    '''"
   ],
   "metadata": {
    "collapsed": false,
    "ExecuteTime": {
     "end_time": "2024-01-13T18:33:39.460625Z",
     "start_time": "2024-01-13T18:33:39.451765300Z"
    }
   },
   "id": "58c40d95e396a73f"
  },
  {
   "cell_type": "markdown",
   "source": [
    "# Grid search"
   ],
   "metadata": {
    "collapsed": false
   },
   "id": "173d5d1f04d00712"
  },
  {
   "cell_type": "code",
   "execution_count": 21,
   "outputs": [
    {
     "data": {
      "text/plain": "\"from sklearn.model_selection import GridSearchCV\\n\\nparameter_grid = { \\n    'n_estimators': [50, 100],\\n    'max_features': [None, 'sqrt', 'log2', 3],\\n    'max_depth' : [10, 15],\\n    'criterion' :['gini', 'entropy'],\\n    'min_samples_split' : [22, 42]\\n}\\nmy_model = RandomForestClassifier()\\nclf = GridSearchCV(my_model, parameter_grid, cv = 5, scoring = 'f1', n_jobs = -1, verbose = 1)\\nclf.fit(X_train, y_train)\\nfrom sklearn import metrics\\nprint(clf.best_params_)\\nprint(clf.best_score_)\\n\""
     },
     "execution_count": 21,
     "metadata": {},
     "output_type": "execute_result"
    }
   ],
   "source": [
    "'''from sklearn.model_selection import GridSearchCV\n",
    "\n",
    "parameter_grid = { \n",
    "    'n_estimators': [50, 100],\n",
    "    'max_features': [None, 'sqrt', 'log2', 3],\n",
    "    'max_depth' : [10, 15],\n",
    "    'criterion' :['gini', 'entropy'],\n",
    "    'min_samples_split' : [22, 42]\n",
    "}\n",
    "my_model = RandomForestClassifier()\n",
    "clf = GridSearchCV(my_model, parameter_grid, cv = 5, scoring = 'f1', n_jobs = -1, verbose = 1)\n",
    "clf.fit(X_train, y_train)\n",
    "from sklearn import metrics\n",
    "print(clf.best_params_)\n",
    "print(clf.best_score_)\n",
    "'''"
   ],
   "metadata": {
    "collapsed": false,
    "ExecuteTime": {
     "end_time": "2024-01-13T18:33:39.481989Z",
     "start_time": "2024-01-13T18:33:39.460625Z"
    }
   },
   "id": "eed82717b621a960"
  },
  {
   "cell_type": "markdown",
   "source": [
    "#Balanced random forest"
   ],
   "metadata": {
    "collapsed": false
   },
   "id": "53cb81d30b34608c"
  },
  {
   "cell_type": "code",
   "execution_count": 22,
   "outputs": [
    {
     "name": "stdout",
     "output_type": "stream",
     "text": [
      "{0: 0.08, 1: 0.95, 2: 0.97}\n"
     ]
    }
   ],
   "source": [
    "nN = np.count_nonzero(y_train == 0)\n",
    "nV = np.count_nonzero(y_train == 1)\n",
    "nS = np.count_nonzero(y_train == 2)\n",
    "\n",
    "class_sum = nN+nV+nS\n",
    "wN = round(1-(nN/class_sum),2)\n",
    "wV = round(1-(nV/class_sum),2)  \n",
    "wS = round(1-(nS/class_sum),2)\n",
    "\n",
    "class_weights = {0: wN, 1: wV, 2: wS}\n",
    "\n",
    "print(class_weights)"
   ],
   "metadata": {
    "collapsed": false,
    "ExecuteTime": {
     "end_time": "2024-01-13T18:33:39.674180600Z",
     "start_time": "2024-01-13T18:33:39.473459300Z"
    }
   },
   "id": "84f50dad568aeaa7"
  },
  {
   "cell_type": "code",
   "execution_count": 23,
   "outputs": [
    {
     "data": {
      "text/plain": "<Figure size 1000x800 with 2 Axes>",
      "image/png": "[encoded data removed]"
     },
     "metadata": {},
     "output_type": "display_data"
    }
   ],
   "source": [
    "from imblearn.ensemble import BalancedRandomForestClassifier\n",
    "randomForestModel = BalancedRandomForestClassifier(n_estimators= 100,\n",
    "                                                   criterion= 'gini',\n",
    "                                                   max_depth= 20,\n",
    "                                                   min_samples_split= 30,\n",
    "                                                   min_samples_leaf = 1,\n",
    "                                                   min_weight_fraction_leaf = 0.0,\n",
    "                                                   max_features= None,\n",
    "                                                   sampling_strategy='not minority',\n",
    "                                                   replacement= False,\n",
    "                                                   n_jobs= -1,\n",
    "                                                   random_state=100,\n",
    "                                                   class_weight= class_weights,\n",
    "                                                \n",
    "                                                   bootstrap=True\n",
    "                                                   )\n",
    "randomForestModel.fit(X_train, \n",
    "              y_train)\n",
    "y_pred = randomForestModel.predict(X_test)\n",
    "one_hot_encoded_pred = pd.get_dummies(y_pred, columns=['0'])\n",
    "\n",
    "model_evaluation(one_hot_encoded_pred, \"Random forest balanced\")"
   ],
   "metadata": {
    "collapsed": false,
    "ExecuteTime": {
     "end_time": "2024-01-13T18:33:53.041200200Z",
     "start_time": "2024-01-13T18:33:39.488121700Z"
    }
   },
   "id": "5628fe8909bd99f7"
  },
  {
   "cell_type": "markdown",
   "source": [
    "# Smote trial"
   ],
   "metadata": {
    "collapsed": false
   },
   "id": "f12e2106fb726e64"
  },
  {
   "cell_type": "code",
   "execution_count": 24,
   "outputs": [
    {
     "name": "stderr",
     "output_type": "stream",
     "text": [
      "C:\\Users\\cricr\\PycharmProjects\\Ai-proj\\.venv\\Lib\\site-packages\\imblearn\\ensemble\\_forest.py:546: FutureWarning: The default of `sampling_strategy` will change from `'auto'` to `'all'` in version 0.13. This change will follow the implementation proposed in the original paper. Set to `'all'` to silence this warning and adopt the future behaviour.\n",
      "  warn(\n",
      "C:\\Users\\cricr\\PycharmProjects\\Ai-proj\\.venv\\Lib\\site-packages\\imblearn\\ensemble\\_forest.py:558: FutureWarning: The default of `replacement` will change from `False` to `True` in version 0.13. This change will follow the implementation proposed in the original paper. Set to `True` to silence this warning and adopt the future behaviour.\n",
      "  warn(\n"
     ]
    },
    {
     "data": {
      "text/plain": "<Figure size 1000x800 with 2 Axes>",
      "image/png": "[encoded data removed]"
     },
     "metadata": {},
     "output_type": "display_data"
    }
   ],
   "source": [
    "from imblearn.over_sampling import SMOTE\n",
    "from imblearn.under_sampling import RandomUnderSampler\n",
    "from imblearn.pipeline import Pipeline\n",
    "\n",
    "# Calculate class ratios for oversampling and undersampling\n",
    "class_ratios = {\n",
    "    0: len(y_train[y_train == 0]),\n",
    "    1: int(len(y_train[y_train == 1]) * 1.2),\n",
    "    2: int(len(y_train[y_train == 2]) * 1.3)\n",
    "}\n",
    "\n",
    "under_ratios = {\n",
    "    0: int(len(y_train[y_train == 0]) *0.4),\n",
    "    1: len(y_train[y_train == 1]),\n",
    "    2: len(y_train[y_train == 2])\n",
    "}\n",
    "\n",
    "# Create the SMOTE and RandomUnderSampler pipeline\n",
    "resampling_pipeline = Pipeline([\n",
    "    ('smote', SMOTE(sampling_strategy=class_ratios, random_state=42)),\n",
    "    ('under_sampler', RandomUnderSampler(sampling_strategy=under_ratios, random_state=42))\n",
    "])\n",
    "\n",
    "# Apply resampling to X_train and y_train\n",
    "X_train_resampled, y_train_resampled = resampling_pipeline.fit_resample(X_train, y_train)\n",
    "\n",
    "\n",
    "'''\n",
    "# Define the RandomForestClassifier\n",
    "randomForestModel = BalancedRandomForestClassifier(n_estimators= 50,\n",
    "                                                   criterion= 'entropy',\n",
    "                                                   max_depth= 10,\n",
    "                                                   min_samples_split= 30,\n",
    "                                                   min_samples_leaf = 1,\n",
    "                                                   min_weight_fraction_leaf = 0.0,\n",
    "                                                   max_features= None,\n",
    "                                                   sampling_strategy='all',\n",
    "                                                   replacement= False,\n",
    "                                                   n_jobs= -1,\n",
    "                                                   random_state=42,\n",
    "                                                   class_weight='balanced',\n",
    "                                                   bootstrap=True)\n",
    "                                                   \n",
    "                                                   '''\n",
    "\n",
    "randomForestModel = BalancedRandomForestClassifier(n_estimators= 100,\n",
    "                                                   criterion= 'gini',\n",
    "                                                   max_depth= 10,\n",
    "                                                   min_samples_split= 30,\n",
    "                                                   min_samples_leaf = 1,\n",
    "                                                   min_weight_fraction_leaf = 0.0,\n",
    "                                                   max_features= None,\n",
    "                                                   n_jobs= -1,\n",
    "                                                   random_state=42,\n",
    "                                                   class_weight=class_weights,\n",
    "                                                   bootstrap=True)\n",
    "\n",
    "\n",
    "randomForestModel.fit(X_train_resampled, y_train_resampled)\n",
    "\n",
    "y_pred = randomForestModel.predict(X_test)\n",
    "\n",
    "one_hot_encoded_pred = pd.get_dummies(y_pred, columns=['0'])\n",
    "\n",
    "model_evaluation(one_hot_encoded_pred, \"Random forest smote\")\n"
   ],
   "metadata": {
    "collapsed": false,
    "ExecuteTime": {
     "end_time": "2024-01-13T18:34:04.041250200Z",
     "start_time": "2024-01-13T18:33:53.037744100Z"
    }
   },
   "id": "bf383e8070e7a378"
  }
 ],
 "metadata": {
  "kernelspec": {
   "display_name": "Python 3",
   "language": "python",
   "name": "python3"
  },
  "language_info": {
   "codemirror_mode": {
    "name": "ipython",
    "version": 2
   },
   "file_extension": ".py",
   "mimetype": "text/x-python",
   "name": "python",
   "nbconvert_exporter": "python",
   "pygments_lexer": "ipython2",
   "version": "2.7.6"
  }
 },
 "nbformat": 4,
 "nbformat_minor": 5
}
