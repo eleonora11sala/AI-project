{
 "cells": [
  {
   "cell_type": "code",
   "execution_count": 7,
   "id": "initial_id",
   "metadata": {
    "collapsed": true,
    "ExecuteTime": {
     "end_time": "2023-12-20T20:34:40.793884500Z",
     "start_time": "2023-12-20T20:34:40.668814800Z"
    }
   },
   "outputs": [],
   "source": [
    "import pandas as pd\n",
    "import numpy as np, os\n",
    "from sklearn.model_selection import train_test_split\n",
    "from sklearn.preprocessing import LabelEncoder\n",
    "from sklearn.metrics import accuracy_score\n",
    "import tensorflow as tf\n",
    "from keras.models import Sequential\n",
    "from keras.layers import Dense, Dropout\n",
    "from keras.utils import to_categorical\n",
    "import keras.backend as K\n",
    "import matplotlib.pyplot as plt\n",
    "from sklearn.metrics import confusion_matrix\n",
    "import seaborn as sns"
   ]
  },
  {
   "cell_type": "markdown",
   "source": [
    "# Load Data"
   ],
   "metadata": {
    "collapsed": false
   },
   "id": "1e50d4d505fc2a45"
  },
  {
   "cell_type": "code",
   "execution_count": 8,
   "outputs": [],
   "source": [
    "folder_path = u'C:/Users/user/Desktop/AI-project/features/128' \n",
    "\n",
    "# List all files in the folder\n",
    "file_names = [file for file in os.listdir(folder_path) if file.endswith('_128.csv')]\n",
    "\n",
    "# Initialize an empty DataFrame to concatenate all data\n",
    "all_data = pd.DataFrame()\n",
    "all_data_list = []\n",
    "# Loop through each file and concatenate the data\n",
    "for file_name in file_names:\n",
    "    file_path = os.path.join(folder_path, file_name)\n",
    "    data = pd.read_csv(file_path)\n",
    "    all_data_list.append(data)\n",
    "    all_data = pd.concat([all_data, data], ignore_index=True)\n",
    "\n",
    "# Now 'all_data_list' contains a list of all data from all CSV files"
   ],
   "metadata": {
    "collapsed": false,
    "ExecuteTime": {
     "end_time": "2023-12-20T20:34:42.342170100Z",
     "start_time": "2023-12-20T20:34:40.695900700Z"
    }
   },
   "id": "13a4166f80afa3b"
  },
  {
   "cell_type": "code",
   "execution_count": 9,
   "outputs": [],
   "source": [
    "folder_path = u'C:/Users/user/Desktop/AI-project/features/250' \n",
    "\n",
    "# List all files in the folder\n",
    "file_names = [file for file in os.listdir(folder_path) if file.endswith('_250.csv')]\n",
    "\n",
    "# Loop through each file and concatenate the data\n",
    "for file_name in file_names:\n",
    "    file_path = os.path.join(folder_path, file_name)\n",
    "    data = pd.read_csv(file_path)\n",
    "    all_data_list.append(data)\n",
    "    all_data = pd.concat([all_data, data], ignore_index=True)\n",
    "\n",
    "# Now 'all_data_list' contains a list of all data from all CSV files"
   ],
   "metadata": {
    "collapsed": false,
    "ExecuteTime": {
     "end_time": "2023-12-20T20:34:43.899145100Z",
     "start_time": "2023-12-20T20:34:42.342170100Z"
    }
   },
   "id": "2d9aa1da9bec23aa"
  },
  {
   "cell_type": "markdown",
   "source": [
    "# Label mapping"
   ],
   "metadata": {
    "collapsed": false
   },
   "id": "18b454bef1ece199"
  },
  {
   "cell_type": "code",
   "execution_count": 10,
   "outputs": [],
   "source": [
    "#Sobstitute N, S, V with 0, 1, 2\n",
    "label_mapping = {'N': 0, 'S': 1, 'V': 2}\n",
    "for data in all_data_list:\n",
    "    data['annotation'] = data['annotation'].replace(label_mapping)"
   ],
   "metadata": {
    "collapsed": false,
    "ExecuteTime": {
     "end_time": "2023-12-20T20:34:44.283389300Z",
     "start_time": "2023-12-20T20:34:43.904649100Z"
    }
   },
   "id": "bc1c8093311631c7"
  },
  {
   "cell_type": "markdown",
   "source": [
    "# Divide train/test"
   ],
   "metadata": {
    "collapsed": false
   },
   "id": "7098aa93f71a2207"
  },
  {
   "cell_type": "code",
   "execution_count": 11,
   "outputs": [],
   "source": [
    "# Split Data\n",
    "#A list of all csv is gived: because each element of a list represent a patient,\n",
    "# a patient will stay only or in train or in test\n",
    "train_list, test_list = train_test_split(all_data_list, test_size=0.2, random_state=42)\n",
    "#train_list, val_list = train_test_split(train_list, test_size=0.2, random_state=42)"
   ],
   "metadata": {
    "collapsed": false,
    "ExecuteTime": {
     "end_time": "2023-12-20T20:34:44.317262300Z",
     "start_time": "2023-12-20T20:34:44.291421100Z"
    }
   },
   "id": "533f760b5338243"
  },
  {
   "cell_type": "code",
   "execution_count": 12,
   "outputs": [],
   "source": [
    "#Create a dataframe only for train and one for all test data\n",
    "train_data = pd.DataFrame()\n",
    "i = 0\n",
    "for train in train_list:\n",
    "    train_data = pd.concat([train_data, train], ignore_index=True)\n",
    "    i = i + 1"
   ],
   "metadata": {
    "collapsed": false,
    "ExecuteTime": {
     "end_time": "2023-12-20T20:34:45.106636900Z",
     "start_time": "2023-12-20T20:34:44.309722400Z"
    }
   },
   "id": "f491145acd118c72"
  },
  {
   "cell_type": "code",
   "execution_count": 13,
   "outputs": [],
   "source": [
    "# Model Training\n",
    "X_train = train_data.drop('annotation', axis=1)\n",
    "y_train = train_data['annotation']"
   ],
   "metadata": {
    "collapsed": false,
    "ExecuteTime": {
     "end_time": "2023-12-20T20:34:45.167256200Z",
     "start_time": "2023-12-20T20:34:45.113140500Z"
    }
   },
   "id": "ce53e9b489a2ecf7"
  },
  {
   "cell_type": "code",
   "execution_count": 14,
   "outputs": [
    {
     "name": "stdout",
     "output_type": "stream",
     "text": [
      "           0      1      2\n",
      "0       True  False  False\n",
      "1       True  False  False\n",
      "2       True  False  False\n",
      "3       True  False  False\n",
      "4       True  False  False\n",
      "...      ...    ...    ...\n",
      "137339  True  False  False\n",
      "137340  True  False  False\n",
      "137341  True  False  False\n",
      "137342  True  False  False\n",
      "137343  True  False  False\n",
      "\n",
      "[137344 rows x 3 columns]\n",
      "[[ True False False]\n",
      " [ True False False]\n",
      " [ True False False]\n",
      " ...\n",
      " [ True False False]\n",
      " [ True False False]\n",
      " [ True False False]]\n"
     ]
    }
   ],
   "source": [
    "# One-hot encoding\n",
    "one_hot_encoded_df = pd.get_dummies(y_train, columns=['annotation'])\n",
    "\n",
    "one_hot_encoded_array_train = one_hot_encoded_df.values\n",
    "\n",
    "print(one_hot_encoded_df)\n",
    "print(one_hot_encoded_array_train)"
   ],
   "metadata": {
    "collapsed": false,
    "ExecuteTime": {
     "end_time": "2023-12-20T20:34:45.214062900Z",
     "start_time": "2023-12-20T20:34:45.145270200Z"
    }
   },
   "id": "bf2d6cf9b2cb4ed9"
  },
  {
   "cell_type": "code",
   "execution_count": 15,
   "outputs": [
    {
     "data": {
      "text/plain": "'\\nval_data = pd.DataFrame()\\n\\nfor val in val_list:\\n    val_data = pd.concat([val_data, val], ignore_index=True) '"
     },
     "execution_count": 15,
     "metadata": {},
     "output_type": "execute_result"
    }
   ],
   "source": [
    "#Create a dataframe only for train and one for all test data\n",
    "'''\n",
    "val_data = pd.DataFrame()\n",
    "\n",
    "for val in val_list:\n",
    "    val_data = pd.concat([val_data, val], ignore_index=True) '''"
   ],
   "metadata": {
    "collapsed": false,
    "ExecuteTime": {
     "end_time": "2023-12-20T20:34:45.389912200Z",
     "start_time": "2023-12-20T20:34:45.187350500Z"
    }
   },
   "id": "884f33f312645b43"
  },
  {
   "cell_type": "code",
   "execution_count": 16,
   "outputs": [
    {
     "data": {
      "text/plain": "\"X_val = val_data.drop('annotation', axis=1)\\ny_val = val_data['annotation'] \""
     },
     "execution_count": 16,
     "metadata": {},
     "output_type": "execute_result"
    }
   ],
   "source": [
    "'''X_val = val_data.drop('annotation', axis=1)\n",
    "y_val = val_data['annotation'] '''"
   ],
   "metadata": {
    "collapsed": false,
    "ExecuteTime": {
     "end_time": "2023-12-20T20:34:45.393415300Z",
     "start_time": "2023-12-20T20:34:45.226525200Z"
    }
   },
   "id": "200cdc946a139044"
  },
  {
   "cell_type": "code",
   "execution_count": 17,
   "outputs": [
    {
     "data": {
      "text/plain": "\"one_hot_encoded_df_val = pd.get_dummies(y_val, columns=['annotation'])\\n\\none_hot_encoded_array_val = one_hot_encoded_df_val.values \""
     },
     "execution_count": 17,
     "metadata": {},
     "output_type": "execute_result"
    }
   ],
   "source": [
    "'''one_hot_encoded_df_val = pd.get_dummies(y_val, columns=['annotation'])\n",
    "\n",
    "one_hot_encoded_array_val = one_hot_encoded_df_val.values '''"
   ],
   "metadata": {
    "collapsed": false,
    "ExecuteTime": {
     "end_time": "2023-12-20T20:34:45.397424200Z",
     "start_time": "2023-12-20T20:34:45.246634600Z"
    }
   },
   "id": "f75f581f1ca49711"
  },
  {
   "cell_type": "code",
   "execution_count": 18,
   "outputs": [],
   "source": [
    "test_data = pd.DataFrame()\n",
    "\n",
    "for test in test_list:\n",
    "    test_data = pd.concat([test_data, test], ignore_index=True)"
   ],
   "metadata": {
    "collapsed": false,
    "ExecuteTime": {
     "end_time": "2023-12-20T20:34:45.584394Z",
     "start_time": "2023-12-20T20:34:45.270436700Z"
    }
   },
   "id": "637afae39029162"
  },
  {
   "cell_type": "code",
   "execution_count": 19,
   "outputs": [],
   "source": [
    "X_test = test_data.drop('annotation', axis=1)\n",
    "y_test= test_data['annotation']"
   ],
   "metadata": {
    "collapsed": false,
    "ExecuteTime": {
     "end_time": "2023-12-20T20:34:45.638950100Z",
     "start_time": "2023-12-20T20:34:45.373844900Z"
    }
   },
   "id": "8a7251a461255e88"
  },
  {
   "cell_type": "code",
   "execution_count": 20,
   "outputs": [],
   "source": [
    "one_hot_encoded_df_test = pd.get_dummies(y_test, columns=['annotation'])\n",
    "\n",
    "one_hot_encoded_array_test = one_hot_encoded_df_test.values"
   ],
   "metadata": {
    "collapsed": false,
    "ExecuteTime": {
     "end_time": "2023-12-20T20:34:45.785646200Z",
     "start_time": "2023-12-20T20:34:45.399419400Z"
    }
   },
   "id": "45e9498928bad2b"
  },
  {
   "cell_type": "code",
   "execution_count": 21,
   "outputs": [
    {
     "name": "stdout",
     "output_type": "stream",
     "text": [
      "Perc di N in train: 0.9240884203168686\n",
      "Perc di S in train: 0.04832391658900279\n",
      "Perc di V in train: 0.027587663094128613\n",
      "Perc di S in test: 0.9049530732924645\n",
      "Perc di S in test: 0.03013616882764607\n",
      "Perc di S in test: 0.06491075787988933\n"
     ]
    }
   ],
   "source": [
    "N_train = (y_train == 0).sum() \n",
    "S_train = (y_train == 1).sum() \n",
    "V_train = (y_train == 2).sum() \n",
    "'''\n",
    "N_val = (y_val == 0).sum() \n",
    "S_val = (y_val == 1).sum() \n",
    "V_val = (y_val == 2).sum() \n",
    "\n",
    "'''\n",
    "N_test = (y_test == 0).sum() \n",
    "S_test = (y_test == 1).sum() \n",
    "V_test = (y_test == 2).sum() \n",
    "\n",
    "N_perc = N_train/(N_train+S_train+V_train)\n",
    "S_perc = S_train/(N_train+S_train+V_train)\n",
    "V_perc = V_train/(N_train+S_train+V_train)\n",
    "print(f\"Perc di N in train: {N_perc}\")\n",
    "print(f\"Perc di S in train: {S_perc}\")\n",
    "print(f\"Perc di V in train: {V_perc}\")\n",
    "'''\n",
    "N_perc = N_val/(N_val+S_val+V_val)\n",
    "S_perc = S_val/(N_val+S_val+V_val)\n",
    "V_perc = V_val/(N_val+S_val+V_val)\n",
    "\n",
    "print(f\"Perc di S in val: {N_perc}\")\n",
    "print(f\"Perc di S in val: {S_perc}\")\n",
    "print(f\"Perc di S in val: {V_perc}\")\n",
    "'''\n",
    "N_perc = N_test/(N_test+S_test+V_test)\n",
    "S_perc = S_test/(N_test+S_test+V_test)\n",
    "V_perc = V_test/(N_test+S_test+V_test)\n",
    "print(f\"Perc di S in test: {N_perc}\")\n",
    "print(f\"Perc di S in test: {S_perc}\")\n",
    "print(f\"Perc di S in test: {V_perc}\")\n"
   ],
   "metadata": {
    "collapsed": false,
    "ExecuteTime": {
     "end_time": "2023-12-20T20:34:45.789985500Z",
     "start_time": "2023-12-20T20:34:45.438507300Z"
    }
   },
   "id": "66f8c5b79913cfac"
  },
  {
   "cell_type": "markdown",
   "source": [
    "# Model"
   ],
   "metadata": {
    "collapsed": false
   },
   "id": "661f2f22cc395e04"
  },
  {
   "cell_type": "code",
   "execution_count": 22,
   "outputs": [],
   "source": [
    "def compute_class_freqs(labels):\n",
    "\n",
    "    N = labels.shape[0]\n",
    "\n",
    "    positive_frequencies = np.sum(labels, axis = 0) / N\n",
    "    negative_frequencies = 1 - positive_frequencies\n",
    "\n",
    "    return positive_frequencies, negative_frequencies"
   ],
   "metadata": {
    "collapsed": false,
    "ExecuteTime": {
     "end_time": "2023-12-20T20:34:45.790982800Z",
     "start_time": "2023-12-20T20:34:45.469651900Z"
    }
   },
   "id": "661364fdf6ac93d5"
  },
  {
   "cell_type": "code",
   "execution_count": 23,
   "outputs": [
    {
     "name": "stdout",
     "output_type": "stream",
     "text": [
      "pos freqs: [0.92408842 0.04832392 0.02758766]\n",
      "neg freqs: [0.07591158 0.95167608 0.97241234]\n"
     ]
    }
   ],
   "source": [
    "freq_pos, freq_neg = compute_class_freqs(one_hot_encoded_array_train)\n",
    "\n",
    "print(f\"pos freqs: {freq_pos}\")\n",
    "\n",
    "print(f\"neg freqs: {freq_neg}\")"
   ],
   "metadata": {
    "collapsed": false,
    "ExecuteTime": {
     "end_time": "2023-12-20T20:34:45.792978300Z",
     "start_time": "2023-12-20T20:34:45.493438100Z"
    }
   },
   "id": "9294257b56898d19"
  },
  {
   "cell_type": "code",
   "execution_count": 24,
   "outputs": [
    {
     "data": {
      "text/plain": "{0: 0.07591157968313145, 1: 0.9516760834109972, 2: 0.9724123369058714}"
     },
     "execution_count": 24,
     "metadata": {},
     "output_type": "execute_result"
    }
   ],
   "source": [
    "pos_weights = freq_neg\n",
    "neg_weights = freq_pos\n",
    "pos_contribution = freq_pos * pos_weights\n",
    "neg_contribution = freq_neg * neg_weights\n",
    "\n",
    "keys = np.arange(0,3,1)\n",
    "weight_dictionary_freq = dict(zip(keys, pos_weights))\n",
    "weight_dictionary_freq"
   ],
   "metadata": {
    "collapsed": false,
    "ExecuteTime": {
     "end_time": "2023-12-20T20:34:45.835620300Z",
     "start_time": "2023-12-20T20:34:45.518817Z"
    }
   },
   "id": "31939fca096637a4"
  },
  {
   "cell_type": "code",
   "execution_count": 25,
   "outputs": [
    {
     "data": {
      "text/plain": "{0: 0.5410737641626877, 1: 10.346843453367486, 2: 18.124043283188175}"
     },
     "execution_count": 25,
     "metadata": {},
     "output_type": "execute_result"
    }
   ],
   "source": [
    "#@title Calculating Weights\n",
    "from sklearn.utils.class_weight import compute_class_weight\n",
    "\n",
    "def calculating_class_weights(y_true):\n",
    "    num_classes = y_true.shape[1]\n",
    "    weights = np.empty([num_classes, 2])\n",
    "    for i in range(num_classes):\n",
    "        weights[i] = compute_class_weight(class_weight='balanced', classes=[0.,1.], y=y_true[:, i])\n",
    "    return weights\n",
    "\n",
    "class_weights = calculating_class_weights(one_hot_encoded_array_train)\n",
    "\n",
    "keys = np.arange(0,3,1)\n",
    "weight_dictionary_fold = dict(zip(keys, class_weights.T[1]))\n",
    "weight_dictionary_fold"
   ],
   "metadata": {
    "collapsed": false,
    "ExecuteTime": {
     "end_time": "2023-12-20T20:34:46.053643400Z",
     "start_time": "2023-12-20T20:34:45.564031500Z"
    }
   },
   "id": "7f4ed3fadbeac45"
  },
  {
   "cell_type": "code",
   "execution_count": 26,
   "outputs": [],
   "source": [
    "def model_evaluation(y_predi, model_name_pred):\n",
    "\n",
    "    predicted_class = np.argmax(y_predi, axis=-1)\n",
    "    test_classes = np.argmax(one_hot_encoded_array_test, axis=-1)\n",
    "    cm = confusion_matrix(test_classes, predicted_class)\n",
    "    classes_name = ['N', 'S', 'V']\n",
    "    '''\n",
    "    plt.figure(figsize=(10, 8))\n",
    "    sns.heatmap(cm, xticklabels=list(classes_name), yticklabels=list(classes_name), cmap=\"Greens\", annot=True, fmt='.2f')\n",
    "    plt.ylabel('Actual labels')\n",
    "    plt.xlabel('Predicted labels')\n",
    "    plt.show()\n",
    "    '''\n",
    "    \n",
    "    #Normalized cm\n",
    "    \n",
    "    cm = cm.astype('float') / cm.sum(axis=1)[:, np.newaxis]\n",
    "    plt.figure(figsize=(10, 8))\n",
    "    sns.heatmap(cm, xticklabels=list(classes_name), yticklabels=list(classes_name), cmap=\"Greens\", annot=True, fmt='.2f')\n",
    "    plt.ylabel('Actual labels')\n",
    "    plt.xlabel('Predicted labels')\n",
    "    plt.title(model_name_pred)\n",
    "    plt.show()"
   ],
   "metadata": {
    "collapsed": false,
    "ExecuteTime": {
     "end_time": "2023-12-20T20:34:46.054194300Z",
     "start_time": "2023-12-20T20:34:45.650073300Z"
    }
   },
   "id": "1e998f5b887c67d8"
  },
  {
   "cell_type": "markdown",
   "source": [
    "# AdaBoost"
   ],
   "metadata": {
    "collapsed": false
   },
   "id": "628d134e7184734f"
  },
  {
   "cell_type": "code",
   "execution_count": 27,
   "outputs": [],
   "source": [
    "from imblearn.ensemble import EasyEnsembleClassifier\n",
    "\n",
    "modelEasyEns = EasyEnsembleClassifier(n_estimators=100, n_jobs=-1, random_state=42)\n",
    "modelEasyEns.fit(X_train, y_train)\n",
    "\n",
    "y_predEasyEns = modelEasyEns.predict(X_test)"
   ],
   "metadata": {
    "collapsed": false,
    "ExecuteTime": {
     "end_time": "2023-12-20T20:36:34.030294500Z",
     "start_time": "2023-12-20T20:34:45.678743600Z"
    }
   },
   "id": "ec129b92dd018449"
  },
  {
   "cell_type": "code",
   "execution_count": 28,
   "outputs": [
    {
     "data": {
      "text/plain": "<Figure size 1000x800 with 2 Axes>",
      "image/png": "[encoded data removed]"
     },
     "metadata": {},
     "output_type": "display_data"
    }
   ],
   "source": [
    "one_hot_encoded_pred_ens = pd.get_dummies(y_predEasyEns, columns=['0'])\n",
    "\n",
    "model_evaluation(one_hot_encoded_pred_ens, \"EasyEnsembleClassifier\")"
   ],
   "metadata": {
    "collapsed": false,
    "ExecuteTime": {
     "end_time": "2023-12-20T20:36:34.868792300Z",
     "start_time": "2023-12-20T20:36:34.033820800Z"
    }
   },
   "id": "3493df72fd864d07"
  },
  {
   "cell_type": "markdown",
   "source": [
    "# Random Forest"
   ],
   "metadata": {
    "collapsed": false
   },
   "id": "9210a167068bbab6"
  },
  {
   "cell_type": "code",
   "execution_count": 29,
   "outputs": [
    {
     "data": {
      "text/plain": "\"from sklearn.model_selection import GridSearchCV\\n\\nparameter_grid = { \\n    'n_estimators': [50, 100],\\n    'max_features': [None, 'sqrt', 'log2', 3],\\n    'max_depth' : [10, 15],\\n    'criterion' :['gini', 'entropy'],\\n    'min_samples_split' : [22, 42]\\n}\\nmy_model = RandomForestClassifier()\\nclf = GridSearchCV(my_model, parameter_grid, cv = 5, scoring = 'f1', n_jobs = -1, verbose = 1)\\nclf.fit(X_train, y_train)\\nfrom sklearn import metrics\\nprint(clf.best_params_)\\nprint(clf.best_score_)\\n\""
     },
     "execution_count": 29,
     "metadata": {},
     "output_type": "execute_result"
    }
   ],
   "source": [
    "'''from sklearn.model_selection import GridSearchCV\n",
    "\n",
    "parameter_grid = { \n",
    "    'n_estimators': [50, 100],\n",
    "    'max_features': [None, 'sqrt', 'log2', 3],\n",
    "    'max_depth' : [10, 15],\n",
    "    'criterion' :['gini', 'entropy'],\n",
    "    'min_samples_split' : [22, 42]\n",
    "}\n",
    "my_model = RandomForestClassifier()\n",
    "clf = GridSearchCV(my_model, parameter_grid, cv = 5, scoring = 'f1', n_jobs = -1, verbose = 1)\n",
    "clf.fit(X_train, y_train)\n",
    "from sklearn import metrics\n",
    "print(clf.best_params_)\n",
    "print(clf.best_score_)\n",
    "'''"
   ],
   "metadata": {
    "collapsed": false,
    "ExecuteTime": {
     "end_time": "2023-12-20T20:36:35.253597100Z",
     "start_time": "2023-12-20T20:36:34.871983400Z"
    }
   },
   "id": "eed82717b621a960"
  },
  {
   "cell_type": "code",
   "execution_count": null,
   "outputs": [],
   "source": [
    "from sklearn.ensemble import RandomForestClassifier\n",
    "randomForestModel = RandomForestClassifier(n_estimators=100, \n",
    "                                              criterion='gini', \n",
    "                                              class_weight='balanced' )\n",
    "randomForestModel.fit(X_train, y_train)\n",
    "\n",
    "y_predRanFor = randomForestModel.predict(X_test)"
   ],
   "metadata": {
    "collapsed": false,
    "is_executing": true,
    "ExecuteTime": {
     "start_time": "2023-12-20T20:36:34.899176800Z"
    }
   },
   "id": "d3661e87fd06ba46"
  },
  {
   "cell_type": "code",
   "execution_count": null,
   "outputs": [],
   "source": [
    "one_hot_encoded_pred = pd.get_dummies(y_predRanFor, columns=['0'])\n",
    "\n",
    "model_evaluation(one_hot_encoded_pred, \"Random forest weighted\")"
   ],
   "metadata": {
    "collapsed": false,
    "is_executing": true
   },
   "id": "7a64a5032149987b"
  },
  {
   "cell_type": "code",
   "execution_count": null,
   "outputs": [],
   "source": [
    "nN = np.count_nonzero(y_train == 0)\n",
    "nV = np.count_nonzero(y_train == 1)\n",
    "nS = np.count_nonzero(y_train == 2)\n",
    "\n",
    "class_sum = nN+nV+nS\n",
    "wN = round(1-(nN/class_sum),2)\n",
    "wV = round(1-(nV/class_sum),2)  \n",
    "wS = round(1-(nS/class_sum),2)\n",
    "\n",
    "class_weights = {0: wN+0.42, 1: wV+0.03, 2: wS+0.02}\n",
    "\n",
    "print(class_weights)"
   ],
   "metadata": {
    "collapsed": false,
    "is_executing": true
   },
   "id": "84f50dad568aeaa7"
  },
  {
   "cell_type": "markdown",
   "source": [
    "# Balanced Random Forest"
   ],
   "metadata": {
    "collapsed": false
   },
   "id": "3537d7f4ead46c6"
  },
  {
   "cell_type": "code",
   "execution_count": null,
   "outputs": [],
   "source": [
    "from imblearn.ensemble import BalancedRandomForestClassifier\n",
    "randomForestModel = BalancedRandomForestClassifier(n_estimators= 100,\n",
    "                                                   criterion= 'gini',\n",
    "                                                   max_depth= 20,\n",
    "                                                   min_samples_split= 30,\n",
    "                                                   min_samples_leaf = 1,\n",
    "                                                   min_weight_fraction_leaf = 0.0,\n",
    "                                                   max_features= None,\n",
    "                                                   sampling_strategy='not minority',\n",
    "                                                   replacement= False,\n",
    "                                                   n_jobs= -1,\n",
    "                                                   random_state=42,\n",
    "                                                   class_weight= class_weights,\n",
    "                                                   bootstrap=True\n",
    "                                                   )\n",
    "randomForestModel.fit(X_train, \n",
    "              y_train)\n",
    "y_pred = randomForestModel.predict(X_test)\n",
    "one_hot_encoded_pred = pd.get_dummies(y_pred, columns=['0'])\n",
    "\n",
    "model_evaluation(one_hot_encoded_pred, \"Random forest balanced\")"
   ],
   "metadata": {
    "collapsed": false,
    "is_executing": true
   },
   "id": "5628fe8909bd99f7"
  },
  {
   "cell_type": "markdown",
   "source": [
    "# KNN"
   ],
   "metadata": {
    "collapsed": false
   },
   "id": "1175d7ef454535ea"
  },
  {
   "cell_type": "code",
   "execution_count": null,
   "outputs": [],
   "source": [
    "from sklearn.neighbors import KNeighborsClassifier\n",
    "kneig  = KNeighborsClassifier(n_neighbors=10)\n",
    "\n",
    "kneig.fit(X_train, \n",
    "              y_train)\n",
    "y_pred = kneig.predict(X_test)\n",
    "one_hot_encoded_pred = pd.get_dummies(y_pred, columns=['0'])\n",
    "\n",
    "model_evaluation(one_hot_encoded_pred, \"kneig\")"
   ],
   "metadata": {
    "collapsed": false,
    "is_executing": true
   },
   "id": "17233323cfe8904"
  },
  {
   "cell_type": "code",
   "execution_count": null,
   "outputs": [],
   "source": [
    "from sklearn.model_selection import train_test_split\n",
    "from sklearn.ensemble import RandomForestClassifier\n",
    "from sklearn.metrics import accuracy_score, classification_report\n",
    "from sklearn.svm import SVC\n",
    "from sklearn.neighbors import KNeighborsClassifier\n",
    "from sklearn.naive_bayes import GaussianNB\n",
    "from xgboost import XGBClassifier\n",
    "from lightgbm import LGBMClassifier\n",
    "from sklearn.neural_network import MLPClassifier\n",
    "from imblearn.ensemble import BalancedRandomForestClassifier\n",
    "# Models\n",
    "models = {\n",
    "   #'Random Forest': RandomForestClassifier(n_estimators=100, random_state=42),\n",
    "    'Random Forest 2': RandomForestClassifier(n_estimators=100, \n",
    "                                              criterion='gini', \n",
    "                                              max_depth=15 ,\n",
    "                                              min_samples_split=22, \n",
    "                                              #class_weight=[{0: 0.5779660434423975, 1: 6.675863437872171, 2: 8.333250743310208}] \n",
    "                                              ),\n",
    "    'Balanced Random Forest': BalancedRandomForestClassifier(n_estimators=100, class_weight={0: 0.5779660434423975, 1: 6.675863437872171, 2: 8.333250743310208}),\n",
    "    'K-Nearest Neighbors': KNeighborsClassifier(n_neighbors=5),\n",
    "    'Naive Bayes': GaussianNB(),\n",
    "    'XGBoost': XGBClassifier(),\n",
    "    'LightGBM': LGBMClassifier(),\n",
    "    'Neural Network': MLPClassifier(hidden_layer_sizes=(64, 32), max_iter=1000, random_state=42)\n",
    "}\n",
    "\n",
    "# Train and evaluate each model\n",
    "\n",
    "for model_name, model in models.items():\n",
    "    model.fit(X_train, \n",
    "              one_hot_encoded_array_train)\n",
    "    y_pred = model.predict(X_test)\n",
    "    model_evaluation(y_pred, model_name)\n",
    "    "
   ],
   "metadata": {
    "collapsed": false,
    "is_executing": true
   },
   "id": "58c40d95e396a73f"
  }
 ],
 "metadata": {
  "kernelspec": {
   "display_name": "Python 3",
   "language": "python",
   "name": "python3"
  },
  "language_info": {
   "codemirror_mode": {
    "name": "ipython",
    "version": 2
   },
   "file_extension": ".py",
   "mimetype": "text/x-python",
   "name": "python",
   "nbconvert_exporter": "python",
   "pygments_lexer": "ipython2",
   "version": "2.7.6"
  }
 },
 "nbformat": 4,
 "nbformat_minor": 5
}
