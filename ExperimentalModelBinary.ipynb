{
 "cells": [
  {
   "cell_type": "code",
   "execution_count": 1,
   "id": "initial_id",
   "metadata": {
    "collapsed": true,
    "ExecuteTime": {
     "end_time": "2024-01-16T14:57:13.544319300Z",
     "start_time": "2024-01-16T14:57:02.405295900Z"
    }
   },
   "outputs": [],
   "source": [
    "import pandas as pd\n",
    "import numpy as np, os\n",
    "from sklearn.model_selection import train_test_split\n",
    "\n",
    "import matplotlib.pyplot as plt\n",
    "from sklearn.metrics import confusion_matrix\n",
    "import seaborn as sns"
   ]
  },
  {
   "cell_type": "markdown",
   "source": [
    "# Load Data"
   ],
   "metadata": {
    "collapsed": false
   },
   "id": "1e50d4d505fc2a45"
  },
  {
   "cell_type": "code",
   "execution_count": 2,
   "outputs": [],
   "source": [
    "folder_path = u'C:/Users/cricr/PycharmProjects/AI-project/features/128' \n",
    "\n",
    "# List all files in the folder\n",
    "file_names = [file for file in os.listdir(folder_path) if file.endswith('_128.csv')]\n",
    "\n",
    "# Initialize an empty DataFrame to concatenate all data\n",
    "all_data = pd.DataFrame()\n",
    "all_data_list = []\n",
    "# Loop through each file and concatenate the data\n",
    "for file_name in file_names:\n",
    "    file_path = os.path.join(folder_path, file_name)\n",
    "    data = pd.read_csv(file_path)\n",
    "    all_data_list.append(data)\n",
    "    all_data = pd.concat([all_data, data], ignore_index=True)\n"
   ],
   "metadata": {
    "collapsed": false,
    "ExecuteTime": {
     "end_time": "2024-01-16T14:57:15.653598900Z",
     "start_time": "2024-01-16T14:57:13.544319300Z"
    }
   },
   "id": "13a4166f80afa3b"
  },
  {
   "cell_type": "code",
   "execution_count": 3,
   "outputs": [],
   "source": [
    "folder_path = u'C:/Users/cricr/PycharmProjects/AI-project/features/250' \n",
    "\n",
    "# List all files in the folder\n",
    "file_names = [file for file in os.listdir(folder_path) if file.endswith('_250.csv')]\n",
    "\n",
    "# Loop through each file and concatenate the data\n",
    "for file_name in file_names:\n",
    "    file_path = os.path.join(folder_path, file_name)\n",
    "    data = pd.read_csv(file_path)\n",
    "    all_data_list.append(data)\n",
    "    all_data = pd.concat([all_data, data], ignore_index=True)\n",
    "\n",
    "# Now 'all_data_list' contains a list of all data from all CSV files"
   ],
   "metadata": {
    "collapsed": false,
    "ExecuteTime": {
     "end_time": "2024-01-16T14:57:17.111836700Z",
     "start_time": "2024-01-16T14:57:15.654601Z"
    }
   },
   "id": "2d9aa1da9bec23aa"
  },
  {
   "cell_type": "markdown",
   "source": [
    "# Label mapping"
   ],
   "metadata": {
    "collapsed": false
   },
   "id": "18b454bef1ece199"
  },
  {
   "cell_type": "code",
   "execution_count": 4,
   "outputs": [],
   "source": [
    "#Sobstitute N, S, V with 0, 1, 2\n",
    "label_mapping = {'N': 0, 'S': 1, 'V': 1}\n",
    "for data in all_data_list:\n",
    "    data['annotation'] = data['annotation'].replace(label_mapping)"
   ],
   "metadata": {
    "collapsed": false,
    "ExecuteTime": {
     "end_time": "2024-01-16T14:57:17.220607100Z",
     "start_time": "2024-01-16T14:57:17.113845300Z"
    }
   },
   "id": "bc1c8093311631c7"
  },
  {
   "cell_type": "markdown",
   "source": [
    "# Drop positions columns    "
   ],
   "metadata": {
    "collapsed": false
   },
   "id": "f1d5154e9e2a386f"
  },
  {
   "cell_type": "code",
   "execution_count": 5,
   "outputs": [],
   "source": [
    "for i in range(len(all_data_list)):\n",
    "    all_data_list[i] = all_data_list[i].drop(['peak_pos', 'onset', 'diastolic_notch'], axis=1)"
   ],
   "metadata": {
    "collapsed": false,
    "ExecuteTime": {
     "end_time": "2024-01-16T14:57:17.299529600Z",
     "start_time": "2024-01-16T14:57:17.222615700Z"
    }
   },
   "id": "2ff8f8973756b3db"
  },
  {
   "cell_type": "code",
   "execution_count": 6,
   "outputs": [
    {
     "data": {
      "text/plain": "           asp       adp       adn        rp        d1        d2        rd  \\\n0     0.055274  0.823215  0.886627  0.719899  0.042081  0.425326  0.723122   \n1     0.045354  0.814343  0.884302  0.712917  0.040983  0.423003  0.726116   \n2     0.045747  0.813519  0.884597  0.712486  0.040809  0.422454  0.726397   \n3     0.047270  0.813824  0.885389  0.713275  0.040509  0.422070  0.726600   \n4     0.036112  0.818934  0.883222  0.712234  0.038791  0.425694  0.724313   \n...        ...       ...       ...       ...       ...       ...       ...   \n1955  0.046900  0.811773  0.884741  0.711761  0.041072  0.421604  0.726617   \n1956  0.049071  0.812713  0.885598  0.713176  0.040937  0.421452  0.726687   \n1957  0.047486  0.813713  0.876084  0.713276  0.050609  0.428090  0.762211   \n1958  0.049821  0.810715  0.870102  0.712228  0.057901  0.430694  0.737648   \n1959  0.062697  0.807983  0.870226  0.714173  0.062442  0.429431  0.746447   \n\n            rn        T1        T2        TP        ST  pi2pi_pr  pi2pi_po  \\\n0     0.288666  0.024067  0.643411  0.967991  0.210000  0.000000  0.015020   \n1     0.288231  0.024067  0.232558  0.909492  0.229630  0.027357  0.015020   \n2     0.288305  0.022864  0.232558  0.910596  0.228571  0.027357  0.015020   \n3     0.288490  0.022864  0.240310  0.911700  0.227586  0.027357  0.008678   \n4     0.287615  0.027677  0.201550  0.901766  0.240000  0.021094  0.020360   \n...        ...       ...       ...       ...       ...       ...       ...   \n1955  0.288342  0.025271  0.279070  0.915011  0.225000  0.031641  0.018358   \n1956  0.288525  0.025271  0.279070  0.915011  0.225000  0.030653  0.017356   \n1957  0.286395  0.036101  0.333333  0.912804  0.226667  0.029664  0.051736   \n1958  0.285364  0.046931  0.488372  0.924945  0.219512  0.063612  0.112483   \n1959  0.286412  0.051745  0.635659  0.941501  0.214286  0.123599  0.010347   \n\n      area_peak  annotation  \n0      0.000992           0  \n1      0.000561           0  \n2      0.000578           0  \n3      0.000659           0  \n4      0.000249           1  \n...         ...         ...  \n1955   0.000684           0  \n1956   0.000793           0  \n1957   0.002078           0  \n1958   0.005547           0  \n1959   0.001778           0  \n\n[1960 rows x 16 columns]",
      "text/html": "<div>\n<style scoped>\n    .dataframe tbody tr th:only-of-type {\n        vertical-align: middle;\n    }\n\n    .dataframe tbody tr th {\n        vertical-align: top;\n    }\n\n    .dataframe thead th {\n        text-align: right;\n    }\n</style>\n<table border=\"1\" class=\"dataframe\">\n  <thead>\n    <tr style=\"text-align: right;\">\n      <th></th>\n      <th>asp</th>\n      <th>adp</th>\n      <th>adn</th>\n      <th>rp</th>\n      <th>d1</th>\n      <th>d2</th>\n      <th>rd</th>\n      <th>rn</th>\n      <th>T1</th>\n      <th>T2</th>\n      <th>TP</th>\n      <th>ST</th>\n      <th>pi2pi_pr</th>\n      <th>pi2pi_po</th>\n      <th>area_peak</th>\n      <th>annotation</th>\n    </tr>\n  </thead>\n  <tbody>\n    <tr>\n      <th>0</th>\n      <td>0.055274</td>\n      <td>0.823215</td>\n      <td>0.886627</td>\n      <td>0.719899</td>\n      <td>0.042081</td>\n      <td>0.425326</td>\n      <td>0.723122</td>\n      <td>0.288666</td>\n      <td>0.024067</td>\n      <td>0.643411</td>\n      <td>0.967991</td>\n      <td>0.210000</td>\n      <td>0.000000</td>\n      <td>0.015020</td>\n      <td>0.000992</td>\n      <td>0</td>\n    </tr>\n    <tr>\n      <th>1</th>\n      <td>0.045354</td>\n      <td>0.814343</td>\n      <td>0.884302</td>\n      <td>0.712917</td>\n      <td>0.040983</td>\n      <td>0.423003</td>\n      <td>0.726116</td>\n      <td>0.288231</td>\n      <td>0.024067</td>\n      <td>0.232558</td>\n      <td>0.909492</td>\n      <td>0.229630</td>\n      <td>0.027357</td>\n      <td>0.015020</td>\n      <td>0.000561</td>\n      <td>0</td>\n    </tr>\n    <tr>\n      <th>2</th>\n      <td>0.045747</td>\n      <td>0.813519</td>\n      <td>0.884597</td>\n      <td>0.712486</td>\n      <td>0.040809</td>\n      <td>0.422454</td>\n      <td>0.726397</td>\n      <td>0.288305</td>\n      <td>0.022864</td>\n      <td>0.232558</td>\n      <td>0.910596</td>\n      <td>0.228571</td>\n      <td>0.027357</td>\n      <td>0.015020</td>\n      <td>0.000578</td>\n      <td>0</td>\n    </tr>\n    <tr>\n      <th>3</th>\n      <td>0.047270</td>\n      <td>0.813824</td>\n      <td>0.885389</td>\n      <td>0.713275</td>\n      <td>0.040509</td>\n      <td>0.422070</td>\n      <td>0.726600</td>\n      <td>0.288490</td>\n      <td>0.022864</td>\n      <td>0.240310</td>\n      <td>0.911700</td>\n      <td>0.227586</td>\n      <td>0.027357</td>\n      <td>0.008678</td>\n      <td>0.000659</td>\n      <td>0</td>\n    </tr>\n    <tr>\n      <th>4</th>\n      <td>0.036112</td>\n      <td>0.818934</td>\n      <td>0.883222</td>\n      <td>0.712234</td>\n      <td>0.038791</td>\n      <td>0.425694</td>\n      <td>0.724313</td>\n      <td>0.287615</td>\n      <td>0.027677</td>\n      <td>0.201550</td>\n      <td>0.901766</td>\n      <td>0.240000</td>\n      <td>0.021094</td>\n      <td>0.020360</td>\n      <td>0.000249</td>\n      <td>1</td>\n    </tr>\n    <tr>\n      <th>...</th>\n      <td>...</td>\n      <td>...</td>\n      <td>...</td>\n      <td>...</td>\n      <td>...</td>\n      <td>...</td>\n      <td>...</td>\n      <td>...</td>\n      <td>...</td>\n      <td>...</td>\n      <td>...</td>\n      <td>...</td>\n      <td>...</td>\n      <td>...</td>\n      <td>...</td>\n      <td>...</td>\n    </tr>\n    <tr>\n      <th>1955</th>\n      <td>0.046900</td>\n      <td>0.811773</td>\n      <td>0.884741</td>\n      <td>0.711761</td>\n      <td>0.041072</td>\n      <td>0.421604</td>\n      <td>0.726617</td>\n      <td>0.288342</td>\n      <td>0.025271</td>\n      <td>0.279070</td>\n      <td>0.915011</td>\n      <td>0.225000</td>\n      <td>0.031641</td>\n      <td>0.018358</td>\n      <td>0.000684</td>\n      <td>0</td>\n    </tr>\n    <tr>\n      <th>1956</th>\n      <td>0.049071</td>\n      <td>0.812713</td>\n      <td>0.885598</td>\n      <td>0.713176</td>\n      <td>0.040937</td>\n      <td>0.421452</td>\n      <td>0.726687</td>\n      <td>0.288525</td>\n      <td>0.025271</td>\n      <td>0.279070</td>\n      <td>0.915011</td>\n      <td>0.225000</td>\n      <td>0.030653</td>\n      <td>0.017356</td>\n      <td>0.000793</td>\n      <td>0</td>\n    </tr>\n    <tr>\n      <th>1957</th>\n      <td>0.047486</td>\n      <td>0.813713</td>\n      <td>0.876084</td>\n      <td>0.713276</td>\n      <td>0.050609</td>\n      <td>0.428090</td>\n      <td>0.762211</td>\n      <td>0.286395</td>\n      <td>0.036101</td>\n      <td>0.333333</td>\n      <td>0.912804</td>\n      <td>0.226667</td>\n      <td>0.029664</td>\n      <td>0.051736</td>\n      <td>0.002078</td>\n      <td>0</td>\n    </tr>\n    <tr>\n      <th>1958</th>\n      <td>0.049821</td>\n      <td>0.810715</td>\n      <td>0.870102</td>\n      <td>0.712228</td>\n      <td>0.057901</td>\n      <td>0.430694</td>\n      <td>0.737648</td>\n      <td>0.285364</td>\n      <td>0.046931</td>\n      <td>0.488372</td>\n      <td>0.924945</td>\n      <td>0.219512</td>\n      <td>0.063612</td>\n      <td>0.112483</td>\n      <td>0.005547</td>\n      <td>0</td>\n    </tr>\n    <tr>\n      <th>1959</th>\n      <td>0.062697</td>\n      <td>0.807983</td>\n      <td>0.870226</td>\n      <td>0.714173</td>\n      <td>0.062442</td>\n      <td>0.429431</td>\n      <td>0.746447</td>\n      <td>0.286412</td>\n      <td>0.051745</td>\n      <td>0.635659</td>\n      <td>0.941501</td>\n      <td>0.214286</td>\n      <td>0.123599</td>\n      <td>0.010347</td>\n      <td>0.001778</td>\n      <td>0</td>\n    </tr>\n  </tbody>\n</table>\n<p>1960 rows × 16 columns</p>\n</div>"
     },
     "execution_count": 6,
     "metadata": {},
     "output_type": "execute_result"
    }
   ],
   "source": [
    "all_data_list[0]"
   ],
   "metadata": {
    "collapsed": false,
    "ExecuteTime": {
     "end_time": "2024-01-16T14:57:17.373289800Z",
     "start_time": "2024-01-16T14:57:17.301503300Z"
    }
   },
   "id": "31b518e8eb5dc66e"
  },
  {
   "cell_type": "markdown",
   "source": [
    "# Divide train/test"
   ],
   "metadata": {
    "collapsed": false
   },
   "id": "7098aa93f71a2207"
  },
  {
   "cell_type": "code",
   "execution_count": 7,
   "outputs": [],
   "source": [
    "# Split Data\n",
    "#A list of all csv is gived: because each element of a list represent a patient,\n",
    "# a patient will stay only or in train or in test\n",
    "train_list, test_list = train_test_split(all_data_list, test_size=0.2, random_state=42)\n",
    "#train_list, val_list = train_test_split(train_list, test_size=0.2, random_state=42)"
   ],
   "metadata": {
    "collapsed": false,
    "ExecuteTime": {
     "end_time": "2024-01-16T14:57:17.374291Z",
     "start_time": "2024-01-16T14:57:17.341439700Z"
    }
   },
   "id": "533f760b5338243"
  },
  {
   "cell_type": "code",
   "execution_count": 8,
   "outputs": [],
   "source": [
    "#Create a dataframe only for train and one for all test data\n",
    "train_data = pd.DataFrame()\n",
    "i = 0\n",
    "for train in train_list:\n",
    "    train_data = pd.concat([train_data, train], ignore_index=True)\n",
    "    i = i + 1"
   ],
   "metadata": {
    "collapsed": false,
    "ExecuteTime": {
     "end_time": "2024-01-16T14:57:18.132279400Z",
     "start_time": "2024-01-16T14:57:17.356706700Z"
    }
   },
   "id": "f491145acd118c72"
  },
  {
   "cell_type": "code",
   "execution_count": 9,
   "outputs": [],
   "source": [
    "# Model Training\n",
    "X_train = train_data.drop('annotation', axis=1)\n",
    "y_train = train_data['annotation']"
   ],
   "metadata": {
    "collapsed": false,
    "ExecuteTime": {
     "end_time": "2024-01-16T14:57:18.135275400Z",
     "start_time": "2024-01-16T14:57:18.050059600Z"
    }
   },
   "id": "ce53e9b489a2ecf7"
  },
  {
   "cell_type": "code",
   "execution_count": 10,
   "outputs": [
    {
     "name": "stdout",
     "output_type": "stream",
     "text": [
      "           0      1\n",
      "0       True  False\n",
      "1       True  False\n",
      "2       True  False\n",
      "3       True  False\n",
      "4       True  False\n",
      "...      ...    ...\n",
      "137339  True  False\n",
      "137340  True  False\n",
      "137341  True  False\n",
      "137342  True  False\n",
      "137343  True  False\n",
      "\n",
      "[137344 rows x 2 columns]\n",
      "[[ True False]\n",
      " [ True False]\n",
      " [ True False]\n",
      " ...\n",
      " [ True False]\n",
      " [ True False]\n",
      " [ True False]]\n"
     ]
    }
   ],
   "source": [
    "# One-hot encoding\n",
    "one_hot_encoded_df = pd.get_dummies(y_train, columns=['annotation'])\n",
    "\n",
    "one_hot_encoded_array_train = one_hot_encoded_df.values\n",
    "\n",
    "print(one_hot_encoded_df)\n",
    "print(one_hot_encoded_array_train)"
   ],
   "metadata": {
    "collapsed": false,
    "ExecuteTime": {
     "end_time": "2024-01-16T14:57:18.148154700Z",
     "start_time": "2024-01-16T14:57:18.071079500Z"
    }
   },
   "id": "bf2d6cf9b2cb4ed9"
  },
  {
   "cell_type": "code",
   "execution_count": 11,
   "outputs": [
    {
     "data": {
      "text/plain": "'\\nval_data = pd.DataFrame()\\n\\nfor val in val_list:\\n    val_data = pd.concat([val_data, val], ignore_index=True) '"
     },
     "execution_count": 11,
     "metadata": {},
     "output_type": "execute_result"
    }
   ],
   "source": [
    "#Create a dataframe only for train and one for all test data\n",
    "'''\n",
    "val_data = pd.DataFrame()\n",
    "\n",
    "for val in val_list:\n",
    "    val_data = pd.concat([val_data, val], ignore_index=True) '''"
   ],
   "metadata": {
    "collapsed": false,
    "ExecuteTime": {
     "end_time": "2024-01-16T14:57:18.152681100Z",
     "start_time": "2024-01-16T14:57:18.091476600Z"
    }
   },
   "id": "884f33f312645b43"
  },
  {
   "cell_type": "code",
   "execution_count": 12,
   "outputs": [
    {
     "data": {
      "text/plain": "\"X_val = val_data.drop('annotation', axis=1)\\ny_val = val_data['annotation'] \""
     },
     "execution_count": 12,
     "metadata": {},
     "output_type": "execute_result"
    }
   ],
   "source": [
    "'''X_val = val_data.drop('annotation', axis=1)\n",
    "y_val = val_data['annotation'] '''"
   ],
   "metadata": {
    "collapsed": false,
    "ExecuteTime": {
     "end_time": "2024-01-16T14:57:18.171837100Z",
     "start_time": "2024-01-16T14:57:18.102190800Z"
    }
   },
   "id": "200cdc946a139044"
  },
  {
   "cell_type": "code",
   "execution_count": 13,
   "outputs": [
    {
     "data": {
      "text/plain": "\"one_hot_encoded_df_val = pd.get_dummies(y_val, columns=['annotation'])\\n\\none_hot_encoded_array_val = one_hot_encoded_df_val.values \""
     },
     "execution_count": 13,
     "metadata": {},
     "output_type": "execute_result"
    }
   ],
   "source": [
    "'''one_hot_encoded_df_val = pd.get_dummies(y_val, columns=['annotation'])\n",
    "\n",
    "one_hot_encoded_array_val = one_hot_encoded_df_val.values '''"
   ],
   "metadata": {
    "collapsed": false,
    "ExecuteTime": {
     "end_time": "2024-01-16T14:57:18.173704600Z",
     "start_time": "2024-01-16T14:57:18.112032700Z"
    }
   },
   "id": "f75f581f1ca49711"
  },
  {
   "cell_type": "code",
   "execution_count": 14,
   "outputs": [],
   "source": [
    "test_data = pd.DataFrame()\n",
    "\n",
    "for test in test_list:\n",
    "    test_data = pd.concat([test_data, test], ignore_index=True)"
   ],
   "metadata": {
    "collapsed": false,
    "ExecuteTime": {
     "end_time": "2024-01-16T14:57:18.215086400Z",
     "start_time": "2024-01-16T14:57:18.119220200Z"
    }
   },
   "id": "637afae39029162"
  },
  {
   "cell_type": "code",
   "execution_count": 15,
   "outputs": [],
   "source": [
    "X_test = test_data.drop('annotation', axis=1)\n",
    "y_test= test_data['annotation']"
   ],
   "metadata": {
    "collapsed": false,
    "ExecuteTime": {
     "end_time": "2024-01-16T14:57:18.218089700Z",
     "start_time": "2024-01-16T14:57:18.153678900Z"
    }
   },
   "id": "8a7251a461255e88"
  },
  {
   "cell_type": "code",
   "execution_count": 16,
   "outputs": [],
   "source": [
    "one_hot_encoded_df_test = pd.get_dummies(y_test, columns=['annotation'])\n",
    "\n",
    "one_hot_encoded_array_test = one_hot_encoded_df_test.values"
   ],
   "metadata": {
    "collapsed": false,
    "ExecuteTime": {
     "end_time": "2024-01-16T14:57:18.349486900Z",
     "start_time": "2024-01-16T14:57:18.167808900Z"
    }
   },
   "id": "45e9498928bad2b"
  },
  {
   "cell_type": "markdown",
   "source": [
    "# Evaluation function"
   ],
   "metadata": {
    "collapsed": false
   },
   "id": "f7728cb324e43c7a"
  },
  {
   "cell_type": "code",
   "execution_count": 17,
   "outputs": [],
   "source": [
    "def model_evaluation(y_predi, model_name_pred):\n",
    "\n",
    "    predicted_class = np.argmax(y_predi, axis=-1)\n",
    "    test_classes = np.argmax(one_hot_encoded_array_test, axis=-1)\n",
    "    cm = confusion_matrix(test_classes, predicted_class)\n",
    "    classes_name = ['N', 'Not N']\n",
    "    '''\n",
    "    plt.figure(figsize=(10, 8))\n",
    "    sns.heatmap(cm, xticklabels=list(classes_name), yticklabels=list(classes_name), cmap=\"Greens\", annot=True, fmt='.2f')\n",
    "    plt.ylabel('Actual labels')\n",
    "    plt.xlabel('Predicted labels')\n",
    "    plt.show()\n",
    "    '''\n",
    "    \n",
    "    #Normalized cm\n",
    "    \n",
    "    cm = cm.astype('float') / cm.sum(axis=1)[:, np.newaxis]\n",
    "    plt.figure(figsize=(10, 8))\n",
    "    sns.heatmap(cm, xticklabels=list(classes_name), yticklabels=list(classes_name), cmap=\"Greens\", annot=True, fmt='.2f')\n",
    "    plt.ylabel('Actual labels')\n",
    "    plt.xlabel('Predicted labels')\n",
    "    plt.title(model_name_pred)\n",
    "    plt.show()"
   ],
   "metadata": {
    "collapsed": false,
    "ExecuteTime": {
     "end_time": "2024-01-16T14:57:18.350866100Z",
     "start_time": "2024-01-16T14:57:18.182806500Z"
    }
   },
   "id": "bc0b27b6d783191a"
  },
  {
   "cell_type": "markdown",
   "source": [
    "# Models"
   ],
   "metadata": {
    "collapsed": false
   },
   "id": "661f2f22cc395e04"
  },
  {
   "cell_type": "code",
   "execution_count": 18,
   "outputs": [
    {
     "data": {
      "text/plain": "<Figure size 1000x800 with 2 Axes>",
      "image/png": "[encoded data removed]"
     },
     "metadata": {},
     "output_type": "display_data"
    }
   ],
   "source": [
    "\n",
    "from imblearn.ensemble import EasyEnsembleClassifier\n",
    "\n",
    "modelEasyEns = EasyEnsembleClassifier(n_estimators=100, \n",
    "                                      n_jobs=-1, \n",
    "                                      random_state=42,\n",
    "                                      sampling_strategy='majority',\n",
    "                                      estimator=None\n",
    "                                      )\n",
    "modelEasyEns.fit(X_train, \n",
    "                 y_train)\n",
    "\n",
    "y_predEasyEns = modelEasyEns.predict(X_test)\n",
    "one_hot_encoded_pred_ens = pd.get_dummies(y_predEasyEns, columns=['0'])\n",
    "\n",
    "model_evaluation(one_hot_encoded_pred_ens, \"EasyEnsembleClassifier\")"
   ],
   "metadata": {
    "collapsed": false,
    "ExecuteTime": {
     "end_time": "2024-01-16T14:59:26.131527500Z",
     "start_time": "2024-01-16T14:57:18.193555600Z"
    }
   },
   "id": "ec129b92dd018449"
  }
 ],
 "metadata": {
  "kernelspec": {
   "display_name": "Python 3",
   "language": "python",
   "name": "python3"
  },
  "language_info": {
   "codemirror_mode": {
    "name": "ipython",
    "version": 2
   },
   "file_extension": ".py",
   "mimetype": "text/x-python",
   "name": "python",
   "nbconvert_exporter": "python",
   "pygments_lexer": "ipython2",
   "version": "2.7.6"
  }
 },
 "nbformat": 4,
 "nbformat_minor": 5
}
