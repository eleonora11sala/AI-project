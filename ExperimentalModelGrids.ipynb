{
 "cells": [
  {
   "cell_type": "code",
   "execution_count": 24,
   "id": "initial_id",
   "metadata": {
    "collapsed": true,
    "ExecuteTime": {
     "end_time": "2024-01-24T15:06:11.480498400Z",
     "start_time": "2024-01-24T15:06:11.348521700Z"
    }
   },
   "outputs": [],
   "source": [
    "import pandas as pd\n",
    "import numpy as np, os\n",
    "from sklearn.model_selection import train_test_split\n",
    "\n",
    "import matplotlib.pyplot as plt\n",
    "from sklearn.metrics import confusion_matrix\n",
    "import seaborn as sns"
   ]
  },
  {
   "cell_type": "markdown",
   "source": [
    "# Load Data"
   ],
   "metadata": {
    "collapsed": false
   },
   "id": "1e50d4d505fc2a45"
  },
  {
   "cell_type": "code",
   "execution_count": 25,
   "outputs": [],
   "source": [
    "folder_path = u'C:/Users/user/Desktop/AI-project/features/128' \n",
    "\n",
    "# List all files in the folder\n",
    "file_names = [file for file in os.listdir(folder_path) if file.endswith('_128.csv')]\n",
    "\n",
    "# Initialize an empty DataFrame to concatenate all data\n",
    "all_data = pd.DataFrame()\n",
    "all_data_list = []\n",
    "# Loop through each file and concatenate the data\n",
    "for file_name in file_names:\n",
    "    file_path = os.path.join(folder_path, file_name)\n",
    "    data = pd.read_csv(file_path)\n",
    "    all_data_list.append(data)\n",
    "    all_data = pd.concat([all_data, data], ignore_index=True)\n"
   ],
   "metadata": {
    "collapsed": false,
    "ExecuteTime": {
     "end_time": "2024-01-24T15:06:12.124927300Z",
     "start_time": "2024-01-24T15:06:11.368928700Z"
    }
   },
   "id": "13a4166f80afa3b"
  },
  {
   "cell_type": "code",
   "execution_count": 26,
   "outputs": [],
   "source": [
    "folder_path = u'C:/Users/user/Desktop/AI-project/features/250' \n",
    "\n",
    "# List all files in the folder\n",
    "file_names = [file for file in os.listdir(folder_path) if file.endswith('_250.csv')]\n",
    "\n",
    "# Loop through each file and concatenate the data\n",
    "for file_name in file_names:\n",
    "    file_path = os.path.join(folder_path, file_name)\n",
    "    data = pd.read_csv(file_path)\n",
    "    all_data_list.append(data)\n",
    "    all_data = pd.concat([all_data, data], ignore_index=True)\n",
    "\n",
    "# Now 'all_data_list' contains a list of all data from all CSV files"
   ],
   "metadata": {
    "collapsed": false,
    "ExecuteTime": {
     "end_time": "2024-01-24T15:06:12.838862900Z",
     "start_time": "2024-01-24T15:06:12.128086100Z"
    }
   },
   "id": "2d9aa1da9bec23aa"
  },
  {
   "cell_type": "markdown",
   "source": [
    "# Label mapping"
   ],
   "metadata": {
    "collapsed": false
   },
   "id": "18b454bef1ece199"
  },
  {
   "cell_type": "code",
   "execution_count": 27,
   "outputs": [],
   "source": [
    "#Sobstitute N, S, V with 0, 1, 2\n",
    "label_mapping = {'N': 0, 'S': 1, 'V': 2}\n",
    "for data in all_data_list:\n",
    "    data['annotation'] = data['annotation'].replace(label_mapping)"
   ],
   "metadata": {
    "collapsed": false,
    "ExecuteTime": {
     "end_time": "2024-01-24T15:06:12.929099400Z",
     "start_time": "2024-01-24T15:06:12.840287100Z"
    }
   },
   "id": "bc1c8093311631c7"
  },
  {
   "cell_type": "markdown",
   "source": [
    "# Drop positions columns    "
   ],
   "metadata": {
    "collapsed": false
   },
   "id": "f1d5154e9e2a386f"
  },
  {
   "cell_type": "code",
   "execution_count": 28,
   "outputs": [],
   "source": [
    "#drop the columns which contain positional info\n",
    "#for i in range(len(all_data_list)):\n",
    "#    all_data_list[i] = all_data_list[i].drop(['peak_pos', 'onset', 'diastolic_notch'], axis=1)"
   ],
   "metadata": {
    "collapsed": false,
    "ExecuteTime": {
     "end_time": "2024-01-24T15:06:12.941623400Z",
     "start_time": "2024-01-24T15:06:12.931511900Z"
    }
   },
   "id": "2ff8f8973756b3db"
  },
  {
   "cell_type": "code",
   "execution_count": 29,
   "outputs": [
    {
     "data": {
      "text/plain": "           asp       adp       adn        rp        d1        d2        rd  \\\n0     0.055274  0.823215  0.886627  0.719899  0.042081  0.425326  0.723122   \n1     0.045354  0.814343  0.884302  0.712917  0.040983  0.423003  0.726116   \n2     0.045747  0.813519  0.884597  0.712486  0.040809  0.422454  0.726397   \n3     0.047270  0.813824  0.885389  0.713275  0.040509  0.422070  0.726600   \n4     0.036112  0.818934  0.883222  0.712234  0.038791  0.425694  0.724313   \n...        ...       ...       ...       ...       ...       ...       ...   \n1955  0.046900  0.811773  0.884741  0.711761  0.041072  0.421604  0.726617   \n1956  0.049071  0.812713  0.885598  0.713176  0.040937  0.421452  0.726687   \n1957  0.047486  0.813713  0.876084  0.713276  0.050609  0.428090  0.762211   \n1958  0.049821  0.810715  0.870102  0.712228  0.057901  0.430694  0.737648   \n1959  0.062697  0.807983  0.870226  0.714173  0.062442  0.429431  0.746447   \n\n            rn        T1        T2        TP        ST  pi2pi_pr  pi2pi_po  \\\n0     0.288666  0.024067  0.643411  0.967991  0.210000  0.000000  0.015020   \n1     0.288231  0.024067  0.232558  0.909492  0.229630  0.027357  0.015020   \n2     0.288305  0.022864  0.232558  0.910596  0.228571  0.027357  0.015020   \n3     0.288490  0.022864  0.240310  0.911700  0.227586  0.027357  0.008678   \n4     0.287615  0.027677  0.201550  0.901766  0.240000  0.021094  0.020360   \n...        ...       ...       ...       ...       ...       ...       ...   \n1955  0.288342  0.025271  0.279070  0.915011  0.225000  0.031641  0.018358   \n1956  0.288525  0.025271  0.279070  0.915011  0.225000  0.030653  0.017356   \n1957  0.286395  0.036101  0.333333  0.912804  0.226667  0.029664  0.051736   \n1958  0.285364  0.046931  0.488372  0.924945  0.219512  0.063612  0.112483   \n1959  0.286412  0.051745  0.635659  0.941501  0.214286  0.123599  0.010347   \n\n      area_peak  annotation  \n0      0.000992           0  \n1      0.000561           0  \n2      0.000578           0  \n3      0.000659           0  \n4      0.000249           1  \n...         ...         ...  \n1955   0.000684           0  \n1956   0.000793           0  \n1957   0.002078           0  \n1958   0.005547           0  \n1959   0.001778           0  \n\n[1960 rows x 16 columns]",
      "text/html": "<div>\n<style scoped>\n    .dataframe tbody tr th:only-of-type {\n        vertical-align: middle;\n    }\n\n    .dataframe tbody tr th {\n        vertical-align: top;\n    }\n\n    .dataframe thead th {\n        text-align: right;\n    }\n</style>\n<table border=\"1\" class=\"dataframe\">\n  <thead>\n    <tr style=\"text-align: right;\">\n      <th></th>\n      <th>asp</th>\n      <th>adp</th>\n      <th>adn</th>\n      <th>rp</th>\n      <th>d1</th>\n      <th>d2</th>\n      <th>rd</th>\n      <th>rn</th>\n      <th>T1</th>\n      <th>T2</th>\n      <th>TP</th>\n      <th>ST</th>\n      <th>pi2pi_pr</th>\n      <th>pi2pi_po</th>\n      <th>area_peak</th>\n      <th>annotation</th>\n    </tr>\n  </thead>\n  <tbody>\n    <tr>\n      <th>0</th>\n      <td>0.055274</td>\n      <td>0.823215</td>\n      <td>0.886627</td>\n      <td>0.719899</td>\n      <td>0.042081</td>\n      <td>0.425326</td>\n      <td>0.723122</td>\n      <td>0.288666</td>\n      <td>0.024067</td>\n      <td>0.643411</td>\n      <td>0.967991</td>\n      <td>0.210000</td>\n      <td>0.000000</td>\n      <td>0.015020</td>\n      <td>0.000992</td>\n      <td>0</td>\n    </tr>\n    <tr>\n      <th>1</th>\n      <td>0.045354</td>\n      <td>0.814343</td>\n      <td>0.884302</td>\n      <td>0.712917</td>\n      <td>0.040983</td>\n      <td>0.423003</td>\n      <td>0.726116</td>\n      <td>0.288231</td>\n      <td>0.024067</td>\n      <td>0.232558</td>\n      <td>0.909492</td>\n      <td>0.229630</td>\n      <td>0.027357</td>\n      <td>0.015020</td>\n      <td>0.000561</td>\n      <td>0</td>\n    </tr>\n    <tr>\n      <th>2</th>\n      <td>0.045747</td>\n      <td>0.813519</td>\n      <td>0.884597</td>\n      <td>0.712486</td>\n      <td>0.040809</td>\n      <td>0.422454</td>\n      <td>0.726397</td>\n      <td>0.288305</td>\n      <td>0.022864</td>\n      <td>0.232558</td>\n      <td>0.910596</td>\n      <td>0.228571</td>\n      <td>0.027357</td>\n      <td>0.015020</td>\n      <td>0.000578</td>\n      <td>0</td>\n    </tr>\n    <tr>\n      <th>3</th>\n      <td>0.047270</td>\n      <td>0.813824</td>\n      <td>0.885389</td>\n      <td>0.713275</td>\n      <td>0.040509</td>\n      <td>0.422070</td>\n      <td>0.726600</td>\n      <td>0.288490</td>\n      <td>0.022864</td>\n      <td>0.240310</td>\n      <td>0.911700</td>\n      <td>0.227586</td>\n      <td>0.027357</td>\n      <td>0.008678</td>\n      <td>0.000659</td>\n      <td>0</td>\n    </tr>\n    <tr>\n      <th>4</th>\n      <td>0.036112</td>\n      <td>0.818934</td>\n      <td>0.883222</td>\n      <td>0.712234</td>\n      <td>0.038791</td>\n      <td>0.425694</td>\n      <td>0.724313</td>\n      <td>0.287615</td>\n      <td>0.027677</td>\n      <td>0.201550</td>\n      <td>0.901766</td>\n      <td>0.240000</td>\n      <td>0.021094</td>\n      <td>0.020360</td>\n      <td>0.000249</td>\n      <td>1</td>\n    </tr>\n    <tr>\n      <th>...</th>\n      <td>...</td>\n      <td>...</td>\n      <td>...</td>\n      <td>...</td>\n      <td>...</td>\n      <td>...</td>\n      <td>...</td>\n      <td>...</td>\n      <td>...</td>\n      <td>...</td>\n      <td>...</td>\n      <td>...</td>\n      <td>...</td>\n      <td>...</td>\n      <td>...</td>\n      <td>...</td>\n    </tr>\n    <tr>\n      <th>1955</th>\n      <td>0.046900</td>\n      <td>0.811773</td>\n      <td>0.884741</td>\n      <td>0.711761</td>\n      <td>0.041072</td>\n      <td>0.421604</td>\n      <td>0.726617</td>\n      <td>0.288342</td>\n      <td>0.025271</td>\n      <td>0.279070</td>\n      <td>0.915011</td>\n      <td>0.225000</td>\n      <td>0.031641</td>\n      <td>0.018358</td>\n      <td>0.000684</td>\n      <td>0</td>\n    </tr>\n    <tr>\n      <th>1956</th>\n      <td>0.049071</td>\n      <td>0.812713</td>\n      <td>0.885598</td>\n      <td>0.713176</td>\n      <td>0.040937</td>\n      <td>0.421452</td>\n      <td>0.726687</td>\n      <td>0.288525</td>\n      <td>0.025271</td>\n      <td>0.279070</td>\n      <td>0.915011</td>\n      <td>0.225000</td>\n      <td>0.030653</td>\n      <td>0.017356</td>\n      <td>0.000793</td>\n      <td>0</td>\n    </tr>\n    <tr>\n      <th>1957</th>\n      <td>0.047486</td>\n      <td>0.813713</td>\n      <td>0.876084</td>\n      <td>0.713276</td>\n      <td>0.050609</td>\n      <td>0.428090</td>\n      <td>0.762211</td>\n      <td>0.286395</td>\n      <td>0.036101</td>\n      <td>0.333333</td>\n      <td>0.912804</td>\n      <td>0.226667</td>\n      <td>0.029664</td>\n      <td>0.051736</td>\n      <td>0.002078</td>\n      <td>0</td>\n    </tr>\n    <tr>\n      <th>1958</th>\n      <td>0.049821</td>\n      <td>0.810715</td>\n      <td>0.870102</td>\n      <td>0.712228</td>\n      <td>0.057901</td>\n      <td>0.430694</td>\n      <td>0.737648</td>\n      <td>0.285364</td>\n      <td>0.046931</td>\n      <td>0.488372</td>\n      <td>0.924945</td>\n      <td>0.219512</td>\n      <td>0.063612</td>\n      <td>0.112483</td>\n      <td>0.005547</td>\n      <td>0</td>\n    </tr>\n    <tr>\n      <th>1959</th>\n      <td>0.062697</td>\n      <td>0.807983</td>\n      <td>0.870226</td>\n      <td>0.714173</td>\n      <td>0.062442</td>\n      <td>0.429431</td>\n      <td>0.746447</td>\n      <td>0.286412</td>\n      <td>0.051745</td>\n      <td>0.635659</td>\n      <td>0.941501</td>\n      <td>0.214286</td>\n      <td>0.123599</td>\n      <td>0.010347</td>\n      <td>0.001778</td>\n      <td>0</td>\n    </tr>\n  </tbody>\n</table>\n<p>1960 rows × 16 columns</p>\n</div>"
     },
     "execution_count": 29,
     "metadata": {},
     "output_type": "execute_result"
    }
   ],
   "source": [
    "all_data_list[0]"
   ],
   "metadata": {
    "collapsed": false,
    "ExecuteTime": {
     "end_time": "2024-01-24T15:06:12.959475100Z",
     "start_time": "2024-01-24T15:06:12.939426800Z"
    }
   },
   "id": "31b518e8eb5dc66e"
  },
  {
   "cell_type": "markdown",
   "source": [
    "# Divide train/test"
   ],
   "metadata": {
    "collapsed": false
   },
   "id": "7098aa93f71a2207"
  },
  {
   "cell_type": "code",
   "execution_count": 30,
   "outputs": [],
   "source": [
    "# Split Data\n",
    "#A list of all csv is gived: because each element of a list represent a patient,\n",
    "# a patient will stay only or in train or in test\n",
    "train_list, test_list = train_test_split(all_data_list, test_size=0.2, random_state=42)\n",
    "#train_list, val_list = train_test_split(train_list, test_size=0.2, random_state=42)"
   ],
   "metadata": {
    "collapsed": false,
    "ExecuteTime": {
     "end_time": "2024-01-24T15:06:12.996659400Z",
     "start_time": "2024-01-24T15:06:12.959475100Z"
    }
   },
   "id": "533f760b5338243"
  },
  {
   "cell_type": "code",
   "execution_count": 31,
   "outputs": [],
   "source": [
    "#Create a dataframe only for train and one for all test data\n",
    "train_data = pd.DataFrame()\n",
    "i = 0\n",
    "for train in train_list:\n",
    "    train_data = pd.concat([train_data, train], ignore_index=True)\n",
    "    i = i + 1"
   ],
   "metadata": {
    "collapsed": false,
    "ExecuteTime": {
     "end_time": "2024-01-24T15:06:13.291135800Z",
     "start_time": "2024-01-24T15:06:12.967721200Z"
    }
   },
   "id": "f491145acd118c72"
  },
  {
   "cell_type": "code",
   "execution_count": 32,
   "outputs": [],
   "source": [
    "# Model Training\n",
    "X_train = train_data.drop('annotation', axis=1)\n",
    "y_train = train_data['annotation']"
   ],
   "metadata": {
    "collapsed": false,
    "ExecuteTime": {
     "end_time": "2024-01-24T15:06:13.310656800Z",
     "start_time": "2024-01-24T15:06:13.292902500Z"
    }
   },
   "id": "ce53e9b489a2ecf7"
  },
  {
   "cell_type": "code",
   "execution_count": 33,
   "outputs": [],
   "source": [
    "# One-hot encoding\n",
    "one_hot_encoded_df = pd.get_dummies(y_train, columns=['annotation'])\n",
    "\n",
    "one_hot_encoded_array_train = one_hot_encoded_df.values"
   ],
   "metadata": {
    "collapsed": false,
    "ExecuteTime": {
     "end_time": "2024-01-24T15:06:13.316125Z",
     "start_time": "2024-01-24T15:06:13.304878600Z"
    }
   },
   "id": "bf2d6cf9b2cb4ed9"
  },
  {
   "cell_type": "code",
   "execution_count": 34,
   "outputs": [],
   "source": [
    "test_data = pd.DataFrame()\n",
    "\n",
    "for test in test_list:\n",
    "    test_data = pd.concat([test_data, test], ignore_index=True)"
   ],
   "metadata": {
    "collapsed": false,
    "ExecuteTime": {
     "end_time": "2024-01-24T15:06:13.367560800Z",
     "start_time": "2024-01-24T15:06:13.314505600Z"
    }
   },
   "id": "637afae39029162"
  },
  {
   "cell_type": "code",
   "execution_count": 35,
   "outputs": [],
   "source": [
    "X_test = test_data.drop('annotation', axis=1)\n",
    "y_test= test_data['annotation']"
   ],
   "metadata": {
    "collapsed": false,
    "ExecuteTime": {
     "end_time": "2024-01-24T15:06:13.367560800Z",
     "start_time": "2024-01-24T15:06:13.349281Z"
    }
   },
   "id": "8a7251a461255e88"
  },
  {
   "cell_type": "code",
   "execution_count": 36,
   "outputs": [],
   "source": [
    "one_hot_encoded_df_test = pd.get_dummies(y_test, columns=['annotation'])\n",
    "\n",
    "one_hot_encoded_array_test = one_hot_encoded_df_test.values"
   ],
   "metadata": {
    "collapsed": false,
    "ExecuteTime": {
     "end_time": "2024-01-24T15:06:13.425437300Z",
     "start_time": "2024-01-24T15:06:13.362332800Z"
    }
   },
   "id": "785126a9f565e579"
  },
  {
   "cell_type": "code",
   "execution_count": 37,
   "outputs": [
    {
     "name": "stdout",
     "output_type": "stream",
     "text": [
      "Perc di N in train: 0.9240884203168686\n",
      "Perc di S in train: 0.04832391658900279\n",
      "Perc di V in train: 0.027587663094128613\n",
      "Total:  137344\n",
      "Perc di S in test: 0.9049530732924645\n",
      "Perc di S in test: 0.03013616882764607\n",
      "Perc di S in test: 0.06491075787988933\n",
      "Total:  36866\n"
     ]
    }
   ],
   "source": [
    "N_train = (y_train == 0).sum() \n",
    "S_train = (y_train == 1).sum() \n",
    "V_train = (y_train == 2).sum() \n",
    "\n",
    "N_test = (y_test == 0).sum() \n",
    "S_test = (y_test == 1).sum() \n",
    "V_test = (y_test == 2).sum() \n",
    "\n",
    "N_perc = N_train/(N_train+S_train+V_train)\n",
    "S_perc = S_train/(N_train+S_train+V_train)\n",
    "V_perc = V_train/(N_train+S_train+V_train)\n",
    "print(f\"Perc di N in train: {N_perc}\")\n",
    "print(f\"Perc di S in train: {S_perc}\")\n",
    "print(f\"Perc di V in train: {V_perc}\")\n",
    "print(\"Total: \",N_train+V_train+S_train)\n",
    "\n",
    "N_perc = N_test/(N_test+S_test+V_test)\n",
    "S_perc = S_test/(N_test+S_test+V_test)\n",
    "V_perc = V_test/(N_test+S_test+V_test)\n",
    "print(f\"Perc di S in test: {N_perc}\")\n",
    "print(f\"Perc di S in test: {S_perc}\")\n",
    "print(f\"Perc di S in test: {V_perc}\")\n",
    "print(\"Total: \",N_test+V_test+S_test)"
   ],
   "metadata": {
    "collapsed": false,
    "ExecuteTime": {
     "end_time": "2024-01-24T15:06:13.425437300Z",
     "start_time": "2024-01-24T15:06:13.372090100Z"
    }
   },
   "id": "66f8c5b79913cfac"
  },
  {
   "cell_type": "markdown",
   "source": [
    "# Outliers removal"
   ],
   "metadata": {
    "collapsed": false
   },
   "id": "ed7074ec3edaf5b3"
  },
  {
   "cell_type": "code",
   "execution_count": 38,
   "outputs": [
    {
     "name": "stdout",
     "output_type": "stream",
     "text": [
      "Missing values before outlier removal: 0\n",
      "Outliers detected (train): 23320\n",
      "Missing values after outlier removal (train): 23320\n"
     ]
    }
   ],
   "source": [
    "from scipy.stats import zscore\n",
    "from sklearn.preprocessing import StandardScaler\n",
    "import numpy as np\n",
    "\n",
    "X_train_rem = X_train.copy()\n",
    "\n",
    "feature_list = X_train_rem.columns\n",
    "print('Missing values before outlier removal: ' + str(X_train_rem.isnull().sum().sum()))\n",
    "\n",
    "# apply zscore\n",
    "scaler = StandardScaler().fit(X_train_rem)\n",
    "zscore_features = scaler.transform(X_train_rem)\n",
    "\n",
    "# select all those values with zscore > -+ 3  as outliers\n",
    "abs_zscores = np.abs(zscore_features)\n",
    "\n",
    "outliers_detected = abs_zscores > 3\n",
    "print('Outliers detected (train): ' + str(np.sum(np.sum(outliers_detected))))\n",
    "\n",
    "# set outliers as missing values\n",
    "X_train_rem[outliers_detected] = np.nan\n",
    "\n",
    "print('Missing values after outlier removal (train): ' + str(X_train_rem.isnull().sum().sum()))"
   ],
   "metadata": {
    "collapsed": false,
    "ExecuteTime": {
     "end_time": "2024-01-24T15:06:13.519225900Z",
     "start_time": "2024-01-24T15:06:13.388774900Z"
    }
   },
   "id": "e1d4e5a6663030e9"
  },
  {
   "cell_type": "code",
   "execution_count": 39,
   "outputs": [
    {
     "name": "stdout",
     "output_type": "stream",
     "text": [
      "11956\n",
      "1137\n",
      "570\n"
     ]
    }
   ],
   "source": [
    "df=pd.concat([X_train_rem,y_train],axis=1)\n",
    "df2=df[df.isna().any(axis=1)]\n",
    "\n",
    "N_train = (df2['annotation'] == 0).sum() \n",
    "S_train = (df2['annotation'] == 1).sum() \n",
    "V_train = (df2['annotation'] == 2).sum() \n",
    "print(N_train)\n",
    "print(S_train)\n",
    "print(V_train)"
   ],
   "metadata": {
    "collapsed": false,
    "ExecuteTime": {
     "end_time": "2024-01-24T15:06:13.538346900Z",
     "start_time": "2024-01-24T15:06:13.517642400Z"
    }
   },
   "id": "7cf8cb7a2aaa7c9f"
  },
  {
   "cell_type": "code",
   "execution_count": 40,
   "outputs": [
    {
     "name": "stdout",
     "output_type": "stream",
     "text": [
      "Missing values (train): 0\n"
     ]
    }
   ],
   "source": [
    "df = df.dropna(axis=0)\n",
    "print('Missing values (train): ' + str(df.isnull().sum().sum()))"
   ],
   "metadata": {
    "collapsed": false,
    "ExecuteTime": {
     "end_time": "2024-01-24T15:06:13.646990100Z",
     "start_time": "2024-01-24T15:06:13.538346900Z"
    }
   },
   "id": "41b2a36dbcf117ab"
  },
  {
   "cell_type": "code",
   "execution_count": 41,
   "outputs": [],
   "source": [
    "X_train_rem = df.drop('annotation', axis=1)\n",
    "y_train_rem = df['annotation']"
   ],
   "metadata": {
    "collapsed": false,
    "ExecuteTime": {
     "end_time": "2024-01-24T15:06:13.648637300Z",
     "start_time": "2024-01-24T15:06:13.569267700Z"
    }
   },
   "id": "ee3d87f72cddba10"
  },
  {
   "cell_type": "code",
   "execution_count": 42,
   "outputs": [
    {
     "name": "stdout",
     "output_type": "stream",
     "text": [
      "Perc di N in train: 0.9295041275539493\n",
      "Perc di S in train: 0.04446923941429969\n",
      "Perc di V in train: 0.026026633031751036\n",
      "Total:  123681\n"
     ]
    }
   ],
   "source": [
    "N_train = (y_train_rem == 0).sum() \n",
    "S_train = (y_train_rem == 1).sum() \n",
    "V_train = (y_train_rem == 2).sum() \n",
    "\n",
    "N_perc = N_train/(N_train+S_train+V_train)\n",
    "S_perc = S_train/(N_train+S_train+V_train)\n",
    "V_perc = V_train/(N_train+S_train+V_train)\n",
    "print(f\"Perc di N in train: {N_perc}\")\n",
    "print(f\"Perc di S in train: {S_perc}\")\n",
    "print(f\"Perc di V in train: {V_perc}\")\n",
    "print(\"Total: \",N_train+V_train+S_train)"
   ],
   "metadata": {
    "collapsed": false,
    "ExecuteTime": {
     "end_time": "2024-01-24T15:06:15.734181Z",
     "start_time": "2024-01-24T15:06:15.715632600Z"
    }
   },
   "id": "68d3d9aacdd175a4"
  },
  {
   "cell_type": "code",
   "execution_count": 43,
   "outputs": [],
   "source": [
    "one_hot_encoded_df_rem = pd.get_dummies(y_train_rem, columns=['annotation'])\n",
    "\n",
    "one_hot_encoded_array_train_rem = one_hot_encoded_df.values"
   ],
   "metadata": {
    "collapsed": false,
    "ExecuteTime": {
     "end_time": "2024-01-24T15:06:41.148908100Z",
     "start_time": "2024-01-24T15:06:41.072390200Z"
    }
   },
   "id": "9162bead95c643a8"
  },
  {
   "cell_type": "code",
   "execution_count": 44,
   "outputs": [
    {
     "name": "stdout",
     "output_type": "stream",
     "text": [
      "Outliers detected (validation): 3820\n",
      "Missing values after outlier removal (validation): 3820\n"
     ]
    }
   ],
   "source": [
    "X_test_rem = X_test.copy()\n",
    "zscore_features = scaler.transform(X_test_rem)\n",
    "abs_zscores = np.abs(zscore_features)\n",
    "outliers_detected = abs_zscores > 3\n",
    "print('Outliers detected (validation): ' + str(np.sum(np.sum(outliers_detected))))\n",
    "\n",
    "\n",
    "X_test_rem[outliers_detected] = np.nan\n",
    "\n",
    "print('Missing values after outlier removal (validation): ' + str(X_test_rem.isnull().sum().sum()))"
   ],
   "metadata": {
    "collapsed": false,
    "ExecuteTime": {
     "end_time": "2024-01-24T15:07:35.139587900Z",
     "start_time": "2024-01-24T15:07:35.060221600Z"
    }
   },
   "id": "bdfb245d225d9aae"
  },
  {
   "cell_type": "code",
   "execution_count": 45,
   "outputs": [
    {
     "name": "stdout",
     "output_type": "stream",
     "text": [
      "2066\n",
      "53\n",
      "182\n"
     ]
    }
   ],
   "source": [
    "df=pd.concat([X_test_rem,y_test],axis=1)\n",
    "df2=df[df.isna().any(axis=1)]\n",
    "\n",
    "N_train = (df2['annotation'] == 0).sum() \n",
    "S_train = (df2['annotation'] == 1).sum() \n",
    "V_train = (df2['annotation'] == 2).sum() \n",
    "print(N_train)\n",
    "print(S_train)\n",
    "print(V_train)"
   ],
   "metadata": {
    "collapsed": false,
    "ExecuteTime": {
     "end_time": "2024-01-24T15:07:44.295782700Z",
     "start_time": "2024-01-24T15:07:44.242782Z"
    }
   },
   "id": "5814e64774788983"
  },
  {
   "cell_type": "code",
   "execution_count": 46,
   "outputs": [
    {
     "name": "stdout",
     "output_type": "stream",
     "text": [
      "Missing values (train): 0\n"
     ]
    }
   ],
   "source": [
    "df = df.dropna(axis=0)\n",
    "print('Missing values (train): ' + str(df.isnull().sum().sum()))"
   ],
   "metadata": {
    "collapsed": false,
    "ExecuteTime": {
     "end_time": "2024-01-24T15:07:52.363601200Z",
     "start_time": "2024-01-24T15:07:52.350246600Z"
    }
   },
   "id": "4f46c2eb36a28fd8"
  },
  {
   "cell_type": "code",
   "execution_count": 47,
   "outputs": [],
   "source": [
    "X_test_rem = df.drop('annotation', axis=1)\n",
    "y_test_rem = df['annotation']"
   ],
   "metadata": {
    "collapsed": false,
    "ExecuteTime": {
     "end_time": "2024-01-24T15:08:05.652717400Z",
     "start_time": "2024-01-24T15:08:05.622056500Z"
    }
   },
   "id": "d6927df361949470"
  },
  {
   "cell_type": "code",
   "execution_count": 48,
   "outputs": [
    {
     "name": "stdout",
     "output_type": "stream",
     "text": [
      "Perc di S in test: 0.9054245624186316\n",
      "Perc di S in test: 0.030608997540865036\n",
      "Perc di S in test: 0.0639664400405034\n",
      "Total:  34565\n"
     ]
    }
   ],
   "source": [
    "N_test = (y_test_rem == 0).sum() \n",
    "S_test = (y_test_rem == 1).sum() \n",
    "V_test = (y_test_rem == 2).sum() \n",
    "\n",
    "N_perc = N_test/(N_test+S_test+V_test)\n",
    "S_perc = S_test/(N_test+S_test+V_test)\n",
    "V_perc = V_test/(N_test+S_test+V_test)\n",
    "print(f\"Perc di S in test: {N_perc}\")\n",
    "print(f\"Perc di S in test: {S_perc}\")\n",
    "print(f\"Perc di S in test: {V_perc}\")\n",
    "print(\"Total: \",N_test+V_test+S_test)"
   ],
   "metadata": {
    "collapsed": false,
    "ExecuteTime": {
     "end_time": "2024-01-24T15:08:12.863797800Z",
     "start_time": "2024-01-24T15:08:12.802164600Z"
    }
   },
   "id": "6c55d989fd3c4bac"
  },
  {
   "cell_type": "code",
   "execution_count": 49,
   "outputs": [],
   "source": [
    "one_hot_encoded_df_test_rem = pd.get_dummies(y_test, columns=['annotation'])\n",
    "\n",
    "one_hot_encoded_array_test_rem = one_hot_encoded_df_test.values"
   ],
   "metadata": {
    "collapsed": false,
    "ExecuteTime": {
     "end_time": "2024-01-24T15:08:24.046084400Z",
     "start_time": "2024-01-24T15:08:23.984825800Z"
    }
   },
   "id": "163c2c61bb8b52fd"
  },
  {
   "cell_type": "markdown",
   "source": [
    "# Useful functions"
   ],
   "metadata": {
    "collapsed": false
   },
   "id": "f7728cb324e43c7a"
  },
  {
   "cell_type": "code",
   "execution_count": 50,
   "outputs": [],
   "source": [
    "# produce a normalized convulational matrix\n",
    "def show_confusion_matrix(y_predi, model_name_pred):\n",
    "\n",
    "    predicted_class = np.argmax(y_predi, axis=-1)\n",
    "    test_classes = np.argmax(one_hot_encoded_array_test, axis=-1)\n",
    "    cm = confusion_matrix(test_classes, predicted_class)\n",
    "    classes_name = ['N', 'S', 'V']\n",
    "    \n",
    "    \n",
    "    #Normalized cm\n",
    "    \n",
    "    cm = cm.astype('float') / cm.sum(axis=1)[:, np.newaxis]\n",
    "    plt.figure(figsize=(10, 8))\n",
    "    sns.heatmap(cm, xticklabels=list(classes_name), yticklabels=list(classes_name), cmap=\"Greens\", annot=True, fmt='.2f')\n",
    "    plt.ylabel('Actual labels')\n",
    "    plt.xlabel('Predicted labels')\n",
    "    plt.title(model_name_pred)\n",
    "    plt.show()"
   ],
   "metadata": {
    "collapsed": false,
    "ExecuteTime": {
     "end_time": "2024-01-24T15:09:13.064498300Z",
     "start_time": "2024-01-24T15:09:13.058767500Z"
    }
   },
   "id": "bc0b27b6d783191a"
  },
  {
   "cell_type": "code",
   "outputs": [],
   "source": [
    "def downsample_majority_class(df, class_column):\n",
    "    \n",
    "    # Calculate the class counts\n",
    "    class_counts = df[class_column].value_counts()\n",
    "    \n",
    "    print(class_counts)\n",
    "\n",
    "    # Find the maximum value among the two least represented classes\n",
    "    min_class_size = class_counts.nsmallest(2).min()\n",
    "\n",
    "    subsampled_df = pd.DataFrame()\n",
    "\n",
    "    for class_label in class_counts.index:\n",
    "        class_subset = df[df[class_column] == class_label]\n",
    "\n",
    "        # Downsample if this is the majority class\n",
    "        if class_counts[class_label] > min_class_size:\n",
    "            class_subset = class_subset.sample(n=min_class_size, random_state=42)\n",
    "        \n",
    "        subsampled_df = pd.concat([subsampled_df, class_subset], ignore_index=True)\n",
    "        \n",
    "    class_counts_sub = subsampled_df[class_column].value_counts()\n",
    "    print(class_counts_sub)\n",
    "\n",
    "    return subsampled_df"
   ],
   "metadata": {
    "collapsed": false,
    "ExecuteTime": {
     "end_time": "2024-01-24T15:09:15.187824700Z",
     "start_time": "2024-01-24T15:09:15.167602400Z"
    }
   },
   "id": "bdd7cd96ae69c700",
   "execution_count": 51
  },
  {
   "cell_type": "code",
   "execution_count": 52,
   "outputs": [],
   "source": [
    "from sklearn.metrics import balanced_accuracy_score\n",
    "from sklearn.metrics import accuracy_score\n",
    "from sklearn.metrics import f1_score\n",
    "from sklearn.metrics import precision_score\n",
    "from sklearn.metrics import recall_score\n",
    "\n",
    "def compute_metrics (y_predi):\n",
    "    predicted_class = np.argmax(y_predi, axis=-1)\n",
    "    test_classes = np.argmax(one_hot_encoded_array_test, axis=-1)\n",
    "    print(\"Balanced accuracy score: \", balanced_accuracy_score(test_classes, predicted_class))\n",
    "    print(\"Accuracy score: \", accuracy_score(test_classes, predicted_class))\n",
    "    print(\"F1 score: \", f1_score(test_classes, predicted_class,average='macro'))\n",
    "    print(\"Precision score: \", precision_score(test_classes, predicted_class,average='macro'))\n",
    "    print(\"Recall score: \", recall_score(test_classes, predicted_class,average='macro'))\n",
    "    "
   ],
   "metadata": {
    "collapsed": false,
    "ExecuteTime": {
     "end_time": "2024-01-24T15:09:18.275216100Z",
     "start_time": "2024-01-24T15:09:18.260910900Z"
    }
   },
   "id": "6ce22ccfa4d30b69"
  },
  {
   "cell_type": "markdown",
   "source": [
    "# Class weights"
   ],
   "metadata": {
    "collapsed": false
   },
   "id": "9b44207f26035524"
  },
  {
   "cell_type": "code",
   "execution_count": 58,
   "outputs": [
    {
     "name": "stdout",
     "output_type": "stream",
     "text": [
      "{0: 0.08, 1: 0.95, 2: 0.97}\n"
     ]
    }
   ],
   "source": [
    "nN = np.count_nonzero(y_train == 0)\n",
    "nV = np.count_nonzero(y_train == 1)\n",
    "nS = np.count_nonzero(y_train == 2)\n",
    "\n",
    "class_sum = nN+nV+nS\n",
    "wN = round(1-(nN/class_sum),2)\n",
    "wV = round(1-(nV/class_sum),2)  \n",
    "wS = round(1-(nS/class_sum),2)\n",
    "\n",
    "class_freq = {0: wN, 1: wV, 2: wS}\n",
    "\n",
    "print(class_freq)"
   ],
   "metadata": {
    "collapsed": false,
    "ExecuteTime": {
     "end_time": "2024-01-24T15:12:40.431776100Z",
     "start_time": "2024-01-24T15:12:40.390797400Z"
    }
   },
   "id": "84f50dad568aeaa7"
  },
  {
   "cell_type": "code",
   "execution_count": 59,
   "outputs": [
    {
     "name": "stdout",
     "output_type": "stream",
     "text": [
      "{0: 0.07, 1: 0.96, 2: 0.97}\n"
     ]
    }
   ],
   "source": [
    "nN = np.count_nonzero(y_train_rem == 0)\n",
    "nV = np.count_nonzero(y_train_rem == 1)\n",
    "nS = np.count_nonzero(y_train_rem == 2)\n",
    "\n",
    "class_sum = nN+nV+nS\n",
    "wN = round(1-(nN/class_sum),2)\n",
    "wV = round(1-(nV/class_sum),2)  \n",
    "wS = round(1-(nS/class_sum),2)\n",
    "\n",
    "class_freq_rem = {0: wN, 1: wV, 2: wS}\n",
    "\n",
    "print(class_freq_rem)"
   ],
   "metadata": {
    "collapsed": false,
    "ExecuteTime": {
     "end_time": "2024-01-24T15:12:49.372288100Z",
     "start_time": "2024-01-24T15:12:49.349723300Z"
    }
   },
   "id": "bac49e05609eb6dd"
  },
  {
   "cell_type": "code",
   "execution_count": 55,
   "outputs": [
    {
     "data": {
      "text/plain": "{0: 0.36071584277512514, 1: 6.897895635578323, 2: 12.082695522125452}"
     },
     "execution_count": 55,
     "metadata": {},
     "output_type": "execute_result"
    }
   ],
   "source": [
    "from sklearn.utils.class_weight import compute_class_weight\n",
    "\n",
    "weights = compute_class_weight(class_weight='balanced', classes=[0.,1.,2.], y=y_train)\n",
    "\n",
    "keys = np.arange(0,3,1)\n",
    "class_weights = dict(zip(keys, weights))\n",
    "class_weights"
   ],
   "metadata": {
    "collapsed": false,
    "ExecuteTime": {
     "end_time": "2024-01-24T15:11:22.954651900Z",
     "start_time": "2024-01-24T15:11:22.914312300Z"
    }
   },
   "id": "1c111605648c359c"
  },
  {
   "cell_type": "code",
   "execution_count": 56,
   "outputs": [
    {
     "data": {
      "text/plain": "{0: 0.3586141507628608, 1: 7.495818181818182, 2: 12.807393600497049}"
     },
     "execution_count": 56,
     "metadata": {},
     "output_type": "execute_result"
    }
   ],
   "source": [
    "weights = compute_class_weight(class_weight='balanced', classes=[0.,1.,2.], y=y_train_rem)\n",
    "\n",
    "keys = np.arange(0,3,1)\n",
    "class_weights_rem = dict(zip(keys, weights))\n",
    "class_weights_rem"
   ],
   "metadata": {
    "collapsed": false,
    "ExecuteTime": {
     "end_time": "2024-01-24T15:11:27.282509900Z",
     "start_time": "2024-01-24T15:11:27.231902300Z"
    }
   },
   "id": "dde54de4292a5689"
  },
  {
   "cell_type": "markdown",
   "source": [
    "# Feature selection"
   ],
   "metadata": {
    "collapsed": false
   },
   "id": "62c95fc576406768"
  },
  {
   "cell_type": "code",
   "execution_count": 241,
   "outputs": [
    {
     "data": {
      "text/plain": "<Figure size 1000x800 with 2 Axes>",
      "image/png": "[encoded data removed]"
     },
     "metadata": {},
     "output_type": "display_data"
    }
   ],
   "source": [
    "cor_matrix = X_train.corr().abs()\n",
    "feature_list = X_train.columns\n",
    "f = plt.figure(figsize=(10, 8))\n",
    "plt.matshow(cor_matrix, fignum=f.number)\n",
    "plt.xticks(range(len(feature_list)), feature_list, fontsize=10, rotation=90)\n",
    "plt.yticks(range(len(feature_list)), feature_list, fontsize=10)\n",
    "cb = plt.colorbar()\n",
    "cb.ax.tick_params(labelsize=14)"
   ],
   "metadata": {
    "collapsed": false,
    "ExecuteTime": {
     "end_time": "2024-01-24T14:27:45.647642600Z",
     "start_time": "2024-01-24T14:27:45.001691200Z"
    }
   },
   "id": "6916c02d1187a915"
  },
  {
   "cell_type": "code",
   "execution_count": 242,
   "outputs": [
    {
     "name": "stdout",
     "output_type": "stream",
     "text": [
      "Deleted features: {'adn', 'd2', 'T1'}\n"
     ]
    },
    {
     "name": "stderr",
     "output_type": "stream",
     "text": [
      "C:\\Users\\user\\AppData\\Local\\Temp\\ipykernel_25408\\1876883640.py:8: FutureWarning: Series.__getitem__ treating keys as positions is deprecated. In a future version, integer keys will always be treated as labels (consistent with DataFrame behavior). To access a value by position, use `ser.iloc[pos]`\n",
      "  if median_corr[i] < median_corr[j]:\n"
     ]
    }
   ],
   "source": [
    "correlated_features = set()\n",
    "correlation_matrix = X_train.corr()\n",
    "median_corr = (correlation_matrix.abs()).median(axis=0)\n",
    "\n",
    "for i in range(len(correlation_matrix .columns)):\n",
    "    for j in range(i):\n",
    "        if abs(correlation_matrix.iloc[i, j]) > 0.7:\n",
    "            if median_corr[i] < median_corr[j]:\n",
    "                colname = correlation_matrix.columns[i]\n",
    "            else:\n",
    "                colname = correlation_matrix.columns[j]\n",
    "            correlated_features.add(colname)\n",
    "X_train.drop(labels=correlated_features, axis=1, inplace=True)\n",
    "# see how it drops correlated / drop the one that had a lower correlation w.r to the other feat\n",
    "print('Deleted features: ' + str(correlated_features))"
   ],
   "metadata": {
    "collapsed": false,
    "ExecuteTime": {
     "end_time": "2024-01-24T14:27:45.770580900Z",
     "start_time": "2024-01-24T14:27:45.633244700Z"
    }
   },
   "id": "831ae0fade003ad5"
  },
  {
   "cell_type": "code",
   "execution_count": 243,
   "outputs": [
    {
     "data": {
      "text/plain": "<Figure size 1000x800 with 2 Axes>",
      "image/png": "[encoded data removed]"
     },
     "metadata": {},
     "output_type": "display_data"
    }
   ],
   "source": [
    "cor_matrix = X_train.corr().abs()\n",
    "feature_list = list(X_train.columns)\n",
    "f = plt.figure(figsize=(10, 8))\n",
    "plt.matshow(cor_matrix, fignum=f.number)\n",
    "plt.xticks(range(len(feature_list)), feature_list, fontsize=10, rotation=90)\n",
    "plt.yticks(range(len(feature_list)), feature_list, fontsize=10)\n",
    "cb = plt.colorbar()\n",
    "cb.ax.tick_params(labelsize=14)"
   ],
   "metadata": {
    "collapsed": false,
    "ExecuteTime": {
     "end_time": "2024-01-24T14:27:46.178923400Z",
     "start_time": "2024-01-24T14:27:45.718142100Z"
    }
   },
   "id": "c49c64e6393595e6"
  },
  {
   "cell_type": "code",
   "execution_count": 244,
   "outputs": [
    {
     "data": {
      "text/plain": "            asp       adp        rp        d1        rd        rn        T2  \\\n7      0.167071  0.722429  0.881493  0.113784  0.077512  0.791480  0.119718   \n8      0.163834  0.722429  0.881392  0.112276  0.077539  0.791525  0.119718   \n9      0.164541  0.720765  0.881352  0.115078  0.077468  0.791280  0.140845   \n10     0.162140  0.723079  0.881361  0.115887  0.077412  0.791119  0.140845   \n11     0.161144  0.720975  0.881243  0.115638  0.077427  0.791107  0.140845   \n...         ...       ...       ...       ...       ...       ...       ...   \n36855  0.423386  0.688054  0.593188  0.365005  0.172871  0.811847  0.296296   \n36856  0.411826  0.690599  0.593082  0.470037  0.187856  0.807681  0.248677   \n36857  0.449836  0.744941  0.594719  0.351952  0.172973  0.812554  0.201058   \n36859  0.464852  0.612352  0.592158  0.339432  0.173787  0.813046  0.275132   \n36863  0.482223  0.662909  0.593357  0.347058  0.173606  0.812919  0.365079   \n\n             TP        ST  pi2pi_pr  pi2pi_po  area_peak  \n7      0.439024  0.321839  0.109312  0.051724   0.000000  \n8      0.658537  0.362319  0.109312  0.051724   0.009166  \n9      0.658537  0.362319  0.109312  0.051724   0.009406  \n10     0.658537  0.362319  0.109312  0.050287   0.008756  \n11     0.658537  0.362319  0.107962  0.050287   0.008581  \n...         ...       ...       ...       ...        ...  \n36855  0.766304  0.596913  0.146728  0.251201   0.089873  \n36856  0.728261  0.615385  0.278916  0.104324   0.031890  \n36857  0.760870  0.598930  0.137475  0.124914   0.090600  \n36859  0.823370  0.582310  0.164574  0.096774   0.082554  \n36863  0.714674  0.625668  0.281560  0.251201   0.167163  \n\n[34565 rows x 12 columns]",
      "text/html": "<div>\n<style scoped>\n    .dataframe tbody tr th:only-of-type {\n        vertical-align: middle;\n    }\n\n    .dataframe tbody tr th {\n        vertical-align: top;\n    }\n\n    .dataframe thead th {\n        text-align: right;\n    }\n</style>\n<table border=\"1\" class=\"dataframe\">\n  <thead>\n    <tr style=\"text-align: right;\">\n      <th></th>\n      <th>asp</th>\n      <th>adp</th>\n      <th>rp</th>\n      <th>d1</th>\n      <th>rd</th>\n      <th>rn</th>\n      <th>T2</th>\n      <th>TP</th>\n      <th>ST</th>\n      <th>pi2pi_pr</th>\n      <th>pi2pi_po</th>\n      <th>area_peak</th>\n    </tr>\n  </thead>\n  <tbody>\n    <tr>\n      <th>7</th>\n      <td>0.167071</td>\n      <td>0.722429</td>\n      <td>0.881493</td>\n      <td>0.113784</td>\n      <td>0.077512</td>\n      <td>0.791480</td>\n      <td>0.119718</td>\n      <td>0.439024</td>\n      <td>0.321839</td>\n      <td>0.109312</td>\n      <td>0.051724</td>\n      <td>0.000000</td>\n    </tr>\n    <tr>\n      <th>8</th>\n      <td>0.163834</td>\n      <td>0.722429</td>\n      <td>0.881392</td>\n      <td>0.112276</td>\n      <td>0.077539</td>\n      <td>0.791525</td>\n      <td>0.119718</td>\n      <td>0.658537</td>\n      <td>0.362319</td>\n      <td>0.109312</td>\n      <td>0.051724</td>\n      <td>0.009166</td>\n    </tr>\n    <tr>\n      <th>9</th>\n      <td>0.164541</td>\n      <td>0.720765</td>\n      <td>0.881352</td>\n      <td>0.115078</td>\n      <td>0.077468</td>\n      <td>0.791280</td>\n      <td>0.140845</td>\n      <td>0.658537</td>\n      <td>0.362319</td>\n      <td>0.109312</td>\n      <td>0.051724</td>\n      <td>0.009406</td>\n    </tr>\n    <tr>\n      <th>10</th>\n      <td>0.162140</td>\n      <td>0.723079</td>\n      <td>0.881361</td>\n      <td>0.115887</td>\n      <td>0.077412</td>\n      <td>0.791119</td>\n      <td>0.140845</td>\n      <td>0.658537</td>\n      <td>0.362319</td>\n      <td>0.109312</td>\n      <td>0.050287</td>\n      <td>0.008756</td>\n    </tr>\n    <tr>\n      <th>11</th>\n      <td>0.161144</td>\n      <td>0.720975</td>\n      <td>0.881243</td>\n      <td>0.115638</td>\n      <td>0.077427</td>\n      <td>0.791107</td>\n      <td>0.140845</td>\n      <td>0.658537</td>\n      <td>0.362319</td>\n      <td>0.107962</td>\n      <td>0.050287</td>\n      <td>0.008581</td>\n    </tr>\n    <tr>\n      <th>...</th>\n      <td>...</td>\n      <td>...</td>\n      <td>...</td>\n      <td>...</td>\n      <td>...</td>\n      <td>...</td>\n      <td>...</td>\n      <td>...</td>\n      <td>...</td>\n      <td>...</td>\n      <td>...</td>\n      <td>...</td>\n    </tr>\n    <tr>\n      <th>36855</th>\n      <td>0.423386</td>\n      <td>0.688054</td>\n      <td>0.593188</td>\n      <td>0.365005</td>\n      <td>0.172871</td>\n      <td>0.811847</td>\n      <td>0.296296</td>\n      <td>0.766304</td>\n      <td>0.596913</td>\n      <td>0.146728</td>\n      <td>0.251201</td>\n      <td>0.089873</td>\n    </tr>\n    <tr>\n      <th>36856</th>\n      <td>0.411826</td>\n      <td>0.690599</td>\n      <td>0.593082</td>\n      <td>0.470037</td>\n      <td>0.187856</td>\n      <td>0.807681</td>\n      <td>0.248677</td>\n      <td>0.728261</td>\n      <td>0.615385</td>\n      <td>0.278916</td>\n      <td>0.104324</td>\n      <td>0.031890</td>\n    </tr>\n    <tr>\n      <th>36857</th>\n      <td>0.449836</td>\n      <td>0.744941</td>\n      <td>0.594719</td>\n      <td>0.351952</td>\n      <td>0.172973</td>\n      <td>0.812554</td>\n      <td>0.201058</td>\n      <td>0.760870</td>\n      <td>0.598930</td>\n      <td>0.137475</td>\n      <td>0.124914</td>\n      <td>0.090600</td>\n    </tr>\n    <tr>\n      <th>36859</th>\n      <td>0.464852</td>\n      <td>0.612352</td>\n      <td>0.592158</td>\n      <td>0.339432</td>\n      <td>0.173787</td>\n      <td>0.813046</td>\n      <td>0.275132</td>\n      <td>0.823370</td>\n      <td>0.582310</td>\n      <td>0.164574</td>\n      <td>0.096774</td>\n      <td>0.082554</td>\n    </tr>\n    <tr>\n      <th>36863</th>\n      <td>0.482223</td>\n      <td>0.662909</td>\n      <td>0.593357</td>\n      <td>0.347058</td>\n      <td>0.173606</td>\n      <td>0.812919</td>\n      <td>0.365079</td>\n      <td>0.714674</td>\n      <td>0.625668</td>\n      <td>0.281560</td>\n      <td>0.251201</td>\n      <td>0.167163</td>\n    </tr>\n  </tbody>\n</table>\n<p>34565 rows × 12 columns</p>\n</div>"
     },
     "execution_count": 244,
     "metadata": {},
     "output_type": "execute_result"
    }
   ],
   "source": [
    "X_test = X_test[feature_list]\n",
    "X_test"
   ],
   "metadata": {
    "collapsed": false,
    "ExecuteTime": {
     "end_time": "2024-01-24T14:27:48.714260300Z",
     "start_time": "2024-01-24T14:27:48.650258900Z"
    }
   },
   "id": "2bbc9ef63e2fa620"
  },
  {
   "cell_type": "code",
   "execution_count": 207,
   "outputs": [
    {
     "name": "stdout",
     "output_type": "stream",
     "text": [
      "(123681, 5)\n",
      "(34565, 5)\n"
     ]
    }
   ],
   "source": [
    "from sklearn.decomposition import PCA\n",
    "varianceThreshold = 0.9\n",
    "pca_features = PCA(n_components = varianceThreshold) # dimensionality reduction\n",
    "pca_features.fit(X_train)\n",
    "\n",
    "X_train = pca_features.transform(X_train)\n",
    "print(np.shape(X_train))\n",
    "\n",
    "X_test = pca_features.transform(X_test)\n",
    "print(np.shape(X_test))"
   ],
   "metadata": {
    "collapsed": false,
    "ExecuteTime": {
     "end_time": "2024-01-24T14:22:35.250797900Z",
     "start_time": "2024-01-24T14:22:35.139253100Z"
    }
   },
   "id": "8612679fc7597a42"
  },
  {
   "cell_type": "markdown",
   "source": [
    "# Downsampled sets"
   ],
   "metadata": {
    "collapsed": false
   },
   "id": "71201954ade4a032"
  },
  {
   "cell_type": "code",
   "execution_count": 60,
   "outputs": [
    {
     "data": {
      "text/plain": "             asp       adp       adn        rp        d1        d2        rd  \\\n0       0.055880  0.801983  0.799544  0.681870  0.070597  0.433180  0.458742   \n1       0.057403  0.803716  0.801356  0.682360  0.070312  0.432627  0.458752   \n2       0.057984  0.802885  0.800347  0.682358  0.071546  0.432986  0.458729   \n3       0.057484  0.803932  0.800936  0.682399  0.070705  0.432987  0.458743   \n4       0.057938  0.802728  0.801323  0.682332  0.070741  0.432279  0.458749   \n...          ...       ...       ...       ...       ...       ...       ...   \n137339  0.049199  0.836044  0.187404  0.199390  0.808075  1.000000  0.572823   \n137340  0.046219  0.836044  0.187404  0.199143  0.806709  1.000000  0.572820   \n137341  0.036760  0.836044  0.187404  0.197617  0.802374  1.000000  0.572812   \n137342  0.266708  0.836044  0.187404  0.201062  0.907759  1.000000  0.573021   \n137343  0.490775  0.833726  1.000000  0.201147  0.170832  0.251213  0.571975   \n\n              rn        T1        T2        TP        ST  pi2pi_pr  pi2pi_po  \\\n0       0.485321  0.018545  0.212121  0.941617  0.775000  0.000000  0.065539   \n1       0.485533  0.017118  0.202020  0.941617  0.775000  0.102538  0.067653   \n2       0.485352  0.019971  0.232323  0.943114  0.772414  0.104569  0.065539   \n3       0.485465  0.018545  0.212121  0.941617  0.775000  0.102538  0.068710   \n4       0.485501  0.018545  0.222222  0.943114  0.772414  0.105584  0.064482   \n...          ...       ...       ...       ...       ...       ...       ...   \n137339  0.890823  0.377079  1.000000  0.665098  0.935655  0.019520  0.015022   \n137340  0.887826  0.292135  1.000000  0.745937  0.934561  0.019624  0.014918   \n137341  0.869294  0.207640  1.000000  0.826347  0.930344  0.019520  0.035990   \n137342  0.911134  0.032360  1.000000  0.993157  0.941120  0.040494  0.137492   \n137343  0.914177  0.036404  0.288194  0.901625  0.958333  0.141522  0.424995   \n\n        area_peak  annotation  \n0        0.003993           0  \n1        0.004384           0  \n2        0.004580           0  \n3        0.004438           0  \n4        0.004605           0  \n...           ...         ...  \n137339   0.000000           0  \n137340   0.000000           0  \n137341   0.000000           0  \n137342   0.282995           0  \n137343   0.000000           0  \n\n[137344 rows x 16 columns]",
      "text/html": "<div>\n<style scoped>\n    .dataframe tbody tr th:only-of-type {\n        vertical-align: middle;\n    }\n\n    .dataframe tbody tr th {\n        vertical-align: top;\n    }\n\n    .dataframe thead th {\n        text-align: right;\n    }\n</style>\n<table border=\"1\" class=\"dataframe\">\n  <thead>\n    <tr style=\"text-align: right;\">\n      <th></th>\n      <th>asp</th>\n      <th>adp</th>\n      <th>adn</th>\n      <th>rp</th>\n      <th>d1</th>\n      <th>d2</th>\n      <th>rd</th>\n      <th>rn</th>\n      <th>T1</th>\n      <th>T2</th>\n      <th>TP</th>\n      <th>ST</th>\n      <th>pi2pi_pr</th>\n      <th>pi2pi_po</th>\n      <th>area_peak</th>\n      <th>annotation</th>\n    </tr>\n  </thead>\n  <tbody>\n    <tr>\n      <th>0</th>\n      <td>0.055880</td>\n      <td>0.801983</td>\n      <td>0.799544</td>\n      <td>0.681870</td>\n      <td>0.070597</td>\n      <td>0.433180</td>\n      <td>0.458742</td>\n      <td>0.485321</td>\n      <td>0.018545</td>\n      <td>0.212121</td>\n      <td>0.941617</td>\n      <td>0.775000</td>\n      <td>0.000000</td>\n      <td>0.065539</td>\n      <td>0.003993</td>\n      <td>0</td>\n    </tr>\n    <tr>\n      <th>1</th>\n      <td>0.057403</td>\n      <td>0.803716</td>\n      <td>0.801356</td>\n      <td>0.682360</td>\n      <td>0.070312</td>\n      <td>0.432627</td>\n      <td>0.458752</td>\n      <td>0.485533</td>\n      <td>0.017118</td>\n      <td>0.202020</td>\n      <td>0.941617</td>\n      <td>0.775000</td>\n      <td>0.102538</td>\n      <td>0.067653</td>\n      <td>0.004384</td>\n      <td>0</td>\n    </tr>\n    <tr>\n      <th>2</th>\n      <td>0.057984</td>\n      <td>0.802885</td>\n      <td>0.800347</td>\n      <td>0.682358</td>\n      <td>0.071546</td>\n      <td>0.432986</td>\n      <td>0.458729</td>\n      <td>0.485352</td>\n      <td>0.019971</td>\n      <td>0.232323</td>\n      <td>0.943114</td>\n      <td>0.772414</td>\n      <td>0.104569</td>\n      <td>0.065539</td>\n      <td>0.004580</td>\n      <td>0</td>\n    </tr>\n    <tr>\n      <th>3</th>\n      <td>0.057484</td>\n      <td>0.803932</td>\n      <td>0.800936</td>\n      <td>0.682399</td>\n      <td>0.070705</td>\n      <td>0.432987</td>\n      <td>0.458743</td>\n      <td>0.485465</td>\n      <td>0.018545</td>\n      <td>0.212121</td>\n      <td>0.941617</td>\n      <td>0.775000</td>\n      <td>0.102538</td>\n      <td>0.068710</td>\n      <td>0.004438</td>\n      <td>0</td>\n    </tr>\n    <tr>\n      <th>4</th>\n      <td>0.057938</td>\n      <td>0.802728</td>\n      <td>0.801323</td>\n      <td>0.682332</td>\n      <td>0.070741</td>\n      <td>0.432279</td>\n      <td>0.458749</td>\n      <td>0.485501</td>\n      <td>0.018545</td>\n      <td>0.222222</td>\n      <td>0.943114</td>\n      <td>0.772414</td>\n      <td>0.105584</td>\n      <td>0.064482</td>\n      <td>0.004605</td>\n      <td>0</td>\n    </tr>\n    <tr>\n      <th>...</th>\n      <td>...</td>\n      <td>...</td>\n      <td>...</td>\n      <td>...</td>\n      <td>...</td>\n      <td>...</td>\n      <td>...</td>\n      <td>...</td>\n      <td>...</td>\n      <td>...</td>\n      <td>...</td>\n      <td>...</td>\n      <td>...</td>\n      <td>...</td>\n      <td>...</td>\n      <td>...</td>\n    </tr>\n    <tr>\n      <th>137339</th>\n      <td>0.049199</td>\n      <td>0.836044</td>\n      <td>0.187404</td>\n      <td>0.199390</td>\n      <td>0.808075</td>\n      <td>1.000000</td>\n      <td>0.572823</td>\n      <td>0.890823</td>\n      <td>0.377079</td>\n      <td>1.000000</td>\n      <td>0.665098</td>\n      <td>0.935655</td>\n      <td>0.019520</td>\n      <td>0.015022</td>\n      <td>0.000000</td>\n      <td>0</td>\n    </tr>\n    <tr>\n      <th>137340</th>\n      <td>0.046219</td>\n      <td>0.836044</td>\n      <td>0.187404</td>\n      <td>0.199143</td>\n      <td>0.806709</td>\n      <td>1.000000</td>\n      <td>0.572820</td>\n      <td>0.887826</td>\n      <td>0.292135</td>\n      <td>1.000000</td>\n      <td>0.745937</td>\n      <td>0.934561</td>\n      <td>0.019624</td>\n      <td>0.014918</td>\n      <td>0.000000</td>\n      <td>0</td>\n    </tr>\n    <tr>\n      <th>137341</th>\n      <td>0.036760</td>\n      <td>0.836044</td>\n      <td>0.187404</td>\n      <td>0.197617</td>\n      <td>0.802374</td>\n      <td>1.000000</td>\n      <td>0.572812</td>\n      <td>0.869294</td>\n      <td>0.207640</td>\n      <td>1.000000</td>\n      <td>0.826347</td>\n      <td>0.930344</td>\n      <td>0.019520</td>\n      <td>0.035990</td>\n      <td>0.000000</td>\n      <td>0</td>\n    </tr>\n    <tr>\n      <th>137342</th>\n      <td>0.266708</td>\n      <td>0.836044</td>\n      <td>0.187404</td>\n      <td>0.201062</td>\n      <td>0.907759</td>\n      <td>1.000000</td>\n      <td>0.573021</td>\n      <td>0.911134</td>\n      <td>0.032360</td>\n      <td>1.000000</td>\n      <td>0.993157</td>\n      <td>0.941120</td>\n      <td>0.040494</td>\n      <td>0.137492</td>\n      <td>0.282995</td>\n      <td>0</td>\n    </tr>\n    <tr>\n      <th>137343</th>\n      <td>0.490775</td>\n      <td>0.833726</td>\n      <td>1.000000</td>\n      <td>0.201147</td>\n      <td>0.170832</td>\n      <td>0.251213</td>\n      <td>0.571975</td>\n      <td>0.914177</td>\n      <td>0.036404</td>\n      <td>0.288194</td>\n      <td>0.901625</td>\n      <td>0.958333</td>\n      <td>0.141522</td>\n      <td>0.424995</td>\n      <td>0.000000</td>\n      <td>0</td>\n    </tr>\n  </tbody>\n</table>\n<p>137344 rows × 16 columns</p>\n</div>"
     },
     "execution_count": 60,
     "metadata": {},
     "output_type": "execute_result"
    }
   ],
   "source": [
    "train = pd.concat([X_train,y_train],axis=1)\n",
    "train"
   ],
   "metadata": {
    "collapsed": false,
    "ExecuteTime": {
     "end_time": "2024-01-24T15:16:26.624865100Z",
     "start_time": "2024-01-24T15:16:26.581391600Z"
    }
   },
   "id": "5a2d40a73f913d0d"
  },
  {
   "cell_type": "code",
   "execution_count": 61,
   "outputs": [
    {
     "name": "stdout",
     "output_type": "stream",
     "text": [
      "annotation\n",
      "0    126918\n",
      "1      6637\n",
      "2      3789\n",
      "Name: count, dtype: int64\n",
      "annotation\n",
      "0    3789\n",
      "1    3789\n",
      "2    3789\n",
      "Name: count, dtype: int64\n"
     ]
    }
   ],
   "source": [
    "train_df = downsample_majority_class(train,'annotation')\n",
    "\n",
    "# Creating training and testing sets\n",
    "X_train_d = train_df.drop(['annotation'], axis=1)\n",
    "y_train_d = train_df['annotation']"
   ],
   "metadata": {
    "collapsed": false,
    "ExecuteTime": {
     "end_time": "2024-01-24T15:16:32.713677300Z",
     "start_time": "2024-01-24T15:16:32.639003300Z"
    }
   },
   "id": "c862755a0f7e8b2d"
  },
  {
   "cell_type": "code",
   "execution_count": 62,
   "outputs": [
    {
     "data": {
      "text/plain": "             asp       adp       adn        rp        d1        d2        rd  \\\n0       0.055880  0.801983  0.799544  0.681870  0.070597  0.433180  0.458742   \n1       0.057403  0.803716  0.801356  0.682360  0.070312  0.432627  0.458752   \n2       0.057984  0.802885  0.800347  0.682358  0.071546  0.432986  0.458729   \n3       0.057484  0.803932  0.800936  0.682399  0.070705  0.432987  0.458743   \n4       0.057938  0.802728  0.801323  0.682332  0.070741  0.432279  0.458749   \n...          ...       ...       ...       ...       ...       ...       ...   \n137334  0.053171  0.845806  0.716866  0.200235  0.262828  0.517182  0.569021   \n137335  0.031052  0.848027  0.725521  0.197720  0.243748  0.510216  0.571959   \n137336  0.039120  0.848027  0.725521  0.199565  0.247445  0.510216  0.571680   \n137337  0.048010  0.845696  0.722647  0.200011  0.254489  0.511812  0.571065   \n137338  0.034322  0.844277  0.711958  0.198172  0.259261  0.521011  0.565026   \n\n              rn        T1        T2        TP        ST  pi2pi_pr  pi2pi_po  \\\n0       0.485321  0.018545  0.212121  0.941617  0.775000  0.000000  0.065539   \n1       0.485533  0.017118  0.202020  0.941617  0.775000  0.102538  0.067653   \n2       0.485352  0.019971  0.232323  0.943114  0.772414  0.104569  0.065539   \n3       0.485465  0.018545  0.212121  0.941617  0.775000  0.102538  0.068710   \n4       0.485501  0.018545  0.222222  0.943114  0.772414  0.105584  0.064482   \n...          ...       ...       ...       ...       ...       ...       ...   \n137334  0.913441  0.026067  0.277778  0.910180  0.951923  0.023051  0.010119   \n137335  0.914476  0.096180  0.076389  0.818648  0.931208  0.014744  0.017004   \n137336  0.913978  0.002697  0.076389  0.907613  0.953390  0.021597  0.018882   \n137337  0.913682  0.015281  0.142361  0.903764  0.956250  0.023466  0.012936   \n137338  0.912798  0.057079  0.434028  0.899914  0.960366  0.017548  0.014918   \n\n        area_peak  annotation  \n0        0.003993           0  \n1        0.004384           0  \n2        0.004580           0  \n3        0.004438           0  \n4        0.004605           0  \n...           ...         ...  \n137334   0.001117           0  \n137335   0.000000           1  \n137336   0.000678           0  \n137337   0.001007           0  \n137338   0.001981           1  \n\n[123681 rows x 16 columns]",
      "text/html": "<div>\n<style scoped>\n    .dataframe tbody tr th:only-of-type {\n        vertical-align: middle;\n    }\n\n    .dataframe tbody tr th {\n        vertical-align: top;\n    }\n\n    .dataframe thead th {\n        text-align: right;\n    }\n</style>\n<table border=\"1\" class=\"dataframe\">\n  <thead>\n    <tr style=\"text-align: right;\">\n      <th></th>\n      <th>asp</th>\n      <th>adp</th>\n      <th>adn</th>\n      <th>rp</th>\n      <th>d1</th>\n      <th>d2</th>\n      <th>rd</th>\n      <th>rn</th>\n      <th>T1</th>\n      <th>T2</th>\n      <th>TP</th>\n      <th>ST</th>\n      <th>pi2pi_pr</th>\n      <th>pi2pi_po</th>\n      <th>area_peak</th>\n      <th>annotation</th>\n    </tr>\n  </thead>\n  <tbody>\n    <tr>\n      <th>0</th>\n      <td>0.055880</td>\n      <td>0.801983</td>\n      <td>0.799544</td>\n      <td>0.681870</td>\n      <td>0.070597</td>\n      <td>0.433180</td>\n      <td>0.458742</td>\n      <td>0.485321</td>\n      <td>0.018545</td>\n      <td>0.212121</td>\n      <td>0.941617</td>\n      <td>0.775000</td>\n      <td>0.000000</td>\n      <td>0.065539</td>\n      <td>0.003993</td>\n      <td>0</td>\n    </tr>\n    <tr>\n      <th>1</th>\n      <td>0.057403</td>\n      <td>0.803716</td>\n      <td>0.801356</td>\n      <td>0.682360</td>\n      <td>0.070312</td>\n      <td>0.432627</td>\n      <td>0.458752</td>\n      <td>0.485533</td>\n      <td>0.017118</td>\n      <td>0.202020</td>\n      <td>0.941617</td>\n      <td>0.775000</td>\n      <td>0.102538</td>\n      <td>0.067653</td>\n      <td>0.004384</td>\n      <td>0</td>\n    </tr>\n    <tr>\n      <th>2</th>\n      <td>0.057984</td>\n      <td>0.802885</td>\n      <td>0.800347</td>\n      <td>0.682358</td>\n      <td>0.071546</td>\n      <td>0.432986</td>\n      <td>0.458729</td>\n      <td>0.485352</td>\n      <td>0.019971</td>\n      <td>0.232323</td>\n      <td>0.943114</td>\n      <td>0.772414</td>\n      <td>0.104569</td>\n      <td>0.065539</td>\n      <td>0.004580</td>\n      <td>0</td>\n    </tr>\n    <tr>\n      <th>3</th>\n      <td>0.057484</td>\n      <td>0.803932</td>\n      <td>0.800936</td>\n      <td>0.682399</td>\n      <td>0.070705</td>\n      <td>0.432987</td>\n      <td>0.458743</td>\n      <td>0.485465</td>\n      <td>0.018545</td>\n      <td>0.212121</td>\n      <td>0.941617</td>\n      <td>0.775000</td>\n      <td>0.102538</td>\n      <td>0.068710</td>\n      <td>0.004438</td>\n      <td>0</td>\n    </tr>\n    <tr>\n      <th>4</th>\n      <td>0.057938</td>\n      <td>0.802728</td>\n      <td>0.801323</td>\n      <td>0.682332</td>\n      <td>0.070741</td>\n      <td>0.432279</td>\n      <td>0.458749</td>\n      <td>0.485501</td>\n      <td>0.018545</td>\n      <td>0.222222</td>\n      <td>0.943114</td>\n      <td>0.772414</td>\n      <td>0.105584</td>\n      <td>0.064482</td>\n      <td>0.004605</td>\n      <td>0</td>\n    </tr>\n    <tr>\n      <th>...</th>\n      <td>...</td>\n      <td>...</td>\n      <td>...</td>\n      <td>...</td>\n      <td>...</td>\n      <td>...</td>\n      <td>...</td>\n      <td>...</td>\n      <td>...</td>\n      <td>...</td>\n      <td>...</td>\n      <td>...</td>\n      <td>...</td>\n      <td>...</td>\n      <td>...</td>\n      <td>...</td>\n    </tr>\n    <tr>\n      <th>137334</th>\n      <td>0.053171</td>\n      <td>0.845806</td>\n      <td>0.716866</td>\n      <td>0.200235</td>\n      <td>0.262828</td>\n      <td>0.517182</td>\n      <td>0.569021</td>\n      <td>0.913441</td>\n      <td>0.026067</td>\n      <td>0.277778</td>\n      <td>0.910180</td>\n      <td>0.951923</td>\n      <td>0.023051</td>\n      <td>0.010119</td>\n      <td>0.001117</td>\n      <td>0</td>\n    </tr>\n    <tr>\n      <th>137335</th>\n      <td>0.031052</td>\n      <td>0.848027</td>\n      <td>0.725521</td>\n      <td>0.197720</td>\n      <td>0.243748</td>\n      <td>0.510216</td>\n      <td>0.571959</td>\n      <td>0.914476</td>\n      <td>0.096180</td>\n      <td>0.076389</td>\n      <td>0.818648</td>\n      <td>0.931208</td>\n      <td>0.014744</td>\n      <td>0.017004</td>\n      <td>0.000000</td>\n      <td>1</td>\n    </tr>\n    <tr>\n      <th>137336</th>\n      <td>0.039120</td>\n      <td>0.848027</td>\n      <td>0.725521</td>\n      <td>0.199565</td>\n      <td>0.247445</td>\n      <td>0.510216</td>\n      <td>0.571680</td>\n      <td>0.913978</td>\n      <td>0.002697</td>\n      <td>0.076389</td>\n      <td>0.907613</td>\n      <td>0.953390</td>\n      <td>0.021597</td>\n      <td>0.018882</td>\n      <td>0.000678</td>\n      <td>0</td>\n    </tr>\n    <tr>\n      <th>137337</th>\n      <td>0.048010</td>\n      <td>0.845696</td>\n      <td>0.722647</td>\n      <td>0.200011</td>\n      <td>0.254489</td>\n      <td>0.511812</td>\n      <td>0.571065</td>\n      <td>0.913682</td>\n      <td>0.015281</td>\n      <td>0.142361</td>\n      <td>0.903764</td>\n      <td>0.956250</td>\n      <td>0.023466</td>\n      <td>0.012936</td>\n      <td>0.001007</td>\n      <td>0</td>\n    </tr>\n    <tr>\n      <th>137338</th>\n      <td>0.034322</td>\n      <td>0.844277</td>\n      <td>0.711958</td>\n      <td>0.198172</td>\n      <td>0.259261</td>\n      <td>0.521011</td>\n      <td>0.565026</td>\n      <td>0.912798</td>\n      <td>0.057079</td>\n      <td>0.434028</td>\n      <td>0.899914</td>\n      <td>0.960366</td>\n      <td>0.017548</td>\n      <td>0.014918</td>\n      <td>0.001981</td>\n      <td>1</td>\n    </tr>\n  </tbody>\n</table>\n<p>123681 rows × 16 columns</p>\n</div>"
     },
     "execution_count": 62,
     "metadata": {},
     "output_type": "execute_result"
    }
   ],
   "source": [
    "train = pd.concat([X_train_rem,y_train_rem],axis=1)\n",
    "train"
   ],
   "metadata": {
    "collapsed": false,
    "ExecuteTime": {
     "end_time": "2024-01-24T15:17:16.408687600Z",
     "start_time": "2024-01-24T15:17:16.375302600Z"
    }
   },
   "id": "b894fe81b4814a2b"
  },
  {
   "cell_type": "code",
   "execution_count": 63,
   "outputs": [
    {
     "name": "stdout",
     "output_type": "stream",
     "text": [
      "annotation\n",
      "0    114962\n",
      "1      5500\n",
      "2      3219\n",
      "Name: count, dtype: int64\n",
      "annotation\n",
      "0    3219\n",
      "1    3219\n",
      "2    3219\n",
      "Name: count, dtype: int64\n"
     ]
    }
   ],
   "source": [
    "train_df = downsample_majority_class(train,'annotation')\n",
    "\n",
    "# Creating training and testing sets\n",
    "X_train_rem_d = train_df.drop(['annotation'], axis=1)\n",
    "y_train_rem_d = train_df['annotation']"
   ],
   "metadata": {
    "collapsed": false,
    "ExecuteTime": {
     "end_time": "2024-01-24T15:17:42.382504100Z",
     "start_time": "2024-01-24T15:17:42.337286400Z"
    }
   },
   "id": "3569c6d756082dd"
  },
  {
   "cell_type": "markdown",
   "source": [
    "# Models"
   ],
   "metadata": {
    "collapsed": false
   },
   "id": "661f2f22cc395e04"
  },
  {
   "cell_type": "markdown",
   "source": [
    "# Grid search"
   ],
   "metadata": {
    "collapsed": false
   },
   "id": "173d5d1f04d00712"
  },
  {
   "cell_type": "code",
   "execution_count": 33,
   "outputs": [],
   "source": [
    "from sklearn.model_selection import GridSearchCV\n",
    "def hyperp_search(classifier, parameters):\n",
    "    gs = GridSearchCV(classifier, parameters, cv=3, scoring = 'f1', verbose=0, n_jobs=-1)\n",
    "    gs = gs.fit(X_train, y_train)\n",
    "    print(\"f1_train: %f using %s\" % (gs.best_score_, gs.best_params_))\n"
   ],
   "metadata": {
    "collapsed": false,
    "ExecuteTime": {
     "end_time": "2024-01-24T08:17:23.438384700Z",
     "start_time": "2024-01-24T08:17:23.302329900Z"
    }
   },
   "id": "eed82717b621a960"
  },
  {
   "cell_type": "code",
   "execution_count": 34,
   "outputs": [
    {
     "name": "stderr",
     "output_type": "stream",
     "text": [
      "C:\\Users\\user\\Desktop\\AI-project\\venv\\Lib\\site-packages\\sklearn\\model_selection\\_search.py:979: UserWarning: One or more of the test scores are non-finite: [nan nan nan nan nan nan nan nan nan nan nan nan nan nan nan nan nan nan\n",
      " nan nan nan nan nan nan nan nan nan nan nan nan nan nan nan nan nan]\n",
      "  warnings.warn(\n"
     ]
    },
    {
     "name": "stdout",
     "output_type": "stream",
     "text": [
      "f1_train: nan using {'n_neighbors': 50}\n"
     ]
    }
   ],
   "source": [
    "# KNN\n",
    "from sklearn.neighbors import KNeighborsClassifier\n",
    "\n",
    "classifier = KNeighborsClassifier()\n",
    "parameters = {'n_neighbors':np.arange(50,120,2)}\n",
    "\n",
    "hyperp_search(classifier,parameters)"
   ],
   "metadata": {
    "collapsed": false,
    "ExecuteTime": {
     "end_time": "2024-01-24T08:27:19.054057900Z",
     "start_time": "2024-01-24T08:17:23.310948600Z"
    }
   },
   "id": "3509e091ea474a4a"
  },
  {
   "cell_type": "code",
   "execution_count": 36,
   "outputs": [
    {
     "ename": "KeyboardInterrupt",
     "evalue": "",
     "output_type": "error",
     "traceback": [
      "\u001B[1;31m---------------------------------------------------------------------------\u001B[0m",
      "\u001B[1;31mKeyboardInterrupt\u001B[0m                         Traceback (most recent call last)",
      "Cell \u001B[1;32mIn[36], line 8\u001B[0m\n\u001B[0;32m      3\u001B[0m classifier \u001B[38;5;241m=\u001B[39m SVC()\n\u001B[0;32m      4\u001B[0m parameters \u001B[38;5;241m=\u001B[39m {\u001B[38;5;124m\"\u001B[39m\u001B[38;5;124mkernel\u001B[39m\u001B[38;5;124m\"\u001B[39m:[\u001B[38;5;124m'\u001B[39m\u001B[38;5;124mlinear\u001B[39m\u001B[38;5;124m'\u001B[39m,\u001B[38;5;124m'\u001B[39m\u001B[38;5;124mrbf\u001B[39m\u001B[38;5;124m'\u001B[39m], \n\u001B[0;32m      5\u001B[0m               \u001B[38;5;124m\"\u001B[39m\u001B[38;5;124mC\u001B[39m\u001B[38;5;124m\"\u001B[39m:[\u001B[38;5;241m0.001\u001B[39m,\u001B[38;5;241m0.005\u001B[39m,\u001B[38;5;241m0.01\u001B[39m,\u001B[38;5;241m0.05\u001B[39m,\u001B[38;5;241m0.1\u001B[39m],\n\u001B[0;32m      6\u001B[0m               \u001B[38;5;124m\"\u001B[39m\u001B[38;5;124mgamma\u001B[39m\u001B[38;5;124m\"\u001B[39m:[\u001B[38;5;241m0.01\u001B[39m,\u001B[38;5;241m0.1\u001B[39m,\u001B[38;5;241m1\u001B[39m],\n\u001B[0;32m      7\u001B[0m               \u001B[38;5;124m\"\u001B[39m\u001B[38;5;124mclass_weight\u001B[39m\u001B[38;5;124m\"\u001B[39m:[\u001B[38;5;28;01mNone\u001B[39;00m,class_weights,class_freq]}\n\u001B[1;32m----> 8\u001B[0m \u001B[43mhyperp_search\u001B[49m\u001B[43m(\u001B[49m\u001B[43mclassifier\u001B[49m\u001B[43m,\u001B[49m\u001B[43mparameters\u001B[49m\u001B[43m)\u001B[49m\n",
      "Cell \u001B[1;32mIn[33], line 4\u001B[0m, in \u001B[0;36mhyperp_search\u001B[1;34m(classifier, parameters)\u001B[0m\n\u001B[0;32m      2\u001B[0m \u001B[38;5;28;01mdef\u001B[39;00m \u001B[38;5;21mhyperp_search\u001B[39m(classifier, parameters):\n\u001B[0;32m      3\u001B[0m     gs \u001B[38;5;241m=\u001B[39m GridSearchCV(classifier, parameters, cv\u001B[38;5;241m=\u001B[39m\u001B[38;5;241m3\u001B[39m, scoring \u001B[38;5;241m=\u001B[39m \u001B[38;5;124m'\u001B[39m\u001B[38;5;124mf1\u001B[39m\u001B[38;5;124m'\u001B[39m, verbose\u001B[38;5;241m=\u001B[39m\u001B[38;5;241m0\u001B[39m, n_jobs\u001B[38;5;241m=\u001B[39m\u001B[38;5;241m-\u001B[39m\u001B[38;5;241m1\u001B[39m)\n\u001B[1;32m----> 4\u001B[0m     gs \u001B[38;5;241m=\u001B[39m \u001B[43mgs\u001B[49m\u001B[38;5;241;43m.\u001B[39;49m\u001B[43mfit\u001B[49m\u001B[43m(\u001B[49m\u001B[43mX_train\u001B[49m\u001B[43m,\u001B[49m\u001B[43m \u001B[49m\u001B[43my_train\u001B[49m\u001B[43m)\u001B[49m\n\u001B[0;32m      5\u001B[0m     \u001B[38;5;28mprint\u001B[39m(\u001B[38;5;124m\"\u001B[39m\u001B[38;5;124mf1_train: \u001B[39m\u001B[38;5;132;01m%f\u001B[39;00m\u001B[38;5;124m using \u001B[39m\u001B[38;5;132;01m%s\u001B[39;00m\u001B[38;5;124m\"\u001B[39m \u001B[38;5;241m%\u001B[39m (gs\u001B[38;5;241m.\u001B[39mbest_score_, gs\u001B[38;5;241m.\u001B[39mbest_params_))\n",
      "File \u001B[1;32m~\\Desktop\\AI-project\\venv\\Lib\\site-packages\\sklearn\\base.py:1152\u001B[0m, in \u001B[0;36m_fit_context.<locals>.decorator.<locals>.wrapper\u001B[1;34m(estimator, *args, **kwargs)\u001B[0m\n\u001B[0;32m   1145\u001B[0m     estimator\u001B[38;5;241m.\u001B[39m_validate_params()\n\u001B[0;32m   1147\u001B[0m \u001B[38;5;28;01mwith\u001B[39;00m config_context(\n\u001B[0;32m   1148\u001B[0m     skip_parameter_validation\u001B[38;5;241m=\u001B[39m(\n\u001B[0;32m   1149\u001B[0m         prefer_skip_nested_validation \u001B[38;5;129;01mor\u001B[39;00m global_skip_validation\n\u001B[0;32m   1150\u001B[0m     )\n\u001B[0;32m   1151\u001B[0m ):\n\u001B[1;32m-> 1152\u001B[0m     \u001B[38;5;28;01mreturn\u001B[39;00m \u001B[43mfit_method\u001B[49m\u001B[43m(\u001B[49m\u001B[43mestimator\u001B[49m\u001B[43m,\u001B[49m\u001B[43m \u001B[49m\u001B[38;5;241;43m*\u001B[39;49m\u001B[43margs\u001B[49m\u001B[43m,\u001B[49m\u001B[43m \u001B[49m\u001B[38;5;241;43m*\u001B[39;49m\u001B[38;5;241;43m*\u001B[39;49m\u001B[43mkwargs\u001B[49m\u001B[43m)\u001B[49m\n",
      "File \u001B[1;32m~\\Desktop\\AI-project\\venv\\Lib\\site-packages\\sklearn\\model_selection\\_search.py:898\u001B[0m, in \u001B[0;36mBaseSearchCV.fit\u001B[1;34m(self, X, y, groups, **fit_params)\u001B[0m\n\u001B[0;32m    892\u001B[0m     results \u001B[38;5;241m=\u001B[39m \u001B[38;5;28mself\u001B[39m\u001B[38;5;241m.\u001B[39m_format_results(\n\u001B[0;32m    893\u001B[0m         all_candidate_params, n_splits, all_out, all_more_results\n\u001B[0;32m    894\u001B[0m     )\n\u001B[0;32m    896\u001B[0m     \u001B[38;5;28;01mreturn\u001B[39;00m results\n\u001B[1;32m--> 898\u001B[0m \u001B[38;5;28;43mself\u001B[39;49m\u001B[38;5;241;43m.\u001B[39;49m\u001B[43m_run_search\u001B[49m\u001B[43m(\u001B[49m\u001B[43mevaluate_candidates\u001B[49m\u001B[43m)\u001B[49m\n\u001B[0;32m    900\u001B[0m \u001B[38;5;66;03m# multimetric is determined here because in the case of a callable\u001B[39;00m\n\u001B[0;32m    901\u001B[0m \u001B[38;5;66;03m# self.scoring the return type is only known after calling\u001B[39;00m\n\u001B[0;32m    902\u001B[0m first_test_score \u001B[38;5;241m=\u001B[39m all_out[\u001B[38;5;241m0\u001B[39m][\u001B[38;5;124m\"\u001B[39m\u001B[38;5;124mtest_scores\u001B[39m\u001B[38;5;124m\"\u001B[39m]\n",
      "File \u001B[1;32m~\\Desktop\\AI-project\\venv\\Lib\\site-packages\\sklearn\\model_selection\\_search.py:1422\u001B[0m, in \u001B[0;36mGridSearchCV._run_search\u001B[1;34m(self, evaluate_candidates)\u001B[0m\n\u001B[0;32m   1420\u001B[0m \u001B[38;5;28;01mdef\u001B[39;00m \u001B[38;5;21m_run_search\u001B[39m(\u001B[38;5;28mself\u001B[39m, evaluate_candidates):\n\u001B[0;32m   1421\u001B[0m \u001B[38;5;250m    \u001B[39m\u001B[38;5;124;03m\"\"\"Search all candidates in param_grid\"\"\"\u001B[39;00m\n\u001B[1;32m-> 1422\u001B[0m     \u001B[43mevaluate_candidates\u001B[49m\u001B[43m(\u001B[49m\u001B[43mParameterGrid\u001B[49m\u001B[43m(\u001B[49m\u001B[38;5;28;43mself\u001B[39;49m\u001B[38;5;241;43m.\u001B[39;49m\u001B[43mparam_grid\u001B[49m\u001B[43m)\u001B[49m\u001B[43m)\u001B[49m\n",
      "File \u001B[1;32m~\\Desktop\\AI-project\\venv\\Lib\\site-packages\\sklearn\\model_selection\\_search.py:845\u001B[0m, in \u001B[0;36mBaseSearchCV.fit.<locals>.evaluate_candidates\u001B[1;34m(candidate_params, cv, more_results)\u001B[0m\n\u001B[0;32m    837\u001B[0m \u001B[38;5;28;01mif\u001B[39;00m \u001B[38;5;28mself\u001B[39m\u001B[38;5;241m.\u001B[39mverbose \u001B[38;5;241m>\u001B[39m \u001B[38;5;241m0\u001B[39m:\n\u001B[0;32m    838\u001B[0m     \u001B[38;5;28mprint\u001B[39m(\n\u001B[0;32m    839\u001B[0m         \u001B[38;5;124m\"\u001B[39m\u001B[38;5;124mFitting \u001B[39m\u001B[38;5;132;01m{0}\u001B[39;00m\u001B[38;5;124m folds for each of \u001B[39m\u001B[38;5;132;01m{1}\u001B[39;00m\u001B[38;5;124m candidates,\u001B[39m\u001B[38;5;124m\"\u001B[39m\n\u001B[0;32m    840\u001B[0m         \u001B[38;5;124m\"\u001B[39m\u001B[38;5;124m totalling \u001B[39m\u001B[38;5;132;01m{2}\u001B[39;00m\u001B[38;5;124m fits\u001B[39m\u001B[38;5;124m\"\u001B[39m\u001B[38;5;241m.\u001B[39mformat(\n\u001B[0;32m    841\u001B[0m             n_splits, n_candidates, n_candidates \u001B[38;5;241m*\u001B[39m n_splits\n\u001B[0;32m    842\u001B[0m         )\n\u001B[0;32m    843\u001B[0m     )\n\u001B[1;32m--> 845\u001B[0m out \u001B[38;5;241m=\u001B[39m \u001B[43mparallel\u001B[49m\u001B[43m(\u001B[49m\n\u001B[0;32m    846\u001B[0m \u001B[43m    \u001B[49m\u001B[43mdelayed\u001B[49m\u001B[43m(\u001B[49m\u001B[43m_fit_and_score\u001B[49m\u001B[43m)\u001B[49m\u001B[43m(\u001B[49m\n\u001B[0;32m    847\u001B[0m \u001B[43m        \u001B[49m\u001B[43mclone\u001B[49m\u001B[43m(\u001B[49m\u001B[43mbase_estimator\u001B[49m\u001B[43m)\u001B[49m\u001B[43m,\u001B[49m\n\u001B[0;32m    848\u001B[0m \u001B[43m        \u001B[49m\u001B[43mX\u001B[49m\u001B[43m,\u001B[49m\n\u001B[0;32m    849\u001B[0m \u001B[43m        \u001B[49m\u001B[43my\u001B[49m\u001B[43m,\u001B[49m\n\u001B[0;32m    850\u001B[0m \u001B[43m        \u001B[49m\u001B[43mtrain\u001B[49m\u001B[38;5;241;43m=\u001B[39;49m\u001B[43mtrain\u001B[49m\u001B[43m,\u001B[49m\n\u001B[0;32m    851\u001B[0m \u001B[43m        \u001B[49m\u001B[43mtest\u001B[49m\u001B[38;5;241;43m=\u001B[39;49m\u001B[43mtest\u001B[49m\u001B[43m,\u001B[49m\n\u001B[0;32m    852\u001B[0m \u001B[43m        \u001B[49m\u001B[43mparameters\u001B[49m\u001B[38;5;241;43m=\u001B[39;49m\u001B[43mparameters\u001B[49m\u001B[43m,\u001B[49m\n\u001B[0;32m    853\u001B[0m \u001B[43m        \u001B[49m\u001B[43msplit_progress\u001B[49m\u001B[38;5;241;43m=\u001B[39;49m\u001B[43m(\u001B[49m\u001B[43msplit_idx\u001B[49m\u001B[43m,\u001B[49m\u001B[43m \u001B[49m\u001B[43mn_splits\u001B[49m\u001B[43m)\u001B[49m\u001B[43m,\u001B[49m\n\u001B[0;32m    854\u001B[0m \u001B[43m        \u001B[49m\u001B[43mcandidate_progress\u001B[49m\u001B[38;5;241;43m=\u001B[39;49m\u001B[43m(\u001B[49m\u001B[43mcand_idx\u001B[49m\u001B[43m,\u001B[49m\u001B[43m \u001B[49m\u001B[43mn_candidates\u001B[49m\u001B[43m)\u001B[49m\u001B[43m,\u001B[49m\n\u001B[0;32m    855\u001B[0m \u001B[43m        \u001B[49m\u001B[38;5;241;43m*\u001B[39;49m\u001B[38;5;241;43m*\u001B[39;49m\u001B[43mfit_and_score_kwargs\u001B[49m\u001B[43m,\u001B[49m\n\u001B[0;32m    856\u001B[0m \u001B[43m    \u001B[49m\u001B[43m)\u001B[49m\n\u001B[0;32m    857\u001B[0m \u001B[43m    \u001B[49m\u001B[38;5;28;43;01mfor\u001B[39;49;00m\u001B[43m \u001B[49m\u001B[43m(\u001B[49m\u001B[43mcand_idx\u001B[49m\u001B[43m,\u001B[49m\u001B[43m \u001B[49m\u001B[43mparameters\u001B[49m\u001B[43m)\u001B[49m\u001B[43m,\u001B[49m\u001B[43m \u001B[49m\u001B[43m(\u001B[49m\u001B[43msplit_idx\u001B[49m\u001B[43m,\u001B[49m\u001B[43m \u001B[49m\u001B[43m(\u001B[49m\u001B[43mtrain\u001B[49m\u001B[43m,\u001B[49m\u001B[43m \u001B[49m\u001B[43mtest\u001B[49m\u001B[43m)\u001B[49m\u001B[43m)\u001B[49m\u001B[43m \u001B[49m\u001B[38;5;129;43;01min\u001B[39;49;00m\u001B[43m \u001B[49m\u001B[43mproduct\u001B[49m\u001B[43m(\u001B[49m\n\u001B[0;32m    858\u001B[0m \u001B[43m        \u001B[49m\u001B[38;5;28;43menumerate\u001B[39;49m\u001B[43m(\u001B[49m\u001B[43mcandidate_params\u001B[49m\u001B[43m)\u001B[49m\u001B[43m,\u001B[49m\u001B[43m \u001B[49m\u001B[38;5;28;43menumerate\u001B[39;49m\u001B[43m(\u001B[49m\u001B[43mcv\u001B[49m\u001B[38;5;241;43m.\u001B[39;49m\u001B[43msplit\u001B[49m\u001B[43m(\u001B[49m\u001B[43mX\u001B[49m\u001B[43m,\u001B[49m\u001B[43m \u001B[49m\u001B[43my\u001B[49m\u001B[43m,\u001B[49m\u001B[43m \u001B[49m\u001B[43mgroups\u001B[49m\u001B[43m)\u001B[49m\u001B[43m)\u001B[49m\n\u001B[0;32m    859\u001B[0m \u001B[43m    \u001B[49m\u001B[43m)\u001B[49m\n\u001B[0;32m    860\u001B[0m \u001B[43m\u001B[49m\u001B[43m)\u001B[49m\n\u001B[0;32m    862\u001B[0m \u001B[38;5;28;01mif\u001B[39;00m \u001B[38;5;28mlen\u001B[39m(out) \u001B[38;5;241m<\u001B[39m \u001B[38;5;241m1\u001B[39m:\n\u001B[0;32m    863\u001B[0m     \u001B[38;5;28;01mraise\u001B[39;00m \u001B[38;5;167;01mValueError\u001B[39;00m(\n\u001B[0;32m    864\u001B[0m         \u001B[38;5;124m\"\u001B[39m\u001B[38;5;124mNo fits were performed. \u001B[39m\u001B[38;5;124m\"\u001B[39m\n\u001B[0;32m    865\u001B[0m         \u001B[38;5;124m\"\u001B[39m\u001B[38;5;124mWas the CV iterator empty? \u001B[39m\u001B[38;5;124m\"\u001B[39m\n\u001B[0;32m    866\u001B[0m         \u001B[38;5;124m\"\u001B[39m\u001B[38;5;124mWere there no candidates?\u001B[39m\u001B[38;5;124m\"\u001B[39m\n\u001B[0;32m    867\u001B[0m     )\n",
      "File \u001B[1;32m~\\Desktop\\AI-project\\venv\\Lib\\site-packages\\sklearn\\utils\\parallel.py:65\u001B[0m, in \u001B[0;36mParallel.__call__\u001B[1;34m(self, iterable)\u001B[0m\n\u001B[0;32m     60\u001B[0m config \u001B[38;5;241m=\u001B[39m get_config()\n\u001B[0;32m     61\u001B[0m iterable_with_config \u001B[38;5;241m=\u001B[39m (\n\u001B[0;32m     62\u001B[0m     (_with_config(delayed_func, config), args, kwargs)\n\u001B[0;32m     63\u001B[0m     \u001B[38;5;28;01mfor\u001B[39;00m delayed_func, args, kwargs \u001B[38;5;129;01min\u001B[39;00m iterable\n\u001B[0;32m     64\u001B[0m )\n\u001B[1;32m---> 65\u001B[0m \u001B[38;5;28;01mreturn\u001B[39;00m \u001B[38;5;28;43msuper\u001B[39;49m\u001B[43m(\u001B[49m\u001B[43m)\u001B[49m\u001B[38;5;241;43m.\u001B[39;49m\u001B[38;5;21;43m__call__\u001B[39;49m\u001B[43m(\u001B[49m\u001B[43miterable_with_config\u001B[49m\u001B[43m)\u001B[49m\n",
      "File \u001B[1;32m~\\Desktop\\AI-project\\venv\\Lib\\site-packages\\joblib\\parallel.py:1952\u001B[0m, in \u001B[0;36mParallel.__call__\u001B[1;34m(self, iterable)\u001B[0m\n\u001B[0;32m   1946\u001B[0m \u001B[38;5;66;03m# The first item from the output is blank, but it makes the interpreter\u001B[39;00m\n\u001B[0;32m   1947\u001B[0m \u001B[38;5;66;03m# progress until it enters the Try/Except block of the generator and\u001B[39;00m\n\u001B[0;32m   1948\u001B[0m \u001B[38;5;66;03m# reach the first `yield` statement. This starts the aynchronous\u001B[39;00m\n\u001B[0;32m   1949\u001B[0m \u001B[38;5;66;03m# dispatch of the tasks to the workers.\u001B[39;00m\n\u001B[0;32m   1950\u001B[0m \u001B[38;5;28mnext\u001B[39m(output)\n\u001B[1;32m-> 1952\u001B[0m \u001B[38;5;28;01mreturn\u001B[39;00m output \u001B[38;5;28;01mif\u001B[39;00m \u001B[38;5;28mself\u001B[39m\u001B[38;5;241m.\u001B[39mreturn_generator \u001B[38;5;28;01melse\u001B[39;00m \u001B[38;5;28;43mlist\u001B[39;49m\u001B[43m(\u001B[49m\u001B[43moutput\u001B[49m\u001B[43m)\u001B[49m\n",
      "File \u001B[1;32m~\\Desktop\\AI-project\\venv\\Lib\\site-packages\\joblib\\parallel.py:1595\u001B[0m, in \u001B[0;36mParallel._get_outputs\u001B[1;34m(self, iterator, pre_dispatch)\u001B[0m\n\u001B[0;32m   1592\u001B[0m     \u001B[38;5;28;01myield\u001B[39;00m\n\u001B[0;32m   1594\u001B[0m     \u001B[38;5;28;01mwith\u001B[39;00m \u001B[38;5;28mself\u001B[39m\u001B[38;5;241m.\u001B[39m_backend\u001B[38;5;241m.\u001B[39mretrieval_context():\n\u001B[1;32m-> 1595\u001B[0m         \u001B[38;5;28;01myield from\u001B[39;00m \u001B[38;5;28mself\u001B[39m\u001B[38;5;241m.\u001B[39m_retrieve()\n\u001B[0;32m   1597\u001B[0m \u001B[38;5;28;01mexcept\u001B[39;00m \u001B[38;5;167;01mGeneratorExit\u001B[39;00m:\n\u001B[0;32m   1598\u001B[0m     \u001B[38;5;66;03m# The generator has been garbage collected before being fully\u001B[39;00m\n\u001B[0;32m   1599\u001B[0m     \u001B[38;5;66;03m# consumed. This aborts the remaining tasks if possible and warn\u001B[39;00m\n\u001B[0;32m   1600\u001B[0m     \u001B[38;5;66;03m# the user if necessary.\u001B[39;00m\n\u001B[0;32m   1601\u001B[0m     \u001B[38;5;28mself\u001B[39m\u001B[38;5;241m.\u001B[39m_exception \u001B[38;5;241m=\u001B[39m \u001B[38;5;28;01mTrue\u001B[39;00m\n",
      "File \u001B[1;32m~\\Desktop\\AI-project\\venv\\Lib\\site-packages\\joblib\\parallel.py:1707\u001B[0m, in \u001B[0;36mParallel._retrieve\u001B[1;34m(self)\u001B[0m\n\u001B[0;32m   1702\u001B[0m \u001B[38;5;66;03m# If the next job is not ready for retrieval yet, we just wait for\u001B[39;00m\n\u001B[0;32m   1703\u001B[0m \u001B[38;5;66;03m# async callbacks to progress.\u001B[39;00m\n\u001B[0;32m   1704\u001B[0m \u001B[38;5;28;01mif\u001B[39;00m ((\u001B[38;5;28mlen\u001B[39m(\u001B[38;5;28mself\u001B[39m\u001B[38;5;241m.\u001B[39m_jobs) \u001B[38;5;241m==\u001B[39m \u001B[38;5;241m0\u001B[39m) \u001B[38;5;129;01mor\u001B[39;00m\n\u001B[0;32m   1705\u001B[0m     (\u001B[38;5;28mself\u001B[39m\u001B[38;5;241m.\u001B[39m_jobs[\u001B[38;5;241m0\u001B[39m]\u001B[38;5;241m.\u001B[39mget_status(\n\u001B[0;32m   1706\u001B[0m         timeout\u001B[38;5;241m=\u001B[39m\u001B[38;5;28mself\u001B[39m\u001B[38;5;241m.\u001B[39mtimeout) \u001B[38;5;241m==\u001B[39m TASK_PENDING)):\n\u001B[1;32m-> 1707\u001B[0m     time\u001B[38;5;241m.\u001B[39msleep(\u001B[38;5;241m0.01\u001B[39m)\n\u001B[0;32m   1708\u001B[0m     \u001B[38;5;28;01mcontinue\u001B[39;00m\n\u001B[0;32m   1710\u001B[0m \u001B[38;5;66;03m# We need to be careful: the job list can be filling up as\u001B[39;00m\n\u001B[0;32m   1711\u001B[0m \u001B[38;5;66;03m# we empty it and Python list are not thread-safe by\u001B[39;00m\n\u001B[0;32m   1712\u001B[0m \u001B[38;5;66;03m# default hence the use of the lock\u001B[39;00m\n",
      "\u001B[1;31mKeyboardInterrupt\u001B[0m: "
     ]
    }
   ],
   "source": [
    "# SVC\n",
    "from sklearn.svm import SVC  \n",
    "classifier = SVC()\n",
    "parameters = {\"kernel\":['linear','rbf'], \n",
    "              \"C\":[0.001,0.005,0.01,0.05,0.1],\n",
    "              \"gamma\":[0.01,0.1,1],\n",
    "              \"class_weight\":[None,class_weights,class_freq]}\n",
    "hyperp_search(classifier,parameters)"
   ],
   "metadata": {
    "collapsed": false,
    "ExecuteTime": {
     "end_time": "2024-01-24T13:22:59.124921900Z",
     "start_time": "2024-01-24T08:30:23.332342100Z"
    }
   },
   "id": "babe8d478a32fb65"
  },
  {
   "cell_type": "code",
   "execution_count": 37,
   "outputs": [
    {
     "ename": "KeyboardInterrupt",
     "evalue": "",
     "output_type": "error",
     "traceback": [
      "\u001B[1;31m---------------------------------------------------------------------------\u001B[0m",
      "\u001B[1;31mKeyboardInterrupt\u001B[0m                         Traceback (most recent call last)",
      "Cell \u001B[1;32mIn[37], line 9\u001B[0m\n\u001B[0;32m      1\u001B[0m \u001B[38;5;66;03m# Random Forest\u001B[39;00m\n\u001B[0;32m      2\u001B[0m parameter_grid \u001B[38;5;241m=\u001B[39m { \n\u001B[0;32m      3\u001B[0m     \u001B[38;5;124m'\u001B[39m\u001B[38;5;124mn_estimators\u001B[39m\u001B[38;5;124m'\u001B[39m: np\u001B[38;5;241m.\u001B[39marange(\u001B[38;5;241m20\u001B[39m,\u001B[38;5;241m100\u001B[39m,\u001B[38;5;241m10\u001B[39m),\n\u001B[0;32m      4\u001B[0m     \u001B[38;5;124m'\u001B[39m\u001B[38;5;124mmax_depth\u001B[39m\u001B[38;5;124m'\u001B[39m : [\u001B[38;5;241m10\u001B[39m, \u001B[38;5;241m15\u001B[39m],\n\u001B[1;32m   (...)\u001B[0m\n\u001B[0;32m      7\u001B[0m     \u001B[38;5;124m\"\u001B[39m\u001B[38;5;124mclass_weight\u001B[39m\u001B[38;5;124m\"\u001B[39m:[\u001B[38;5;28;01mNone\u001B[39;00m,class_weights,class_freq]\n\u001B[0;32m      8\u001B[0m }\n\u001B[1;32m----> 9\u001B[0m \u001B[43mhyperp_search\u001B[49m\u001B[43m(\u001B[49m\u001B[43mclassifier\u001B[49m\u001B[43m,\u001B[49m\u001B[43mparameters\u001B[49m\u001B[43m)\u001B[49m\n",
      "Cell \u001B[1;32mIn[33], line 4\u001B[0m, in \u001B[0;36mhyperp_search\u001B[1;34m(classifier, parameters)\u001B[0m\n\u001B[0;32m      2\u001B[0m \u001B[38;5;28;01mdef\u001B[39;00m \u001B[38;5;21mhyperp_search\u001B[39m(classifier, parameters):\n\u001B[0;32m      3\u001B[0m     gs \u001B[38;5;241m=\u001B[39m GridSearchCV(classifier, parameters, cv\u001B[38;5;241m=\u001B[39m\u001B[38;5;241m3\u001B[39m, scoring \u001B[38;5;241m=\u001B[39m \u001B[38;5;124m'\u001B[39m\u001B[38;5;124mf1\u001B[39m\u001B[38;5;124m'\u001B[39m, verbose\u001B[38;5;241m=\u001B[39m\u001B[38;5;241m0\u001B[39m, n_jobs\u001B[38;5;241m=\u001B[39m\u001B[38;5;241m-\u001B[39m\u001B[38;5;241m1\u001B[39m)\n\u001B[1;32m----> 4\u001B[0m     gs \u001B[38;5;241m=\u001B[39m \u001B[43mgs\u001B[49m\u001B[38;5;241;43m.\u001B[39;49m\u001B[43mfit\u001B[49m\u001B[43m(\u001B[49m\u001B[43mX_train\u001B[49m\u001B[43m,\u001B[49m\u001B[43m \u001B[49m\u001B[43my_train\u001B[49m\u001B[43m)\u001B[49m\n\u001B[0;32m      5\u001B[0m     \u001B[38;5;28mprint\u001B[39m(\u001B[38;5;124m\"\u001B[39m\u001B[38;5;124mf1_train: \u001B[39m\u001B[38;5;132;01m%f\u001B[39;00m\u001B[38;5;124m using \u001B[39m\u001B[38;5;132;01m%s\u001B[39;00m\u001B[38;5;124m\"\u001B[39m \u001B[38;5;241m%\u001B[39m (gs\u001B[38;5;241m.\u001B[39mbest_score_, gs\u001B[38;5;241m.\u001B[39mbest_params_))\n",
      "File \u001B[1;32m~\\Desktop\\AI-project\\venv\\Lib\\site-packages\\sklearn\\base.py:1152\u001B[0m, in \u001B[0;36m_fit_context.<locals>.decorator.<locals>.wrapper\u001B[1;34m(estimator, *args, **kwargs)\u001B[0m\n\u001B[0;32m   1145\u001B[0m     estimator\u001B[38;5;241m.\u001B[39m_validate_params()\n\u001B[0;32m   1147\u001B[0m \u001B[38;5;28;01mwith\u001B[39;00m config_context(\n\u001B[0;32m   1148\u001B[0m     skip_parameter_validation\u001B[38;5;241m=\u001B[39m(\n\u001B[0;32m   1149\u001B[0m         prefer_skip_nested_validation \u001B[38;5;129;01mor\u001B[39;00m global_skip_validation\n\u001B[0;32m   1150\u001B[0m     )\n\u001B[0;32m   1151\u001B[0m ):\n\u001B[1;32m-> 1152\u001B[0m     \u001B[38;5;28;01mreturn\u001B[39;00m \u001B[43mfit_method\u001B[49m\u001B[43m(\u001B[49m\u001B[43mestimator\u001B[49m\u001B[43m,\u001B[49m\u001B[43m \u001B[49m\u001B[38;5;241;43m*\u001B[39;49m\u001B[43margs\u001B[49m\u001B[43m,\u001B[49m\u001B[43m \u001B[49m\u001B[38;5;241;43m*\u001B[39;49m\u001B[38;5;241;43m*\u001B[39;49m\u001B[43mkwargs\u001B[49m\u001B[43m)\u001B[49m\n",
      "File \u001B[1;32m~\\Desktop\\AI-project\\venv\\Lib\\site-packages\\sklearn\\model_selection\\_search.py:898\u001B[0m, in \u001B[0;36mBaseSearchCV.fit\u001B[1;34m(self, X, y, groups, **fit_params)\u001B[0m\n\u001B[0;32m    892\u001B[0m     results \u001B[38;5;241m=\u001B[39m \u001B[38;5;28mself\u001B[39m\u001B[38;5;241m.\u001B[39m_format_results(\n\u001B[0;32m    893\u001B[0m         all_candidate_params, n_splits, all_out, all_more_results\n\u001B[0;32m    894\u001B[0m     )\n\u001B[0;32m    896\u001B[0m     \u001B[38;5;28;01mreturn\u001B[39;00m results\n\u001B[1;32m--> 898\u001B[0m \u001B[38;5;28;43mself\u001B[39;49m\u001B[38;5;241;43m.\u001B[39;49m\u001B[43m_run_search\u001B[49m\u001B[43m(\u001B[49m\u001B[43mevaluate_candidates\u001B[49m\u001B[43m)\u001B[49m\n\u001B[0;32m    900\u001B[0m \u001B[38;5;66;03m# multimetric is determined here because in the case of a callable\u001B[39;00m\n\u001B[0;32m    901\u001B[0m \u001B[38;5;66;03m# self.scoring the return type is only known after calling\u001B[39;00m\n\u001B[0;32m    902\u001B[0m first_test_score \u001B[38;5;241m=\u001B[39m all_out[\u001B[38;5;241m0\u001B[39m][\u001B[38;5;124m\"\u001B[39m\u001B[38;5;124mtest_scores\u001B[39m\u001B[38;5;124m\"\u001B[39m]\n",
      "File \u001B[1;32m~\\Desktop\\AI-project\\venv\\Lib\\site-packages\\sklearn\\model_selection\\_search.py:1422\u001B[0m, in \u001B[0;36mGridSearchCV._run_search\u001B[1;34m(self, evaluate_candidates)\u001B[0m\n\u001B[0;32m   1420\u001B[0m \u001B[38;5;28;01mdef\u001B[39;00m \u001B[38;5;21m_run_search\u001B[39m(\u001B[38;5;28mself\u001B[39m, evaluate_candidates):\n\u001B[0;32m   1421\u001B[0m \u001B[38;5;250m    \u001B[39m\u001B[38;5;124;03m\"\"\"Search all candidates in param_grid\"\"\"\u001B[39;00m\n\u001B[1;32m-> 1422\u001B[0m     \u001B[43mevaluate_candidates\u001B[49m\u001B[43m(\u001B[49m\u001B[43mParameterGrid\u001B[49m\u001B[43m(\u001B[49m\u001B[38;5;28;43mself\u001B[39;49m\u001B[38;5;241;43m.\u001B[39;49m\u001B[43mparam_grid\u001B[49m\u001B[43m)\u001B[49m\u001B[43m)\u001B[49m\n",
      "File \u001B[1;32m~\\Desktop\\AI-project\\venv\\Lib\\site-packages\\sklearn\\model_selection\\_search.py:845\u001B[0m, in \u001B[0;36mBaseSearchCV.fit.<locals>.evaluate_candidates\u001B[1;34m(candidate_params, cv, more_results)\u001B[0m\n\u001B[0;32m    837\u001B[0m \u001B[38;5;28;01mif\u001B[39;00m \u001B[38;5;28mself\u001B[39m\u001B[38;5;241m.\u001B[39mverbose \u001B[38;5;241m>\u001B[39m \u001B[38;5;241m0\u001B[39m:\n\u001B[0;32m    838\u001B[0m     \u001B[38;5;28mprint\u001B[39m(\n\u001B[0;32m    839\u001B[0m         \u001B[38;5;124m\"\u001B[39m\u001B[38;5;124mFitting \u001B[39m\u001B[38;5;132;01m{0}\u001B[39;00m\u001B[38;5;124m folds for each of \u001B[39m\u001B[38;5;132;01m{1}\u001B[39;00m\u001B[38;5;124m candidates,\u001B[39m\u001B[38;5;124m\"\u001B[39m\n\u001B[0;32m    840\u001B[0m         \u001B[38;5;124m\"\u001B[39m\u001B[38;5;124m totalling \u001B[39m\u001B[38;5;132;01m{2}\u001B[39;00m\u001B[38;5;124m fits\u001B[39m\u001B[38;5;124m\"\u001B[39m\u001B[38;5;241m.\u001B[39mformat(\n\u001B[0;32m    841\u001B[0m             n_splits, n_candidates, n_candidates \u001B[38;5;241m*\u001B[39m n_splits\n\u001B[0;32m    842\u001B[0m         )\n\u001B[0;32m    843\u001B[0m     )\n\u001B[1;32m--> 845\u001B[0m out \u001B[38;5;241m=\u001B[39m \u001B[43mparallel\u001B[49m\u001B[43m(\u001B[49m\n\u001B[0;32m    846\u001B[0m \u001B[43m    \u001B[49m\u001B[43mdelayed\u001B[49m\u001B[43m(\u001B[49m\u001B[43m_fit_and_score\u001B[49m\u001B[43m)\u001B[49m\u001B[43m(\u001B[49m\n\u001B[0;32m    847\u001B[0m \u001B[43m        \u001B[49m\u001B[43mclone\u001B[49m\u001B[43m(\u001B[49m\u001B[43mbase_estimator\u001B[49m\u001B[43m)\u001B[49m\u001B[43m,\u001B[49m\n\u001B[0;32m    848\u001B[0m \u001B[43m        \u001B[49m\u001B[43mX\u001B[49m\u001B[43m,\u001B[49m\n\u001B[0;32m    849\u001B[0m \u001B[43m        \u001B[49m\u001B[43my\u001B[49m\u001B[43m,\u001B[49m\n\u001B[0;32m    850\u001B[0m \u001B[43m        \u001B[49m\u001B[43mtrain\u001B[49m\u001B[38;5;241;43m=\u001B[39;49m\u001B[43mtrain\u001B[49m\u001B[43m,\u001B[49m\n\u001B[0;32m    851\u001B[0m \u001B[43m        \u001B[49m\u001B[43mtest\u001B[49m\u001B[38;5;241;43m=\u001B[39;49m\u001B[43mtest\u001B[49m\u001B[43m,\u001B[49m\n\u001B[0;32m    852\u001B[0m \u001B[43m        \u001B[49m\u001B[43mparameters\u001B[49m\u001B[38;5;241;43m=\u001B[39;49m\u001B[43mparameters\u001B[49m\u001B[43m,\u001B[49m\n\u001B[0;32m    853\u001B[0m \u001B[43m        \u001B[49m\u001B[43msplit_progress\u001B[49m\u001B[38;5;241;43m=\u001B[39;49m\u001B[43m(\u001B[49m\u001B[43msplit_idx\u001B[49m\u001B[43m,\u001B[49m\u001B[43m \u001B[49m\u001B[43mn_splits\u001B[49m\u001B[43m)\u001B[49m\u001B[43m,\u001B[49m\n\u001B[0;32m    854\u001B[0m \u001B[43m        \u001B[49m\u001B[43mcandidate_progress\u001B[49m\u001B[38;5;241;43m=\u001B[39;49m\u001B[43m(\u001B[49m\u001B[43mcand_idx\u001B[49m\u001B[43m,\u001B[49m\u001B[43m \u001B[49m\u001B[43mn_candidates\u001B[49m\u001B[43m)\u001B[49m\u001B[43m,\u001B[49m\n\u001B[0;32m    855\u001B[0m \u001B[43m        \u001B[49m\u001B[38;5;241;43m*\u001B[39;49m\u001B[38;5;241;43m*\u001B[39;49m\u001B[43mfit_and_score_kwargs\u001B[49m\u001B[43m,\u001B[49m\n\u001B[0;32m    856\u001B[0m \u001B[43m    \u001B[49m\u001B[43m)\u001B[49m\n\u001B[0;32m    857\u001B[0m \u001B[43m    \u001B[49m\u001B[38;5;28;43;01mfor\u001B[39;49;00m\u001B[43m \u001B[49m\u001B[43m(\u001B[49m\u001B[43mcand_idx\u001B[49m\u001B[43m,\u001B[49m\u001B[43m \u001B[49m\u001B[43mparameters\u001B[49m\u001B[43m)\u001B[49m\u001B[43m,\u001B[49m\u001B[43m \u001B[49m\u001B[43m(\u001B[49m\u001B[43msplit_idx\u001B[49m\u001B[43m,\u001B[49m\u001B[43m \u001B[49m\u001B[43m(\u001B[49m\u001B[43mtrain\u001B[49m\u001B[43m,\u001B[49m\u001B[43m \u001B[49m\u001B[43mtest\u001B[49m\u001B[43m)\u001B[49m\u001B[43m)\u001B[49m\u001B[43m \u001B[49m\u001B[38;5;129;43;01min\u001B[39;49;00m\u001B[43m \u001B[49m\u001B[43mproduct\u001B[49m\u001B[43m(\u001B[49m\n\u001B[0;32m    858\u001B[0m \u001B[43m        \u001B[49m\u001B[38;5;28;43menumerate\u001B[39;49m\u001B[43m(\u001B[49m\u001B[43mcandidate_params\u001B[49m\u001B[43m)\u001B[49m\u001B[43m,\u001B[49m\u001B[43m \u001B[49m\u001B[38;5;28;43menumerate\u001B[39;49m\u001B[43m(\u001B[49m\u001B[43mcv\u001B[49m\u001B[38;5;241;43m.\u001B[39;49m\u001B[43msplit\u001B[49m\u001B[43m(\u001B[49m\u001B[43mX\u001B[49m\u001B[43m,\u001B[49m\u001B[43m \u001B[49m\u001B[43my\u001B[49m\u001B[43m,\u001B[49m\u001B[43m \u001B[49m\u001B[43mgroups\u001B[49m\u001B[43m)\u001B[49m\u001B[43m)\u001B[49m\n\u001B[0;32m    859\u001B[0m \u001B[43m    \u001B[49m\u001B[43m)\u001B[49m\n\u001B[0;32m    860\u001B[0m \u001B[43m\u001B[49m\u001B[43m)\u001B[49m\n\u001B[0;32m    862\u001B[0m \u001B[38;5;28;01mif\u001B[39;00m \u001B[38;5;28mlen\u001B[39m(out) \u001B[38;5;241m<\u001B[39m \u001B[38;5;241m1\u001B[39m:\n\u001B[0;32m    863\u001B[0m     \u001B[38;5;28;01mraise\u001B[39;00m \u001B[38;5;167;01mValueError\u001B[39;00m(\n\u001B[0;32m    864\u001B[0m         \u001B[38;5;124m\"\u001B[39m\u001B[38;5;124mNo fits were performed. \u001B[39m\u001B[38;5;124m\"\u001B[39m\n\u001B[0;32m    865\u001B[0m         \u001B[38;5;124m\"\u001B[39m\u001B[38;5;124mWas the CV iterator empty? \u001B[39m\u001B[38;5;124m\"\u001B[39m\n\u001B[0;32m    866\u001B[0m         \u001B[38;5;124m\"\u001B[39m\u001B[38;5;124mWere there no candidates?\u001B[39m\u001B[38;5;124m\"\u001B[39m\n\u001B[0;32m    867\u001B[0m     )\n",
      "File \u001B[1;32m~\\Desktop\\AI-project\\venv\\Lib\\site-packages\\sklearn\\utils\\parallel.py:65\u001B[0m, in \u001B[0;36mParallel.__call__\u001B[1;34m(self, iterable)\u001B[0m\n\u001B[0;32m     60\u001B[0m config \u001B[38;5;241m=\u001B[39m get_config()\n\u001B[0;32m     61\u001B[0m iterable_with_config \u001B[38;5;241m=\u001B[39m (\n\u001B[0;32m     62\u001B[0m     (_with_config(delayed_func, config), args, kwargs)\n\u001B[0;32m     63\u001B[0m     \u001B[38;5;28;01mfor\u001B[39;00m delayed_func, args, kwargs \u001B[38;5;129;01min\u001B[39;00m iterable\n\u001B[0;32m     64\u001B[0m )\n\u001B[1;32m---> 65\u001B[0m \u001B[38;5;28;01mreturn\u001B[39;00m \u001B[38;5;28;43msuper\u001B[39;49m\u001B[43m(\u001B[49m\u001B[43m)\u001B[49m\u001B[38;5;241;43m.\u001B[39;49m\u001B[38;5;21;43m__call__\u001B[39;49m\u001B[43m(\u001B[49m\u001B[43miterable_with_config\u001B[49m\u001B[43m)\u001B[49m\n",
      "File \u001B[1;32m~\\Desktop\\AI-project\\venv\\Lib\\site-packages\\joblib\\parallel.py:1952\u001B[0m, in \u001B[0;36mParallel.__call__\u001B[1;34m(self, iterable)\u001B[0m\n\u001B[0;32m   1946\u001B[0m \u001B[38;5;66;03m# The first item from the output is blank, but it makes the interpreter\u001B[39;00m\n\u001B[0;32m   1947\u001B[0m \u001B[38;5;66;03m# progress until it enters the Try/Except block of the generator and\u001B[39;00m\n\u001B[0;32m   1948\u001B[0m \u001B[38;5;66;03m# reach the first `yield` statement. This starts the aynchronous\u001B[39;00m\n\u001B[0;32m   1949\u001B[0m \u001B[38;5;66;03m# dispatch of the tasks to the workers.\u001B[39;00m\n\u001B[0;32m   1950\u001B[0m \u001B[38;5;28mnext\u001B[39m(output)\n\u001B[1;32m-> 1952\u001B[0m \u001B[38;5;28;01mreturn\u001B[39;00m output \u001B[38;5;28;01mif\u001B[39;00m \u001B[38;5;28mself\u001B[39m\u001B[38;5;241m.\u001B[39mreturn_generator \u001B[38;5;28;01melse\u001B[39;00m \u001B[38;5;28;43mlist\u001B[39;49m\u001B[43m(\u001B[49m\u001B[43moutput\u001B[49m\u001B[43m)\u001B[49m\n",
      "File \u001B[1;32m~\\Desktop\\AI-project\\venv\\Lib\\site-packages\\joblib\\parallel.py:1595\u001B[0m, in \u001B[0;36mParallel._get_outputs\u001B[1;34m(self, iterator, pre_dispatch)\u001B[0m\n\u001B[0;32m   1592\u001B[0m     \u001B[38;5;28;01myield\u001B[39;00m\n\u001B[0;32m   1594\u001B[0m     \u001B[38;5;28;01mwith\u001B[39;00m \u001B[38;5;28mself\u001B[39m\u001B[38;5;241m.\u001B[39m_backend\u001B[38;5;241m.\u001B[39mretrieval_context():\n\u001B[1;32m-> 1595\u001B[0m         \u001B[38;5;28;01myield from\u001B[39;00m \u001B[38;5;28mself\u001B[39m\u001B[38;5;241m.\u001B[39m_retrieve()\n\u001B[0;32m   1597\u001B[0m \u001B[38;5;28;01mexcept\u001B[39;00m \u001B[38;5;167;01mGeneratorExit\u001B[39;00m:\n\u001B[0;32m   1598\u001B[0m     \u001B[38;5;66;03m# The generator has been garbage collected before being fully\u001B[39;00m\n\u001B[0;32m   1599\u001B[0m     \u001B[38;5;66;03m# consumed. This aborts the remaining tasks if possible and warn\u001B[39;00m\n\u001B[0;32m   1600\u001B[0m     \u001B[38;5;66;03m# the user if necessary.\u001B[39;00m\n\u001B[0;32m   1601\u001B[0m     \u001B[38;5;28mself\u001B[39m\u001B[38;5;241m.\u001B[39m_exception \u001B[38;5;241m=\u001B[39m \u001B[38;5;28;01mTrue\u001B[39;00m\n",
      "File \u001B[1;32m~\\Desktop\\AI-project\\venv\\Lib\\site-packages\\joblib\\parallel.py:1707\u001B[0m, in \u001B[0;36mParallel._retrieve\u001B[1;34m(self)\u001B[0m\n\u001B[0;32m   1702\u001B[0m \u001B[38;5;66;03m# If the next job is not ready for retrieval yet, we just wait for\u001B[39;00m\n\u001B[0;32m   1703\u001B[0m \u001B[38;5;66;03m# async callbacks to progress.\u001B[39;00m\n\u001B[0;32m   1704\u001B[0m \u001B[38;5;28;01mif\u001B[39;00m ((\u001B[38;5;28mlen\u001B[39m(\u001B[38;5;28mself\u001B[39m\u001B[38;5;241m.\u001B[39m_jobs) \u001B[38;5;241m==\u001B[39m \u001B[38;5;241m0\u001B[39m) \u001B[38;5;129;01mor\u001B[39;00m\n\u001B[0;32m   1705\u001B[0m     (\u001B[38;5;28mself\u001B[39m\u001B[38;5;241m.\u001B[39m_jobs[\u001B[38;5;241m0\u001B[39m]\u001B[38;5;241m.\u001B[39mget_status(\n\u001B[0;32m   1706\u001B[0m         timeout\u001B[38;5;241m=\u001B[39m\u001B[38;5;28mself\u001B[39m\u001B[38;5;241m.\u001B[39mtimeout) \u001B[38;5;241m==\u001B[39m TASK_PENDING)):\n\u001B[1;32m-> 1707\u001B[0m     time\u001B[38;5;241m.\u001B[39msleep(\u001B[38;5;241m0.01\u001B[39m)\n\u001B[0;32m   1708\u001B[0m     \u001B[38;5;28;01mcontinue\u001B[39;00m\n\u001B[0;32m   1710\u001B[0m \u001B[38;5;66;03m# We need to be careful: the job list can be filling up as\u001B[39;00m\n\u001B[0;32m   1711\u001B[0m \u001B[38;5;66;03m# we empty it and Python list are not thread-safe by\u001B[39;00m\n\u001B[0;32m   1712\u001B[0m \u001B[38;5;66;03m# default hence the use of the lock\u001B[39;00m\n",
      "\u001B[1;31mKeyboardInterrupt\u001B[0m: "
     ]
    }
   ],
   "source": [
    "# Random Forest\n",
    "parameter_grid = { \n",
    "    'n_estimators': np.arange(20,100,10),\n",
    "    'max_depth' : [10, 15],\n",
    "    'criterion' :['gini', 'entropy'],\n",
    "    'min_samples_split' : np.arange(20,40,2),\n",
    "    \"class_weight\":[None,class_weights,class_freq]\n",
    "}\n",
    "hyperp_search(classifier,parameters)"
   ],
   "metadata": {
    "collapsed": false,
    "ExecuteTime": {
     "end_time": "2024-01-24T13:45:27.971231100Z",
     "start_time": "2024-01-24T13:23:06.053747700Z"
    }
   },
   "id": "85248213155ed1b5"
  },
  {
   "cell_type": "code",
   "execution_count": null,
   "outputs": [],
   "source": [
    "# Balanced Random Forest\n",
    "from imblearn.ensemble import BalancedRandomForestClassifier\n",
    "classifier=BalancedRandomForestClassifier()\n",
    "parameter_grid = { \n",
    "    'n_estimators': np.arange(20,100,10),\n",
    "    'max_depth' : [10, 15],\n",
    "    'criterion' :['gini', 'entropy'],\n",
    "    'min_samples_split' : np.arange(20,40,2),\n",
    "    \"class_weight\":[None,class_weights,class_freq],\n",
    "    \"max_features\":[None],\n",
    "    \"sampling_strategy\":['not minority','majority','all'],\n",
    "    \"random_state\":[42],\n",
    "    \"class_weight\":[None,class_weights,class_freq]\n",
    "}\n",
    "hyperp_search(classifier,parameters)"
   ],
   "metadata": {
    "collapsed": false,
    "ExecuteTime": {
     "end_time": "2024-01-24T13:22:59.132650600Z",
     "start_time": "2024-01-24T13:22:59.132650600Z"
    }
   },
   "id": "95e85aa111077872"
  },
  {
   "cell_type": "code",
   "execution_count": null,
   "outputs": [],
   "source": [
    "# EasyEnsemble\n",
    "from imblearn.ensemble import EasyEnsembleClassifier\n",
    "classifier = EasyEnsembleClassifier()\n",
    "parameter_grid = { \n",
    "    'n_estimators': np.arange(20,100,10),\n",
    "    \"sampling_strategy\":['not minority','majority','all'],\n",
    "    \"random_state\":[42],\n",
    "}\n",
    "hyperp_search(classifier,parameters)\n"
   ],
   "metadata": {
    "collapsed": false,
    "ExecuteTime": {
     "end_time": "2024-01-24T13:22:59.135033100Z",
     "start_time": "2024-01-24T13:22:59.135033100Z"
    }
   },
   "id": "eae289449e65d224"
  },
  {
   "cell_type": "code",
   "execution_count": null,
   "outputs": [],
   "source": [
    "# Neural network\n",
    "from sklearn.neural_network import MLPClassifier\n",
    "classifier = MLPClassifier()\n",
    "parameters = {\"hidden_layer_sizes\":[(7,5,3,2),(7,5,3),(10, 5),(10, 5,2)], \n",
    "              \"max_iter\": [1000,5000,10000], \n",
    "              \"alpha\": [0.001,0.009,0.1,0.9,1]}\n",
    "hyperp_search(classifier,parameters)"
   ],
   "metadata": {
    "collapsed": false,
    "ExecuteTime": {
     "end_time": "2024-01-24T13:22:59.188042Z",
     "start_time": "2024-01-24T13:22:59.140436700Z"
    }
   },
   "id": "29f2f99362565b74"
  }
 ],
 "metadata": {
  "kernelspec": {
   "display_name": "Python 3",
   "language": "python",
   "name": "python3"
  },
  "language_info": {
   "codemirror_mode": {
    "name": "ipython",
    "version": 2
   },
   "file_extension": ".py",
   "mimetype": "text/x-python",
   "name": "python",
   "nbconvert_exporter": "python",
   "pygments_lexer": "ipython2",
   "version": "2.7.6"
  }
 },
 "nbformat": 4,
 "nbformat_minor": 5
}
