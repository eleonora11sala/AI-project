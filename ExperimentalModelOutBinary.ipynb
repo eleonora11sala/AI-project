{
 "cells": [
  {
   "cell_type": "code",
   "execution_count": 1,
   "id": "initial_id",
   "metadata": {
    "collapsed": true,
    "ExecuteTime": {
     "end_time": "2024-01-24T18:04:22.360046800Z",
     "start_time": "2024-01-24T18:04:22.252788900Z"
    }
   },
   "outputs": [],
   "source": [
    "import pandas as pd\n",
    "import numpy as np, os\n",
    "from sklearn.model_selection import train_test_split\n",
    "\n",
    "import matplotlib.pyplot as plt\n",
    "from sklearn.metrics import confusion_matrix\n",
    "import seaborn as sns"
   ]
  },
  {
   "cell_type": "markdown",
   "source": [
    "# Load Data"
   ],
   "metadata": {
    "collapsed": false
   },
   "id": "1e50d4d505fc2a45"
  },
  {
   "cell_type": "code",
   "execution_count": 14,
   "outputs": [],
   "source": [
    "folder_path = u'C:/Users/user/Desktop/AI-project/features/128' \n",
    "\n",
    "# List all files in the folder\n",
    "file_names = [file for file in os.listdir(folder_path) if file.endswith('_128.csv')]\n",
    "\n",
    "# Initialize an empty DataFrame to concatenate all data\n",
    "all_data = pd.DataFrame()\n",
    "all_data_list = []\n",
    "# Loop through each file and concatenate the data\n",
    "for file_name in file_names:\n",
    "    file_path = os.path.join(folder_path, file_name)\n",
    "    data = pd.read_csv(file_path)\n",
    "    all_data_list.append(data)\n",
    "    all_data = pd.concat([all_data, data], ignore_index=True)\n"
   ],
   "metadata": {
    "collapsed": false,
    "ExecuteTime": {
     "end_time": "2024-01-24T18:07:55.577066900Z",
     "start_time": "2024-01-24T18:07:54.384592400Z"
    }
   },
   "id": "13a4166f80afa3b"
  },
  {
   "cell_type": "code",
   "execution_count": 15,
   "outputs": [],
   "source": [
    "folder_path = u'C:/Users/user/Desktop/AI-project/features/250' \n",
    "\n",
    "# List all files in the folder\n",
    "file_names = [file for file in os.listdir(folder_path) if file.endswith('_250.csv')]\n",
    "\n",
    "# Loop through each file and concatenate the data\n",
    "for file_name in file_names:\n",
    "    file_path = os.path.join(folder_path, file_name)\n",
    "    data = pd.read_csv(file_path)\n",
    "    all_data_list.append(data)\n",
    "    all_data = pd.concat([all_data, data], ignore_index=True)\n",
    "\n",
    "# Now 'all_data_list' contains a list of all data from all CSV files"
   ],
   "metadata": {
    "collapsed": false,
    "ExecuteTime": {
     "end_time": "2024-01-24T18:07:57.328117200Z",
     "start_time": "2024-01-24T18:07:56.335877300Z"
    }
   },
   "id": "2d9aa1da9bec23aa"
  },
  {
   "cell_type": "markdown",
   "source": [
    "# Label mapping"
   ],
   "metadata": {
    "collapsed": false
   },
   "id": "18b454bef1ece199"
  },
  {
   "cell_type": "code",
   "execution_count": 16,
   "outputs": [],
   "source": [
    "#Sobstitute N, S, V with 0, 1, 2\n",
    "label_mapping = {'N': 0, 'S': 1, 'V': 1}\n",
    "for data in all_data_list:\n",
    "    data['annotation'] = data['annotation'].replace(label_mapping)"
   ],
   "metadata": {
    "collapsed": false,
    "ExecuteTime": {
     "end_time": "2024-01-24T18:08:16.033901700Z",
     "start_time": "2024-01-24T18:08:15.936461800Z"
    }
   },
   "id": "bc1c8093311631c7"
  },
  {
   "cell_type": "markdown",
   "source": [
    "# Drop positions columns    "
   ],
   "metadata": {
    "collapsed": false
   },
   "id": "f1d5154e9e2a386f"
  },
  {
   "cell_type": "code",
   "execution_count": 5,
   "outputs": [],
   "source": [
    "#drop the columns which contain positional info\n",
    "#for i in range(len(all_data_list)):\n",
    "#    all_data_list[i] = all_data_list[i].drop(['peak_pos', 'onset', 'diastolic_notch'], axis=1)"
   ],
   "metadata": {
    "collapsed": false,
    "ExecuteTime": {
     "end_time": "2024-01-24T17:57:01.638032Z",
     "start_time": "2024-01-24T17:57:01.636163600Z"
    }
   },
   "id": "2ff8f8973756b3db"
  },
  {
   "cell_type": "code",
   "execution_count": 17,
   "outputs": [
    {
     "data": {
      "text/plain": "           asp       adp       adn        rp        d1        d2        rd  \\\n0     0.055274  0.823215  0.886627  0.719899  0.042081  0.425326  0.723122   \n1     0.045354  0.814343  0.884302  0.712917  0.040983  0.423003  0.726116   \n2     0.045747  0.813519  0.884597  0.712486  0.040809  0.422454  0.726397   \n3     0.047270  0.813824  0.885389  0.713275  0.040509  0.422070  0.726600   \n4     0.036112  0.818934  0.883222  0.712234  0.038791  0.425694  0.724313   \n...        ...       ...       ...       ...       ...       ...       ...   \n1955  0.046900  0.811773  0.884741  0.711761  0.041072  0.421604  0.726617   \n1956  0.049071  0.812713  0.885598  0.713176  0.040937  0.421452  0.726687   \n1957  0.047486  0.813713  0.876084  0.713276  0.050609  0.428090  0.762211   \n1958  0.049821  0.810715  0.870102  0.712228  0.057901  0.430694  0.737648   \n1959  0.062697  0.807983  0.870226  0.714173  0.062442  0.429431  0.746447   \n\n            rn        T1        T2        TP        ST  pi2pi_pr  pi2pi_po  \\\n0     0.288666  0.024067  0.643411  0.967991  0.210000  0.000000  0.015020   \n1     0.288231  0.024067  0.232558  0.909492  0.229630  0.027357  0.015020   \n2     0.288305  0.022864  0.232558  0.910596  0.228571  0.027357  0.015020   \n3     0.288490  0.022864  0.240310  0.911700  0.227586  0.027357  0.008678   \n4     0.287615  0.027677  0.201550  0.901766  0.240000  0.021094  0.020360   \n...        ...       ...       ...       ...       ...       ...       ...   \n1955  0.288342  0.025271  0.279070  0.915011  0.225000  0.031641  0.018358   \n1956  0.288525  0.025271  0.279070  0.915011  0.225000  0.030653  0.017356   \n1957  0.286395  0.036101  0.333333  0.912804  0.226667  0.029664  0.051736   \n1958  0.285364  0.046931  0.488372  0.924945  0.219512  0.063612  0.112483   \n1959  0.286412  0.051745  0.635659  0.941501  0.214286  0.123599  0.010347   \n\n      area_peak  annotation  \n0      0.000992           0  \n1      0.000561           0  \n2      0.000578           0  \n3      0.000659           0  \n4      0.000249           1  \n...         ...         ...  \n1955   0.000684           0  \n1956   0.000793           0  \n1957   0.002078           0  \n1958   0.005547           0  \n1959   0.001778           0  \n\n[1960 rows x 16 columns]",
      "text/html": "<div>\n<style scoped>\n    .dataframe tbody tr th:only-of-type {\n        vertical-align: middle;\n    }\n\n    .dataframe tbody tr th {\n        vertical-align: top;\n    }\n\n    .dataframe thead th {\n        text-align: right;\n    }\n</style>\n<table border=\"1\" class=\"dataframe\">\n  <thead>\n    <tr style=\"text-align: right;\">\n      <th></th>\n      <th>asp</th>\n      <th>adp</th>\n      <th>adn</th>\n      <th>rp</th>\n      <th>d1</th>\n      <th>d2</th>\n      <th>rd</th>\n      <th>rn</th>\n      <th>T1</th>\n      <th>T2</th>\n      <th>TP</th>\n      <th>ST</th>\n      <th>pi2pi_pr</th>\n      <th>pi2pi_po</th>\n      <th>area_peak</th>\n      <th>annotation</th>\n    </tr>\n  </thead>\n  <tbody>\n    <tr>\n      <th>0</th>\n      <td>0.055274</td>\n      <td>0.823215</td>\n      <td>0.886627</td>\n      <td>0.719899</td>\n      <td>0.042081</td>\n      <td>0.425326</td>\n      <td>0.723122</td>\n      <td>0.288666</td>\n      <td>0.024067</td>\n      <td>0.643411</td>\n      <td>0.967991</td>\n      <td>0.210000</td>\n      <td>0.000000</td>\n      <td>0.015020</td>\n      <td>0.000992</td>\n      <td>0</td>\n    </tr>\n    <tr>\n      <th>1</th>\n      <td>0.045354</td>\n      <td>0.814343</td>\n      <td>0.884302</td>\n      <td>0.712917</td>\n      <td>0.040983</td>\n      <td>0.423003</td>\n      <td>0.726116</td>\n      <td>0.288231</td>\n      <td>0.024067</td>\n      <td>0.232558</td>\n      <td>0.909492</td>\n      <td>0.229630</td>\n      <td>0.027357</td>\n      <td>0.015020</td>\n      <td>0.000561</td>\n      <td>0</td>\n    </tr>\n    <tr>\n      <th>2</th>\n      <td>0.045747</td>\n      <td>0.813519</td>\n      <td>0.884597</td>\n      <td>0.712486</td>\n      <td>0.040809</td>\n      <td>0.422454</td>\n      <td>0.726397</td>\n      <td>0.288305</td>\n      <td>0.022864</td>\n      <td>0.232558</td>\n      <td>0.910596</td>\n      <td>0.228571</td>\n      <td>0.027357</td>\n      <td>0.015020</td>\n      <td>0.000578</td>\n      <td>0</td>\n    </tr>\n    <tr>\n      <th>3</th>\n      <td>0.047270</td>\n      <td>0.813824</td>\n      <td>0.885389</td>\n      <td>0.713275</td>\n      <td>0.040509</td>\n      <td>0.422070</td>\n      <td>0.726600</td>\n      <td>0.288490</td>\n      <td>0.022864</td>\n      <td>0.240310</td>\n      <td>0.911700</td>\n      <td>0.227586</td>\n      <td>0.027357</td>\n      <td>0.008678</td>\n      <td>0.000659</td>\n      <td>0</td>\n    </tr>\n    <tr>\n      <th>4</th>\n      <td>0.036112</td>\n      <td>0.818934</td>\n      <td>0.883222</td>\n      <td>0.712234</td>\n      <td>0.038791</td>\n      <td>0.425694</td>\n      <td>0.724313</td>\n      <td>0.287615</td>\n      <td>0.027677</td>\n      <td>0.201550</td>\n      <td>0.901766</td>\n      <td>0.240000</td>\n      <td>0.021094</td>\n      <td>0.020360</td>\n      <td>0.000249</td>\n      <td>1</td>\n    </tr>\n    <tr>\n      <th>...</th>\n      <td>...</td>\n      <td>...</td>\n      <td>...</td>\n      <td>...</td>\n      <td>...</td>\n      <td>...</td>\n      <td>...</td>\n      <td>...</td>\n      <td>...</td>\n      <td>...</td>\n      <td>...</td>\n      <td>...</td>\n      <td>...</td>\n      <td>...</td>\n      <td>...</td>\n      <td>...</td>\n    </tr>\n    <tr>\n      <th>1955</th>\n      <td>0.046900</td>\n      <td>0.811773</td>\n      <td>0.884741</td>\n      <td>0.711761</td>\n      <td>0.041072</td>\n      <td>0.421604</td>\n      <td>0.726617</td>\n      <td>0.288342</td>\n      <td>0.025271</td>\n      <td>0.279070</td>\n      <td>0.915011</td>\n      <td>0.225000</td>\n      <td>0.031641</td>\n      <td>0.018358</td>\n      <td>0.000684</td>\n      <td>0</td>\n    </tr>\n    <tr>\n      <th>1956</th>\n      <td>0.049071</td>\n      <td>0.812713</td>\n      <td>0.885598</td>\n      <td>0.713176</td>\n      <td>0.040937</td>\n      <td>0.421452</td>\n      <td>0.726687</td>\n      <td>0.288525</td>\n      <td>0.025271</td>\n      <td>0.279070</td>\n      <td>0.915011</td>\n      <td>0.225000</td>\n      <td>0.030653</td>\n      <td>0.017356</td>\n      <td>0.000793</td>\n      <td>0</td>\n    </tr>\n    <tr>\n      <th>1957</th>\n      <td>0.047486</td>\n      <td>0.813713</td>\n      <td>0.876084</td>\n      <td>0.713276</td>\n      <td>0.050609</td>\n      <td>0.428090</td>\n      <td>0.762211</td>\n      <td>0.286395</td>\n      <td>0.036101</td>\n      <td>0.333333</td>\n      <td>0.912804</td>\n      <td>0.226667</td>\n      <td>0.029664</td>\n      <td>0.051736</td>\n      <td>0.002078</td>\n      <td>0</td>\n    </tr>\n    <tr>\n      <th>1958</th>\n      <td>0.049821</td>\n      <td>0.810715</td>\n      <td>0.870102</td>\n      <td>0.712228</td>\n      <td>0.057901</td>\n      <td>0.430694</td>\n      <td>0.737648</td>\n      <td>0.285364</td>\n      <td>0.046931</td>\n      <td>0.488372</td>\n      <td>0.924945</td>\n      <td>0.219512</td>\n      <td>0.063612</td>\n      <td>0.112483</td>\n      <td>0.005547</td>\n      <td>0</td>\n    </tr>\n    <tr>\n      <th>1959</th>\n      <td>0.062697</td>\n      <td>0.807983</td>\n      <td>0.870226</td>\n      <td>0.714173</td>\n      <td>0.062442</td>\n      <td>0.429431</td>\n      <td>0.746447</td>\n      <td>0.286412</td>\n      <td>0.051745</td>\n      <td>0.635659</td>\n      <td>0.941501</td>\n      <td>0.214286</td>\n      <td>0.123599</td>\n      <td>0.010347</td>\n      <td>0.001778</td>\n      <td>0</td>\n    </tr>\n  </tbody>\n</table>\n<p>1960 rows × 16 columns</p>\n</div>"
     },
     "execution_count": 17,
     "metadata": {},
     "output_type": "execute_result"
    }
   ],
   "source": [
    "all_data_list[0]"
   ],
   "metadata": {
    "collapsed": false,
    "ExecuteTime": {
     "end_time": "2024-01-24T18:08:20.815605500Z",
     "start_time": "2024-01-24T18:08:20.750484300Z"
    }
   },
   "id": "31b518e8eb5dc66e"
  },
  {
   "cell_type": "markdown",
   "source": [
    "# Divide train/test"
   ],
   "metadata": {
    "collapsed": false
   },
   "id": "7098aa93f71a2207"
  },
  {
   "cell_type": "code",
   "execution_count": 18,
   "outputs": [],
   "source": [
    "# Split Data\n",
    "#A list of all csv is gived: because each element of a list represent a patient,\n",
    "# a patient will stay only or in train or in test\n",
    "train_list, test_list = train_test_split(all_data_list, test_size=0.2, random_state=42)\n",
    "#train_list, val_list = train_test_split(train_list, test_size=0.2, random_state=42)"
   ],
   "metadata": {
    "collapsed": false,
    "ExecuteTime": {
     "end_time": "2024-01-24T18:08:39.091173700Z",
     "start_time": "2024-01-24T18:08:39.071290200Z"
    }
   },
   "id": "533f760b5338243"
  },
  {
   "cell_type": "code",
   "execution_count": 19,
   "outputs": [],
   "source": [
    "#Create a dataframe only for train and one for all test data\n",
    "train_data = pd.DataFrame()\n",
    "i = 0\n",
    "for train in train_list:\n",
    "    train_data = pd.concat([train_data, train], ignore_index=True)\n",
    "    i = i + 1"
   ],
   "metadata": {
    "collapsed": false,
    "ExecuteTime": {
     "end_time": "2024-01-24T18:08:43.854581100Z",
     "start_time": "2024-01-24T18:08:43.527934200Z"
    }
   },
   "id": "f491145acd118c72"
  },
  {
   "cell_type": "code",
   "execution_count": 20,
   "outputs": [],
   "source": [
    "# Model Training\n",
    "X_train = train_data.drop('annotation', axis=1)\n",
    "y_train = train_data['annotation']"
   ],
   "metadata": {
    "collapsed": false,
    "ExecuteTime": {
     "end_time": "2024-01-24T18:08:56.989980700Z",
     "start_time": "2024-01-24T18:08:56.975696100Z"
    }
   },
   "id": "ce53e9b489a2ecf7"
  },
  {
   "cell_type": "code",
   "execution_count": 21,
   "outputs": [],
   "source": [
    "# One-hot encoding\n",
    "one_hot_encoded_df = pd.get_dummies(y_train, columns=['annotation'])\n",
    "\n",
    "one_hot_encoded_array_train = one_hot_encoded_df.values"
   ],
   "metadata": {
    "collapsed": false,
    "ExecuteTime": {
     "end_time": "2024-01-24T18:09:03.487768100Z",
     "start_time": "2024-01-24T18:09:03.455619200Z"
    }
   },
   "id": "bf2d6cf9b2cb4ed9"
  },
  {
   "cell_type": "code",
   "execution_count": 22,
   "outputs": [],
   "source": [
    "test_data = pd.DataFrame()\n",
    "\n",
    "for test in test_list:\n",
    "    test_data = pd.concat([test_data, test], ignore_index=True)"
   ],
   "metadata": {
    "collapsed": false,
    "ExecuteTime": {
     "end_time": "2024-01-24T18:09:05.648926100Z",
     "start_time": "2024-01-24T18:09:05.585941500Z"
    }
   },
   "id": "637afae39029162"
  },
  {
   "cell_type": "code",
   "execution_count": 23,
   "outputs": [],
   "source": [
    "X_test = test_data.drop('annotation', axis=1)\n",
    "y_test= test_data['annotation']"
   ],
   "metadata": {
    "collapsed": false,
    "ExecuteTime": {
     "end_time": "2024-01-24T18:09:07.202647600Z",
     "start_time": "2024-01-24T18:09:07.194128300Z"
    }
   },
   "id": "8a7251a461255e88"
  },
  {
   "cell_type": "code",
   "execution_count": 24,
   "outputs": [],
   "source": [
    "one_hot_encoded_df_test = pd.get_dummies(y_test, columns=['annotation'])\n",
    "\n",
    "one_hot_encoded_array_test = one_hot_encoded_df_test.values"
   ],
   "metadata": {
    "collapsed": false,
    "ExecuteTime": {
     "end_time": "2024-01-24T18:09:08.818904600Z",
     "start_time": "2024-01-24T18:09:08.789412600Z"
    }
   },
   "id": "785126a9f565e579"
  },
  {
   "cell_type": "code",
   "execution_count": 26,
   "outputs": [
    {
     "name": "stdout",
     "output_type": "stream",
     "text": [
      "Perc di N in train: 0.9240884203168686\n",
      "Perc di notN in train: 0.0759115796831314\n",
      "Perc di N in test: 0.9049530732924645\n",
      "Perc di notN in test: 0.0950469267075354\n"
     ]
    }
   ],
   "source": [
    "N_train = (y_train == 0).sum() \n",
    "notN_train = (y_train == 1).sum() \n",
    "\n",
    "N_test = (y_test == 0).sum() \n",
    "notN_test = (y_test == 1).sum() \n",
    "\n",
    "N_perc = N_train/(N_train+notN_train)\n",
    "notN_perc = notN_train/(N_train+notN_train)\n",
    "\n",
    "print(f\"Perc di N in train: {N_perc}\")\n",
    "print(f\"Perc di notN in train: {notN_perc}\")\n",
    "\n",
    "N_perc = N_test/(N_test+notN_test)\n",
    "notN_perc = notN_test/(N_test+notN_test)\n",
    "\n",
    "print(f\"Perc di N in test: {N_perc}\")\n",
    "print(f\"Perc di notN in test: {notN_perc}\")\n"
   ],
   "metadata": {
    "collapsed": false,
    "ExecuteTime": {
     "end_time": "2024-01-24T18:09:46.481319500Z",
     "start_time": "2024-01-24T18:09:46.448582900Z"
    }
   },
   "id": "66f8c5b79913cfac"
  },
  {
   "cell_type": "markdown",
   "source": [
    "# Useful functions"
   ],
   "metadata": {
    "collapsed": false
   },
   "id": "f7728cb324e43c7a"
  },
  {
   "cell_type": "code",
   "execution_count": 27,
   "outputs": [],
   "source": [
    "# produce a normalized convulational matrix\n",
    "def show_confusion_matrix(y_predi, model_name_pred):\n",
    "\n",
    "    predicted_class = np.argmax(y_predi, axis=-1)\n",
    "    test_classes = np.argmax(one_hot_encoded_array_test, axis=-1)\n",
    "    cm = confusion_matrix(test_classes, predicted_class)\n",
    "    classes_name = ['N', 'notN']\n",
    "    \n",
    "    \n",
    "    #Normalized cm\n",
    "    \n",
    "    cm = cm.astype('float') / cm.sum(axis=1)[:, np.newaxis]\n",
    "    plt.figure(figsize=(10, 8))\n",
    "    sns.heatmap(cm, xticklabels=list(classes_name), yticklabels=list(classes_name), cmap=\"Greens\", annot=True, fmt='.2f')\n",
    "    plt.ylabel('Actual labels')\n",
    "    plt.xlabel('Predicted labels')\n",
    "    plt.title(model_name_pred)\n",
    "    plt.show()"
   ],
   "metadata": {
    "collapsed": false,
    "ExecuteTime": {
     "end_time": "2024-01-24T18:10:10.289892500Z",
     "start_time": "2024-01-24T18:10:10.248222400Z"
    }
   },
   "id": "bc0b27b6d783191a"
  },
  {
   "cell_type": "code",
   "outputs": [],
   "source": [
    "def downsample_majority_class(df, class_column):\n",
    "    \n",
    "    # Calculate the class counts\n",
    "    class_counts = df[class_column].value_counts()\n",
    "    \n",
    "    print(class_counts)\n",
    "\n",
    "    # Find the maximum value among the two least represented classes\n",
    "    min_class_size = class_counts.nsmallest(2).min()\n",
    "\n",
    "    subsampled_df = pd.DataFrame()\n",
    "\n",
    "    for class_label in class_counts.index:\n",
    "        class_subset = df[df[class_column] == class_label]\n",
    "\n",
    "        # Downsample if this is the majority class\n",
    "        if class_counts[class_label] > min_class_size:\n",
    "            class_subset = class_subset.sample(n=min_class_size, random_state=42)\n",
    "        \n",
    "        subsampled_df = pd.concat([subsampled_df, class_subset], ignore_index=True)\n",
    "        \n",
    "    class_counts_sub = subsampled_df[class_column].value_counts()\n",
    "    print(class_counts_sub)\n",
    "\n",
    "    return subsampled_df"
   ],
   "metadata": {
    "collapsed": false,
    "ExecuteTime": {
     "end_time": "2024-01-24T18:10:15.352422Z",
     "start_time": "2024-01-24T18:10:15.333576700Z"
    }
   },
   "id": "bdd7cd96ae69c700",
   "execution_count": 28
  },
  {
   "cell_type": "code",
   "execution_count": 29,
   "outputs": [],
   "source": [
    "from sklearn.metrics import balanced_accuracy_score\n",
    "from sklearn.metrics import accuracy_score\n",
    "from sklearn.metrics import f1_score\n",
    "from sklearn.metrics import precision_score\n",
    "from sklearn.metrics import recall_score\n",
    "\n",
    "def compute_metrics (y_predi):\n",
    "    predicted_class = np.argmax(y_predi, axis=-1)\n",
    "    test_classes = np.argmax(one_hot_encoded_array_test, axis=-1)\n",
    "    print(\"Balanced accuracy score: \", balanced_accuracy_score(test_classes, predicted_class))\n",
    "    print(\"Accuracy score: \", accuracy_score(test_classes, predicted_class))\n",
    "    print(\"F1 score: \", f1_score(test_classes, predicted_class,average='macro'))\n",
    "    print(\"Precision score: \", precision_score(test_classes, predicted_class,average='macro'))\n",
    "    print(\"Recall score: \", recall_score(test_classes, predicted_class,average='macro'))\n",
    "    "
   ],
   "metadata": {
    "collapsed": false,
    "ExecuteTime": {
     "end_time": "2024-01-24T18:10:21.381040700Z",
     "start_time": "2024-01-24T18:10:21.359046500Z"
    }
   },
   "id": "6ce22ccfa4d30b69"
  },
  {
   "cell_type": "markdown",
   "source": [
    "# Class weights"
   ],
   "metadata": {
    "collapsed": false
   },
   "id": "9b44207f26035524"
  },
  {
   "cell_type": "code",
   "execution_count": 30,
   "outputs": [
    {
     "name": "stdout",
     "output_type": "stream",
     "text": [
      "{0: 0.08, 1: 0.92}\n"
     ]
    }
   ],
   "source": [
    "nN = np.count_nonzero(y_train == 0)\n",
    "nnotN = np.count_nonzero(y_train == 1)\n",
    "\n",
    "\n",
    "class_sum = nN+nnotN\n",
    "wN = round(1-(nN/class_sum),2)\n",
    "wnotN = round(1-(nnotN/class_sum),2)  \n",
    "\n",
    "\n",
    "class_freq = {0: wN, 1: wnotN}\n",
    "\n",
    "print(class_freq)"
   ],
   "metadata": {
    "collapsed": false,
    "ExecuteTime": {
     "end_time": "2024-01-24T18:11:08.172599700Z",
     "start_time": "2024-01-24T18:11:08.135491Z"
    }
   },
   "id": "84f50dad568aeaa7"
  },
  {
   "cell_type": "code",
   "execution_count": 31,
   "outputs": [
    {
     "data": {
      "text/plain": "{0: 0.5410737641626877, 1: 6.586610397084213}"
     },
     "execution_count": 31,
     "metadata": {},
     "output_type": "execute_result"
    }
   ],
   "source": [
    "from sklearn.utils.class_weight import compute_class_weight\n",
    "\n",
    "weights = compute_class_weight(class_weight='balanced', classes=[0.,1.], y=y_train)\n",
    "\n",
    "keys = np.arange(0,2,1)\n",
    "class_weights = dict(zip(keys, weights))\n",
    "class_weights"
   ],
   "metadata": {
    "collapsed": false,
    "ExecuteTime": {
     "end_time": "2024-01-24T18:11:17.839965800Z",
     "start_time": "2024-01-24T18:11:17.814175100Z"
    }
   },
   "id": "1c111605648c359c"
  },
  {
   "cell_type": "markdown",
   "source": [
    "# Feature selection"
   ],
   "metadata": {
    "collapsed": false
   },
   "id": "62c95fc576406768"
  },
  {
   "cell_type": "code",
   "execution_count": 20,
   "outputs": [
    {
     "data": {
      "text/plain": "'\\ncor_matrix = X_train.corr().abs()\\nfeature_list = X_train.columns\\nf = plt.figure(figsize=(10, 8))\\nplt.matshow(cor_matrix, fignum=f.number)\\nplt.xticks(range(len(feature_list)), feature_list, fontsize=10, rotation=90)\\nplt.yticks(range(len(feature_list)), feature_list, fontsize=10)\\ncb = plt.colorbar()\\ncb.ax.tick_params(labelsize=14)\\n'"
     },
     "execution_count": 20,
     "metadata": {},
     "output_type": "execute_result"
    }
   ],
   "source": [
    "'''\n",
    "cor_matrix = X_train.corr().abs()\n",
    "feature_list = X_train.columns\n",
    "f = plt.figure(figsize=(10, 8))\n",
    "plt.matshow(cor_matrix, fignum=f.number)\n",
    "plt.xticks(range(len(feature_list)), feature_list, fontsize=10, rotation=90)\n",
    "plt.yticks(range(len(feature_list)), feature_list, fontsize=10)\n",
    "cb = plt.colorbar()\n",
    "cb.ax.tick_params(labelsize=14)\n",
    "'''"
   ],
   "metadata": {
    "collapsed": false,
    "ExecuteTime": {
     "end_time": "2024-01-24T17:57:02.244674200Z",
     "start_time": "2024-01-24T17:57:02.156334200Z"
    }
   },
   "id": "6916c02d1187a915"
  },
  {
   "cell_type": "code",
   "execution_count": 21,
   "outputs": [
    {
     "data": {
      "text/plain": "\"\\ncorrelated_features = set()\\ncorrelation_matrix = X_train.corr()\\nmedian_corr = (correlation_matrix.abs()).median(axis=0)\\n\\nfor i in range(len(correlation_matrix .columns)):\\n    for j in range(i):\\n        if abs(correlation_matrix.iloc[i, j]) > 0.7:\\n            if median_corr[i] < median_corr[j]:\\n                colname = correlation_matrix.columns[i]\\n            else:\\n                colname = correlation_matrix.columns[j]\\n            correlated_features.add(colname)\\nX_train.drop(labels=correlated_features, axis=1, inplace=True)\\n# see how it drops correlated / drop the one that had a lower correlation w.r to the other feat\\nprint('Deleted features: ' + str(correlated_features))\\n\""
     },
     "execution_count": 21,
     "metadata": {},
     "output_type": "execute_result"
    }
   ],
   "source": [
    "'''\n",
    "correlated_features = set()\n",
    "correlation_matrix = X_train.corr()\n",
    "median_corr = (correlation_matrix.abs()).median(axis=0)\n",
    "\n",
    "for i in range(len(correlation_matrix .columns)):\n",
    "    for j in range(i):\n",
    "        if abs(correlation_matrix.iloc[i, j]) > 0.7:\n",
    "            if median_corr[i] < median_corr[j]:\n",
    "                colname = correlation_matrix.columns[i]\n",
    "            else:\n",
    "                colname = correlation_matrix.columns[j]\n",
    "            correlated_features.add(colname)\n",
    "X_train.drop(labels=correlated_features, axis=1, inplace=True)\n",
    "# see how it drops correlated / drop the one that had a lower correlation w.r to the other feat\n",
    "print('Deleted features: ' + str(correlated_features))\n",
    "'''"
   ],
   "metadata": {
    "collapsed": false,
    "ExecuteTime": {
     "end_time": "2024-01-24T17:57:02.244674200Z",
     "start_time": "2024-01-24T17:57:02.164991900Z"
    }
   },
   "id": "831ae0fade003ad5"
  },
  {
   "cell_type": "code",
   "execution_count": 22,
   "outputs": [
    {
     "data": {
      "text/plain": "'\\ncor_matrix = X_train.corr().abs()\\nfeature_list = list(X_train.columns)\\nf = plt.figure(figsize=(10, 8))\\nplt.matshow(cor_matrix, fignum=f.number)\\nplt.xticks(range(len(feature_list)), feature_list, fontsize=10, rotation=90)\\nplt.yticks(range(len(feature_list)), feature_list, fontsize=10)\\ncb = plt.colorbar()\\ncb.ax.tick_params(labelsize=14)\\n'"
     },
     "execution_count": 22,
     "metadata": {},
     "output_type": "execute_result"
    }
   ],
   "source": [
    "'''\n",
    "cor_matrix = X_train.corr().abs()\n",
    "feature_list = list(X_train.columns)\n",
    "f = plt.figure(figsize=(10, 8))\n",
    "plt.matshow(cor_matrix, fignum=f.number)\n",
    "plt.xticks(range(len(feature_list)), feature_list, fontsize=10, rotation=90)\n",
    "plt.yticks(range(len(feature_list)), feature_list, fontsize=10)\n",
    "cb = plt.colorbar()\n",
    "cb.ax.tick_params(labelsize=14)\n",
    "'''"
   ],
   "metadata": {
    "collapsed": false,
    "ExecuteTime": {
     "end_time": "2024-01-24T17:57:02.244674200Z",
     "start_time": "2024-01-24T17:57:02.171363100Z"
    }
   },
   "id": "c49c64e6393595e6"
  },
  {
   "cell_type": "code",
   "execution_count": 23,
   "outputs": [
    {
     "data": {
      "text/plain": "'\\nX_test = X_test[feature_list]\\nX_test\\n'"
     },
     "execution_count": 23,
     "metadata": {},
     "output_type": "execute_result"
    }
   ],
   "source": [
    "'''\n",
    "X_test = X_test[feature_list]\n",
    "X_test\n",
    "'''"
   ],
   "metadata": {
    "collapsed": false,
    "ExecuteTime": {
     "end_time": "2024-01-24T17:57:02.247064600Z",
     "start_time": "2024-01-24T17:57:02.178859100Z"
    }
   },
   "id": "2bbc9ef63e2fa620"
  },
  {
   "cell_type": "code",
   "execution_count": 24,
   "outputs": [
    {
     "data": {
      "text/plain": "'\\nfrom sklearn.decomposition import PCA\\nvarianceThreshold = 0.9\\npca_features = PCA(n_components = varianceThreshold) # dimensionality reduction\\npca_features.fit(X_train)\\n\\nX_train = pca_features.transform(X_train)\\nprint(np.shape(X_train))\\n\\nX_test = pca_features.transform(X_test)\\nprint(np.shape(X_test))\\n'"
     },
     "execution_count": 24,
     "metadata": {},
     "output_type": "execute_result"
    }
   ],
   "source": [
    "'''\n",
    "from sklearn.decomposition import PCA\n",
    "varianceThreshold = 0.9\n",
    "pca_features = PCA(n_components = varianceThreshold) # dimensionality reduction\n",
    "pca_features.fit(X_train)\n",
    "\n",
    "X_train = pca_features.transform(X_train)\n",
    "print(np.shape(X_train))\n",
    "\n",
    "X_test = pca_features.transform(X_test)\n",
    "print(np.shape(X_test))\n",
    "'''"
   ],
   "metadata": {
    "collapsed": false,
    "ExecuteTime": {
     "end_time": "2024-01-24T17:57:02.247064600Z",
     "start_time": "2024-01-24T17:57:02.185358200Z"
    }
   },
   "id": "8612679fc7597a42"
  },
  {
   "cell_type": "markdown",
   "source": [
    "# Downsampled sets"
   ],
   "metadata": {
    "collapsed": false
   },
   "id": "71201954ade4a032"
  },
  {
   "cell_type": "code",
   "execution_count": 32,
   "outputs": [
    {
     "data": {
      "text/plain": "             asp       adp       adn        rp        d1        d2        rd  \\\n0       0.055880  0.801983  0.799544  0.681870  0.070597  0.433180  0.458742   \n1       0.057403  0.803716  0.801356  0.682360  0.070312  0.432627  0.458752   \n2       0.057984  0.802885  0.800347  0.682358  0.071546  0.432986  0.458729   \n3       0.057484  0.803932  0.800936  0.682399  0.070705  0.432987  0.458743   \n4       0.057938  0.802728  0.801323  0.682332  0.070741  0.432279  0.458749   \n...          ...       ...       ...       ...       ...       ...       ...   \n137339  0.049199  0.836044  0.187404  0.199390  0.808075  1.000000  0.572823   \n137340  0.046219  0.836044  0.187404  0.199143  0.806709  1.000000  0.572820   \n137341  0.036760  0.836044  0.187404  0.197617  0.802374  1.000000  0.572812   \n137342  0.266708  0.836044  0.187404  0.201062  0.907759  1.000000  0.573021   \n137343  0.490775  0.833726  1.000000  0.201147  0.170832  0.251213  0.571975   \n\n              rn        T1        T2        TP        ST  pi2pi_pr  pi2pi_po  \\\n0       0.485321  0.018545  0.212121  0.941617  0.775000  0.000000  0.065539   \n1       0.485533  0.017118  0.202020  0.941617  0.775000  0.102538  0.067653   \n2       0.485352  0.019971  0.232323  0.943114  0.772414  0.104569  0.065539   \n3       0.485465  0.018545  0.212121  0.941617  0.775000  0.102538  0.068710   \n4       0.485501  0.018545  0.222222  0.943114  0.772414  0.105584  0.064482   \n...          ...       ...       ...       ...       ...       ...       ...   \n137339  0.890823  0.377079  1.000000  0.665098  0.935655  0.019520  0.015022   \n137340  0.887826  0.292135  1.000000  0.745937  0.934561  0.019624  0.014918   \n137341  0.869294  0.207640  1.000000  0.826347  0.930344  0.019520  0.035990   \n137342  0.911134  0.032360  1.000000  0.993157  0.941120  0.040494  0.137492   \n137343  0.914177  0.036404  0.288194  0.901625  0.958333  0.141522  0.424995   \n\n        area_peak  annotation  \n0        0.003993           0  \n1        0.004384           0  \n2        0.004580           0  \n3        0.004438           0  \n4        0.004605           0  \n...           ...         ...  \n137339   0.000000           0  \n137340   0.000000           0  \n137341   0.000000           0  \n137342   0.282995           0  \n137343   0.000000           0  \n\n[137344 rows x 16 columns]",
      "text/html": "<div>\n<style scoped>\n    .dataframe tbody tr th:only-of-type {\n        vertical-align: middle;\n    }\n\n    .dataframe tbody tr th {\n        vertical-align: top;\n    }\n\n    .dataframe thead th {\n        text-align: right;\n    }\n</style>\n<table border=\"1\" class=\"dataframe\">\n  <thead>\n    <tr style=\"text-align: right;\">\n      <th></th>\n      <th>asp</th>\n      <th>adp</th>\n      <th>adn</th>\n      <th>rp</th>\n      <th>d1</th>\n      <th>d2</th>\n      <th>rd</th>\n      <th>rn</th>\n      <th>T1</th>\n      <th>T2</th>\n      <th>TP</th>\n      <th>ST</th>\n      <th>pi2pi_pr</th>\n      <th>pi2pi_po</th>\n      <th>area_peak</th>\n      <th>annotation</th>\n    </tr>\n  </thead>\n  <tbody>\n    <tr>\n      <th>0</th>\n      <td>0.055880</td>\n      <td>0.801983</td>\n      <td>0.799544</td>\n      <td>0.681870</td>\n      <td>0.070597</td>\n      <td>0.433180</td>\n      <td>0.458742</td>\n      <td>0.485321</td>\n      <td>0.018545</td>\n      <td>0.212121</td>\n      <td>0.941617</td>\n      <td>0.775000</td>\n      <td>0.000000</td>\n      <td>0.065539</td>\n      <td>0.003993</td>\n      <td>0</td>\n    </tr>\n    <tr>\n      <th>1</th>\n      <td>0.057403</td>\n      <td>0.803716</td>\n      <td>0.801356</td>\n      <td>0.682360</td>\n      <td>0.070312</td>\n      <td>0.432627</td>\n      <td>0.458752</td>\n      <td>0.485533</td>\n      <td>0.017118</td>\n      <td>0.202020</td>\n      <td>0.941617</td>\n      <td>0.775000</td>\n      <td>0.102538</td>\n      <td>0.067653</td>\n      <td>0.004384</td>\n      <td>0</td>\n    </tr>\n    <tr>\n      <th>2</th>\n      <td>0.057984</td>\n      <td>0.802885</td>\n      <td>0.800347</td>\n      <td>0.682358</td>\n      <td>0.071546</td>\n      <td>0.432986</td>\n      <td>0.458729</td>\n      <td>0.485352</td>\n      <td>0.019971</td>\n      <td>0.232323</td>\n      <td>0.943114</td>\n      <td>0.772414</td>\n      <td>0.104569</td>\n      <td>0.065539</td>\n      <td>0.004580</td>\n      <td>0</td>\n    </tr>\n    <tr>\n      <th>3</th>\n      <td>0.057484</td>\n      <td>0.803932</td>\n      <td>0.800936</td>\n      <td>0.682399</td>\n      <td>0.070705</td>\n      <td>0.432987</td>\n      <td>0.458743</td>\n      <td>0.485465</td>\n      <td>0.018545</td>\n      <td>0.212121</td>\n      <td>0.941617</td>\n      <td>0.775000</td>\n      <td>0.102538</td>\n      <td>0.068710</td>\n      <td>0.004438</td>\n      <td>0</td>\n    </tr>\n    <tr>\n      <th>4</th>\n      <td>0.057938</td>\n      <td>0.802728</td>\n      <td>0.801323</td>\n      <td>0.682332</td>\n      <td>0.070741</td>\n      <td>0.432279</td>\n      <td>0.458749</td>\n      <td>0.485501</td>\n      <td>0.018545</td>\n      <td>0.222222</td>\n      <td>0.943114</td>\n      <td>0.772414</td>\n      <td>0.105584</td>\n      <td>0.064482</td>\n      <td>0.004605</td>\n      <td>0</td>\n    </tr>\n    <tr>\n      <th>...</th>\n      <td>...</td>\n      <td>...</td>\n      <td>...</td>\n      <td>...</td>\n      <td>...</td>\n      <td>...</td>\n      <td>...</td>\n      <td>...</td>\n      <td>...</td>\n      <td>...</td>\n      <td>...</td>\n      <td>...</td>\n      <td>...</td>\n      <td>...</td>\n      <td>...</td>\n      <td>...</td>\n    </tr>\n    <tr>\n      <th>137339</th>\n      <td>0.049199</td>\n      <td>0.836044</td>\n      <td>0.187404</td>\n      <td>0.199390</td>\n      <td>0.808075</td>\n      <td>1.000000</td>\n      <td>0.572823</td>\n      <td>0.890823</td>\n      <td>0.377079</td>\n      <td>1.000000</td>\n      <td>0.665098</td>\n      <td>0.935655</td>\n      <td>0.019520</td>\n      <td>0.015022</td>\n      <td>0.000000</td>\n      <td>0</td>\n    </tr>\n    <tr>\n      <th>137340</th>\n      <td>0.046219</td>\n      <td>0.836044</td>\n      <td>0.187404</td>\n      <td>0.199143</td>\n      <td>0.806709</td>\n      <td>1.000000</td>\n      <td>0.572820</td>\n      <td>0.887826</td>\n      <td>0.292135</td>\n      <td>1.000000</td>\n      <td>0.745937</td>\n      <td>0.934561</td>\n      <td>0.019624</td>\n      <td>0.014918</td>\n      <td>0.000000</td>\n      <td>0</td>\n    </tr>\n    <tr>\n      <th>137341</th>\n      <td>0.036760</td>\n      <td>0.836044</td>\n      <td>0.187404</td>\n      <td>0.197617</td>\n      <td>0.802374</td>\n      <td>1.000000</td>\n      <td>0.572812</td>\n      <td>0.869294</td>\n      <td>0.207640</td>\n      <td>1.000000</td>\n      <td>0.826347</td>\n      <td>0.930344</td>\n      <td>0.019520</td>\n      <td>0.035990</td>\n      <td>0.000000</td>\n      <td>0</td>\n    </tr>\n    <tr>\n      <th>137342</th>\n      <td>0.266708</td>\n      <td>0.836044</td>\n      <td>0.187404</td>\n      <td>0.201062</td>\n      <td>0.907759</td>\n      <td>1.000000</td>\n      <td>0.573021</td>\n      <td>0.911134</td>\n      <td>0.032360</td>\n      <td>1.000000</td>\n      <td>0.993157</td>\n      <td>0.941120</td>\n      <td>0.040494</td>\n      <td>0.137492</td>\n      <td>0.282995</td>\n      <td>0</td>\n    </tr>\n    <tr>\n      <th>137343</th>\n      <td>0.490775</td>\n      <td>0.833726</td>\n      <td>1.000000</td>\n      <td>0.201147</td>\n      <td>0.170832</td>\n      <td>0.251213</td>\n      <td>0.571975</td>\n      <td>0.914177</td>\n      <td>0.036404</td>\n      <td>0.288194</td>\n      <td>0.901625</td>\n      <td>0.958333</td>\n      <td>0.141522</td>\n      <td>0.424995</td>\n      <td>0.000000</td>\n      <td>0</td>\n    </tr>\n  </tbody>\n</table>\n<p>137344 rows × 16 columns</p>\n</div>"
     },
     "execution_count": 32,
     "metadata": {},
     "output_type": "execute_result"
    }
   ],
   "source": [
    "train = pd.concat([X_train,y_train],axis=1)\n",
    "train"
   ],
   "metadata": {
    "collapsed": false,
    "ExecuteTime": {
     "end_time": "2024-01-24T18:11:28.070281500Z",
     "start_time": "2024-01-24T18:11:28.037388Z"
    }
   },
   "id": "5a2d40a73f913d0d"
  },
  {
   "cell_type": "code",
   "execution_count": 33,
   "outputs": [
    {
     "name": "stdout",
     "output_type": "stream",
     "text": [
      "annotation\n",
      "0    126918\n",
      "1     10426\n",
      "Name: count, dtype: int64\n",
      "annotation\n",
      "0    10426\n",
      "1    10426\n",
      "Name: count, dtype: int64\n"
     ]
    }
   ],
   "source": [
    "train_df = downsample_majority_class(train,'annotation')\n",
    "\n",
    "# Creating training and testing sets\n",
    "X_train_d = train_df.drop(['annotation'], axis=1)\n",
    "y_train_d = train_df['annotation']"
   ],
   "metadata": {
    "collapsed": false,
    "ExecuteTime": {
     "end_time": "2024-01-24T18:11:30.843567800Z",
     "start_time": "2024-01-24T18:11:30.796513400Z"
    }
   },
   "id": "c862755a0f7e8b2d"
  },
  {
   "cell_type": "markdown",
   "source": [
    "# Models"
   ],
   "metadata": {
    "collapsed": false
   },
   "id": "661f2f22cc395e04"
  },
  {
   "cell_type": "markdown",
   "source": [
    "# K-NN"
   ],
   "metadata": {
    "collapsed": false
   },
   "id": "ac04b83ded746f38"
  },
  {
   "cell_type": "code",
   "execution_count": 34,
   "outputs": [
    {
     "data": {
      "text/plain": "<Figure size 1000x800 with 2 Axes>",
      "image/png": "[encoded data removed]"
     },
     "metadata": {},
     "output_type": "display_data"
    },
    {
     "name": "stdout",
     "output_type": "stream",
     "text": [
      "Balanced accuracy score:  0.506175348446911\n",
      "Accuracy score:  0.5599468344816362\n",
      "F1 score:  0.4307893932639004\n",
      "Precision score:  0.5021688604378698\n",
      "Recall score:  0.506175348446911\n"
     ]
    }
   ],
   "source": [
    "from sklearn.neighbors import KNeighborsClassifier\n",
    "neigh = KNeighborsClassifier(n_neighbors=50)\n",
    "neigh.fit(X_train_d, y_train_d)\n",
    "\n",
    "y_pred_knn = neigh.predict(X_test)\n",
    "    \n",
    "one_hot_encoded_pred_knn = pd.get_dummies(y_pred_knn, columns=['0'])\n",
    "show_confusion_matrix(one_hot_encoded_pred_knn, \"KNN \")\n",
    "compute_metrics(one_hot_encoded_pred_knn)"
   ],
   "metadata": {
    "collapsed": false,
    "ExecuteTime": {
     "end_time": "2024-01-24T18:11:51.499060400Z",
     "start_time": "2024-01-24T18:11:37.937222200Z"
    }
   },
   "id": "9f222d9bbf3640da"
  },
  {
   "cell_type": "markdown",
   "source": [
    "# SVM"
   ],
   "metadata": {
    "collapsed": false
   },
   "id": "43efeb3e68864513"
  },
  {
   "cell_type": "code",
   "execution_count": 35,
   "outputs": [
    {
     "data": {
      "text/plain": "<Figure size 1000x800 with 2 Axes>",
      "image/png": "[encoded data removed]"
     },
     "metadata": {},
     "output_type": "display_data"
    },
    {
     "name": "stdout",
     "output_type": "stream",
     "text": [
      "Balanced accuracy score:  0.6317453377082011\n",
      "Accuracy score:  0.6938371399121142\n",
      "F1 score:  0.5317749719338054\n",
      "Precision score:  0.5523707819461394\n",
      "Recall score:  0.6317453377082011\n"
     ]
    }
   ],
   "source": [
    "from sklearn.svm import SVC \n",
    "clfSVC = SVC(kernel='rbf',C=0.01,class_weight='balanced') \n",
    " \n",
    "# fitting x samples and y classes \n",
    "clfSVC.fit(X_train_d, y_train_d)\n",
    "\n",
    "y_pred_SVC = clfSVC.predict(X_test)\n",
    "    \n",
    "one_hot_encoded_pred_SVC = pd.get_dummies(y_pred_SVC, columns=['0'])\n",
    "show_confusion_matrix(one_hot_encoded_pred_SVC, \"SVC\")\n",
    "compute_metrics(one_hot_encoded_pred_SVC)"
   ],
   "metadata": {
    "collapsed": false,
    "ExecuteTime": {
     "end_time": "2024-01-24T18:13:22.096397500Z",
     "start_time": "2024-01-24T18:12:10.056183500Z"
    }
   },
   "id": "3ba95f0306d0264"
  },
  {
   "cell_type": "markdown",
   "source": [
    "# Random Forest"
   ],
   "metadata": {
    "collapsed": false
   },
   "id": "da0ddc9479dede3a"
  },
  {
   "cell_type": "code",
   "execution_count": 36,
   "outputs": [
    {
     "data": {
      "text/plain": "<Figure size 1000x800 with 2 Axes>",
      "image/png": "[encoded data removed]"
     },
     "metadata": {},
     "output_type": "display_data"
    },
    {
     "name": "stdout",
     "output_type": "stream",
     "text": [
      "Balanced accuracy score:  0.6814698006974276\n",
      "Accuracy score:  0.7311343785601909\n",
      "F1 score:  0.5690751360056373\n",
      "Precision score:  0.5755458076531942\n",
      "Recall score:  0.6814698006974276\n"
     ]
    }
   ],
   "source": [
    "from sklearn.ensemble import RandomForestClassifier\n",
    "    \n",
    "randomForestModel = RandomForestClassifier(n_estimators=30,\n",
    "                                            criterion='entropy',\n",
    "                                            max_depth=15,\n",
    "                                            min_samples_split=20,\n",
    "                                            class_weight=None\n",
    "                                            )\n",
    "    \n",
    "    \n",
    "randomForestModel.fit(X_train_d, y_train_d)\n",
    "y_pred_RF = randomForestModel.predict(X_test)\n",
    "    \n",
    "one_hot_encoded_pred_RF = pd.get_dummies(y_pred_RF, columns=['0'])\n",
    "show_confusion_matrix(one_hot_encoded_pred_RF, \"Random forest \")\n",
    "compute_metrics(one_hot_encoded_pred_RF)"
   ],
   "metadata": {
    "collapsed": false,
    "ExecuteTime": {
     "end_time": "2024-01-24T18:13:32.714170300Z",
     "start_time": "2024-01-24T18:13:27.528276300Z"
    }
   },
   "id": "e58b28cb74c8ef47"
  },
  {
   "cell_type": "markdown",
   "source": [
    "# Balanced random forest"
   ],
   "metadata": {
    "collapsed": false
   },
   "id": "53cb81d30b34608c"
  },
  {
   "cell_type": "code",
   "execution_count": 37,
   "outputs": [
    {
     "data": {
      "text/plain": "<Figure size 1000x800 with 2 Axes>",
      "image/png": "[encoded data removed]"
     },
     "metadata": {},
     "output_type": "display_data"
    },
    {
     "name": "stdout",
     "output_type": "stream",
     "text": [
      "Balanced accuracy score:  0.7231273656025681\n",
      "Accuracy score:  0.6909618618781533\n",
      "F1 score:  0.5597360874400613\n",
      "Precision score:  0.5833994079447515\n",
      "Recall score:  0.7231273656025681\n"
     ]
    }
   ],
   "source": [
    "from imblearn.ensemble import BalancedRandomForestClassifier\n",
    "BalancedRandomForestModel = BalancedRandomForestClassifier(n_estimators= 50,\n",
    "                                                   criterion= 'entropy',\n",
    "                                                   max_depth= 50,\n",
    "                                                   min_samples_split= 30,\n",
    "                                                   min_samples_leaf = 1,\n",
    "                                                   min_weight_fraction_leaf = 0.0,\n",
    "                                                   max_features= None,\n",
    "                                                   sampling_strategy='not minority',\n",
    "                                                   replacement= False,\n",
    "                                                   n_jobs= -1,\n",
    "                                                   random_state=100,\n",
    "                                                   class_weight= None,\n",
    "                                                   bootstrap=True\n",
    "                                                   )\n",
    "BalancedRandomForestModel.fit(X_train, y_train)\n",
    "y_pred_BRF = BalancedRandomForestModel.predict(X_test)\n",
    "one_hot_encoded_pred_BRF = pd.get_dummies(y_pred_BRF, columns=['0'])\n",
    "\n",
    "show_confusion_matrix(one_hot_encoded_pred_BRF, \"Random forest balanced\")\n",
    "compute_metrics(one_hot_encoded_pred_BRF)"
   ],
   "metadata": {
    "collapsed": false,
    "ExecuteTime": {
     "end_time": "2024-01-24T18:13:46.493174500Z",
     "start_time": "2024-01-24T18:13:37.811186400Z"
    }
   },
   "id": "5628fe8909bd99f7"
  },
  {
   "cell_type": "markdown",
   "source": [
    "# AdaBoost"
   ],
   "metadata": {
    "collapsed": false
   },
   "id": "4f15eed7ef356375"
  },
  {
   "cell_type": "code",
   "execution_count": 38,
   "outputs": [
    {
     "data": {
      "text/plain": "<Figure size 1000x800 with 2 Axes>",
      "image/png": "[encoded data removed]"
     },
     "metadata": {},
     "output_type": "display_data"
    },
    {
     "name": "stdout",
     "output_type": "stream",
     "text": [
      "Balanced accuracy score:  0.6949535471412394\n",
      "Accuracy score:  0.7370476862149405\n",
      "F1 score:  0.5772435750023895\n",
      "Precision score:  0.5814183318666941\n",
      "Recall score:  0.6949535471412394\n"
     ]
    }
   ],
   "source": [
    "\n",
    "from imblearn.ensemble import EasyEnsembleClassifier\n",
    "\n",
    "modelEasyEns = EasyEnsembleClassifier(n_estimators=50, \n",
    "                                      n_jobs=-1, \n",
    "                                      random_state=42,\n",
    "                                      sampling_strategy='majority'\n",
    "                                      )\n",
    "modelEasyEns.fit(X_train, \n",
    "                 y_train)\n",
    "\n",
    "y_predEasyEns = modelEasyEns.predict(X_test)\n",
    "one_hot_encoded_pred_ens = pd.get_dummies(y_predEasyEns, columns=['0'])\n",
    "\n",
    "show_confusion_matrix(one_hot_encoded_pred_ens, \"EasyEnsembleClassifier\")\n",
    "compute_metrics(one_hot_encoded_pred_ens)"
   ],
   "metadata": {
    "collapsed": false,
    "ExecuteTime": {
     "end_time": "2024-01-24T18:15:24.228835200Z",
     "start_time": "2024-01-24T18:14:21.649755200Z"
    }
   },
   "id": "11f6faefb2883ebf"
  },
  {
   "cell_type": "markdown",
   "source": [
    "# Neural Network"
   ],
   "metadata": {
    "collapsed": false
   },
   "id": "6ba49e15429c1adf"
  },
  {
   "cell_type": "code",
   "execution_count": 39,
   "outputs": [
    {
     "data": {
      "text/plain": "<Figure size 1000x800 with 2 Axes>",
      "image/png": "[encoded data removed]"
     },
     "metadata": {},
     "output_type": "display_data"
    },
    {
     "name": "stdout",
     "output_type": "stream",
     "text": [
      "Balanced accuracy score:  0.727993343532781\n",
      "Accuracy score:  0.7416047306461238\n",
      "F1 score:  0.5913174321173184\n",
      "Precision score:  0.5936440771461365\n",
      "Recall score:  0.727993343532781\n"
     ]
    }
   ],
   "source": [
    "# Neural Network\n",
    "from sklearn.neural_network import MLPClassifier\n",
    "mlpc = MLPClassifier(hidden_layer_sizes=(7,5,3), \n",
    "                            max_iter=1000, \n",
    "                            alpha=0.001)\n",
    "mlpc.fit(X_train_d,\n",
    "                 y_train_d)\n",
    "\n",
    "y_predmlpc = mlpc.predict(X_test)\n",
    "one_hot_encoded_pred_mlpc = pd.get_dummies(y_predmlpc, columns=['0'])\n",
    "\n",
    "show_confusion_matrix(one_hot_encoded_pred_mlpc, \"Neural Network\")\n",
    "compute_metrics(one_hot_encoded_pred_mlpc)\n",
    "\n",
    "\n"
   ],
   "metadata": {
    "collapsed": false,
    "ExecuteTime": {
     "end_time": "2024-01-24T18:15:57.826651Z",
     "start_time": "2024-01-24T18:15:36.322022300Z"
    }
   },
   "id": "c58ea2dd7df68ab7"
  }
 ],
 "metadata": {
  "kernelspec": {
   "display_name": "Python 3",
   "language": "python",
   "name": "python3"
  },
  "language_info": {
   "codemirror_mode": {
    "name": "ipython",
    "version": 2
   },
   "file_extension": ".py",
   "mimetype": "text/x-python",
   "name": "python",
   "nbconvert_exporter": "python",
   "pygments_lexer": "ipython2",
   "version": "2.7.6"
  }
 },
 "nbformat": 4,
 "nbformat_minor": 5
}
