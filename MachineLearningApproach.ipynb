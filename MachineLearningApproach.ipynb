{
 "cells": [
  {
   "cell_type": "code",
   "execution_count": 12,
   "id": "initial_id",
   "metadata": {
    "collapsed": true,
    "ExecuteTime": {
     "end_time": "2024-01-29T09:42:30.715098800Z",
     "start_time": "2024-01-29T09:42:30.224458300Z"
    }
   },
   "outputs": [],
   "source": [
    "import pandas as pd\n",
    "import numpy as np, os\n",
    "from sklearn.model_selection import train_test_split\n",
    "\n",
    "import matplotlib.pyplot as plt\n",
    "from sklearn.metrics import confusion_matrix\n",
    "import seaborn as sns"
   ]
  },
  {
   "cell_type": "markdown",
   "source": [
    "# Load Data"
   ],
   "metadata": {
    "collapsed": false
   },
   "id": "1e50d4d505fc2a45"
  },
  {
   "cell_type": "code",
   "execution_count": 13,
   "outputs": [],
   "source": [
    "folder_path = u'C:/Users/user/Desktop/AI-project/features/128' \n",
    "\n",
    "# List all files in the folder\n",
    "file_names = [file for file in os.listdir(folder_path) if file.endswith('_128.csv')]\n",
    "\n",
    "# Initialize an empty DataFrame to concatenate all data\n",
    "all_data = pd.DataFrame()\n",
    "all_data_list = []\n",
    "# Loop through each file and concatenate the data\n",
    "for file_name in file_names:\n",
    "    file_path = os.path.join(folder_path, file_name)\n",
    "    data = pd.read_csv(file_path)\n",
    "    all_data_list.append(data)\n",
    "    all_data = pd.concat([all_data, data], ignore_index=True)\n"
   ],
   "metadata": {
    "collapsed": false,
    "ExecuteTime": {
     "end_time": "2024-01-29T09:42:32.044224500Z",
     "start_time": "2024-01-29T09:42:30.266753100Z"
    }
   },
   "id": "13a4166f80afa3b"
  },
  {
   "cell_type": "code",
   "execution_count": 14,
   "outputs": [],
   "source": [
    "folder_path = u'C:/Users/user/Desktop/AI-project/features/250' \n",
    "\n",
    "# List all files in the folder\n",
    "file_names = [file for file in os.listdir(folder_path) if file.endswith('_250.csv')]\n",
    "\n",
    "# Loop through each file and concatenate the data\n",
    "for file_name in file_names:\n",
    "    file_path = os.path.join(folder_path, file_name)\n",
    "    data = pd.read_csv(file_path)\n",
    "    all_data_list.append(data)\n",
    "    all_data = pd.concat([all_data, data], ignore_index=True)\n",
    "\n",
    "# Now 'all_data_list' contains a list of all data from all CSV files"
   ],
   "metadata": {
    "collapsed": false,
    "ExecuteTime": {
     "end_time": "2024-01-29T09:42:33.800569900Z",
     "start_time": "2024-01-29T09:42:32.044224500Z"
    }
   },
   "id": "2d9aa1da9bec23aa"
  },
  {
   "cell_type": "markdown",
   "source": [
    "# Label mapping"
   ],
   "metadata": {
    "collapsed": false
   },
   "id": "18b454bef1ece199"
  },
  {
   "cell_type": "code",
   "execution_count": 15,
   "outputs": [],
   "source": [
    "#Sobstitute N, S, V with 0, 1, 2\n",
    "label_mapping = {'N': 0, 'S': 1, 'V': 2}\n",
    "for data in all_data_list:\n",
    "    data['annotation'] = data['annotation'].replace(label_mapping)"
   ],
   "metadata": {
    "collapsed": false,
    "ExecuteTime": {
     "end_time": "2024-01-29T09:42:34.007968900Z",
     "start_time": "2024-01-29T09:42:33.810199Z"
    }
   },
   "id": "bc1c8093311631c7"
  },
  {
   "cell_type": "markdown",
   "source": [
    "# Divide train/test"
   ],
   "metadata": {
    "collapsed": false
   },
   "id": "7098aa93f71a2207"
  },
  {
   "cell_type": "code",
   "execution_count": 16,
   "outputs": [],
   "source": [
    "# Split Data\n",
    "#A list of all csv is gived: because each element of a list represent a patient,\n",
    "# a patient will stay only or in train or in test\n",
    "train_list, test_list = train_test_split(all_data_list, test_size=0.2, random_state=42)\n",
    "#train_list, val_list = train_test_split(train_list, test_size=0.2, random_state=42)"
   ],
   "metadata": {
    "collapsed": false,
    "ExecuteTime": {
     "end_time": "2024-01-29T09:42:34.035650300Z",
     "start_time": "2024-01-29T09:42:34.007968900Z"
    }
   },
   "id": "533f760b5338243"
  },
  {
   "cell_type": "code",
   "execution_count": 17,
   "outputs": [],
   "source": [
    "#Create a dataframe only for train and one for all test data\n",
    "train_data = pd.DataFrame()\n",
    "i = 0\n",
    "for train in train_list:\n",
    "    train_data = pd.concat([train_data, train], ignore_index=True)\n",
    "    i = i + 1"
   ],
   "metadata": {
    "collapsed": false,
    "ExecuteTime": {
     "end_time": "2024-01-29T09:42:34.695872200Z",
     "start_time": "2024-01-29T09:42:34.028056400Z"
    }
   },
   "id": "f491145acd118c72"
  },
  {
   "cell_type": "code",
   "execution_count": 18,
   "outputs": [],
   "source": [
    "# Model Training\n",
    "X_train = train_data.drop('annotation', axis=1)\n",
    "y_train = train_data['annotation']"
   ],
   "metadata": {
    "collapsed": false,
    "ExecuteTime": {
     "end_time": "2024-01-29T09:42:34.717123700Z",
     "start_time": "2024-01-29T09:42:34.703610500Z"
    }
   },
   "id": "ce53e9b489a2ecf7"
  },
  {
   "cell_type": "code",
   "execution_count": 19,
   "outputs": [],
   "source": [
    "# One-hot encoding\n",
    "one_hot_encoded_df = pd.get_dummies(y_train, columns=['annotation'])\n",
    "\n",
    "one_hot_encoded_array_train = one_hot_encoded_df.values"
   ],
   "metadata": {
    "collapsed": false,
    "ExecuteTime": {
     "end_time": "2024-01-29T09:42:34.775279Z",
     "start_time": "2024-01-29T09:42:34.717123700Z"
    }
   },
   "id": "bf2d6cf9b2cb4ed9"
  },
  {
   "cell_type": "code",
   "execution_count": 20,
   "outputs": [],
   "source": [
    "test_data = pd.DataFrame()\n",
    "\n",
    "for test in test_list:\n",
    "    test_data = pd.concat([test_data, test], ignore_index=True)"
   ],
   "metadata": {
    "collapsed": false,
    "ExecuteTime": {
     "end_time": "2024-01-29T09:42:34.823043Z",
     "start_time": "2024-01-29T09:42:34.743760500Z"
    }
   },
   "id": "637afae39029162"
  },
  {
   "cell_type": "code",
   "execution_count": 21,
   "outputs": [],
   "source": [
    "X_test = test_data.drop('annotation', axis=1)\n",
    "y_test= test_data['annotation']"
   ],
   "metadata": {
    "collapsed": false,
    "ExecuteTime": {
     "end_time": "2024-01-29T09:42:34.823043Z",
     "start_time": "2024-01-29T09:42:34.796935800Z"
    }
   },
   "id": "8a7251a461255e88"
  },
  {
   "cell_type": "code",
   "execution_count": 22,
   "outputs": [],
   "source": [
    "one_hot_encoded_df_test = pd.get_dummies(y_test, columns=['annotation'])\n",
    "\n",
    "one_hot_encoded_array_test = one_hot_encoded_df_test.values"
   ],
   "metadata": {
    "collapsed": false,
    "ExecuteTime": {
     "end_time": "2024-01-29T09:42:34.854907Z",
     "start_time": "2024-01-29T09:42:34.815915400Z"
    }
   },
   "id": "785126a9f565e579"
  },
  {
   "cell_type": "code",
   "execution_count": 23,
   "outputs": [
    {
     "name": "stdout",
     "output_type": "stream",
     "text": [
      "Perc di N in train: 0.9240884203168686\n",
      "Perc di S in train: 0.04832391658900279\n",
      "Perc di V in train: 0.027587663094128613\n",
      "Total:  137344\n",
      "Perc di N in test: 0.9049530732924645\n",
      "Perc di S in test: 0.03013616882764607\n",
      "Perc di V in test: 0.06491075787988933\n",
      "Total:  36866\n"
     ]
    }
   ],
   "source": [
    "N_train = (y_train == 0).sum() \n",
    "S_train = (y_train == 1).sum() \n",
    "V_train = (y_train == 2).sum() \n",
    "\n",
    "N_test = (y_test == 0).sum() \n",
    "S_test = (y_test == 1).sum() \n",
    "V_test = (y_test == 2).sum() \n",
    "\n",
    "N_perc = N_train/(N_train+S_train+V_train)\n",
    "S_perc = S_train/(N_train+S_train+V_train)\n",
    "V_perc = V_train/(N_train+S_train+V_train)\n",
    "print(f\"Perc di N in train: {N_perc}\")\n",
    "print(f\"Perc di S in train: {S_perc}\")\n",
    "print(f\"Perc di V in train: {V_perc}\")\n",
    "print(\"Total: \",N_train+V_train+S_train)\n",
    "\n",
    "N_perc = N_test/(N_test+S_test+V_test)\n",
    "S_perc = S_test/(N_test+S_test+V_test)\n",
    "V_perc = V_test/(N_test+S_test+V_test)\n",
    "print(f\"Perc di N in test: {N_perc}\")\n",
    "print(f\"Perc di S in test: {S_perc}\")\n",
    "print(f\"Perc di V in test: {V_perc}\")\n",
    "print(\"Total: \",N_test+V_test+S_test)"
   ],
   "metadata": {
    "collapsed": false,
    "ExecuteTime": {
     "end_time": "2024-01-29T09:42:38.033327800Z",
     "start_time": "2024-01-29T09:42:37.915915200Z"
    }
   },
   "id": "66f8c5b79913cfac"
  },
  {
   "cell_type": "markdown",
   "source": [
    "# Outliers removal"
   ],
   "metadata": {
    "collapsed": false
   },
   "id": "ed7074ec3edaf5b3"
  },
  {
   "cell_type": "code",
   "execution_count": 13,
   "outputs": [
    {
     "name": "stdout",
     "output_type": "stream",
     "text": [
      "Missing values before outlier removal: 0\n",
      "Outliers detected (train): 23320\n",
      "Missing values after outlier removal (train): 23320\n"
     ]
    }
   ],
   "source": [
    "from scipy.stats import zscore\n",
    "from sklearn.preprocessing import StandardScaler\n",
    "import numpy as np\n",
    "\n",
    "X_train_rem = X_train.copy()\n",
    "\n",
    "feature_list = X_train_rem.columns\n",
    "print('Missing values before outlier removal: ' + str(X_train_rem.isnull().sum().sum()))\n",
    "\n",
    "# apply zscore\n",
    "scaler = StandardScaler().fit(X_train_rem)\n",
    "zscore_features = scaler.transform(X_train_rem)\n",
    "\n",
    "# select all those values with zscore > -+ 3  as outliers\n",
    "abs_zscores = np.abs(zscore_features)\n",
    "\n",
    "outliers_detected = abs_zscores > 3\n",
    "print('Outliers detected (train): ' + str(np.sum(np.sum(outliers_detected))))\n",
    "\n",
    "# set outliers as missing values\n",
    "X_train_rem[outliers_detected] = np.nan\n",
    "\n",
    "print('Missing values after outlier removal (train): ' + str(X_train_rem.isnull().sum().sum()))"
   ],
   "metadata": {
    "collapsed": false,
    "ExecuteTime": {
     "end_time": "2024-01-26T10:14:37.677807Z",
     "start_time": "2024-01-26T10:14:37.480572500Z"
    }
   },
   "id": "e1d4e5a6663030e9"
  },
  {
   "cell_type": "code",
   "execution_count": 14,
   "outputs": [
    {
     "name": "stdout",
     "output_type": "stream",
     "text": [
      "11956\n",
      "1137\n",
      "570\n"
     ]
    }
   ],
   "source": [
    "df=pd.concat([X_train_rem,y_train],axis=1)\n",
    "df2=df[df.isna().any(axis=1)]\n",
    "\n",
    "N_train = (df2['annotation'] == 0).sum() \n",
    "S_train = (df2['annotation'] == 1).sum() \n",
    "V_train = (df2['annotation'] == 2).sum() \n",
    "print(N_train)\n",
    "print(S_train)\n",
    "print(V_train)"
   ],
   "metadata": {
    "collapsed": false,
    "ExecuteTime": {
     "end_time": "2024-01-26T10:14:37.754133100Z",
     "start_time": "2024-01-26T10:14:37.677807Z"
    }
   },
   "id": "7cf8cb7a2aaa7c9f"
  },
  {
   "cell_type": "code",
   "execution_count": 15,
   "outputs": [
    {
     "name": "stdout",
     "output_type": "stream",
     "text": [
      "Missing values (train): 0\n"
     ]
    }
   ],
   "source": [
    "df = df.dropna(axis=0)\n",
    "print('Missing values (train): ' + str(df.isnull().sum().sum()))"
   ],
   "metadata": {
    "collapsed": false,
    "ExecuteTime": {
     "end_time": "2024-01-26T10:14:37.864943700Z",
     "start_time": "2024-01-26T10:14:37.724217600Z"
    }
   },
   "id": "41b2a36dbcf117ab"
  },
  {
   "cell_type": "code",
   "execution_count": 16,
   "outputs": [],
   "source": [
    "X_train_rem = df.drop('annotation', axis=1)\n",
    "y_train_rem = df['annotation']"
   ],
   "metadata": {
    "collapsed": false,
    "ExecuteTime": {
     "end_time": "2024-01-26T10:14:37.940544800Z",
     "start_time": "2024-01-26T10:14:37.772499100Z"
    }
   },
   "id": "ee3d87f72cddba10"
  },
  {
   "cell_type": "code",
   "execution_count": 17,
   "outputs": [
    {
     "name": "stdout",
     "output_type": "stream",
     "text": [
      "Perc di N in train: 0.9295041275539493\n",
      "Perc di S in train: 0.04446923941429969\n",
      "Perc di V in train: 0.026026633031751036\n",
      "Total:  123681\n"
     ]
    }
   ],
   "source": [
    "N_train = (y_train_rem == 0).sum() \n",
    "S_train = (y_train_rem == 1).sum() \n",
    "V_train = (y_train_rem == 2).sum() \n",
    "\n",
    "N_perc = N_train/(N_train+S_train+V_train)\n",
    "S_perc = S_train/(N_train+S_train+V_train)\n",
    "V_perc = V_train/(N_train+S_train+V_train)\n",
    "print(f\"Perc di N in train: {N_perc}\")\n",
    "print(f\"Perc di S in train: {S_perc}\")\n",
    "print(f\"Perc di V in train: {V_perc}\")\n",
    "print(\"Total: \",N_train+V_train+S_train)"
   ],
   "metadata": {
    "collapsed": false,
    "ExecuteTime": {
     "end_time": "2024-01-26T10:14:37.942261700Z",
     "start_time": "2024-01-26T10:14:37.809674900Z"
    }
   },
   "id": "68d3d9aacdd175a4"
  },
  {
   "cell_type": "code",
   "execution_count": 18,
   "outputs": [],
   "source": [
    "one_hot_encoded_df_rem = pd.get_dummies(y_train_rem, columns=['annotation'])\n",
    "\n",
    "one_hot_encoded_array_train_rem = one_hot_encoded_df_rem.values"
   ],
   "metadata": {
    "collapsed": false,
    "ExecuteTime": {
     "end_time": "2024-01-26T10:14:37.942261700Z",
     "start_time": "2024-01-26T10:14:37.833296400Z"
    }
   },
   "id": "9162bead95c643a8"
  },
  {
   "cell_type": "code",
   "execution_count": 19,
   "outputs": [
    {
     "name": "stdout",
     "output_type": "stream",
     "text": [
      "Outliers detected (validation): 3820\n",
      "Missing values after outlier removal (validation): 3820\n"
     ]
    }
   ],
   "source": [
    "X_test_rem = X_test.copy()\n",
    "zscore_features = scaler.transform(X_test_rem)\n",
    "abs_zscores = np.abs(zscore_features)\n",
    "outliers_detected = abs_zscores > 3\n",
    "print('Outliers detected (validation): ' + str(np.sum(np.sum(outliers_detected))))\n",
    "\n",
    "\n",
    "X_test_rem[outliers_detected] = np.nan\n",
    "\n",
    "print('Missing values after outlier removal (validation): ' + str(X_test_rem.isnull().sum().sum()))"
   ],
   "metadata": {
    "collapsed": false,
    "ExecuteTime": {
     "end_time": "2024-01-26T10:14:38.132052900Z",
     "start_time": "2024-01-26T10:14:37.864943700Z"
    }
   },
   "id": "bdfb245d225d9aae"
  },
  {
   "cell_type": "code",
   "execution_count": 20,
   "outputs": [
    {
     "name": "stdout",
     "output_type": "stream",
     "text": [
      "2066\n",
      "53\n",
      "182\n"
     ]
    }
   ],
   "source": [
    "df=pd.concat([X_test_rem,y_test],axis=1)\n",
    "df2=df[df.isna().any(axis=1)]\n",
    "\n",
    "N_train = (df2['annotation'] == 0).sum() \n",
    "S_train = (df2['annotation'] == 1).sum() \n",
    "V_train = (df2['annotation'] == 2).sum() \n",
    "print(N_train)\n",
    "print(S_train)\n",
    "print(V_train)"
   ],
   "metadata": {
    "collapsed": false,
    "ExecuteTime": {
     "end_time": "2024-01-26T10:14:38.175553900Z",
     "start_time": "2024-01-26T10:14:37.917753200Z"
    }
   },
   "id": "5814e64774788983"
  },
  {
   "cell_type": "code",
   "execution_count": 21,
   "outputs": [
    {
     "name": "stdout",
     "output_type": "stream",
     "text": [
      "Missing values (test): 0\n"
     ]
    }
   ],
   "source": [
    "df = df.dropna(axis=0)\n",
    "print('Missing values (test): ' + str(df.isnull().sum().sum()))"
   ],
   "metadata": {
    "collapsed": false,
    "ExecuteTime": {
     "end_time": "2024-01-26T10:14:38.194749900Z",
     "start_time": "2024-01-26T10:14:37.957654400Z"
    }
   },
   "id": "4f46c2eb36a28fd8"
  },
  {
   "cell_type": "code",
   "execution_count": 22,
   "outputs": [],
   "source": [
    "X_test_rem = df.drop('annotation', axis=1)\n",
    "y_test_rem = df['annotation']"
   ],
   "metadata": {
    "collapsed": false,
    "ExecuteTime": {
     "end_time": "2024-01-26T10:14:38.194749900Z",
     "start_time": "2024-01-26T10:14:37.980214100Z"
    }
   },
   "id": "d6927df361949470"
  },
  {
   "cell_type": "code",
   "execution_count": 23,
   "outputs": [
    {
     "name": "stdout",
     "output_type": "stream",
     "text": [
      "Perc di S in test: 0.9054245624186316\n",
      "Perc di S in test: 0.030608997540865036\n",
      "Perc di S in test: 0.0639664400405034\n",
      "Total:  34565\n"
     ]
    }
   ],
   "source": [
    "N_test = (y_test_rem == 0).sum() \n",
    "S_test = (y_test_rem == 1).sum() \n",
    "V_test = (y_test_rem == 2).sum() \n",
    "\n",
    "N_perc = N_test/(N_test+S_test+V_test)\n",
    "S_perc = S_test/(N_test+S_test+V_test)\n",
    "V_perc = V_test/(N_test+S_test+V_test)\n",
    "print(f\"Perc di S in test: {N_perc}\")\n",
    "print(f\"Perc di S in test: {S_perc}\")\n",
    "print(f\"Perc di S in test: {V_perc}\")\n",
    "print(\"Total: \",N_test+V_test+S_test)"
   ],
   "metadata": {
    "collapsed": false,
    "ExecuteTime": {
     "end_time": "2024-01-26T10:14:38.194749900Z",
     "start_time": "2024-01-26T10:14:38.005187100Z"
    }
   },
   "id": "6c55d989fd3c4bac"
  },
  {
   "cell_type": "code",
   "execution_count": 24,
   "outputs": [],
   "source": [
    "one_hot_encoded_df_test_rem = pd.get_dummies(y_test_rem, columns=['annotation'])\n",
    "\n",
    "one_hot_encoded_array_test_rem = one_hot_encoded_df_test_rem.values"
   ],
   "metadata": {
    "collapsed": false,
    "ExecuteTime": {
     "end_time": "2024-01-26T10:14:38.194749900Z",
     "start_time": "2024-01-26T10:14:38.021658800Z"
    }
   },
   "id": "163c2c61bb8b52fd"
  },
  {
   "cell_type": "markdown",
   "source": [
    "# Useful functions"
   ],
   "metadata": {
    "collapsed": false
   },
   "id": "f7728cb324e43c7a"
  },
  {
   "cell_type": "code",
   "execution_count": 25,
   "outputs": [],
   "source": [
    "# produce a normalized convulational matrix\n",
    "def show_confusion_matrix(y_predi, model_name_pred):\n",
    "\n",
    "    predicted_class = np.argmax(y_predi, axis=-1)\n",
    "    test_classes = np.argmax(one_hot_encoded_array_test, axis=-1)\n",
    "    cm = confusion_matrix(test_classes, predicted_class)\n",
    "    classes_name = ['N', 'S', 'V']\n",
    "    \n",
    "    \n",
    "    #Normalized cm\n",
    "    \n",
    "    cm = cm.astype('float') / cm.sum(axis=1)[:, np.newaxis]\n",
    "    plt.figure(figsize=(10, 8))\n",
    "    sns.heatmap(cm, xticklabels=list(classes_name), yticklabels=list(classes_name), cmap=\"Greens\", annot=True, fmt='.2f')\n",
    "    plt.ylabel('Actual labels')\n",
    "    plt.xlabel('Predicted labels')\n",
    "    plt.title(model_name_pred)\n",
    "    plt.show()"
   ],
   "metadata": {
    "collapsed": false,
    "ExecuteTime": {
     "end_time": "2024-01-26T10:14:38.194749900Z",
     "start_time": "2024-01-26T10:14:38.033801100Z"
    }
   },
   "id": "bc0b27b6d783191a"
  },
  {
   "cell_type": "code",
   "outputs": [],
   "source": [
    "def downsample_majority_class(df, class_column):\n",
    "    \n",
    "    # Calculate the class counts\n",
    "    class_counts = df[class_column].value_counts()\n",
    "    \n",
    "    print(class_counts)\n",
    "\n",
    "    # Find the maximum value among the two least represented classes\n",
    "    min_class_size = class_counts.nsmallest(2).min()\n",
    "\n",
    "    subsampled_df = pd.DataFrame()\n",
    "\n",
    "    for class_label in class_counts.index:\n",
    "        class_subset = df[df[class_column] == class_label]\n",
    "\n",
    "        # Downsample if this is the majority class\n",
    "        if class_counts[class_label] > min_class_size:\n",
    "            class_subset = class_subset.sample(n=min_class_size, random_state=42)\n",
    "        \n",
    "        subsampled_df = pd.concat([subsampled_df, class_subset], ignore_index=True)\n",
    "        \n",
    "    class_counts_sub = subsampled_df[class_column].value_counts()\n",
    "    print(class_counts_sub)\n",
    "\n",
    "    return subsampled_df"
   ],
   "metadata": {
    "collapsed": false,
    "ExecuteTime": {
     "end_time": "2024-01-26T10:14:38.194749900Z",
     "start_time": "2024-01-26T10:14:38.054654800Z"
    }
   },
   "id": "bdd7cd96ae69c700",
   "execution_count": 26
  },
  {
   "cell_type": "code",
   "execution_count": 27,
   "outputs": [],
   "source": [
    "from sklearn.metrics import balanced_accuracy_score\n",
    "from sklearn.metrics import accuracy_score\n",
    "from sklearn.metrics import f1_score\n",
    "from sklearn.metrics import precision_score\n",
    "from sklearn.metrics import recall_score\n",
    "\n",
    "def compute_metrics (y_predi):\n",
    "    predicted_class = np.argmax(y_predi, axis=-1)\n",
    "    test_classes = np.argmax(one_hot_encoded_array_test, axis=-1)\n",
    "    print(\"Balanced accuracy score: \", balanced_accuracy_score(test_classes, predicted_class))\n",
    "    print(\"Accuracy score: \", accuracy_score(test_classes, predicted_class))\n",
    "    print(\"F1 score: \", f1_score(test_classes, predicted_class,average='macro'))\n",
    "    print(\"Precision score: \", precision_score(test_classes, predicted_class,average='macro'))\n",
    "    print(\"Recall score: \", recall_score(test_classes, predicted_class,average='macro'))\n",
    "    "
   ],
   "metadata": {
    "collapsed": false,
    "ExecuteTime": {
     "end_time": "2024-01-26T10:14:38.194749900Z",
     "start_time": "2024-01-26T10:14:38.068242500Z"
    }
   },
   "id": "6ce22ccfa4d30b69"
  },
  {
   "cell_type": "code",
   "execution_count": 28,
   "outputs": [],
   "source": [
    "from sklearn.model_selection import GridSearchCV\n",
    "def hyperp_search(classifier, parameters):\n",
    "    gs = GridSearchCV(classifier, parameters, cv=10, scoring = 'balanced_accuracy', verbose=0, n_jobs=-1)\n",
    "    gs = gs.fit(X_train, y_train)\n",
    "    print(\"Balanced accuracy: %f using %s\" % (gs.best_score_, gs.best_params_))"
   ],
   "metadata": {
    "collapsed": false,
    "ExecuteTime": {
     "end_time": "2024-01-26T10:14:38.211727100Z",
     "start_time": "2024-01-26T10:14:38.097616300Z"
    }
   },
   "id": "fc012d6fa4da69e4"
  },
  {
   "cell_type": "code",
   "execution_count": 29,
   "outputs": [],
   "source": [
    "def hyperp_search_d(classifier, parameters):\n",
    "    gs = GridSearchCV(classifier, parameters, cv=10, scoring = 'balanced_accuracy', verbose=0, n_jobs=-1)\n",
    "    gs = gs.fit(X_train_d, y_train_d)\n",
    "    print(\"Balanced accuracy: %f using %s\" % (gs.best_score_, gs.best_params_))"
   ],
   "metadata": {
    "collapsed": false,
    "ExecuteTime": {
     "end_time": "2024-01-26T10:14:38.223506400Z",
     "start_time": "2024-01-26T10:14:38.112862600Z"
    }
   },
   "id": "755d12fe15e649b9"
  },
  {
   "cell_type": "markdown",
   "source": [
    "# Class weights"
   ],
   "metadata": {
    "collapsed": false
   },
   "id": "9b44207f26035524"
  },
  {
   "cell_type": "code",
   "execution_count": 30,
   "outputs": [
    {
     "name": "stdout",
     "output_type": "stream",
     "text": [
      "{0: 0.07, 1: 0.96, 2: 0.97}\n"
     ]
    }
   ],
   "source": [
    "nN = np.count_nonzero(y_train_rem == 0)\n",
    "nV = np.count_nonzero(y_train_rem == 1)\n",
    "nS = np.count_nonzero(y_train_rem == 2)\n",
    "\n",
    "class_sum = nN+nV+nS\n",
    "wN = round(1-(nN/class_sum),2)\n",
    "wV = round(1-(nV/class_sum),2)  \n",
    "wS = round(1-(nS/class_sum),2)\n",
    "\n",
    "class_freq_rem = {0: wN, 1: wV, 2: wS}\n",
    "\n",
    "print(class_freq_rem)"
   ],
   "metadata": {
    "collapsed": false,
    "ExecuteTime": {
     "end_time": "2024-01-26T10:14:38.223506400Z",
     "start_time": "2024-01-26T10:14:38.119750500Z"
    }
   },
   "id": "bac49e05609eb6dd"
  },
  {
   "cell_type": "code",
   "execution_count": 31,
   "outputs": [
    {
     "data": {
      "text/plain": "{0: 0.3586141507628608, 1: 7.495818181818182, 2: 12.807393600497049}"
     },
     "execution_count": 31,
     "metadata": {},
     "output_type": "execute_result"
    }
   ],
   "source": [
    "from sklearn.utils.class_weight import compute_class_weight\n",
    "weights = compute_class_weight(class_weight='balanced', classes=[0.,1.,2.], y=y_train_rem)\n",
    "\n",
    "keys = np.arange(0,3,1)\n",
    "class_weights_rem = dict(zip(keys, weights))\n",
    "class_weights_rem"
   ],
   "metadata": {
    "collapsed": false,
    "ExecuteTime": {
     "end_time": "2024-01-26T10:14:38.226017400Z",
     "start_time": "2024-01-26T10:14:38.132052900Z"
    }
   },
   "id": "dde54de4292a5689"
  },
  {
   "cell_type": "markdown",
   "source": [
    "# Feature selection"
   ],
   "metadata": {
    "collapsed": false
   },
   "id": "62c95fc576406768"
  },
  {
   "cell_type": "code",
   "execution_count": 32,
   "outputs": [
    {
     "data": {
      "text/plain": "<Figure size 1000x800 with 2 Axes>",
      "image/png": "[encoded data removed]"
     },
     "metadata": {},
     "output_type": "display_data"
    }
   ],
   "source": [
    "\n",
    "cor_matrix = X_train_rem.corr().abs()\n",
    "feature_list = X_train_rem.columns\n",
    "f = plt.figure(figsize=(10, 8))\n",
    "plt.matshow(cor_matrix, fignum=f.number)\n",
    "plt.xticks(range(len(feature_list)), feature_list, fontsize=10, rotation=90)\n",
    "plt.yticks(range(len(feature_list)), feature_list, fontsize=10)\n",
    "cb = plt.colorbar()\n",
    "cb.ax.tick_params(labelsize=14)\n"
   ],
   "metadata": {
    "collapsed": false,
    "ExecuteTime": {
     "end_time": "2024-01-26T10:14:40.105835800Z",
     "start_time": "2024-01-26T10:14:38.175553900Z"
    }
   },
   "id": "6916c02d1187a915"
  },
  {
   "cell_type": "code",
   "execution_count": 33,
   "outputs": [
    {
     "name": "stdout",
     "output_type": "stream",
     "text": [
      "Deleted features: {'d2', 'T1', 'adn'}\n"
     ]
    },
    {
     "name": "stderr",
     "output_type": "stream",
     "text": [
      "C:\\Users\\user\\AppData\\Local\\Temp\\ipykernel_25736\\1716762707.py:8: FutureWarning: Series.__getitem__ treating keys as positions is deprecated. In a future version, integer keys will always be treated as labels (consistent with DataFrame behavior). To access a value by position, use `ser.iloc[pos]`\n",
      "  if median_corr[i] < median_corr[j]:\n"
     ]
    }
   ],
   "source": [
    "\n",
    "correlated_features = set()\n",
    "correlation_matrix = X_train_rem.corr()\n",
    "median_corr = (correlation_matrix.abs()).median(axis=0)\n",
    "\n",
    "for i in range(len(correlation_matrix .columns)):\n",
    "    for j in range(i):\n",
    "        if abs(correlation_matrix.iloc[i, j]) > 0.7:\n",
    "            if median_corr[i] < median_corr[j]:\n",
    "                colname = correlation_matrix.columns[i]\n",
    "            else:\n",
    "                colname = correlation_matrix.columns[j]\n",
    "            correlated_features.add(colname)\n",
    "X_train_rem.drop(labels=correlated_features, axis=1, inplace=True)\n",
    "# see how it drops correlated / drop the one that had a lower correlation w.r to the other feat\n",
    "print('Deleted features: ' + str(correlated_features))\n"
   ],
   "metadata": {
    "collapsed": false,
    "ExecuteTime": {
     "end_time": "2024-01-26T10:14:40.309720200Z",
     "start_time": "2024-01-26T10:14:40.117839500Z"
    }
   },
   "id": "831ae0fade003ad5"
  },
  {
   "cell_type": "code",
   "execution_count": 34,
   "outputs": [
    {
     "data": {
      "text/plain": "<Figure size 1000x800 with 2 Axes>",
      "image/png": "[encoded data removed]"
     },
     "metadata": {},
     "output_type": "display_data"
    }
   ],
   "source": [
    "\n",
    "cor_matrix = X_train_rem.corr().abs()\n",
    "feature_list = list(X_train_rem.columns)\n",
    "f = plt.figure(figsize=(10, 8))\n",
    "plt.matshow(cor_matrix, fignum=f.number)\n",
    "plt.xticks(range(len(feature_list)), feature_list, fontsize=10, rotation=90)\n",
    "plt.yticks(range(len(feature_list)), feature_list, fontsize=10)\n",
    "cb = plt.colorbar()\n",
    "cb.ax.tick_params(labelsize=14)\n"
   ],
   "metadata": {
    "collapsed": false,
    "ExecuteTime": {
     "end_time": "2024-01-26T10:14:40.999148500Z",
     "start_time": "2024-01-26T10:14:40.279511600Z"
    }
   },
   "id": "c49c64e6393595e6"
  },
  {
   "cell_type": "code",
   "execution_count": 35,
   "outputs": [
    {
     "data": {
      "text/plain": "            asp       adp        rp        d1        rd        rn        T2  \\\n7      0.167071  0.722429  0.881493  0.113784  0.077512  0.791480  0.119718   \n8      0.163834  0.722429  0.881392  0.112276  0.077539  0.791525  0.119718   \n9      0.164541  0.720765  0.881352  0.115078  0.077468  0.791280  0.140845   \n10     0.162140  0.723079  0.881361  0.115887  0.077412  0.791119  0.140845   \n11     0.161144  0.720975  0.881243  0.115638  0.077427  0.791107  0.140845   \n...         ...       ...       ...       ...       ...       ...       ...   \n36855  0.423386  0.688054  0.593188  0.365005  0.172871  0.811847  0.296296   \n36856  0.411826  0.690599  0.593082  0.470037  0.187856  0.807681  0.248677   \n36857  0.449836  0.744941  0.594719  0.351952  0.172973  0.812554  0.201058   \n36859  0.464852  0.612352  0.592158  0.339432  0.173787  0.813046  0.275132   \n36863  0.482223  0.662909  0.593357  0.347058  0.173606  0.812919  0.365079   \n\n             TP        ST  pi2pi_pr  pi2pi_po  area_peak  \n7      0.439024  0.321839  0.109312  0.051724   0.000000  \n8      0.658537  0.362319  0.109312  0.051724   0.009166  \n9      0.658537  0.362319  0.109312  0.051724   0.009406  \n10     0.658537  0.362319  0.109312  0.050287   0.008756  \n11     0.658537  0.362319  0.107962  0.050287   0.008581  \n...         ...       ...       ...       ...        ...  \n36855  0.766304  0.596913  0.146728  0.251201   0.089873  \n36856  0.728261  0.615385  0.278916  0.104324   0.031890  \n36857  0.760870  0.598930  0.137475  0.124914   0.090600  \n36859  0.823370  0.582310  0.164574  0.096774   0.082554  \n36863  0.714674  0.625668  0.281560  0.251201   0.167163  \n\n[34565 rows x 12 columns]",
      "text/html": "<div>\n<style scoped>\n    .dataframe tbody tr th:only-of-type {\n        vertical-align: middle;\n    }\n\n    .dataframe tbody tr th {\n        vertical-align: top;\n    }\n\n    .dataframe thead th {\n        text-align: right;\n    }\n</style>\n<table border=\"1\" class=\"dataframe\">\n  <thead>\n    <tr style=\"text-align: right;\">\n      <th></th>\n      <th>asp</th>\n      <th>adp</th>\n      <th>rp</th>\n      <th>d1</th>\n      <th>rd</th>\n      <th>rn</th>\n      <th>T2</th>\n      <th>TP</th>\n      <th>ST</th>\n      <th>pi2pi_pr</th>\n      <th>pi2pi_po</th>\n      <th>area_peak</th>\n    </tr>\n  </thead>\n  <tbody>\n    <tr>\n      <th>7</th>\n      <td>0.167071</td>\n      <td>0.722429</td>\n      <td>0.881493</td>\n      <td>0.113784</td>\n      <td>0.077512</td>\n      <td>0.791480</td>\n      <td>0.119718</td>\n      <td>0.439024</td>\n      <td>0.321839</td>\n      <td>0.109312</td>\n      <td>0.051724</td>\n      <td>0.000000</td>\n    </tr>\n    <tr>\n      <th>8</th>\n      <td>0.163834</td>\n      <td>0.722429</td>\n      <td>0.881392</td>\n      <td>0.112276</td>\n      <td>0.077539</td>\n      <td>0.791525</td>\n      <td>0.119718</td>\n      <td>0.658537</td>\n      <td>0.362319</td>\n      <td>0.109312</td>\n      <td>0.051724</td>\n      <td>0.009166</td>\n    </tr>\n    <tr>\n      <th>9</th>\n      <td>0.164541</td>\n      <td>0.720765</td>\n      <td>0.881352</td>\n      <td>0.115078</td>\n      <td>0.077468</td>\n      <td>0.791280</td>\n      <td>0.140845</td>\n      <td>0.658537</td>\n      <td>0.362319</td>\n      <td>0.109312</td>\n      <td>0.051724</td>\n      <td>0.009406</td>\n    </tr>\n    <tr>\n      <th>10</th>\n      <td>0.162140</td>\n      <td>0.723079</td>\n      <td>0.881361</td>\n      <td>0.115887</td>\n      <td>0.077412</td>\n      <td>0.791119</td>\n      <td>0.140845</td>\n      <td>0.658537</td>\n      <td>0.362319</td>\n      <td>0.109312</td>\n      <td>0.050287</td>\n      <td>0.008756</td>\n    </tr>\n    <tr>\n      <th>11</th>\n      <td>0.161144</td>\n      <td>0.720975</td>\n      <td>0.881243</td>\n      <td>0.115638</td>\n      <td>0.077427</td>\n      <td>0.791107</td>\n      <td>0.140845</td>\n      <td>0.658537</td>\n      <td>0.362319</td>\n      <td>0.107962</td>\n      <td>0.050287</td>\n      <td>0.008581</td>\n    </tr>\n    <tr>\n      <th>...</th>\n      <td>...</td>\n      <td>...</td>\n      <td>...</td>\n      <td>...</td>\n      <td>...</td>\n      <td>...</td>\n      <td>...</td>\n      <td>...</td>\n      <td>...</td>\n      <td>...</td>\n      <td>...</td>\n      <td>...</td>\n    </tr>\n    <tr>\n      <th>36855</th>\n      <td>0.423386</td>\n      <td>0.688054</td>\n      <td>0.593188</td>\n      <td>0.365005</td>\n      <td>0.172871</td>\n      <td>0.811847</td>\n      <td>0.296296</td>\n      <td>0.766304</td>\n      <td>0.596913</td>\n      <td>0.146728</td>\n      <td>0.251201</td>\n      <td>0.089873</td>\n    </tr>\n    <tr>\n      <th>36856</th>\n      <td>0.411826</td>\n      <td>0.690599</td>\n      <td>0.593082</td>\n      <td>0.470037</td>\n      <td>0.187856</td>\n      <td>0.807681</td>\n      <td>0.248677</td>\n      <td>0.728261</td>\n      <td>0.615385</td>\n      <td>0.278916</td>\n      <td>0.104324</td>\n      <td>0.031890</td>\n    </tr>\n    <tr>\n      <th>36857</th>\n      <td>0.449836</td>\n      <td>0.744941</td>\n      <td>0.594719</td>\n      <td>0.351952</td>\n      <td>0.172973</td>\n      <td>0.812554</td>\n      <td>0.201058</td>\n      <td>0.760870</td>\n      <td>0.598930</td>\n      <td>0.137475</td>\n      <td>0.124914</td>\n      <td>0.090600</td>\n    </tr>\n    <tr>\n      <th>36859</th>\n      <td>0.464852</td>\n      <td>0.612352</td>\n      <td>0.592158</td>\n      <td>0.339432</td>\n      <td>0.173787</td>\n      <td>0.813046</td>\n      <td>0.275132</td>\n      <td>0.823370</td>\n      <td>0.582310</td>\n      <td>0.164574</td>\n      <td>0.096774</td>\n      <td>0.082554</td>\n    </tr>\n    <tr>\n      <th>36863</th>\n      <td>0.482223</td>\n      <td>0.662909</td>\n      <td>0.593357</td>\n      <td>0.347058</td>\n      <td>0.173606</td>\n      <td>0.812919</td>\n      <td>0.365079</td>\n      <td>0.714674</td>\n      <td>0.625668</td>\n      <td>0.281560</td>\n      <td>0.251201</td>\n      <td>0.167163</td>\n    </tr>\n  </tbody>\n</table>\n<p>34565 rows × 12 columns</p>\n</div>"
     },
     "execution_count": 35,
     "metadata": {},
     "output_type": "execute_result"
    }
   ],
   "source": [
    "\n",
    "X_test_rem = X_test_rem[feature_list]\n",
    "X_test_rem\n"
   ],
   "metadata": {
    "collapsed": false,
    "ExecuteTime": {
     "end_time": "2024-01-26T10:14:41.169628800Z",
     "start_time": "2024-01-26T10:14:40.999148500Z"
    }
   },
   "id": "2bbc9ef63e2fa620"
  },
  {
   "cell_type": "markdown",
   "source": [
    "# PCA"
   ],
   "metadata": {
    "collapsed": false
   },
   "id": "41c7e35f5f8f243"
  },
  {
   "cell_type": "code",
   "execution_count": 36,
   "outputs": [
    {
     "name": "stdout",
     "output_type": "stream",
     "text": [
      "(137344, 7)\n",
      "(36866, 7)\n"
     ]
    }
   ],
   "source": [
    "from sklearn.decomposition import PCA\n",
    "varianceThreshold = 0.9\n",
    "pca_features = PCA(n_components = varianceThreshold) # dimensionality reduction\n",
    "pca_features.fit(X_train)\n",
    "\n",
    "X_train_pca = pca_features.transform(X_train)\n",
    "print(np.shape(X_train_pca))\n",
    "\n",
    "X_test_pca = pca_features.transform(X_test)\n",
    "print(np.shape(X_test_pca))"
   ],
   "metadata": {
    "collapsed": false,
    "ExecuteTime": {
     "end_time": "2024-01-26T10:14:41.346093100Z",
     "start_time": "2024-01-26T10:14:41.030238900Z"
    }
   },
   "id": "8612679fc7597a42"
  },
  {
   "cell_type": "markdown",
   "source": [
    "# Downsampled sets"
   ],
   "metadata": {
    "collapsed": false
   },
   "id": "71201954ade4a032"
  },
  {
   "cell_type": "code",
   "execution_count": 37,
   "outputs": [
    {
     "data": {
      "text/plain": "             asp       adp       adn        rp        d1        d2        rd  \\\n0       0.055880  0.801983  0.799544  0.681870  0.070597  0.433180  0.458742   \n1       0.057403  0.803716  0.801356  0.682360  0.070312  0.432627  0.458752   \n2       0.057984  0.802885  0.800347  0.682358  0.071546  0.432986  0.458729   \n3       0.057484  0.803932  0.800936  0.682399  0.070705  0.432987  0.458743   \n4       0.057938  0.802728  0.801323  0.682332  0.070741  0.432279  0.458749   \n...          ...       ...       ...       ...       ...       ...       ...   \n137339  0.049199  0.836044  0.187404  0.199390  0.808075  1.000000  0.572823   \n137340  0.046219  0.836044  0.187404  0.199143  0.806709  1.000000  0.572820   \n137341  0.036760  0.836044  0.187404  0.197617  0.802374  1.000000  0.572812   \n137342  0.266708  0.836044  0.187404  0.201062  0.907759  1.000000  0.573021   \n137343  0.490775  0.833726  1.000000  0.201147  0.170832  0.251213  0.571975   \n\n              rn        T1        T2        TP        ST  pi2pi_pr  pi2pi_po  \\\n0       0.485321  0.018545  0.212121  0.941617  0.775000  0.000000  0.065539   \n1       0.485533  0.017118  0.202020  0.941617  0.775000  0.102538  0.067653   \n2       0.485352  0.019971  0.232323  0.943114  0.772414  0.104569  0.065539   \n3       0.485465  0.018545  0.212121  0.941617  0.775000  0.102538  0.068710   \n4       0.485501  0.018545  0.222222  0.943114  0.772414  0.105584  0.064482   \n...          ...       ...       ...       ...       ...       ...       ...   \n137339  0.890823  0.377079  1.000000  0.665098  0.935655  0.019520  0.015022   \n137340  0.887826  0.292135  1.000000  0.745937  0.934561  0.019624  0.014918   \n137341  0.869294  0.207640  1.000000  0.826347  0.930344  0.019520  0.035990   \n137342  0.911134  0.032360  1.000000  0.993157  0.941120  0.040494  0.137492   \n137343  0.914177  0.036404  0.288194  0.901625  0.958333  0.141522  0.424995   \n\n        area_peak  annotation  \n0        0.003993           0  \n1        0.004384           0  \n2        0.004580           0  \n3        0.004438           0  \n4        0.004605           0  \n...           ...         ...  \n137339   0.000000           0  \n137340   0.000000           0  \n137341   0.000000           0  \n137342   0.282995           0  \n137343   0.000000           0  \n\n[137344 rows x 16 columns]",
      "text/html": "<div>\n<style scoped>\n    .dataframe tbody tr th:only-of-type {\n        vertical-align: middle;\n    }\n\n    .dataframe tbody tr th {\n        vertical-align: top;\n    }\n\n    .dataframe thead th {\n        text-align: right;\n    }\n</style>\n<table border=\"1\" class=\"dataframe\">\n  <thead>\n    <tr style=\"text-align: right;\">\n      <th></th>\n      <th>asp</th>\n      <th>adp</th>\n      <th>adn</th>\n      <th>rp</th>\n      <th>d1</th>\n      <th>d2</th>\n      <th>rd</th>\n      <th>rn</th>\n      <th>T1</th>\n      <th>T2</th>\n      <th>TP</th>\n      <th>ST</th>\n      <th>pi2pi_pr</th>\n      <th>pi2pi_po</th>\n      <th>area_peak</th>\n      <th>annotation</th>\n    </tr>\n  </thead>\n  <tbody>\n    <tr>\n      <th>0</th>\n      <td>0.055880</td>\n      <td>0.801983</td>\n      <td>0.799544</td>\n      <td>0.681870</td>\n      <td>0.070597</td>\n      <td>0.433180</td>\n      <td>0.458742</td>\n      <td>0.485321</td>\n      <td>0.018545</td>\n      <td>0.212121</td>\n      <td>0.941617</td>\n      <td>0.775000</td>\n      <td>0.000000</td>\n      <td>0.065539</td>\n      <td>0.003993</td>\n      <td>0</td>\n    </tr>\n    <tr>\n      <th>1</th>\n      <td>0.057403</td>\n      <td>0.803716</td>\n      <td>0.801356</td>\n      <td>0.682360</td>\n      <td>0.070312</td>\n      <td>0.432627</td>\n      <td>0.458752</td>\n      <td>0.485533</td>\n      <td>0.017118</td>\n      <td>0.202020</td>\n      <td>0.941617</td>\n      <td>0.775000</td>\n      <td>0.102538</td>\n      <td>0.067653</td>\n      <td>0.004384</td>\n      <td>0</td>\n    </tr>\n    <tr>\n      <th>2</th>\n      <td>0.057984</td>\n      <td>0.802885</td>\n      <td>0.800347</td>\n      <td>0.682358</td>\n      <td>0.071546</td>\n      <td>0.432986</td>\n      <td>0.458729</td>\n      <td>0.485352</td>\n      <td>0.019971</td>\n      <td>0.232323</td>\n      <td>0.943114</td>\n      <td>0.772414</td>\n      <td>0.104569</td>\n      <td>0.065539</td>\n      <td>0.004580</td>\n      <td>0</td>\n    </tr>\n    <tr>\n      <th>3</th>\n      <td>0.057484</td>\n      <td>0.803932</td>\n      <td>0.800936</td>\n      <td>0.682399</td>\n      <td>0.070705</td>\n      <td>0.432987</td>\n      <td>0.458743</td>\n      <td>0.485465</td>\n      <td>0.018545</td>\n      <td>0.212121</td>\n      <td>0.941617</td>\n      <td>0.775000</td>\n      <td>0.102538</td>\n      <td>0.068710</td>\n      <td>0.004438</td>\n      <td>0</td>\n    </tr>\n    <tr>\n      <th>4</th>\n      <td>0.057938</td>\n      <td>0.802728</td>\n      <td>0.801323</td>\n      <td>0.682332</td>\n      <td>0.070741</td>\n      <td>0.432279</td>\n      <td>0.458749</td>\n      <td>0.485501</td>\n      <td>0.018545</td>\n      <td>0.222222</td>\n      <td>0.943114</td>\n      <td>0.772414</td>\n      <td>0.105584</td>\n      <td>0.064482</td>\n      <td>0.004605</td>\n      <td>0</td>\n    </tr>\n    <tr>\n      <th>...</th>\n      <td>...</td>\n      <td>...</td>\n      <td>...</td>\n      <td>...</td>\n      <td>...</td>\n      <td>...</td>\n      <td>...</td>\n      <td>...</td>\n      <td>...</td>\n      <td>...</td>\n      <td>...</td>\n      <td>...</td>\n      <td>...</td>\n      <td>...</td>\n      <td>...</td>\n      <td>...</td>\n    </tr>\n    <tr>\n      <th>137339</th>\n      <td>0.049199</td>\n      <td>0.836044</td>\n      <td>0.187404</td>\n      <td>0.199390</td>\n      <td>0.808075</td>\n      <td>1.000000</td>\n      <td>0.572823</td>\n      <td>0.890823</td>\n      <td>0.377079</td>\n      <td>1.000000</td>\n      <td>0.665098</td>\n      <td>0.935655</td>\n      <td>0.019520</td>\n      <td>0.015022</td>\n      <td>0.000000</td>\n      <td>0</td>\n    </tr>\n    <tr>\n      <th>137340</th>\n      <td>0.046219</td>\n      <td>0.836044</td>\n      <td>0.187404</td>\n      <td>0.199143</td>\n      <td>0.806709</td>\n      <td>1.000000</td>\n      <td>0.572820</td>\n      <td>0.887826</td>\n      <td>0.292135</td>\n      <td>1.000000</td>\n      <td>0.745937</td>\n      <td>0.934561</td>\n      <td>0.019624</td>\n      <td>0.014918</td>\n      <td>0.000000</td>\n      <td>0</td>\n    </tr>\n    <tr>\n      <th>137341</th>\n      <td>0.036760</td>\n      <td>0.836044</td>\n      <td>0.187404</td>\n      <td>0.197617</td>\n      <td>0.802374</td>\n      <td>1.000000</td>\n      <td>0.572812</td>\n      <td>0.869294</td>\n      <td>0.207640</td>\n      <td>1.000000</td>\n      <td>0.826347</td>\n      <td>0.930344</td>\n      <td>0.019520</td>\n      <td>0.035990</td>\n      <td>0.000000</td>\n      <td>0</td>\n    </tr>\n    <tr>\n      <th>137342</th>\n      <td>0.266708</td>\n      <td>0.836044</td>\n      <td>0.187404</td>\n      <td>0.201062</td>\n      <td>0.907759</td>\n      <td>1.000000</td>\n      <td>0.573021</td>\n      <td>0.911134</td>\n      <td>0.032360</td>\n      <td>1.000000</td>\n      <td>0.993157</td>\n      <td>0.941120</td>\n      <td>0.040494</td>\n      <td>0.137492</td>\n      <td>0.282995</td>\n      <td>0</td>\n    </tr>\n    <tr>\n      <th>137343</th>\n      <td>0.490775</td>\n      <td>0.833726</td>\n      <td>1.000000</td>\n      <td>0.201147</td>\n      <td>0.170832</td>\n      <td>0.251213</td>\n      <td>0.571975</td>\n      <td>0.914177</td>\n      <td>0.036404</td>\n      <td>0.288194</td>\n      <td>0.901625</td>\n      <td>0.958333</td>\n      <td>0.141522</td>\n      <td>0.424995</td>\n      <td>0.000000</td>\n      <td>0</td>\n    </tr>\n  </tbody>\n</table>\n<p>137344 rows × 16 columns</p>\n</div>"
     },
     "execution_count": 37,
     "metadata": {},
     "output_type": "execute_result"
    }
   ],
   "source": [
    "train = pd.concat([X_train,y_train],axis=1)\n",
    "train"
   ],
   "metadata": {
    "collapsed": false,
    "ExecuteTime": {
     "end_time": "2024-01-26T10:14:41.450455800Z",
     "start_time": "2024-01-26T10:14:41.351359200Z"
    }
   },
   "id": "e772afe81b53e00f"
  },
  {
   "cell_type": "code",
   "execution_count": 38,
   "outputs": [
    {
     "name": "stdout",
     "output_type": "stream",
     "text": [
      "annotation\n",
      "0    126918\n",
      "1      6637\n",
      "2      3789\n",
      "Name: count, dtype: int64\n",
      "annotation\n",
      "0    3789\n",
      "1    3789\n",
      "2    3789\n",
      "Name: count, dtype: int64\n"
     ]
    }
   ],
   "source": [
    "train_df = downsample_majority_class(train,'annotation')\n",
    "\n",
    "# Creating training and testing sets\n",
    "X_train_d = train_df.drop(['annotation'], axis=1)\n",
    "y_train_d = train_df['annotation']"
   ],
   "metadata": {
    "collapsed": false,
    "ExecuteTime": {
     "end_time": "2024-01-26T10:14:41.453670Z",
     "start_time": "2024-01-26T10:14:41.390483200Z"
    }
   },
   "id": "4122d66a03a969dc"
  },
  {
   "cell_type": "code",
   "execution_count": 39,
   "outputs": [
    {
     "data": {
      "text/plain": "             asp       adp        rp        d1        rd        rn        T2  \\\n0       0.055880  0.801983  0.681870  0.070597  0.458742  0.485321  0.212121   \n1       0.057403  0.803716  0.682360  0.070312  0.458752  0.485533  0.202020   \n2       0.057984  0.802885  0.682358  0.071546  0.458729  0.485352  0.232323   \n3       0.057484  0.803932  0.682399  0.070705  0.458743  0.485465  0.212121   \n4       0.057938  0.802728  0.682332  0.070741  0.458749  0.485501  0.222222   \n...          ...       ...       ...       ...       ...       ...       ...   \n137334  0.053171  0.845806  0.200235  0.262828  0.569021  0.913441  0.277778   \n137335  0.031052  0.848027  0.197720  0.243748  0.571959  0.914476  0.076389   \n137336  0.039120  0.848027  0.199565  0.247445  0.571680  0.913978  0.076389   \n137337  0.048010  0.845696  0.200011  0.254489  0.571065  0.913682  0.142361   \n137338  0.034322  0.844277  0.198172  0.259261  0.565026  0.912798  0.434028   \n\n              TP        ST  pi2pi_pr  pi2pi_po  area_peak  annotation  \n0       0.941617  0.775000  0.000000  0.065539   0.003993           0  \n1       0.941617  0.775000  0.102538  0.067653   0.004384           0  \n2       0.943114  0.772414  0.104569  0.065539   0.004580           0  \n3       0.941617  0.775000  0.102538  0.068710   0.004438           0  \n4       0.943114  0.772414  0.105584  0.064482   0.004605           0  \n...          ...       ...       ...       ...        ...         ...  \n137334  0.910180  0.951923  0.023051  0.010119   0.001117           0  \n137335  0.818648  0.931208  0.014744  0.017004   0.000000           1  \n137336  0.907613  0.953390  0.021597  0.018882   0.000678           0  \n137337  0.903764  0.956250  0.023466  0.012936   0.001007           0  \n137338  0.899914  0.960366  0.017548  0.014918   0.001981           1  \n\n[123681 rows x 13 columns]",
      "text/html": "<div>\n<style scoped>\n    .dataframe tbody tr th:only-of-type {\n        vertical-align: middle;\n    }\n\n    .dataframe tbody tr th {\n        vertical-align: top;\n    }\n\n    .dataframe thead th {\n        text-align: right;\n    }\n</style>\n<table border=\"1\" class=\"dataframe\">\n  <thead>\n    <tr style=\"text-align: right;\">\n      <th></th>\n      <th>asp</th>\n      <th>adp</th>\n      <th>rp</th>\n      <th>d1</th>\n      <th>rd</th>\n      <th>rn</th>\n      <th>T2</th>\n      <th>TP</th>\n      <th>ST</th>\n      <th>pi2pi_pr</th>\n      <th>pi2pi_po</th>\n      <th>area_peak</th>\n      <th>annotation</th>\n    </tr>\n  </thead>\n  <tbody>\n    <tr>\n      <th>0</th>\n      <td>0.055880</td>\n      <td>0.801983</td>\n      <td>0.681870</td>\n      <td>0.070597</td>\n      <td>0.458742</td>\n      <td>0.485321</td>\n      <td>0.212121</td>\n      <td>0.941617</td>\n      <td>0.775000</td>\n      <td>0.000000</td>\n      <td>0.065539</td>\n      <td>0.003993</td>\n      <td>0</td>\n    </tr>\n    <tr>\n      <th>1</th>\n      <td>0.057403</td>\n      <td>0.803716</td>\n      <td>0.682360</td>\n      <td>0.070312</td>\n      <td>0.458752</td>\n      <td>0.485533</td>\n      <td>0.202020</td>\n      <td>0.941617</td>\n      <td>0.775000</td>\n      <td>0.102538</td>\n      <td>0.067653</td>\n      <td>0.004384</td>\n      <td>0</td>\n    </tr>\n    <tr>\n      <th>2</th>\n      <td>0.057984</td>\n      <td>0.802885</td>\n      <td>0.682358</td>\n      <td>0.071546</td>\n      <td>0.458729</td>\n      <td>0.485352</td>\n      <td>0.232323</td>\n      <td>0.943114</td>\n      <td>0.772414</td>\n      <td>0.104569</td>\n      <td>0.065539</td>\n      <td>0.004580</td>\n      <td>0</td>\n    </tr>\n    <tr>\n      <th>3</th>\n      <td>0.057484</td>\n      <td>0.803932</td>\n      <td>0.682399</td>\n      <td>0.070705</td>\n      <td>0.458743</td>\n      <td>0.485465</td>\n      <td>0.212121</td>\n      <td>0.941617</td>\n      <td>0.775000</td>\n      <td>0.102538</td>\n      <td>0.068710</td>\n      <td>0.004438</td>\n      <td>0</td>\n    </tr>\n    <tr>\n      <th>4</th>\n      <td>0.057938</td>\n      <td>0.802728</td>\n      <td>0.682332</td>\n      <td>0.070741</td>\n      <td>0.458749</td>\n      <td>0.485501</td>\n      <td>0.222222</td>\n      <td>0.943114</td>\n      <td>0.772414</td>\n      <td>0.105584</td>\n      <td>0.064482</td>\n      <td>0.004605</td>\n      <td>0</td>\n    </tr>\n    <tr>\n      <th>...</th>\n      <td>...</td>\n      <td>...</td>\n      <td>...</td>\n      <td>...</td>\n      <td>...</td>\n      <td>...</td>\n      <td>...</td>\n      <td>...</td>\n      <td>...</td>\n      <td>...</td>\n      <td>...</td>\n      <td>...</td>\n      <td>...</td>\n    </tr>\n    <tr>\n      <th>137334</th>\n      <td>0.053171</td>\n      <td>0.845806</td>\n      <td>0.200235</td>\n      <td>0.262828</td>\n      <td>0.569021</td>\n      <td>0.913441</td>\n      <td>0.277778</td>\n      <td>0.910180</td>\n      <td>0.951923</td>\n      <td>0.023051</td>\n      <td>0.010119</td>\n      <td>0.001117</td>\n      <td>0</td>\n    </tr>\n    <tr>\n      <th>137335</th>\n      <td>0.031052</td>\n      <td>0.848027</td>\n      <td>0.197720</td>\n      <td>0.243748</td>\n      <td>0.571959</td>\n      <td>0.914476</td>\n      <td>0.076389</td>\n      <td>0.818648</td>\n      <td>0.931208</td>\n      <td>0.014744</td>\n      <td>0.017004</td>\n      <td>0.000000</td>\n      <td>1</td>\n    </tr>\n    <tr>\n      <th>137336</th>\n      <td>0.039120</td>\n      <td>0.848027</td>\n      <td>0.199565</td>\n      <td>0.247445</td>\n      <td>0.571680</td>\n      <td>0.913978</td>\n      <td>0.076389</td>\n      <td>0.907613</td>\n      <td>0.953390</td>\n      <td>0.021597</td>\n      <td>0.018882</td>\n      <td>0.000678</td>\n      <td>0</td>\n    </tr>\n    <tr>\n      <th>137337</th>\n      <td>0.048010</td>\n      <td>0.845696</td>\n      <td>0.200011</td>\n      <td>0.254489</td>\n      <td>0.571065</td>\n      <td>0.913682</td>\n      <td>0.142361</td>\n      <td>0.903764</td>\n      <td>0.956250</td>\n      <td>0.023466</td>\n      <td>0.012936</td>\n      <td>0.001007</td>\n      <td>0</td>\n    </tr>\n    <tr>\n      <th>137338</th>\n      <td>0.034322</td>\n      <td>0.844277</td>\n      <td>0.198172</td>\n      <td>0.259261</td>\n      <td>0.565026</td>\n      <td>0.912798</td>\n      <td>0.434028</td>\n      <td>0.899914</td>\n      <td>0.960366</td>\n      <td>0.017548</td>\n      <td>0.014918</td>\n      <td>0.001981</td>\n      <td>1</td>\n    </tr>\n  </tbody>\n</table>\n<p>123681 rows × 13 columns</p>\n</div>"
     },
     "execution_count": 39,
     "metadata": {},
     "output_type": "execute_result"
    }
   ],
   "source": [
    "train = pd.concat([X_train_rem,y_train_rem],axis=1)\n",
    "train"
   ],
   "metadata": {
    "collapsed": false,
    "ExecuteTime": {
     "end_time": "2024-01-26T10:14:41.565087300Z",
     "start_time": "2024-01-26T10:14:41.451663400Z"
    }
   },
   "id": "b894fe81b4814a2b"
  },
  {
   "cell_type": "code",
   "execution_count": 40,
   "outputs": [
    {
     "name": "stdout",
     "output_type": "stream",
     "text": [
      "annotation\n",
      "0    114962\n",
      "1      5500\n",
      "2      3219\n",
      "Name: count, dtype: int64\n",
      "annotation\n",
      "0    3219\n",
      "1    3219\n",
      "2    3219\n",
      "Name: count, dtype: int64\n"
     ]
    }
   ],
   "source": [
    "train_df = downsample_majority_class(train,'annotation')\n",
    "\n",
    "# Creating training and testing sets\n",
    "X_train_rem_d = train_df.drop(['annotation'], axis=1)\n",
    "y_train_rem_d = train_df['annotation']"
   ],
   "metadata": {
    "collapsed": false,
    "ExecuteTime": {
     "end_time": "2024-01-26T10:14:41.596635600Z",
     "start_time": "2024-01-26T10:14:41.494517900Z"
    }
   },
   "id": "3569c6d756082dd"
  },
  {
   "cell_type": "markdown",
   "source": [
    "# Models"
   ],
   "metadata": {
    "collapsed": false
   },
   "id": "661f2f22cc395e04"
  },
  {
   "cell_type": "markdown",
   "source": [
    "# K-NN"
   ],
   "metadata": {
    "collapsed": false
   },
   "id": "ac04b83ded746f38"
  },
  {
   "cell_type": "code",
   "execution_count": 41,
   "outputs": [
    {
     "name": "stdout",
     "output_type": "stream",
     "text": [
      "Balanced accuracy: 0.637025 using {'n_neighbors': 5}\n"
     ]
    }
   ],
   "source": [
    "from sklearn.neighbors import KNeighborsClassifier\n",
    "classifier = KNeighborsClassifier()\n",
    "parameters = {'n_neighbors':np.arange(5,60,5)}\n",
    "\n",
    "hyperp_search_d(classifier,parameters)"
   ],
   "metadata": {
    "collapsed": false,
    "ExecuteTime": {
     "end_time": "2024-01-26T10:14:54.376417200Z",
     "start_time": "2024-01-26T10:14:41.548956200Z"
    }
   },
   "id": "4e9659b71a6643e6"
  },
  {
   "cell_type": "code",
   "execution_count": 42,
   "outputs": [
    {
     "data": {
      "text/plain": "<Figure size 1000x800 with 2 Axes>",
      "image/png": "[encoded data removed]"
     },
     "metadata": {},
     "output_type": "display_data"
    },
    {
     "name": "stdout",
     "output_type": "stream",
     "text": [
      "Balanced accuracy score:  0.33578255607701313\n",
      "Accuracy score:  0.5376769923506755\n",
      "F1 score:  0.28286113587630574\n",
      "Precision score:  0.33639718906635757\n",
      "Recall score:  0.33578255607701313\n"
     ]
    }
   ],
   "source": [
    "neigh = KNeighborsClassifier(n_neighbors=5)\n",
    "neigh.fit(X_train_d, y_train_d)\n",
    "\n",
    "y_pred_knn = neigh.predict(X_test)\n",
    "    \n",
    "one_hot_encoded_pred_knn = pd.get_dummies(y_pred_knn, columns=['0'])\n",
    "show_confusion_matrix(one_hot_encoded_pred_knn, \"KNN \")\n",
    "compute_metrics(one_hot_encoded_pred_knn)"
   ],
   "metadata": {
    "collapsed": false,
    "ExecuteTime": {
     "end_time": "2024-01-26T10:15:12.210734400Z",
     "start_time": "2024-01-26T10:14:54.368468900Z"
    }
   },
   "id": "9f222d9bbf3640da"
  },
  {
   "cell_type": "markdown",
   "source": [
    "# SVM"
   ],
   "metadata": {
    "collapsed": false
   },
   "id": "43efeb3e68864513"
  },
  {
   "cell_type": "code",
   "execution_count": 43,
   "outputs": [
    {
     "name": "stdout",
     "output_type": "stream",
     "text": [
      "Balanced accuracy: 0.525202 using {'C': 0.1, 'gamma': 1, 'kernel': 'rbf'}\n"
     ]
    }
   ],
   "source": [
    "from sklearn.svm import SVC  \n",
    "classifier = SVC()\n",
    "parameters = {\"kernel\":['linear','rbf'], \n",
    "              \"C\":[0.001,0.01,0.1],\n",
    "              \"gamma\":[0.1,1]}\n",
    "hyperp_search_d(classifier,parameters)"
   ],
   "metadata": {
    "collapsed": false,
    "ExecuteTime": {
     "end_time": "2024-01-26T10:20:38.506196200Z",
     "start_time": "2024-01-26T10:15:12.051185100Z"
    }
   },
   "id": "2803c766321dd88d"
  },
  {
   "cell_type": "code",
   "execution_count": 55,
   "outputs": [
    {
     "data": {
      "text/plain": "<Figure size 1000x800 with 2 Axes>",
      "image/png": "[encoded data removed]"
     },
     "metadata": {},
     "output_type": "display_data"
    },
    {
     "name": "stdout",
     "output_type": "stream",
     "text": [
      "Balanced accuracy score:  0.4439468634950587\n",
      "Accuracy score:  0.6243150870720989\n",
      "F1 score:  0.3449471792946805\n",
      "Precision score:  0.3735038093496437\n",
      "Recall score:  0.4439468634950587\n"
     ]
    }
   ],
   "source": [
    "clfSVC = SVC(kernel='rbf',\n",
    "             C=0.1,\n",
    "             gamma=0.1,\n",
    "             class_weight=None) \n",
    " \n",
    "# fitting x samples and y classes \n",
    "clfSVC.fit(X_train_d, y_train_d)\n",
    "\n",
    "y_pred_SVC = clfSVC.predict(X_test)\n",
    "    \n",
    "one_hot_encoded_pred_SVC = pd.get_dummies(y_pred_SVC, columns=['0'])\n",
    "show_confusion_matrix(one_hot_encoded_pred_SVC, \"SVC\")\n",
    "compute_metrics(one_hot_encoded_pred_SVC)"
   ],
   "metadata": {
    "collapsed": false,
    "ExecuteTime": {
     "end_time": "2024-01-26T19:26:12.371924300Z",
     "start_time": "2024-01-26T19:25:24.249439200Z"
    }
   },
   "id": "3ba95f0306d0264"
  },
  {
   "cell_type": "markdown",
   "source": [
    "# Random Forest"
   ],
   "metadata": {
    "collapsed": false
   },
   "id": "da0ddc9479dede3a"
  },
  {
   "cell_type": "code",
   "execution_count": 45,
   "outputs": [
    {
     "name": "stdout",
     "output_type": "stream",
     "text": [
      "Balanced accuracy: 0.669199 using {'criterion': 'entropy', 'max_depth': 15, 'min_samples_split': 22, 'n_estimators': 40}\n"
     ]
    }
   ],
   "source": [
    "from sklearn.ensemble import RandomForestClassifier\n",
    "classifier=RandomForestClassifier()\n",
    "parameters = { \n",
    "    'n_estimators': np.arange(20,100,10),\n",
    "    'max_depth' : [10, 15],\n",
    "    'criterion' :['gini', 'entropy'],\n",
    "    'min_samples_split' : np.arange(20,40,2),\n",
    "}\n",
    "hyperp_search_d(classifier,parameters)"
   ],
   "metadata": {
    "collapsed": false,
    "ExecuteTime": {
     "end_time": "2024-01-26T11:15:56.315142300Z",
     "start_time": "2024-01-26T10:22:09.646685300Z"
    }
   },
   "id": "bda4110044656127"
  },
  {
   "cell_type": "code",
   "execution_count": 56,
   "outputs": [
    {
     "data": {
      "text/plain": "<Figure size 1000x800 with 2 Axes>",
      "image/png": "[encoded data removed]"
     },
     "metadata": {},
     "output_type": "display_data"
    },
    {
     "name": "stdout",
     "output_type": "stream",
     "text": [
      "Balanced accuracy score:  0.4864214572973696\n",
      "Accuracy score:  0.7088374111647588\n",
      "F1 score:  0.394385916323252\n",
      "Precision score:  0.3945572053896613\n",
      "Recall score:  0.4864214572973696\n"
     ]
    }
   ],
   "source": [
    "randomForestModel = RandomForestClassifier(n_estimators=40,\n",
    "                                            criterion='entropy',\n",
    "                                            max_depth=15,\n",
    "                                            min_samples_split=22,\n",
    "                                            class_weight=None,\n",
    "                                            )\n",
    "    \n",
    "    \n",
    "randomForestModel.fit(X_train_d, y_train_d)\n",
    "y_pred_RF = randomForestModel.predict(X_test)\n",
    "    \n",
    "one_hot_encoded_pred_RF = pd.get_dummies(y_pred_RF, columns=['0'])\n",
    "show_confusion_matrix(one_hot_encoded_pred_RF, \"Random forest \")\n",
    "compute_metrics(one_hot_encoded_pred_RF)"
   ],
   "metadata": {
    "collapsed": false,
    "ExecuteTime": {
     "end_time": "2024-01-26T19:26:44.084463Z",
     "start_time": "2024-01-26T19:26:40.185676600Z"
    }
   },
   "id": "e58b28cb74c8ef47"
  },
  {
   "cell_type": "markdown",
   "source": [
    "# Balanced random forest"
   ],
   "metadata": {
    "collapsed": false
   },
   "id": "53cb81d30b34608c"
  },
  {
   "cell_type": "code",
   "execution_count": 69,
   "outputs": [
    {
     "name": "stderr",
     "output_type": "stream",
     "text": [
      "C:\\Users\\user\\Desktop\\AI-project\\venv\\Lib\\site-packages\\imblearn\\ensemble\\_forest.py:558: FutureWarning: The default of `replacement` will change from `False` to `True` in version 0.13. This change will follow the implementation proposed in the original paper. Set to `True` to silence this warning and adopt the future behaviour.\n",
      "  warn(\n"
     ]
    },
    {
     "name": "stdout",
     "output_type": "stream",
     "text": [
      "Balanced accuracy: 0.490221 using {'criterion': 'entropy', 'max_depth': 40, 'max_features': None, 'min_samples_split': 30, 'n_estimators': 50, 'random_state': 100, 'sampling_strategy': 'not minority'}\n"
     ]
    }
   ],
   "source": [
    "from imblearn.ensemble import BalancedRandomForestClassifier\n",
    "classifier=BalancedRandomForestClassifier()\n",
    "parameters = { \n",
    "    'n_estimators': np.arange(40,60,10),\n",
    "    'max_depth' : [40, 50],\n",
    "    'criterion' :['gini', 'entropy'],\n",
    "    'min_samples_split' : np.arange(20,40,10),\n",
    "    \"max_features\":[None],\n",
    "    \"sampling_strategy\":['not minority','majority'],\n",
    "    \"random_state\":[100],\n",
    "}\n",
    "hyperp_search(classifier,parameters)"
   ],
   "metadata": {
    "collapsed": false,
    "ExecuteTime": {
     "end_time": "2024-01-26T20:32:43.722178400Z",
     "start_time": "2024-01-26T20:01:15.582805300Z"
    }
   },
   "id": "d9f101eef3e5f89b"
  },
  {
   "cell_type": "code",
   "execution_count": 72,
   "outputs": [
    {
     "data": {
      "text/plain": "<Figure size 1000x800 with 2 Axes>",
      "image/png": "[encoded data removed]"
     },
     "metadata": {},
     "output_type": "display_data"
    },
    {
     "name": "stdout",
     "output_type": "stream",
     "text": [
      "Balanced accuracy score:  0.5279902948511938\n",
      "Accuracy score:  0.7286388542288287\n",
      "F1 score:  0.4172427302064477\n",
      "Precision score:  0.40973412625187994\n",
      "Recall score:  0.5279902948511938\n"
     ]
    }
   ],
   "source": [
    "\n",
    "BalancedRandomForestModel = BalancedRandomForestClassifier(n_estimators= 50,\n",
    "                                                   criterion= 'entropy',\n",
    "                                                   max_depth= 40,\n",
    "                                                   min_samples_split= 30,\n",
    "                                                   min_samples_leaf = 1,\n",
    "                                                   min_weight_fraction_leaf = 0.0,\n",
    "                                                   max_features= None,\n",
    "                                                   sampling_strategy='not minority',\n",
    "                                                   replacement= False,\n",
    "                                                   n_jobs= -1,\n",
    "                                                   random_state=100,\n",
    "                                                   class_weight= None,\n",
    "                                                \n",
    "                                                   bootstrap=True\n",
    "                                                   )\n",
    "BalancedRandomForestModel.fit(X_train, y_train)\n",
    "y_pred_BRF = BalancedRandomForestModel.predict_proba(X_test)\n",
    "one_hot_encoded_pred_BRF = pd.get_dummies(np.argmax(y_pred_BRF,axis=1))\n",
    "\n",
    "show_confusion_matrix(one_hot_encoded_pred_BRF, \"Random forest balanced\")\n",
    "compute_metrics(one_hot_encoded_pred_BRF)"
   ],
   "metadata": {
    "collapsed": false,
    "ExecuteTime": {
     "end_time": "2024-01-26T20:43:50.073796900Z",
     "start_time": "2024-01-26T20:43:45.096783900Z"
    }
   },
   "id": "5628fe8909bd99f7"
  },
  {
   "cell_type": "markdown",
   "source": [
    "# AdaBoost"
   ],
   "metadata": {
    "collapsed": false
   },
   "id": "4f15eed7ef356375"
  },
  {
   "cell_type": "code",
   "execution_count": 49,
   "outputs": [
    {
     "name": "stdout",
     "output_type": "stream",
     "text": [
      "Balanced accuracy: 0.526906 using {'n_estimators': 50, 'random_state': 42, 'sampling_strategy': 'not minority'}\n"
     ]
    }
   ],
   "source": [
    "from imblearn.ensemble import EasyEnsembleClassifier\n",
    "classifier = EasyEnsembleClassifier()\n",
    "parameters = { \n",
    "    'n_estimators': np.arange(30,70,10),\n",
    "    \"sampling_strategy\":['not minority','majority'],\n",
    "    \"random_state\":[42],\n",
    "}\n",
    "hyperp_search(classifier,parameters)"
   ],
   "metadata": {
    "collapsed": false,
    "ExecuteTime": {
     "end_time": "2024-01-26T13:43:46.374804Z",
     "start_time": "2024-01-26T12:28:48.796765200Z"
    }
   },
   "id": "202ad53edb52ed54"
  },
  {
   "cell_type": "code",
   "execution_count": 50,
   "outputs": [
    {
     "data": {
      "text/plain": "<Figure size 1000x800 with 2 Axes>",
      "image/png": "[encoded data removed]"
     },
     "metadata": {},
     "output_type": "display_data"
    },
    {
     "name": "stdout",
     "output_type": "stream",
     "text": [
      "Balanced accuracy score:  0.43120117317998324\n",
      "Accuracy score:  0.6020452449411382\n",
      "F1 score:  0.33380807985517064\n",
      "Precision score:  0.37143933837244275\n",
      "Recall score:  0.43120117317998324\n"
     ]
    }
   ],
   "source": [
    "modelEasyEns = EasyEnsembleClassifier(n_estimators=50, \n",
    "                                      random_state=42,\n",
    "                                      sampling_strategy='not minority'\n",
    "                                      )\n",
    "modelEasyEns.fit(X_train, y_train)\n",
    "\n",
    "y_predEasyEns = modelEasyEns.predict(X_test)\n",
    "one_hot_encoded_pred_ens = pd.get_dummies(y_predEasyEns, columns=['0'])\n",
    "\n",
    "show_confusion_matrix(one_hot_encoded_pred_ens, \"EasyEnsembleClassifier\")\n",
    "compute_metrics(one_hot_encoded_pred_ens)"
   ],
   "metadata": {
    "collapsed": false,
    "ExecuteTime": {
     "end_time": "2024-01-26T13:46:16.524615400Z",
     "start_time": "2024-01-26T13:43:46.386105700Z"
    }
   },
   "id": "11f6faefb2883ebf"
  },
  {
   "cell_type": "markdown",
   "source": [
    "# Neural Network"
   ],
   "metadata": {
    "collapsed": false
   },
   "id": "6ba49e15429c1adf"
  },
  {
   "cell_type": "code",
   "execution_count": 51,
   "outputs": [
    {
     "name": "stdout",
     "output_type": "stream",
     "text": [
      "Balanced accuracy: 0.582745 using {'alpha': 0.001, 'hidden_layer_sizes': (7, 5, 3), 'max_iter': 500}\n"
     ]
    }
   ],
   "source": [
    "from sklearn.neural_network import MLPClassifier\n",
    "classifier = MLPClassifier()\n",
    "parameters = {\"hidden_layer_sizes\":[(7,5,3,2),(7,5,3),(10, 5)], \n",
    "              \"max_iter\": [500,1000], \n",
    "              \"alpha\": [0.001,0.1,1]}\n",
    "hyperp_search_d(classifier,parameters)"
   ],
   "metadata": {
    "collapsed": false,
    "ExecuteTime": {
     "end_time": "2024-01-26T13:55:37.162069900Z",
     "start_time": "2024-01-26T13:46:16.441858200Z"
    }
   },
   "id": "e889b7c6635b7b89"
  },
  {
   "cell_type": "code",
   "execution_count": 61,
   "outputs": [
    {
     "data": {
      "text/plain": "<Figure size 1000x800 with 2 Axes>",
      "image/png": "[encoded data removed]"
     },
     "metadata": {},
     "output_type": "display_data"
    },
    {
     "name": "stdout",
     "output_type": "stream",
     "text": [
      "Balanced accuracy score:  0.4864027315528161\n",
      "Accuracy score:  0.6094233168773395\n",
      "F1 score:  0.35648431250057633\n",
      "Precision score:  0.3823152813836581\n",
      "Recall score:  0.4864027315528161\n"
     ]
    }
   ],
   "source": [
    "# Neural Network\n",
    "mlpc = MLPClassifier(hidden_layer_sizes=(7,5,3), \n",
    "                            max_iter=500, \n",
    "                            alpha=0.001,\n",
    "                            random_state=100)\n",
    "mlpc.fit(X_train_d, y_train_d)\n",
    "\n",
    "y_predmlpc = mlpc.predict(X_test)\n",
    "one_hot_encoded_pred_mlpc = pd.get_dummies(y_predmlpc, columns=['0'])\n",
    "\n",
    "show_confusion_matrix(one_hot_encoded_pred_mlpc, \"Neural Network\")\n",
    "compute_metrics(one_hot_encoded_pred_mlpc)\n",
    "\n"
   ],
   "metadata": {
    "collapsed": false,
    "ExecuteTime": {
     "end_time": "2024-01-26T19:29:16.635540700Z",
     "start_time": "2024-01-26T19:29:05.157342800Z"
    }
   },
   "id": "c58ea2dd7df68ab7"
  },
  {
   "cell_type": "markdown",
   "source": [
    "# Confidence of Predictions"
   ],
   "metadata": {
    "collapsed": false
   },
   "id": "594896560e66f407"
  },
  {
   "cell_type": "code",
   "execution_count": 68,
   "outputs": [
    {
     "name": "stdout",
     "output_type": "stream",
     "text": [
      "Average confidence of predictions:  Confidence    0.615178\n",
      "dtype: float64\n"
     ]
    },
    {
     "data": {
      "text/plain": "      Predicted class  Confidence\n0                   N    0.441298\n1                   N    0.714022\n2                   V    0.462602\n3                   N    0.344279\n4                   S    0.422445\n...               ...         ...\n36861               N    0.580229\n36862               N    0.405426\n36863               N    0.614900\n36864               S    0.445275\n36865               V    0.440025\n\n[36866 rows x 2 columns]",
      "text/html": "<div>\n<style scoped>\n    .dataframe tbody tr th:only-of-type {\n        vertical-align: middle;\n    }\n\n    .dataframe tbody tr th {\n        vertical-align: top;\n    }\n\n    .dataframe thead th {\n        text-align: right;\n    }\n</style>\n<table border=\"1\" class=\"dataframe\">\n  <thead>\n    <tr style=\"text-align: right;\">\n      <th></th>\n      <th>Predicted class</th>\n      <th>Confidence</th>\n    </tr>\n  </thead>\n  <tbody>\n    <tr>\n      <th>0</th>\n      <td>N</td>\n      <td>0.441298</td>\n    </tr>\n    <tr>\n      <th>1</th>\n      <td>N</td>\n      <td>0.714022</td>\n    </tr>\n    <tr>\n      <th>2</th>\n      <td>V</td>\n      <td>0.462602</td>\n    </tr>\n    <tr>\n      <th>3</th>\n      <td>N</td>\n      <td>0.344279</td>\n    </tr>\n    <tr>\n      <th>4</th>\n      <td>S</td>\n      <td>0.422445</td>\n    </tr>\n    <tr>\n      <th>...</th>\n      <td>...</td>\n      <td>...</td>\n    </tr>\n    <tr>\n      <th>36861</th>\n      <td>N</td>\n      <td>0.580229</td>\n    </tr>\n    <tr>\n      <th>36862</th>\n      <td>N</td>\n      <td>0.405426</td>\n    </tr>\n    <tr>\n      <th>36863</th>\n      <td>N</td>\n      <td>0.614900</td>\n    </tr>\n    <tr>\n      <th>36864</th>\n      <td>S</td>\n      <td>0.445275</td>\n    </tr>\n    <tr>\n      <th>36865</th>\n      <td>V</td>\n      <td>0.440025</td>\n    </tr>\n  </tbody>\n</table>\n<p>36866 rows × 2 columns</p>\n</div>"
     },
     "execution_count": 68,
     "metadata": {},
     "output_type": "execute_result"
    }
   ],
   "source": [
    "# Balanced Random Forest\n",
    "max_pred = np.argmax(y_pred_BRF,axis=1)\n",
    "classes=pd.DataFrame(data=max_pred,columns=['Predicted class'])\n",
    "label_remapping = {0:'N', 1: 'S', 2: 'V'}\n",
    "classes['Predicted class']=classes['Predicted class'].replace(label_remapping)\n",
    "\n",
    "prob=pd.DataFrame(data=np.take_along_axis(y_pred_BRF, np.expand_dims(max_pred, axis=-1), axis=-1),columns=['Confidence'])\n",
    "conf=pd.concat([classes,prob],axis=1)\n",
    "\n",
    "print(\"Average confidence of predictions: \", prob.sum()/len(prob))\n",
    "conf"
   ],
   "metadata": {
    "collapsed": false,
    "ExecuteTime": {
     "end_time": "2024-01-26T20:00:48.606184Z",
     "start_time": "2024-01-26T20:00:48.520653200Z"
    }
   },
   "id": "db0d3215d9955596"
  }
 ],
 "metadata": {
  "kernelspec": {
   "display_name": "Python 3",
   "language": "python",
   "name": "python3"
  },
  "language_info": {
   "codemirror_mode": {
    "name": "ipython",
    "version": 2
   },
   "file_extension": ".py",
   "mimetype": "text/x-python",
   "name": "python",
   "nbconvert_exporter": "python",
   "pygments_lexer": "ipython2",
   "version": "2.7.6"
  }
 },
 "nbformat": 4,
 "nbformat_minor": 5
}
