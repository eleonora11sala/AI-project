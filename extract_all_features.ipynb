{
 "cells": [
  {
   "cell_type": "code",
   "execution_count": 1,
   "id": "initial_id",
   "metadata": {
    "collapsed": true,
    "ExecuteTime": {
     "end_time": "2023-11-24T08:17:12.337493600Z",
     "start_time": "2023-11-24T08:17:02.173617300Z"
    }
   },
   "outputs": [],
   "source": [
    "from loadData import loadData\n",
    "from extract_fiducials import extract_fiducials\n",
    "from extract_features import extract_features\n",
    "from preprocess import preprocess"
   ]
  },
  {
   "cell_type": "markdown",
   "source": [
    "# Load Data"
   ],
   "metadata": {
    "collapsed": false
   },
   "id": "e19c1e0d0155dcd9"
  },
  {
   "cell_type": "code",
   "execution_count": 2,
   "outputs": [],
   "source": [
    "ROOT_PATH = u'C:/Users/cricr/OneDrive - Politecnico di Milano/Università/MASTER/applied AI in Biomedicine/project/train'"
   ],
   "metadata": {
    "collapsed": false,
    "ExecuteTime": {
     "end_time": "2023-11-24T08:17:12.347519400Z",
     "start_time": "2023-11-24T08:17:12.331829Z"
    }
   },
   "id": "702e92f8512dbb49"
  },
  {
   "cell_type": "code",
   "execution_count": 3,
   "outputs": [
    {
     "name": "stdout",
     "output_type": "stream",
     "text": [
      "Loading file: 1/62\n",
      "Loading file: 2/62\n",
      "Loading file: 3/62\n",
      "Loading file: 4/62\n",
      "Loading file: 5/62\n",
      "Loading file: 6/62\n",
      "Loading file: 7/62\n",
      "Loading file: 8/62\n",
      "Loading file: 9/62\n",
      "Loading file: 10/62\n",
      "Loading file: 11/62\n",
      "Loading file: 12/62\n",
      "Loading file: 13/62\n",
      "Loading file: 14/62\n",
      "Loading file: 15/62\n",
      "Loading file: 16/62\n",
      "Loading file: 17/62\n",
      "Loading file: 18/62\n",
      "Loading file: 19/62\n",
      "Loading file: 20/62\n",
      "Loading file: 21/62\n",
      "Loading file: 22/62\n",
      "Loading file: 23/62\n",
      "Loading file: 24/62\n",
      "Loading file: 25/62\n",
      "Loading file: 26/62\n",
      "Loading file: 27/62\n",
      "Loading file: 28/62\n",
      "Loading file: 29/62\n",
      "Loading file: 30/62\n",
      "Loading file: 31/62\n",
      "Loading file: 32/62\n",
      "Loading file: 33/62\n",
      "Loading file: 34/62\n",
      "Loading file: 35/62\n",
      "Loading file: 36/62\n",
      "Loading file: 37/62\n",
      "Loading file: 38/62\n",
      "Loading file: 39/62\n",
      "Loading file: 40/62\n",
      "Loading file: 41/62\n",
      "Loading file: 42/62\n",
      "Loading file: 43/62\n",
      "Loading file: 44/62\n",
      "Loading file: 45/62\n",
      "Loading file: 46/62\n",
      "Loading file: 47/62\n",
      "Loading file: 48/62\n",
      "Loading file: 49/62\n",
      "Loading file: 50/62\n",
      "Loading file: 51/62\n",
      "Loading file: 52/62\n",
      "Loading file: 53/62\n",
      "Loading file: 54/62\n",
      "Loading file: 55/62\n",
      "Loading file: 56/62\n",
      "Loading file: 57/62\n",
      "Loading file: 58/62\n",
      "Loading file: 59/62\n",
      "Loading file: 60/62\n",
      "Loading file: 61/62\n",
      "Loading file: 62/62\n",
      "Loading file: 1/43\n",
      "Loading file: 2/43\n",
      "Loading file: 3/43\n",
      "Loading file: 4/43\n",
      "Loading file: 5/43\n",
      "Loading file: 6/43\n",
      "Loading file: 7/43\n",
      "Loading file: 8/43\n",
      "Loading file: 9/43\n",
      "Loading file: 10/43\n",
      "Loading file: 11/43\n",
      "Loading file: 12/43\n",
      "Loading file: 13/43\n",
      "Loading file: 14/43\n",
      "Loading file: 15/43\n",
      "Loading file: 16/43\n",
      "Loading file: 17/43\n",
      "Loading file: 18/43\n",
      "Loading file: 19/43\n",
      "Loading file: 20/43\n",
      "Loading file: 21/43\n",
      "Loading file: 22/43\n",
      "Loading file: 23/43\n",
      "Loading file: 24/43\n",
      "Loading file: 25/43\n",
      "Loading file: 26/43\n",
      "Loading file: 27/43\n",
      "Loading file: 28/43\n",
      "Loading file: 29/43\n",
      "Loading file: 30/43\n",
      "Loading file: 31/43\n",
      "Loading file: 32/43\n",
      "Loading file: 33/43\n",
      "Loading file: 34/43\n",
      "Loading file: 35/43\n",
      "Loading file: 36/43\n",
      "Loading file: 37/43\n",
      "Loading file: 38/43\n",
      "Loading file: 39/43\n",
      "Loading file: 40/43\n",
      "Loading file: 41/43\n",
      "Loading file: 42/43\n",
      "Loading file: 43/43\n"
     ]
    }
   ],
   "source": [
    "ppgs_128, speaks_128, annotations_128, ppgs_250, speaks_250, annotations_250 = loadData(ROOT_PATH)"
   ],
   "metadata": {
    "collapsed": false,
    "ExecuteTime": {
     "end_time": "2023-11-24T08:17:17.307235700Z",
     "start_time": "2023-11-24T08:17:12.338003700Z"
    }
   },
   "id": "686c80a6af55cde4"
  },
  {
   "cell_type": "markdown",
   "source": [
    "# Pre-processing"
   ],
   "metadata": {
    "collapsed": false
   },
   "id": "f4d8388648f76d6"
  },
  {
   "cell_type": "code",
   "execution_count": 5,
   "outputs": [],
   "source": [
    "for i in range(len(ppgs_128)):\n",
    "    ppgs_128[i] = preprocess(ppgs_128[i])"
   ],
   "metadata": {
    "collapsed": false,
    "ExecuteTime": {
     "end_time": "2023-11-24T08:17:18.081377400Z",
     "start_time": "2023-11-24T08:17:17.315359600Z"
    }
   },
   "id": "14b6987c0aa0af11"
  },
  {
   "cell_type": "code",
   "execution_count": 6,
   "outputs": [],
   "source": [
    "for i in range(len(ppgs_250)):\n",
    "    ppgs_250[i] = preprocess(ppgs_250[i])"
   ],
   "metadata": {
    "collapsed": false,
    "ExecuteTime": {
     "end_time": "2023-11-24T08:17:19.249011500Z",
     "start_time": "2023-11-24T08:17:18.081377400Z"
    }
   },
   "id": "cbd071497f66d462"
  },
  {
   "cell_type": "markdown",
   "source": [
    "# Extract fiducials"
   ],
   "metadata": {
    "collapsed": false
   },
   "id": "86d935a0b4727ff2"
  },
  {
   "cell_type": "code",
   "execution_count": 7,
   "outputs": [
    {
     "name": "stdout",
     "output_type": "stream",
     "text": [
      "0\n",
      "1\n",
      "2\n",
      "3\n",
      "4\n",
      "5\n",
      "6\n",
      "7\n",
      "8\n",
      "9\n",
      "10\n",
      "11\n",
      "12\n",
      "13\n",
      "14\n",
      "15\n",
      "16\n",
      "17\n",
      "18\n",
      "19\n",
      "20\n",
      "21\n",
      "22\n",
      "23\n",
      "24\n",
      "25\n",
      "26\n",
      "27\n",
      "28\n",
      "29\n",
      "30\n",
      "31\n",
      "32\n",
      "33\n",
      "34\n",
      "35\n",
      "36\n",
      "37\n",
      "38\n",
      "39\n",
      "40\n",
      "41\n",
      "42\n",
      "43\n",
      "44\n",
      "45\n",
      "46\n",
      "47\n",
      "48\n",
      "49\n",
      "50\n",
      "51\n",
      "52\n",
      "53\n",
      "54\n",
      "55\n",
      "56\n",
      "57\n",
      "58\n",
      "59\n",
      "60\n",
      "61\n"
     ]
    }
   ],
   "source": [
    "fiducials_128 = list()\n",
    "\n",
    "for i in range(len(ppgs_128)):\n",
    "    print(i)\n",
    "    fiducials_128.append(extract_fiducials(ppgs_128[i], speaks_128[i]))"
   ],
   "metadata": {
    "collapsed": false,
    "ExecuteTime": {
     "end_time": "2023-11-24T08:25:21.025084600Z",
     "start_time": "2023-11-24T08:17:19.252766500Z"
    }
   },
   "id": "640fc82cbb11c215"
  },
  {
   "cell_type": "code",
   "execution_count": 8,
   "outputs": [],
   "source": [
    "fiducials_250 = list()\n",
    "\n",
    "for i in range(len(ppgs_250)):\n",
    "   fiducials_250.append(extract_fiducials(ppgs_250[i], speaks_250[i]))"
   ],
   "metadata": {
    "collapsed": false,
    "ExecuteTime": {
     "end_time": "2023-11-24T08:34:20.871836Z",
     "start_time": "2023-11-24T08:25:21.032610300Z"
    }
   },
   "id": "e7ec76e34775277e"
  },
  {
   "cell_type": "markdown",
   "source": [
    "# Extract features"
   ],
   "metadata": {
    "collapsed": false
   },
   "id": "a26bf8e027db0d14"
  },
  {
   "cell_type": "code",
   "execution_count": 9,
   "outputs": [],
   "source": [
    "features_128 = list()\n",
    "\n",
    "for i in range(len(fiducials_128)):\n",
    "    features_128.append(extract_features(fiducials_128[i], ppgs_128[i]))"
   ],
   "metadata": {
    "collapsed": false,
    "ExecuteTime": {
     "end_time": "2023-11-24T08:34:21.091444200Z",
     "start_time": "2023-11-24T08:34:20.881189800Z"
    }
   },
   "id": "7dce4b8e07a5bbfe"
  },
  {
   "cell_type": "code",
   "execution_count": 10,
   "outputs": [],
   "source": [
    "features_250 = list()\n",
    "\n",
    "for i in range(len(fiducials_250)):\n",
    "    features_250.append(extract_features(fiducials_250[i], ppgs_250[i]))"
   ],
   "metadata": {
    "collapsed": false,
    "ExecuteTime": {
     "end_time": "2023-11-24T08:34:21.299761400Z",
     "start_time": "2023-11-24T08:34:21.095964300Z"
    }
   },
   "id": "ac69bb3c18ed1cd"
  },
  {
   "cell_type": "markdown",
   "source": [
    "# Add annotation to peaks"
   ],
   "metadata": {
    "collapsed": false
   },
   "id": "e32b1d97ffdcb042"
  },
  {
   "cell_type": "code",
   "execution_count": 20,
   "outputs": [],
   "source": [
    "for i in range(len(features_128)):\n",
    "    features_128[i]['annotation'] = annotations_128[i]"
   ],
   "metadata": {
    "collapsed": false,
    "ExecuteTime": {
     "end_time": "2023-11-24T08:57:45.159231800Z",
     "start_time": "2023-11-24T08:57:45.123893500Z"
    }
   },
   "id": "787e15dafc1cfc4e"
  },
  {
   "cell_type": "code",
   "execution_count": 22,
   "outputs": [],
   "source": [
    "for i in range(len(features_250)):\n",
    "    features_250[i]['annotation'] = annotations_250[i]"
   ],
   "metadata": {
    "collapsed": false,
    "ExecuteTime": {
     "end_time": "2023-11-24T08:58:34.126997900Z",
     "start_time": "2023-11-24T08:58:34.103354800Z"
    }
   },
   "id": "93ef46bcccf9cba8"
  },
  {
   "cell_type": "markdown",
   "source": [
    "# Write features to csv"
   ],
   "metadata": {
    "collapsed": false
   },
   "id": "e6ce4b53c1c4f1af"
  },
  {
   "cell_type": "code",
   "execution_count": 23,
   "outputs": [],
   "source": [
    "i = 0\n",
    "for feaature in features_128:\n",
    "    file_name = f\"C:/Users/cricr/PycharmProjects/AI-project/features/128/features_{i}_128.csv\"\n",
    "    feaature.to_csv(file_name, sep=',', index=False, encoding='utf-8')\n",
    "    i = i + 1"
   ],
   "metadata": {
    "collapsed": false,
    "ExecuteTime": {
     "end_time": "2023-11-24T08:59:23.711797Z",
     "start_time": "2023-11-24T08:59:21.337352900Z"
    }
   },
   "id": "978b21c6cc8f230a"
  },
  {
   "cell_type": "code",
   "execution_count": 24,
   "outputs": [],
   "source": [
    "i = 0\n",
    "for feaature in features_250:\n",
    "    file_name = f\"C:/Users/cricr/PycharmProjects/AI-project/features/250/features_{i}_250.csv\"\n",
    "    feaature.to_csv(file_name, sep=',', index=False, encoding='utf-8')\n",
    "    i = i + 1"
   ],
   "metadata": {
    "collapsed": false,
    "ExecuteTime": {
     "end_time": "2023-11-24T08:59:25.028258900Z",
     "start_time": "2023-11-24T08:59:23.717997500Z"
    }
   },
   "id": "b96c658b223000e7"
  }
 ],
 "metadata": {
  "kernelspec": {
   "display_name": "Python 3",
   "language": "python",
   "name": "python3"
  },
  "language_info": {
   "codemirror_mode": {
    "name": "ipython",
    "version": 2
   },
   "file_extension": ".py",
   "mimetype": "text/x-python",
   "name": "python",
   "nbconvert_exporter": "python",
   "pygments_lexer": "ipython2",
   "version": "2.7.6"
  }
 },
 "nbformat": 4,
 "nbformat_minor": 5
}
