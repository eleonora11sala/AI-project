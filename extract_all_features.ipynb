{
 "cells": [
  {
   "cell_type": "code",
   "execution_count": 1,
   "id": "initial_id",
   "metadata": {
    "collapsed": true,
    "ExecuteTime": {
     "end_time": "2023-11-23T22:33:19.529834700Z",
     "start_time": "2023-11-23T22:33:15.928727800Z"
    }
   },
   "outputs": [],
   "source": [
    "import numpy\n",
    "import pandas as pd\n",
    "import scipy.io\n",
    "from loadData import loadData\n",
    "import numpy as np, os\n",
    "from extract_fiducials import extract_fiducials\n",
    "from extract_features import extract_features\n",
    "from plot_signal import plot_signal"
   ]
  },
  {
   "cell_type": "markdown",
   "source": [
    "# Load Data"
   ],
   "metadata": {
    "collapsed": false
   },
   "id": "e19c1e0d0155dcd9"
  },
  {
   "cell_type": "code",
   "execution_count": 2,
   "outputs": [],
   "source": [
    "ROOT_PATH = u'C:/Users/cricr/OneDrive - Politecnico di Milano/Università/MASTER/applied AI in Biomedicine/project/train'"
   ],
   "metadata": {
    "collapsed": false,
    "ExecuteTime": {
     "end_time": "2023-11-23T22:33:19.554166200Z",
     "start_time": "2023-11-23T22:33:19.536314100Z"
    }
   },
   "id": "702e92f8512dbb49"
  },
  {
   "cell_type": "code",
   "execution_count": 3,
   "outputs": [
    {
     "name": "stdout",
     "output_type": "stream",
     "text": [
      "Loading file: 1/62\n",
      "Loading file: 2/62\n",
      "Loading file: 3/62\n",
      "Loading file: 4/62\n",
      "Loading file: 5/62\n",
      "Loading file: 6/62\n",
      "Loading file: 7/62\n",
      "Loading file: 8/62\n",
      "Loading file: 9/62\n",
      "Loading file: 10/62\n",
      "Loading file: 11/62\n",
      "Loading file: 12/62\n",
      "Loading file: 13/62\n",
      "Loading file: 14/62\n",
      "Loading file: 15/62\n",
      "Loading file: 16/62\n",
      "Loading file: 17/62\n",
      "Loading file: 18/62\n",
      "Loading file: 19/62\n",
      "Loading file: 20/62\n",
      "Loading file: 21/62\n",
      "Loading file: 22/62\n",
      "Loading file: 23/62\n",
      "Loading file: 24/62\n",
      "Loading file: 25/62\n",
      "Loading file: 26/62\n",
      "Loading file: 27/62\n",
      "Loading file: 28/62\n",
      "Loading file: 29/62\n",
      "Loading file: 30/62\n",
      "Loading file: 31/62\n",
      "Loading file: 32/62\n",
      "Loading file: 33/62\n",
      "Loading file: 34/62\n",
      "Loading file: 35/62\n",
      "Loading file: 36/62\n",
      "Loading file: 37/62\n",
      "Loading file: 38/62\n",
      "Loading file: 39/62\n",
      "Loading file: 40/62\n",
      "Loading file: 41/62\n",
      "Loading file: 42/62\n",
      "Loading file: 43/62\n",
      "Loading file: 44/62\n",
      "Loading file: 45/62\n",
      "Loading file: 46/62\n",
      "Loading file: 47/62\n",
      "Loading file: 48/62\n",
      "Loading file: 49/62\n",
      "Loading file: 50/62\n",
      "Loading file: 51/62\n",
      "Loading file: 52/62\n",
      "Loading file: 53/62\n",
      "Loading file: 54/62\n",
      "Loading file: 55/62\n",
      "Loading file: 56/62\n",
      "Loading file: 57/62\n",
      "Loading file: 58/62\n",
      "Loading file: 59/62\n",
      "Loading file: 60/62\n",
      "Loading file: 61/62\n",
      "Loading file: 62/62\n",
      "Loading file: 1/43\n",
      "Loading file: 2/43\n",
      "Loading file: 3/43\n",
      "Loading file: 4/43\n",
      "Loading file: 5/43\n",
      "Loading file: 6/43\n",
      "Loading file: 7/43\n",
      "Loading file: 8/43\n",
      "Loading file: 9/43\n",
      "Loading file: 10/43\n",
      "Loading file: 11/43\n",
      "Loading file: 12/43\n",
      "Loading file: 13/43\n",
      "Loading file: 14/43\n",
      "Loading file: 15/43\n",
      "Loading file: 16/43\n",
      "Loading file: 17/43\n",
      "Loading file: 18/43\n",
      "Loading file: 19/43\n",
      "Loading file: 20/43\n",
      "Loading file: 21/43\n",
      "Loading file: 22/43\n",
      "Loading file: 23/43\n",
      "Loading file: 24/43\n",
      "Loading file: 25/43\n",
      "Loading file: 26/43\n",
      "Loading file: 27/43\n",
      "Loading file: 28/43\n",
      "Loading file: 29/43\n",
      "Loading file: 30/43\n",
      "Loading file: 31/43\n",
      "Loading file: 32/43\n",
      "Loading file: 33/43\n",
      "Loading file: 34/43\n",
      "Loading file: 35/43\n",
      "Loading file: 36/43\n",
      "Loading file: 37/43\n",
      "Loading file: 38/43\n",
      "Loading file: 39/43\n",
      "Loading file: 40/43\n",
      "Loading file: 41/43\n",
      "Loading file: 42/43\n",
      "Loading file: 43/43\n"
     ]
    }
   ],
   "source": [
    "ppgs_128, speaks_128, annotations_128, ppgs_250, speaks_250, annotations_250 = loadData(ROOT_PATH)"
   ],
   "metadata": {
    "collapsed": false,
    "ExecuteTime": {
     "end_time": "2023-11-23T22:33:23.050470Z",
     "start_time": "2023-11-23T22:33:19.545597Z"
    }
   },
   "id": "686c80a6af55cde4"
  },
  {
   "cell_type": "markdown",
   "source": [
    "# Pre-processing"
   ],
   "metadata": {
    "collapsed": false
   },
   "id": "f4d8388648f76d6"
  },
  {
   "cell_type": "code",
   "execution_count": 4,
   "outputs": [],
   "source": [
    "def preprocess(signal):\n",
    "    # Denoising --> second-order Butterworth filter\n",
    "    signal_temp_unidimensional = np.ravel(signal)\n",
    "    #Let's run it through a standard butterworth bandpass implementation to remove everything < 0.8 and > 3.5 Hz.\n",
    "    b, a = scipy.signal.butter(2, [0.5, 8], btype='bandpass', analog=False, output='ba', fs=128)\n",
    "    filtered_ppg = scipy.signal.filtfilt(b, a, signal_temp_unidimensional)\n",
    "    \n",
    "    # Detrend\n",
    "    filtered_ppg = scipy.signal.detrend(filtered_ppg, axis=-1, type='linear', bp=0, overwrite_data=True)\n",
    "    \n",
    "    return filtered_ppg\n",
    "    "
   ],
   "metadata": {
    "collapsed": false,
    "ExecuteTime": {
     "end_time": "2023-11-23T22:33:23.050470Z",
     "start_time": "2023-11-23T22:33:23.047880400Z"
    }
   },
   "id": "33e57a49cdaf2af0"
  },
  {
   "cell_type": "code",
   "execution_count": 5,
   "outputs": [],
   "source": [
    "for i in range(len(ppgs_128)):\n",
    "    ppgs_128[i] = preprocess(ppgs_128[i])"
   ],
   "metadata": {
    "collapsed": false,
    "ExecuteTime": {
     "end_time": "2023-11-23T22:33:25.064263500Z",
     "start_time": "2023-11-23T22:33:23.050470Z"
    }
   },
   "id": "14b6987c0aa0af11"
  },
  {
   "cell_type": "code",
   "execution_count": 6,
   "outputs": [],
   "source": [
    "for i in range(len(ppgs_250)):\n",
    "    ppgs_250[i] = preprocess(ppgs_250[i])"
   ],
   "metadata": {
    "collapsed": false,
    "ExecuteTime": {
     "end_time": "2023-11-23T22:33:28.083905100Z",
     "start_time": "2023-11-23T22:33:25.073237300Z"
    }
   },
   "id": "cbd071497f66d462"
  },
  {
   "cell_type": "markdown",
   "source": [
    "# Extract fiducials"
   ],
   "metadata": {
    "collapsed": false
   },
   "id": "86d935a0b4727ff2"
  },
  {
   "cell_type": "code",
   "execution_count": null,
   "outputs": [
    {
     "name": "stdout",
     "output_type": "stream",
     "text": [
      "0\n",
      "1\n",
      "2\n",
      "3\n",
      "4\n",
      "5\n",
      "6\n"
     ]
    }
   ],
   "source": [
    "fiducials_128 = list()\n",
    "\n",
    "for i in range(len(ppgs_128)):\n",
    "    print(i)\n",
    "    fiducials_128.append(extract_fiducials(ppgs_128[i], speaks_128[i]))"
   ],
   "metadata": {
    "collapsed": false,
    "is_executing": true,
    "ExecuteTime": {
     "start_time": "2023-11-23T22:33:28.089395600Z"
    }
   },
   "id": "640fc82cbb11c215"
  },
  {
   "cell_type": "code",
   "execution_count": null,
   "outputs": [],
   "source": [
    "fiducials_250 = list()\n",
    "\n",
    "for i in range(len(ppgs_250)):\n",
    "   fiducials_250.append(extract_fiducials(ppgs_250[i], speaks_250[i]))"
   ],
   "metadata": {
    "collapsed": false,
    "is_executing": true
   },
   "id": "e7ec76e34775277e"
  },
  {
   "cell_type": "markdown",
   "source": [
    "# Extract features"
   ],
   "metadata": {
    "collapsed": false
   },
   "id": "a26bf8e027db0d14"
  },
  {
   "cell_type": "code",
   "execution_count": null,
   "outputs": [],
   "source": [
    "features_128 = list()\n",
    "\n",
    "for i in range(len(fiducials_128)):\n",
    "    features_128.append(extract_features(fiducials_128[i], ppgs_128[i]))"
   ],
   "metadata": {
    "collapsed": false,
    "is_executing": true
   },
   "id": "7dce4b8e07a5bbfe"
  },
  {
   "cell_type": "code",
   "execution_count": null,
   "outputs": [],
   "source": [
    "features_250 = list()\n",
    "\n",
    "for i in range(len(fiducials_250)):\n",
    "    features_250.append(extract_features(fiducials_250[i], ppgs_250[i]))"
   ],
   "metadata": {
    "collapsed": false,
    "is_executing": true
   },
   "id": "ac69bb3c18ed1cd"
  }
 ],
 "metadata": {
  "kernelspec": {
   "display_name": "Python 3",
   "language": "python",
   "name": "python3"
  },
  "language_info": {
   "codemirror_mode": {
    "name": "ipython",
    "version": 2
   },
   "file_extension": ".py",
   "mimetype": "text/x-python",
   "name": "python",
   "nbconvert_exporter": "python",
   "pygments_lexer": "ipython2",
   "version": "2.7.6"
  }
 },
 "nbformat": 4,
 "nbformat_minor": 5
}
