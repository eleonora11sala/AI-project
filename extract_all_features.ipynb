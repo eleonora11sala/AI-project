{
 "cells": [
  {
   "cell_type": "code",
   "execution_count": 14,
   "id": "initial_id",
   "metadata": {
    "collapsed": true,
    "ExecuteTime": {
     "end_time": "2023-11-24T20:18:47.694346700Z",
     "start_time": "2023-11-24T20:18:47.631539400Z"
    }
   },
   "outputs": [],
   "source": [
    "from loadData import loadData\n",
    "from extract_fiducials import extract_fiducials\n",
    "from extract_features import extract_features\n",
    "from preprocess import preprocess\n",
    "\n",
    "import numpy as np"
   ]
  },
  {
   "cell_type": "markdown",
   "source": [
    "# Load Data"
   ],
   "metadata": {
    "collapsed": false
   },
   "id": "e19c1e0d0155dcd9"
  },
  {
   "cell_type": "code",
   "execution_count": 2,
   "outputs": [],
   "source": [
    "ROOT_PATH = u'C:/Users/cricr/OneDrive - Politecnico di Milano/Università/MASTER/applied AI in Biomedicine/project/train'"
   ],
   "metadata": {
    "collapsed": false,
    "ExecuteTime": {
     "end_time": "2023-11-24T19:25:15.454289700Z",
     "start_time": "2023-11-24T19:25:15.452258600Z"
    }
   },
   "id": "702e92f8512dbb49"
  },
  {
   "cell_type": "code",
   "execution_count": 3,
   "outputs": [
    {
     "name": "stdout",
     "output_type": "stream",
     "text": [
      "Loading file: 1/62\n",
      "Loading file: 2/62\n",
      "Loading file: 3/62\n",
      "Loading file: 4/62\n",
      "Loading file: 5/62\n",
      "Loading file: 6/62\n",
      "Loading file: 7/62\n",
      "Loading file: 8/62\n",
      "Loading file: 9/62\n",
      "Loading file: 10/62\n",
      "Loading file: 11/62\n",
      "Loading file: 12/62\n",
      "Loading file: 13/62\n",
      "Loading file: 14/62\n",
      "Loading file: 15/62\n",
      "Loading file: 16/62\n",
      "Loading file: 17/62\n",
      "Loading file: 18/62\n",
      "Loading file: 19/62\n",
      "Loading file: 20/62\n",
      "Loading file: 21/62\n",
      "Loading file: 22/62\n",
      "Loading file: 23/62\n",
      "Loading file: 24/62\n",
      "Loading file: 25/62\n",
      "Loading file: 26/62\n",
      "Loading file: 27/62\n",
      "Loading file: 28/62\n",
      "Loading file: 29/62\n",
      "Loading file: 30/62\n",
      "Loading file: 31/62\n",
      "Loading file: 32/62\n",
      "Loading file: 33/62\n",
      "Loading file: 34/62\n",
      "Loading file: 35/62\n",
      "Loading file: 36/62\n",
      "Loading file: 37/62\n",
      "Loading file: 38/62\n",
      "Loading file: 39/62\n",
      "Loading file: 40/62\n",
      "Loading file: 41/62\n",
      "Loading file: 42/62\n",
      "Loading file: 43/62\n",
      "Loading file: 44/62\n",
      "Loading file: 45/62\n",
      "Loading file: 46/62\n",
      "Loading file: 47/62\n",
      "Loading file: 48/62\n",
      "Loading file: 49/62\n",
      "Loading file: 50/62\n",
      "Loading file: 51/62\n",
      "Loading file: 52/62\n",
      "Loading file: 53/62\n",
      "Loading file: 54/62\n",
      "Loading file: 55/62\n",
      "Loading file: 56/62\n",
      "Loading file: 57/62\n",
      "Loading file: 58/62\n",
      "Loading file: 59/62\n",
      "Loading file: 60/62\n",
      "Loading file: 61/62\n",
      "Loading file: 62/62\n",
      "Loading file: 1/43\n",
      "Loading file: 2/43\n",
      "Loading file: 3/43\n",
      "Loading file: 4/43\n",
      "Loading file: 5/43\n",
      "Loading file: 6/43\n",
      "Loading file: 7/43\n",
      "Loading file: 8/43\n",
      "Loading file: 9/43\n",
      "Loading file: 10/43\n",
      "Loading file: 11/43\n",
      "Loading file: 12/43\n",
      "Loading file: 13/43\n",
      "Loading file: 14/43\n",
      "Loading file: 15/43\n",
      "Loading file: 16/43\n",
      "Loading file: 17/43\n",
      "Loading file: 18/43\n",
      "Loading file: 19/43\n",
      "Loading file: 20/43\n",
      "Loading file: 21/43\n",
      "Loading file: 22/43\n",
      "Loading file: 23/43\n",
      "Loading file: 24/43\n",
      "Loading file: 25/43\n",
      "Loading file: 26/43\n",
      "Loading file: 27/43\n",
      "Loading file: 28/43\n",
      "Loading file: 29/43\n",
      "Loading file: 30/43\n",
      "Loading file: 31/43\n",
      "Loading file: 32/43\n",
      "Loading file: 33/43\n",
      "Loading file: 34/43\n",
      "Loading file: 35/43\n",
      "Loading file: 36/43\n",
      "Loading file: 37/43\n",
      "Loading file: 38/43\n",
      "Loading file: 39/43\n",
      "Loading file: 40/43\n",
      "Loading file: 41/43\n",
      "Loading file: 42/43\n",
      "Loading file: 43/43\n"
     ]
    }
   ],
   "source": [
    "ppgs_128, speaks_128, annotations_128, ppgs_250, speaks_250, annotations_250 = loadData(ROOT_PATH)"
   ],
   "metadata": {
    "collapsed": false,
    "ExecuteTime": {
     "end_time": "2023-11-24T19:25:17.089586900Z",
     "start_time": "2023-11-24T19:25:15.454289700Z"
    }
   },
   "id": "686c80a6af55cde4"
  },
  {
   "cell_type": "markdown",
   "source": [
    "# Pre-processing"
   ],
   "metadata": {
    "collapsed": false
   },
   "id": "f4d8388648f76d6"
  },
  {
   "cell_type": "code",
   "execution_count": 4,
   "outputs": [],
   "source": [
    "for i in range(len(ppgs_128)):\n",
    "    ppgs_128[i] = preprocess(ppgs_128[i])"
   ],
   "metadata": {
    "collapsed": false,
    "ExecuteTime": {
     "end_time": "2023-11-24T19:25:18.025589300Z",
     "start_time": "2023-11-24T19:25:17.078556400Z"
    }
   },
   "id": "14b6987c0aa0af11"
  },
  {
   "cell_type": "code",
   "execution_count": 5,
   "outputs": [],
   "source": [
    "for i in range(len(ppgs_250)):\n",
    "    ppgs_250[i] = preprocess(ppgs_250[i])"
   ],
   "metadata": {
    "collapsed": false,
    "ExecuteTime": {
     "end_time": "2023-11-24T19:25:19.404587500Z",
     "start_time": "2023-11-24T19:25:18.024545400Z"
    }
   },
   "id": "cbd071497f66d462"
  },
  {
   "cell_type": "markdown",
   "source": [
    "# Extract fiducials"
   ],
   "metadata": {
    "collapsed": false
   },
   "id": "86d935a0b4727ff2"
  },
  {
   "cell_type": "code",
   "execution_count": 6,
   "outputs": [
    {
     "name": "stdout",
     "output_type": "stream",
     "text": [
      "0\n",
      "1\n",
      "2\n",
      "3\n",
      "4\n",
      "5\n",
      "6\n",
      "7\n",
      "8\n",
      "9\n",
      "10\n",
      "11\n",
      "12\n",
      "13\n",
      "14\n",
      "15\n",
      "16\n",
      "17\n",
      "18\n",
      "19\n",
      "20\n",
      "21\n",
      "22\n",
      "23\n",
      "24\n",
      "25\n",
      "26\n",
      "27\n",
      "28\n",
      "29\n",
      "30\n",
      "31\n",
      "32\n",
      "33\n",
      "34\n",
      "35\n",
      "36\n",
      "37\n",
      "38\n",
      "39\n",
      "40\n",
      "41\n",
      "42\n",
      "43\n",
      "44\n",
      "45\n",
      "46\n",
      "47\n",
      "48\n",
      "49\n",
      "50\n",
      "51\n",
      "52\n",
      "53\n",
      "54\n",
      "55\n",
      "56\n",
      "57\n",
      "58\n",
      "59\n",
      "60\n",
      "61\n"
     ]
    }
   ],
   "source": [
    "fiducials_128 = list()\n",
    "\n",
    "for i in range(len(ppgs_128)):\n",
    "    print(i)\n",
    "    fiducials_128.append(extract_fiducials(ppgs_128[i], speaks_128[i]))"
   ],
   "metadata": {
    "collapsed": false,
    "ExecuteTime": {
     "end_time": "2023-11-24T19:32:47.406708300Z",
     "start_time": "2023-11-24T19:25:19.410432900Z"
    }
   },
   "id": "640fc82cbb11c215"
  },
  {
   "cell_type": "code",
   "execution_count": 7,
   "outputs": [
    {
     "name": "stdout",
     "output_type": "stream",
     "text": [
      "0\n",
      "1\n",
      "2\n",
      "3\n",
      "4\n",
      "5\n",
      "6\n",
      "7\n",
      "8\n",
      "9\n",
      "10\n",
      "11\n",
      "12\n",
      "13\n",
      "14\n",
      "15\n",
      "16\n",
      "17\n",
      "18\n",
      "19\n",
      "20\n",
      "21\n",
      "22\n",
      "23\n",
      "24\n",
      "25\n",
      "26\n",
      "27\n",
      "28\n",
      "29\n",
      "30\n",
      "31\n",
      "32\n",
      "33\n",
      "34\n",
      "35\n",
      "36\n",
      "37\n",
      "38\n",
      "39\n",
      "40\n",
      "41\n",
      "42\n"
     ]
    }
   ],
   "source": [
    "fiducials_250 = list()\n",
    "\n",
    "for i in range(len(ppgs_250)):\n",
    "   print(i)\n",
    "   fiducials_250.append(extract_fiducials(ppgs_250[i], speaks_250[i]))"
   ],
   "metadata": {
    "collapsed": false,
    "ExecuteTime": {
     "end_time": "2023-11-24T19:40:55.604047Z",
     "start_time": "2023-11-24T19:32:47.415366600Z"
    }
   },
   "id": "e7ec76e34775277e"
  },
  {
   "cell_type": "markdown",
   "source": [
    "# Extract features"
   ],
   "metadata": {
    "collapsed": false
   },
   "id": "a26bf8e027db0d14"
  },
  {
   "cell_type": "code",
   "execution_count": 8,
   "outputs": [],
   "source": [
    "features_128 = list()\n",
    "\n",
    "for i in range(len(fiducials_128)):\n",
    "    features_128.append(extract_features(fiducials_128[i], ppgs_128[i], 128))"
   ],
   "metadata": {
    "collapsed": false,
    "ExecuteTime": {
     "end_time": "2023-11-24T19:41:25.696274600Z",
     "start_time": "2023-11-24T19:40:55.612273900Z"
    }
   },
   "id": "7dce4b8e07a5bbfe"
  },
  {
   "cell_type": "code",
   "execution_count": 9,
   "outputs": [],
   "source": [
    "features_250 = list()\n",
    "\n",
    "for i in range(len(fiducials_250)):\n",
    "    features_250.append(extract_features(fiducials_250[i], ppgs_250[i], 250))"
   ],
   "metadata": {
    "collapsed": false,
    "ExecuteTime": {
     "end_time": "2023-11-24T19:41:45.199295400Z",
     "start_time": "2023-11-24T19:41:25.701936400Z"
    }
   },
   "id": "ac69bb3c18ed1cd"
  },
  {
   "cell_type": "markdown",
   "source": [
    "# Add annotation to peaks"
   ],
   "metadata": {
    "collapsed": false
   },
   "id": "e32b1d97ffdcb042"
  },
  {
   "cell_type": "code",
   "execution_count": 10,
   "outputs": [],
   "source": [
    "for i in range(len(features_128)):\n",
    "    features_128[i]['annotation'] = annotations_128[i]"
   ],
   "metadata": {
    "collapsed": false,
    "ExecuteTime": {
     "end_time": "2023-11-24T19:41:45.220479900Z",
     "start_time": "2023-11-24T19:41:45.203063700Z"
    }
   },
   "id": "787e15dafc1cfc4e"
  },
  {
   "cell_type": "code",
   "execution_count": 11,
   "outputs": [],
   "source": [
    "for i in range(len(features_250)):\n",
    "    features_250[i]['annotation'] = annotations_250[i]"
   ],
   "metadata": {
    "collapsed": false,
    "ExecuteTime": {
     "end_time": "2023-11-24T19:41:45.242086600Z",
     "start_time": "2023-11-24T19:41:45.220479900Z"
    }
   },
   "id": "93ef46bcccf9cba8"
  },
  {
   "cell_type": "markdown",
   "source": [
    "# Remove rows with null values"
   ],
   "metadata": {
    "collapsed": false
   },
   "id": "803da4d15c18ea3c"
  },
  {
   "cell_type": "code",
   "execution_count": 15,
   "outputs": [
    {
     "name": "stderr",
     "output_type": "stream",
     "text": [
      "C:\\Users\\cricr\\AppData\\Local\\Temp\\ipykernel_10760\\510882841.py:3: FutureWarning: DataFrame.applymap has been deprecated. Use DataFrame.map instead.\n",
      "  rows_with_nan = features_128[i][features_128[i].applymap(lambda x: np.isnan(x) if isinstance(x, (float, np.float64)) else False).any(axis=1)]\n",
      "C:\\Users\\cricr\\AppData\\Local\\Temp\\ipykernel_10760\\510882841.py:3: FutureWarning: DataFrame.applymap has been deprecated. Use DataFrame.map instead.\n",
      "  rows_with_nan = features_128[i][features_128[i].applymap(lambda x: np.isnan(x) if isinstance(x, (float, np.float64)) else False).any(axis=1)]\n",
      "C:\\Users\\cricr\\AppData\\Local\\Temp\\ipykernel_10760\\510882841.py:3: FutureWarning: DataFrame.applymap has been deprecated. Use DataFrame.map instead.\n",
      "  rows_with_nan = features_128[i][features_128[i].applymap(lambda x: np.isnan(x) if isinstance(x, (float, np.float64)) else False).any(axis=1)]\n",
      "C:\\Users\\cricr\\AppData\\Local\\Temp\\ipykernel_10760\\510882841.py:3: FutureWarning: DataFrame.applymap has been deprecated. Use DataFrame.map instead.\n",
      "  rows_with_nan = features_128[i][features_128[i].applymap(lambda x: np.isnan(x) if isinstance(x, (float, np.float64)) else False).any(axis=1)]\n",
      "C:\\Users\\cricr\\AppData\\Local\\Temp\\ipykernel_10760\\510882841.py:3: FutureWarning: DataFrame.applymap has been deprecated. Use DataFrame.map instead.\n",
      "  rows_with_nan = features_128[i][features_128[i].applymap(lambda x: np.isnan(x) if isinstance(x, (float, np.float64)) else False).any(axis=1)]\n",
      "C:\\Users\\cricr\\AppData\\Local\\Temp\\ipykernel_10760\\510882841.py:3: FutureWarning: DataFrame.applymap has been deprecated. Use DataFrame.map instead.\n",
      "  rows_with_nan = features_128[i][features_128[i].applymap(lambda x: np.isnan(x) if isinstance(x, (float, np.float64)) else False).any(axis=1)]\n",
      "C:\\Users\\cricr\\AppData\\Local\\Temp\\ipykernel_10760\\510882841.py:3: FutureWarning: DataFrame.applymap has been deprecated. Use DataFrame.map instead.\n",
      "  rows_with_nan = features_128[i][features_128[i].applymap(lambda x: np.isnan(x) if isinstance(x, (float, np.float64)) else False).any(axis=1)]\n",
      "C:\\Users\\cricr\\AppData\\Local\\Temp\\ipykernel_10760\\510882841.py:3: FutureWarning: DataFrame.applymap has been deprecated. Use DataFrame.map instead.\n",
      "  rows_with_nan = features_128[i][features_128[i].applymap(lambda x: np.isnan(x) if isinstance(x, (float, np.float64)) else False).any(axis=1)]\n",
      "C:\\Users\\cricr\\AppData\\Local\\Temp\\ipykernel_10760\\510882841.py:3: FutureWarning: DataFrame.applymap has been deprecated. Use DataFrame.map instead.\n",
      "  rows_with_nan = features_128[i][features_128[i].applymap(lambda x: np.isnan(x) if isinstance(x, (float, np.float64)) else False).any(axis=1)]\n",
      "C:\\Users\\cricr\\AppData\\Local\\Temp\\ipykernel_10760\\510882841.py:3: FutureWarning: DataFrame.applymap has been deprecated. Use DataFrame.map instead.\n",
      "  rows_with_nan = features_128[i][features_128[i].applymap(lambda x: np.isnan(x) if isinstance(x, (float, np.float64)) else False).any(axis=1)]\n",
      "C:\\Users\\cricr\\AppData\\Local\\Temp\\ipykernel_10760\\510882841.py:3: FutureWarning: DataFrame.applymap has been deprecated. Use DataFrame.map instead.\n",
      "  rows_with_nan = features_128[i][features_128[i].applymap(lambda x: np.isnan(x) if isinstance(x, (float, np.float64)) else False).any(axis=1)]\n",
      "C:\\Users\\cricr\\AppData\\Local\\Temp\\ipykernel_10760\\510882841.py:3: FutureWarning: DataFrame.applymap has been deprecated. Use DataFrame.map instead.\n",
      "  rows_with_nan = features_128[i][features_128[i].applymap(lambda x: np.isnan(x) if isinstance(x, (float, np.float64)) else False).any(axis=1)]\n",
      "C:\\Users\\cricr\\AppData\\Local\\Temp\\ipykernel_10760\\510882841.py:3: FutureWarning: DataFrame.applymap has been deprecated. Use DataFrame.map instead.\n",
      "  rows_with_nan = features_128[i][features_128[i].applymap(lambda x: np.isnan(x) if isinstance(x, (float, np.float64)) else False).any(axis=1)]\n",
      "C:\\Users\\cricr\\AppData\\Local\\Temp\\ipykernel_10760\\510882841.py:3: FutureWarning: DataFrame.applymap has been deprecated. Use DataFrame.map instead.\n",
      "  rows_with_nan = features_128[i][features_128[i].applymap(lambda x: np.isnan(x) if isinstance(x, (float, np.float64)) else False).any(axis=1)]\n",
      "C:\\Users\\cricr\\AppData\\Local\\Temp\\ipykernel_10760\\510882841.py:3: FutureWarning: DataFrame.applymap has been deprecated. Use DataFrame.map instead.\n",
      "  rows_with_nan = features_128[i][features_128[i].applymap(lambda x: np.isnan(x) if isinstance(x, (float, np.float64)) else False).any(axis=1)]\n",
      "C:\\Users\\cricr\\AppData\\Local\\Temp\\ipykernel_10760\\510882841.py:3: FutureWarning: DataFrame.applymap has been deprecated. Use DataFrame.map instead.\n",
      "  rows_with_nan = features_128[i][features_128[i].applymap(lambda x: np.isnan(x) if isinstance(x, (float, np.float64)) else False).any(axis=1)]\n",
      "C:\\Users\\cricr\\AppData\\Local\\Temp\\ipykernel_10760\\510882841.py:3: FutureWarning: DataFrame.applymap has been deprecated. Use DataFrame.map instead.\n",
      "  rows_with_nan = features_128[i][features_128[i].applymap(lambda x: np.isnan(x) if isinstance(x, (float, np.float64)) else False).any(axis=1)]\n",
      "C:\\Users\\cricr\\AppData\\Local\\Temp\\ipykernel_10760\\510882841.py:3: FutureWarning: DataFrame.applymap has been deprecated. Use DataFrame.map instead.\n",
      "  rows_with_nan = features_128[i][features_128[i].applymap(lambda x: np.isnan(x) if isinstance(x, (float, np.float64)) else False).any(axis=1)]\n",
      "C:\\Users\\cricr\\AppData\\Local\\Temp\\ipykernel_10760\\510882841.py:3: FutureWarning: DataFrame.applymap has been deprecated. Use DataFrame.map instead.\n",
      "  rows_with_nan = features_128[i][features_128[i].applymap(lambda x: np.isnan(x) if isinstance(x, (float, np.float64)) else False).any(axis=1)]\n",
      "C:\\Users\\cricr\\AppData\\Local\\Temp\\ipykernel_10760\\510882841.py:3: FutureWarning: DataFrame.applymap has been deprecated. Use DataFrame.map instead.\n",
      "  rows_with_nan = features_128[i][features_128[i].applymap(lambda x: np.isnan(x) if isinstance(x, (float, np.float64)) else False).any(axis=1)]\n",
      "C:\\Users\\cricr\\AppData\\Local\\Temp\\ipykernel_10760\\510882841.py:3: FutureWarning: DataFrame.applymap has been deprecated. Use DataFrame.map instead.\n",
      "  rows_with_nan = features_128[i][features_128[i].applymap(lambda x: np.isnan(x) if isinstance(x, (float, np.float64)) else False).any(axis=1)]\n",
      "C:\\Users\\cricr\\AppData\\Local\\Temp\\ipykernel_10760\\510882841.py:3: FutureWarning: DataFrame.applymap has been deprecated. Use DataFrame.map instead.\n",
      "  rows_with_nan = features_128[i][features_128[i].applymap(lambda x: np.isnan(x) if isinstance(x, (float, np.float64)) else False).any(axis=1)]\n",
      "C:\\Users\\cricr\\AppData\\Local\\Temp\\ipykernel_10760\\510882841.py:3: FutureWarning: DataFrame.applymap has been deprecated. Use DataFrame.map instead.\n",
      "  rows_with_nan = features_128[i][features_128[i].applymap(lambda x: np.isnan(x) if isinstance(x, (float, np.float64)) else False).any(axis=1)]\n",
      "C:\\Users\\cricr\\AppData\\Local\\Temp\\ipykernel_10760\\510882841.py:3: FutureWarning: DataFrame.applymap has been deprecated. Use DataFrame.map instead.\n",
      "  rows_with_nan = features_128[i][features_128[i].applymap(lambda x: np.isnan(x) if isinstance(x, (float, np.float64)) else False).any(axis=1)]\n",
      "C:\\Users\\cricr\\AppData\\Local\\Temp\\ipykernel_10760\\510882841.py:3: FutureWarning: DataFrame.applymap has been deprecated. Use DataFrame.map instead.\n",
      "  rows_with_nan = features_128[i][features_128[i].applymap(lambda x: np.isnan(x) if isinstance(x, (float, np.float64)) else False).any(axis=1)]\n",
      "C:\\Users\\cricr\\AppData\\Local\\Temp\\ipykernel_10760\\510882841.py:3: FutureWarning: DataFrame.applymap has been deprecated. Use DataFrame.map instead.\n",
      "  rows_with_nan = features_128[i][features_128[i].applymap(lambda x: np.isnan(x) if isinstance(x, (float, np.float64)) else False).any(axis=1)]\n",
      "C:\\Users\\cricr\\AppData\\Local\\Temp\\ipykernel_10760\\510882841.py:3: FutureWarning: DataFrame.applymap has been deprecated. Use DataFrame.map instead.\n",
      "  rows_with_nan = features_128[i][features_128[i].applymap(lambda x: np.isnan(x) if isinstance(x, (float, np.float64)) else False).any(axis=1)]\n",
      "C:\\Users\\cricr\\AppData\\Local\\Temp\\ipykernel_10760\\510882841.py:3: FutureWarning: DataFrame.applymap has been deprecated. Use DataFrame.map instead.\n",
      "  rows_with_nan = features_128[i][features_128[i].applymap(lambda x: np.isnan(x) if isinstance(x, (float, np.float64)) else False).any(axis=1)]\n",
      "C:\\Users\\cricr\\AppData\\Local\\Temp\\ipykernel_10760\\510882841.py:3: FutureWarning: DataFrame.applymap has been deprecated. Use DataFrame.map instead.\n",
      "  rows_with_nan = features_128[i][features_128[i].applymap(lambda x: np.isnan(x) if isinstance(x, (float, np.float64)) else False).any(axis=1)]\n",
      "C:\\Users\\cricr\\AppData\\Local\\Temp\\ipykernel_10760\\510882841.py:3: FutureWarning: DataFrame.applymap has been deprecated. Use DataFrame.map instead.\n",
      "  rows_with_nan = features_128[i][features_128[i].applymap(lambda x: np.isnan(x) if isinstance(x, (float, np.float64)) else False).any(axis=1)]\n",
      "C:\\Users\\cricr\\AppData\\Local\\Temp\\ipykernel_10760\\510882841.py:3: FutureWarning: DataFrame.applymap has been deprecated. Use DataFrame.map instead.\n",
      "  rows_with_nan = features_128[i][features_128[i].applymap(lambda x: np.isnan(x) if isinstance(x, (float, np.float64)) else False).any(axis=1)]\n",
      "C:\\Users\\cricr\\AppData\\Local\\Temp\\ipykernel_10760\\510882841.py:3: FutureWarning: DataFrame.applymap has been deprecated. Use DataFrame.map instead.\n",
      "  rows_with_nan = features_128[i][features_128[i].applymap(lambda x: np.isnan(x) if isinstance(x, (float, np.float64)) else False).any(axis=1)]\n",
      "C:\\Users\\cricr\\AppData\\Local\\Temp\\ipykernel_10760\\510882841.py:3: FutureWarning: DataFrame.applymap has been deprecated. Use DataFrame.map instead.\n",
      "  rows_with_nan = features_128[i][features_128[i].applymap(lambda x: np.isnan(x) if isinstance(x, (float, np.float64)) else False).any(axis=1)]\n",
      "C:\\Users\\cricr\\AppData\\Local\\Temp\\ipykernel_10760\\510882841.py:3: FutureWarning: DataFrame.applymap has been deprecated. Use DataFrame.map instead.\n",
      "  rows_with_nan = features_128[i][features_128[i].applymap(lambda x: np.isnan(x) if isinstance(x, (float, np.float64)) else False).any(axis=1)]\n",
      "C:\\Users\\cricr\\AppData\\Local\\Temp\\ipykernel_10760\\510882841.py:3: FutureWarning: DataFrame.applymap has been deprecated. Use DataFrame.map instead.\n",
      "  rows_with_nan = features_128[i][features_128[i].applymap(lambda x: np.isnan(x) if isinstance(x, (float, np.float64)) else False).any(axis=1)]\n",
      "C:\\Users\\cricr\\AppData\\Local\\Temp\\ipykernel_10760\\510882841.py:3: FutureWarning: DataFrame.applymap has been deprecated. Use DataFrame.map instead.\n",
      "  rows_with_nan = features_128[i][features_128[i].applymap(lambda x: np.isnan(x) if isinstance(x, (float, np.float64)) else False).any(axis=1)]\n",
      "C:\\Users\\cricr\\AppData\\Local\\Temp\\ipykernel_10760\\510882841.py:3: FutureWarning: DataFrame.applymap has been deprecated. Use DataFrame.map instead.\n",
      "  rows_with_nan = features_128[i][features_128[i].applymap(lambda x: np.isnan(x) if isinstance(x, (float, np.float64)) else False).any(axis=1)]\n",
      "C:\\Users\\cricr\\AppData\\Local\\Temp\\ipykernel_10760\\510882841.py:3: FutureWarning: DataFrame.applymap has been deprecated. Use DataFrame.map instead.\n",
      "  rows_with_nan = features_128[i][features_128[i].applymap(lambda x: np.isnan(x) if isinstance(x, (float, np.float64)) else False).any(axis=1)]\n",
      "C:\\Users\\cricr\\AppData\\Local\\Temp\\ipykernel_10760\\510882841.py:3: FutureWarning: DataFrame.applymap has been deprecated. Use DataFrame.map instead.\n",
      "  rows_with_nan = features_128[i][features_128[i].applymap(lambda x: np.isnan(x) if isinstance(x, (float, np.float64)) else False).any(axis=1)]\n",
      "C:\\Users\\cricr\\AppData\\Local\\Temp\\ipykernel_10760\\510882841.py:3: FutureWarning: DataFrame.applymap has been deprecated. Use DataFrame.map instead.\n",
      "  rows_with_nan = features_128[i][features_128[i].applymap(lambda x: np.isnan(x) if isinstance(x, (float, np.float64)) else False).any(axis=1)]\n",
      "C:\\Users\\cricr\\AppData\\Local\\Temp\\ipykernel_10760\\510882841.py:3: FutureWarning: DataFrame.applymap has been deprecated. Use DataFrame.map instead.\n",
      "  rows_with_nan = features_128[i][features_128[i].applymap(lambda x: np.isnan(x) if isinstance(x, (float, np.float64)) else False).any(axis=1)]\n",
      "C:\\Users\\cricr\\AppData\\Local\\Temp\\ipykernel_10760\\510882841.py:3: FutureWarning: DataFrame.applymap has been deprecated. Use DataFrame.map instead.\n",
      "  rows_with_nan = features_128[i][features_128[i].applymap(lambda x: np.isnan(x) if isinstance(x, (float, np.float64)) else False).any(axis=1)]\n",
      "C:\\Users\\cricr\\AppData\\Local\\Temp\\ipykernel_10760\\510882841.py:3: FutureWarning: DataFrame.applymap has been deprecated. Use DataFrame.map instead.\n",
      "  rows_with_nan = features_128[i][features_128[i].applymap(lambda x: np.isnan(x) if isinstance(x, (float, np.float64)) else False).any(axis=1)]\n",
      "C:\\Users\\cricr\\AppData\\Local\\Temp\\ipykernel_10760\\510882841.py:3: FutureWarning: DataFrame.applymap has been deprecated. Use DataFrame.map instead.\n",
      "  rows_with_nan = features_128[i][features_128[i].applymap(lambda x: np.isnan(x) if isinstance(x, (float, np.float64)) else False).any(axis=1)]\n",
      "C:\\Users\\cricr\\AppData\\Local\\Temp\\ipykernel_10760\\510882841.py:3: FutureWarning: DataFrame.applymap has been deprecated. Use DataFrame.map instead.\n",
      "  rows_with_nan = features_128[i][features_128[i].applymap(lambda x: np.isnan(x) if isinstance(x, (float, np.float64)) else False).any(axis=1)]\n",
      "C:\\Users\\cricr\\AppData\\Local\\Temp\\ipykernel_10760\\510882841.py:3: FutureWarning: DataFrame.applymap has been deprecated. Use DataFrame.map instead.\n",
      "  rows_with_nan = features_128[i][features_128[i].applymap(lambda x: np.isnan(x) if isinstance(x, (float, np.float64)) else False).any(axis=1)]\n",
      "C:\\Users\\cricr\\AppData\\Local\\Temp\\ipykernel_10760\\510882841.py:3: FutureWarning: DataFrame.applymap has been deprecated. Use DataFrame.map instead.\n",
      "  rows_with_nan = features_128[i][features_128[i].applymap(lambda x: np.isnan(x) if isinstance(x, (float, np.float64)) else False).any(axis=1)]\n",
      "C:\\Users\\cricr\\AppData\\Local\\Temp\\ipykernel_10760\\510882841.py:3: FutureWarning: DataFrame.applymap has been deprecated. Use DataFrame.map instead.\n",
      "  rows_with_nan = features_128[i][features_128[i].applymap(lambda x: np.isnan(x) if isinstance(x, (float, np.float64)) else False).any(axis=1)]\n",
      "C:\\Users\\cricr\\AppData\\Local\\Temp\\ipykernel_10760\\510882841.py:3: FutureWarning: DataFrame.applymap has been deprecated. Use DataFrame.map instead.\n",
      "  rows_with_nan = features_128[i][features_128[i].applymap(lambda x: np.isnan(x) if isinstance(x, (float, np.float64)) else False).any(axis=1)]\n",
      "C:\\Users\\cricr\\AppData\\Local\\Temp\\ipykernel_10760\\510882841.py:3: FutureWarning: DataFrame.applymap has been deprecated. Use DataFrame.map instead.\n",
      "  rows_with_nan = features_128[i][features_128[i].applymap(lambda x: np.isnan(x) if isinstance(x, (float, np.float64)) else False).any(axis=1)]\n",
      "C:\\Users\\cricr\\AppData\\Local\\Temp\\ipykernel_10760\\510882841.py:3: FutureWarning: DataFrame.applymap has been deprecated. Use DataFrame.map instead.\n",
      "  rows_with_nan = features_128[i][features_128[i].applymap(lambda x: np.isnan(x) if isinstance(x, (float, np.float64)) else False).any(axis=1)]\n",
      "C:\\Users\\cricr\\AppData\\Local\\Temp\\ipykernel_10760\\510882841.py:3: FutureWarning: DataFrame.applymap has been deprecated. Use DataFrame.map instead.\n",
      "  rows_with_nan = features_128[i][features_128[i].applymap(lambda x: np.isnan(x) if isinstance(x, (float, np.float64)) else False).any(axis=1)]\n",
      "C:\\Users\\cricr\\AppData\\Local\\Temp\\ipykernel_10760\\510882841.py:3: FutureWarning: DataFrame.applymap has been deprecated. Use DataFrame.map instead.\n",
      "  rows_with_nan = features_128[i][features_128[i].applymap(lambda x: np.isnan(x) if isinstance(x, (float, np.float64)) else False).any(axis=1)]\n",
      "C:\\Users\\cricr\\AppData\\Local\\Temp\\ipykernel_10760\\510882841.py:3: FutureWarning: DataFrame.applymap has been deprecated. Use DataFrame.map instead.\n",
      "  rows_with_nan = features_128[i][features_128[i].applymap(lambda x: np.isnan(x) if isinstance(x, (float, np.float64)) else False).any(axis=1)]\n",
      "C:\\Users\\cricr\\AppData\\Local\\Temp\\ipykernel_10760\\510882841.py:3: FutureWarning: DataFrame.applymap has been deprecated. Use DataFrame.map instead.\n",
      "  rows_with_nan = features_128[i][features_128[i].applymap(lambda x: np.isnan(x) if isinstance(x, (float, np.float64)) else False).any(axis=1)]\n",
      "C:\\Users\\cricr\\AppData\\Local\\Temp\\ipykernel_10760\\510882841.py:3: FutureWarning: DataFrame.applymap has been deprecated. Use DataFrame.map instead.\n",
      "  rows_with_nan = features_128[i][features_128[i].applymap(lambda x: np.isnan(x) if isinstance(x, (float, np.float64)) else False).any(axis=1)]\n",
      "C:\\Users\\cricr\\AppData\\Local\\Temp\\ipykernel_10760\\510882841.py:3: FutureWarning: DataFrame.applymap has been deprecated. Use DataFrame.map instead.\n",
      "  rows_with_nan = features_128[i][features_128[i].applymap(lambda x: np.isnan(x) if isinstance(x, (float, np.float64)) else False).any(axis=1)]\n",
      "C:\\Users\\cricr\\AppData\\Local\\Temp\\ipykernel_10760\\510882841.py:3: FutureWarning: DataFrame.applymap has been deprecated. Use DataFrame.map instead.\n",
      "  rows_with_nan = features_128[i][features_128[i].applymap(lambda x: np.isnan(x) if isinstance(x, (float, np.float64)) else False).any(axis=1)]\n",
      "C:\\Users\\cricr\\AppData\\Local\\Temp\\ipykernel_10760\\510882841.py:3: FutureWarning: DataFrame.applymap has been deprecated. Use DataFrame.map instead.\n",
      "  rows_with_nan = features_128[i][features_128[i].applymap(lambda x: np.isnan(x) if isinstance(x, (float, np.float64)) else False).any(axis=1)]\n",
      "C:\\Users\\cricr\\AppData\\Local\\Temp\\ipykernel_10760\\510882841.py:3: FutureWarning: DataFrame.applymap has been deprecated. Use DataFrame.map instead.\n",
      "  rows_with_nan = features_128[i][features_128[i].applymap(lambda x: np.isnan(x) if isinstance(x, (float, np.float64)) else False).any(axis=1)]\n",
      "C:\\Users\\cricr\\AppData\\Local\\Temp\\ipykernel_10760\\510882841.py:3: FutureWarning: DataFrame.applymap has been deprecated. Use DataFrame.map instead.\n",
      "  rows_with_nan = features_128[i][features_128[i].applymap(lambda x: np.isnan(x) if isinstance(x, (float, np.float64)) else False).any(axis=1)]\n",
      "C:\\Users\\cricr\\AppData\\Local\\Temp\\ipykernel_10760\\510882841.py:3: FutureWarning: DataFrame.applymap has been deprecated. Use DataFrame.map instead.\n",
      "  rows_with_nan = features_128[i][features_128[i].applymap(lambda x: np.isnan(x) if isinstance(x, (float, np.float64)) else False).any(axis=1)]\n"
     ]
    }
   ],
   "source": [
    "for i in range(len(features_128)):\n",
    "    # Find rows with at least one NaN value using np.isnan()\n",
    "    rows_with_nan = features_128[i][features_128[i].applymap(lambda x: np.isnan(x) if isinstance(x, (float, np.float64)) else False).any(axis=1)]\n",
    "\n",
    "    # Remove rows with NaN values\n",
    "    features_128[i] = features_128[i].drop(rows_with_nan.index)"
   ],
   "metadata": {
    "collapsed": false,
    "ExecuteTime": {
     "end_time": "2023-11-24T20:19:45.026393600Z",
     "start_time": "2023-11-24T20:19:42.415299200Z"
    }
   },
   "id": "ece17e9a4968e551"
  },
  {
   "cell_type": "code",
   "execution_count": 16,
   "outputs": [
    {
     "name": "stderr",
     "output_type": "stream",
     "text": [
      "C:\\Users\\cricr\\AppData\\Local\\Temp\\ipykernel_10760\\3240610789.py:3: FutureWarning: DataFrame.applymap has been deprecated. Use DataFrame.map instead.\n",
      "  rows_with_nan = features_250[i][features_250[i].applymap(lambda x: np.isnan(x) if isinstance(x, (float, np.float64)) else False).any(axis=1)]\n",
      "C:\\Users\\cricr\\AppData\\Local\\Temp\\ipykernel_10760\\3240610789.py:3: FutureWarning: DataFrame.applymap has been deprecated. Use DataFrame.map instead.\n",
      "  rows_with_nan = features_250[i][features_250[i].applymap(lambda x: np.isnan(x) if isinstance(x, (float, np.float64)) else False).any(axis=1)]\n",
      "C:\\Users\\cricr\\AppData\\Local\\Temp\\ipykernel_10760\\3240610789.py:3: FutureWarning: DataFrame.applymap has been deprecated. Use DataFrame.map instead.\n",
      "  rows_with_nan = features_250[i][features_250[i].applymap(lambda x: np.isnan(x) if isinstance(x, (float, np.float64)) else False).any(axis=1)]\n",
      "C:\\Users\\cricr\\AppData\\Local\\Temp\\ipykernel_10760\\3240610789.py:3: FutureWarning: DataFrame.applymap has been deprecated. Use DataFrame.map instead.\n",
      "  rows_with_nan = features_250[i][features_250[i].applymap(lambda x: np.isnan(x) if isinstance(x, (float, np.float64)) else False).any(axis=1)]\n",
      "C:\\Users\\cricr\\AppData\\Local\\Temp\\ipykernel_10760\\3240610789.py:3: FutureWarning: DataFrame.applymap has been deprecated. Use DataFrame.map instead.\n",
      "  rows_with_nan = features_250[i][features_250[i].applymap(lambda x: np.isnan(x) if isinstance(x, (float, np.float64)) else False).any(axis=1)]\n",
      "C:\\Users\\cricr\\AppData\\Local\\Temp\\ipykernel_10760\\3240610789.py:3: FutureWarning: DataFrame.applymap has been deprecated. Use DataFrame.map instead.\n",
      "  rows_with_nan = features_250[i][features_250[i].applymap(lambda x: np.isnan(x) if isinstance(x, (float, np.float64)) else False).any(axis=1)]\n",
      "C:\\Users\\cricr\\AppData\\Local\\Temp\\ipykernel_10760\\3240610789.py:3: FutureWarning: DataFrame.applymap has been deprecated. Use DataFrame.map instead.\n",
      "  rows_with_nan = features_250[i][features_250[i].applymap(lambda x: np.isnan(x) if isinstance(x, (float, np.float64)) else False).any(axis=1)]\n",
      "C:\\Users\\cricr\\AppData\\Local\\Temp\\ipykernel_10760\\3240610789.py:3: FutureWarning: DataFrame.applymap has been deprecated. Use DataFrame.map instead.\n",
      "  rows_with_nan = features_250[i][features_250[i].applymap(lambda x: np.isnan(x) if isinstance(x, (float, np.float64)) else False).any(axis=1)]\n",
      "C:\\Users\\cricr\\AppData\\Local\\Temp\\ipykernel_10760\\3240610789.py:3: FutureWarning: DataFrame.applymap has been deprecated. Use DataFrame.map instead.\n",
      "  rows_with_nan = features_250[i][features_250[i].applymap(lambda x: np.isnan(x) if isinstance(x, (float, np.float64)) else False).any(axis=1)]\n",
      "C:\\Users\\cricr\\AppData\\Local\\Temp\\ipykernel_10760\\3240610789.py:3: FutureWarning: DataFrame.applymap has been deprecated. Use DataFrame.map instead.\n",
      "  rows_with_nan = features_250[i][features_250[i].applymap(lambda x: np.isnan(x) if isinstance(x, (float, np.float64)) else False).any(axis=1)]\n",
      "C:\\Users\\cricr\\AppData\\Local\\Temp\\ipykernel_10760\\3240610789.py:3: FutureWarning: DataFrame.applymap has been deprecated. Use DataFrame.map instead.\n",
      "  rows_with_nan = features_250[i][features_250[i].applymap(lambda x: np.isnan(x) if isinstance(x, (float, np.float64)) else False).any(axis=1)]\n",
      "C:\\Users\\cricr\\AppData\\Local\\Temp\\ipykernel_10760\\3240610789.py:3: FutureWarning: DataFrame.applymap has been deprecated. Use DataFrame.map instead.\n",
      "  rows_with_nan = features_250[i][features_250[i].applymap(lambda x: np.isnan(x) if isinstance(x, (float, np.float64)) else False).any(axis=1)]\n",
      "C:\\Users\\cricr\\AppData\\Local\\Temp\\ipykernel_10760\\3240610789.py:3: FutureWarning: DataFrame.applymap has been deprecated. Use DataFrame.map instead.\n",
      "  rows_with_nan = features_250[i][features_250[i].applymap(lambda x: np.isnan(x) if isinstance(x, (float, np.float64)) else False).any(axis=1)]\n",
      "C:\\Users\\cricr\\AppData\\Local\\Temp\\ipykernel_10760\\3240610789.py:3: FutureWarning: DataFrame.applymap has been deprecated. Use DataFrame.map instead.\n",
      "  rows_with_nan = features_250[i][features_250[i].applymap(lambda x: np.isnan(x) if isinstance(x, (float, np.float64)) else False).any(axis=1)]\n",
      "C:\\Users\\cricr\\AppData\\Local\\Temp\\ipykernel_10760\\3240610789.py:3: FutureWarning: DataFrame.applymap has been deprecated. Use DataFrame.map instead.\n",
      "  rows_with_nan = features_250[i][features_250[i].applymap(lambda x: np.isnan(x) if isinstance(x, (float, np.float64)) else False).any(axis=1)]\n",
      "C:\\Users\\cricr\\AppData\\Local\\Temp\\ipykernel_10760\\3240610789.py:3: FutureWarning: DataFrame.applymap has been deprecated. Use DataFrame.map instead.\n",
      "  rows_with_nan = features_250[i][features_250[i].applymap(lambda x: np.isnan(x) if isinstance(x, (float, np.float64)) else False).any(axis=1)]\n",
      "C:\\Users\\cricr\\AppData\\Local\\Temp\\ipykernel_10760\\3240610789.py:3: FutureWarning: DataFrame.applymap has been deprecated. Use DataFrame.map instead.\n",
      "  rows_with_nan = features_250[i][features_250[i].applymap(lambda x: np.isnan(x) if isinstance(x, (float, np.float64)) else False).any(axis=1)]\n",
      "C:\\Users\\cricr\\AppData\\Local\\Temp\\ipykernel_10760\\3240610789.py:3: FutureWarning: DataFrame.applymap has been deprecated. Use DataFrame.map instead.\n",
      "  rows_with_nan = features_250[i][features_250[i].applymap(lambda x: np.isnan(x) if isinstance(x, (float, np.float64)) else False).any(axis=1)]\n",
      "C:\\Users\\cricr\\AppData\\Local\\Temp\\ipykernel_10760\\3240610789.py:3: FutureWarning: DataFrame.applymap has been deprecated. Use DataFrame.map instead.\n",
      "  rows_with_nan = features_250[i][features_250[i].applymap(lambda x: np.isnan(x) if isinstance(x, (float, np.float64)) else False).any(axis=1)]\n",
      "C:\\Users\\cricr\\AppData\\Local\\Temp\\ipykernel_10760\\3240610789.py:3: FutureWarning: DataFrame.applymap has been deprecated. Use DataFrame.map instead.\n",
      "  rows_with_nan = features_250[i][features_250[i].applymap(lambda x: np.isnan(x) if isinstance(x, (float, np.float64)) else False).any(axis=1)]\n",
      "C:\\Users\\cricr\\AppData\\Local\\Temp\\ipykernel_10760\\3240610789.py:3: FutureWarning: DataFrame.applymap has been deprecated. Use DataFrame.map instead.\n",
      "  rows_with_nan = features_250[i][features_250[i].applymap(lambda x: np.isnan(x) if isinstance(x, (float, np.float64)) else False).any(axis=1)]\n",
      "C:\\Users\\cricr\\AppData\\Local\\Temp\\ipykernel_10760\\3240610789.py:3: FutureWarning: DataFrame.applymap has been deprecated. Use DataFrame.map instead.\n",
      "  rows_with_nan = features_250[i][features_250[i].applymap(lambda x: np.isnan(x) if isinstance(x, (float, np.float64)) else False).any(axis=1)]\n",
      "C:\\Users\\cricr\\AppData\\Local\\Temp\\ipykernel_10760\\3240610789.py:3: FutureWarning: DataFrame.applymap has been deprecated. Use DataFrame.map instead.\n",
      "  rows_with_nan = features_250[i][features_250[i].applymap(lambda x: np.isnan(x) if isinstance(x, (float, np.float64)) else False).any(axis=1)]\n",
      "C:\\Users\\cricr\\AppData\\Local\\Temp\\ipykernel_10760\\3240610789.py:3: FutureWarning: DataFrame.applymap has been deprecated. Use DataFrame.map instead.\n",
      "  rows_with_nan = features_250[i][features_250[i].applymap(lambda x: np.isnan(x) if isinstance(x, (float, np.float64)) else False).any(axis=1)]\n",
      "C:\\Users\\cricr\\AppData\\Local\\Temp\\ipykernel_10760\\3240610789.py:3: FutureWarning: DataFrame.applymap has been deprecated. Use DataFrame.map instead.\n",
      "  rows_with_nan = features_250[i][features_250[i].applymap(lambda x: np.isnan(x) if isinstance(x, (float, np.float64)) else False).any(axis=1)]\n",
      "C:\\Users\\cricr\\AppData\\Local\\Temp\\ipykernel_10760\\3240610789.py:3: FutureWarning: DataFrame.applymap has been deprecated. Use DataFrame.map instead.\n",
      "  rows_with_nan = features_250[i][features_250[i].applymap(lambda x: np.isnan(x) if isinstance(x, (float, np.float64)) else False).any(axis=1)]\n",
      "C:\\Users\\cricr\\AppData\\Local\\Temp\\ipykernel_10760\\3240610789.py:3: FutureWarning: DataFrame.applymap has been deprecated. Use DataFrame.map instead.\n",
      "  rows_with_nan = features_250[i][features_250[i].applymap(lambda x: np.isnan(x) if isinstance(x, (float, np.float64)) else False).any(axis=1)]\n",
      "C:\\Users\\cricr\\AppData\\Local\\Temp\\ipykernel_10760\\3240610789.py:3: FutureWarning: DataFrame.applymap has been deprecated. Use DataFrame.map instead.\n",
      "  rows_with_nan = features_250[i][features_250[i].applymap(lambda x: np.isnan(x) if isinstance(x, (float, np.float64)) else False).any(axis=1)]\n",
      "C:\\Users\\cricr\\AppData\\Local\\Temp\\ipykernel_10760\\3240610789.py:3: FutureWarning: DataFrame.applymap has been deprecated. Use DataFrame.map instead.\n",
      "  rows_with_nan = features_250[i][features_250[i].applymap(lambda x: np.isnan(x) if isinstance(x, (float, np.float64)) else False).any(axis=1)]\n",
      "C:\\Users\\cricr\\AppData\\Local\\Temp\\ipykernel_10760\\3240610789.py:3: FutureWarning: DataFrame.applymap has been deprecated. Use DataFrame.map instead.\n",
      "  rows_with_nan = features_250[i][features_250[i].applymap(lambda x: np.isnan(x) if isinstance(x, (float, np.float64)) else False).any(axis=1)]\n",
      "C:\\Users\\cricr\\AppData\\Local\\Temp\\ipykernel_10760\\3240610789.py:3: FutureWarning: DataFrame.applymap has been deprecated. Use DataFrame.map instead.\n",
      "  rows_with_nan = features_250[i][features_250[i].applymap(lambda x: np.isnan(x) if isinstance(x, (float, np.float64)) else False).any(axis=1)]\n",
      "C:\\Users\\cricr\\AppData\\Local\\Temp\\ipykernel_10760\\3240610789.py:3: FutureWarning: DataFrame.applymap has been deprecated. Use DataFrame.map instead.\n",
      "  rows_with_nan = features_250[i][features_250[i].applymap(lambda x: np.isnan(x) if isinstance(x, (float, np.float64)) else False).any(axis=1)]\n",
      "C:\\Users\\cricr\\AppData\\Local\\Temp\\ipykernel_10760\\3240610789.py:3: FutureWarning: DataFrame.applymap has been deprecated. Use DataFrame.map instead.\n",
      "  rows_with_nan = features_250[i][features_250[i].applymap(lambda x: np.isnan(x) if isinstance(x, (float, np.float64)) else False).any(axis=1)]\n",
      "C:\\Users\\cricr\\AppData\\Local\\Temp\\ipykernel_10760\\3240610789.py:3: FutureWarning: DataFrame.applymap has been deprecated. Use DataFrame.map instead.\n",
      "  rows_with_nan = features_250[i][features_250[i].applymap(lambda x: np.isnan(x) if isinstance(x, (float, np.float64)) else False).any(axis=1)]\n",
      "C:\\Users\\cricr\\AppData\\Local\\Temp\\ipykernel_10760\\3240610789.py:3: FutureWarning: DataFrame.applymap has been deprecated. Use DataFrame.map instead.\n",
      "  rows_with_nan = features_250[i][features_250[i].applymap(lambda x: np.isnan(x) if isinstance(x, (float, np.float64)) else False).any(axis=1)]\n",
      "C:\\Users\\cricr\\AppData\\Local\\Temp\\ipykernel_10760\\3240610789.py:3: FutureWarning: DataFrame.applymap has been deprecated. Use DataFrame.map instead.\n",
      "  rows_with_nan = features_250[i][features_250[i].applymap(lambda x: np.isnan(x) if isinstance(x, (float, np.float64)) else False).any(axis=1)]\n",
      "C:\\Users\\cricr\\AppData\\Local\\Temp\\ipykernel_10760\\3240610789.py:3: FutureWarning: DataFrame.applymap has been deprecated. Use DataFrame.map instead.\n",
      "  rows_with_nan = features_250[i][features_250[i].applymap(lambda x: np.isnan(x) if isinstance(x, (float, np.float64)) else False).any(axis=1)]\n",
      "C:\\Users\\cricr\\AppData\\Local\\Temp\\ipykernel_10760\\3240610789.py:3: FutureWarning: DataFrame.applymap has been deprecated. Use DataFrame.map instead.\n",
      "  rows_with_nan = features_250[i][features_250[i].applymap(lambda x: np.isnan(x) if isinstance(x, (float, np.float64)) else False).any(axis=1)]\n",
      "C:\\Users\\cricr\\AppData\\Local\\Temp\\ipykernel_10760\\3240610789.py:3: FutureWarning: DataFrame.applymap has been deprecated. Use DataFrame.map instead.\n",
      "  rows_with_nan = features_250[i][features_250[i].applymap(lambda x: np.isnan(x) if isinstance(x, (float, np.float64)) else False).any(axis=1)]\n",
      "C:\\Users\\cricr\\AppData\\Local\\Temp\\ipykernel_10760\\3240610789.py:3: FutureWarning: DataFrame.applymap has been deprecated. Use DataFrame.map instead.\n",
      "  rows_with_nan = features_250[i][features_250[i].applymap(lambda x: np.isnan(x) if isinstance(x, (float, np.float64)) else False).any(axis=1)]\n",
      "C:\\Users\\cricr\\AppData\\Local\\Temp\\ipykernel_10760\\3240610789.py:3: FutureWarning: DataFrame.applymap has been deprecated. Use DataFrame.map instead.\n",
      "  rows_with_nan = features_250[i][features_250[i].applymap(lambda x: np.isnan(x) if isinstance(x, (float, np.float64)) else False).any(axis=1)]\n",
      "C:\\Users\\cricr\\AppData\\Local\\Temp\\ipykernel_10760\\3240610789.py:3: FutureWarning: DataFrame.applymap has been deprecated. Use DataFrame.map instead.\n",
      "  rows_with_nan = features_250[i][features_250[i].applymap(lambda x: np.isnan(x) if isinstance(x, (float, np.float64)) else False).any(axis=1)]\n",
      "C:\\Users\\cricr\\AppData\\Local\\Temp\\ipykernel_10760\\3240610789.py:3: FutureWarning: DataFrame.applymap has been deprecated. Use DataFrame.map instead.\n",
      "  rows_with_nan = features_250[i][features_250[i].applymap(lambda x: np.isnan(x) if isinstance(x, (float, np.float64)) else False).any(axis=1)]\n"
     ]
    }
   ],
   "source": [
    "for i in range(len(features_250)):\n",
    "    # Find rows with at least one NaN value using np.isnan()\n",
    "    rows_with_nan = features_250[i][features_250[i].applymap(lambda x: np.isnan(x) if isinstance(x, (float, np.float64)) else False).any(axis=1)]\n",
    "\n",
    "    # Remove rows with NaN values\n",
    "    features_250[i] = features_250[i].drop(rows_with_nan.index)"
   ],
   "metadata": {
    "collapsed": false,
    "ExecuteTime": {
     "end_time": "2023-11-24T20:19:46.758413800Z",
     "start_time": "2023-11-24T20:19:45.028929100Z"
    }
   },
   "id": "1b6e44234a1b2883"
  },
  {
   "cell_type": "markdown",
   "source": [
    "# Write features to csv"
   ],
   "metadata": {
    "collapsed": false
   },
   "id": "e6ce4b53c1c4f1af"
  },
  {
   "cell_type": "code",
   "execution_count": 28,
   "outputs": [],
   "source": [
    "i = 0\n",
    "for feature in features_128:\n",
    "    file_name = f\"C:/Users/cricr/PycharmProjects/AI-project/features/128/features_{i}_128.csv\"\n",
    "    feature.to_csv(file_name, sep=',', index=False, encoding='utf-8')\n",
    "    i = i + 1"
   ],
   "metadata": {
    "collapsed": false,
    "ExecuteTime": {
     "end_time": "2023-11-24T20:31:57.176717900Z",
     "start_time": "2023-11-24T20:31:54.588434400Z"
    }
   },
   "id": "978b21c6cc8f230a"
  },
  {
   "cell_type": "code",
   "execution_count": 29,
   "outputs": [],
   "source": [
    "i = 0\n",
    "for feature in features_250:\n",
    "    file_name = f\"C:/Users/cricr/PycharmProjects/AI-project/features/250/features_{i}_250.csv\"\n",
    "    feature.to_csv(file_name, sep=',', index=False, encoding='utf-8')\n",
    "    i = i + 1"
   ],
   "metadata": {
    "collapsed": false,
    "ExecuteTime": {
     "end_time": "2023-11-24T20:31:58.865717900Z",
     "start_time": "2023-11-24T20:31:57.182480700Z"
    }
   },
   "id": "b96c658b223000e7"
  },
  {
   "cell_type": "code",
   "execution_count": null,
   "outputs": [],
   "source": [],
   "metadata": {
    "collapsed": false
   },
   "id": "5590cc2998a91600"
  }
 ],
 "metadata": {
  "kernelspec": {
   "display_name": "Python 3",
   "language": "python",
   "name": "python3"
  },
  "language_info": {
   "codemirror_mode": {
    "name": "ipython",
    "version": 2
   },
   "file_extension": ".py",
   "mimetype": "text/x-python",
   "name": "python",
   "nbconvert_exporter": "python",
   "pygments_lexer": "ipython2",
   "version": "2.7.6"
  }
 },
 "nbformat": 4,
 "nbformat_minor": 5
}
