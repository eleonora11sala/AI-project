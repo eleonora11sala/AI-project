{
 "cells": [
  {
   "cell_type": "code",
   "execution_count": 1,
   "id": "initial_id",
   "metadata": {
    "collapsed": true,
    "ExecuteTime": {
     "end_time": "2023-11-24T21:42:11.078949700Z",
     "start_time": "2023-11-24T21:42:05.331173700Z"
    }
   },
   "outputs": [
    {
     "name": "stdout",
     "output_type": "stream",
     "text": [
      "WARNING:tensorflow:From C:\\Users\\cricr\\AppData\\Local\\Packages\\PythonSoftwareFoundation.Python.3.11_qbz5n2kfra8p0\\LocalCache\\local-packages\\Python311\\site-packages\\keras\\src\\losses.py:2976: The name tf.losses.sparse_softmax_cross_entropy is deprecated. Please use tf.compat.v1.losses.sparse_softmax_cross_entropy instead.\n"
     ]
    }
   ],
   "source": [
    "import pandas as pd\n",
    "import numpy as np, os\n",
    "from sklearn.model_selection import train_test_split\n",
    "from sklearn.preprocessing import LabelEncoder\n",
    "from sklearn.metrics import accuracy_score\n",
    "import tensorflow as tf\n",
    "from tensorflow.keras.models import Sequential\n",
    "from tensorflow.keras.layers import Dense"
   ]
  },
  {
   "cell_type": "code",
   "execution_count": 2,
   "outputs": [],
   "source": [
    "folder_path = u'C:/Users/cricr/PycharmProjects/AI-project/features/128' \n",
    "\n",
    "# List all files in the folder\n",
    "file_names = [file for file in os.listdir(folder_path) if file.endswith('_128.csv')]\n",
    "\n",
    "# Initialize an empty DataFrame to concatenate all data\n",
    "all_data = pd.DataFrame()\n",
    "\n",
    "# Loop through each file and concatenate the data\n",
    "for file_name in file_names:\n",
    "    file_path = os.path.join(folder_path, file_name)\n",
    "    data = pd.read_csv(file_path)\n",
    "    all_data = pd.concat([all_data, data], ignore_index=True)\n",
    "\n",
    "# Now 'all_data' contains the concatenated data from all CSV files"
   ],
   "metadata": {
    "collapsed": false,
    "ExecuteTime": {
     "end_time": "2023-11-24T21:42:11.987863Z",
     "start_time": "2023-11-24T21:42:11.084136Z"
    }
   },
   "id": "13a4166f80afa3b"
  },
  {
   "cell_type": "code",
   "execution_count": 3,
   "outputs": [],
   "source": [
    "# Data Preprocessing\n",
    "#Sobstitute N, S, V with 0, 1, 2\n",
    "label_encoder = LabelEncoder()\n",
    "all_data['annotation'] = label_encoder.fit_transform(all_data['annotation'])"
   ],
   "metadata": {
    "collapsed": false,
    "ExecuteTime": {
     "end_time": "2023-11-24T21:42:12.012465Z",
     "start_time": "2023-11-24T21:42:11.991350500Z"
    }
   },
   "id": "bc1c8093311631c7"
  },
  {
   "cell_type": "code",
   "execution_count": 4,
   "outputs": [],
   "source": [
    "# Split Data\n",
    "train_data, test_data = train_test_split(all_data, test_size=0.2, random_state=42)\n",
    "#train_data, val_data = train_test_split(train_data, test_size=0.2, random_state=42)"
   ],
   "metadata": {
    "collapsed": false,
    "ExecuteTime": {
     "end_time": "2023-11-24T21:42:12.145541600Z",
     "start_time": "2023-11-24T21:42:12.016489Z"
    }
   },
   "id": "533f760b5338243"
  },
  {
   "cell_type": "code",
   "execution_count": 5,
   "outputs": [
    {
     "name": "stdout",
     "output_type": "stream",
     "text": [
      "WARNING:tensorflow:From C:\\Users\\cricr\\AppData\\Local\\Packages\\PythonSoftwareFoundation.Python.3.11_qbz5n2kfra8p0\\LocalCache\\local-packages\\Python311\\site-packages\\keras\\src\\backend.py:873: The name tf.get_default_graph is deprecated. Please use tf.compat.v1.get_default_graph instead.\n"
     ]
    }
   ],
   "source": [
    "# Model Definition\n",
    "model = Sequential([\n",
    "    Dense(64, activation='relu', input_shape=(len(all_data.columns) - 1,)),\n",
    "    Dense(32, activation='relu'),\n",
    "    Dense(len(all_data['annotation'].unique()), activation='softmax')\n",
    "])"
   ],
   "metadata": {
    "collapsed": false,
    "ExecuteTime": {
     "end_time": "2023-11-24T21:42:12.389330600Z",
     "start_time": "2023-11-24T21:42:12.153658100Z"
    }
   },
   "id": "450124af268c201f"
  },
  {
   "cell_type": "code",
   "execution_count": 6,
   "outputs": [],
   "source": [
    "# Model Training\n",
    "X_train = train_data.drop('annotation', axis=1)\n",
    "y_train = train_data['annotation']"
   ],
   "metadata": {
    "collapsed": false,
    "ExecuteTime": {
     "end_time": "2023-11-24T21:42:12.403435200Z",
     "start_time": "2023-11-24T21:42:12.394345Z"
    }
   },
   "id": "c472ac38133cfb19"
  },
  {
   "cell_type": "code",
   "execution_count": 7,
   "outputs": [],
   "source": [
    "#X_val = val_data.drop('annotation', axis=1)\n",
    "#y_val = val_data['annotation']"
   ],
   "metadata": {
    "collapsed": false,
    "ExecuteTime": {
     "end_time": "2023-11-24T21:42:12.417256Z",
     "start_time": "2023-11-24T21:42:12.403435200Z"
    }
   },
   "id": "3788f8bbc1b218e2"
  },
  {
   "cell_type": "code",
   "execution_count": 8,
   "outputs": [],
   "source": [
    "X_test = test_data.drop('annotation', axis=1)\n",
    "y_test = test_data['annotation']"
   ],
   "metadata": {
    "collapsed": false,
    "ExecuteTime": {
     "end_time": "2023-11-24T21:42:12.424537400Z",
     "start_time": "2023-11-24T21:42:12.417256Z"
    }
   },
   "id": "1ca9313a3f02a163"
  },
  {
   "cell_type": "code",
   "execution_count": 9,
   "outputs": [
    {
     "name": "stdout",
     "output_type": "stream",
     "text": [
      "WARNING:tensorflow:From C:\\Users\\cricr\\AppData\\Local\\Packages\\PythonSoftwareFoundation.Python.3.11_qbz5n2kfra8p0\\LocalCache\\local-packages\\Python311\\site-packages\\keras\\src\\optimizers\\__init__.py:309: The name tf.train.Optimizer is deprecated. Please use tf.compat.v1.train.Optimizer instead.\n",
      "Epoch 1/10\n",
      "WARNING:tensorflow:From C:\\Users\\cricr\\AppData\\Local\\Packages\\PythonSoftwareFoundation.Python.3.11_qbz5n2kfra8p0\\LocalCache\\local-packages\\Python311\\site-packages\\keras\\src\\utils\\tf_utils.py:492: The name tf.ragged.RaggedTensorValue is deprecated. Please use tf.compat.v1.ragged.RaggedTensorValue instead.\n",
      "WARNING:tensorflow:From C:\\Users\\cricr\\AppData\\Local\\Packages\\PythonSoftwareFoundation.Python.3.11_qbz5n2kfra8p0\\LocalCache\\local-packages\\Python311\\site-packages\\keras\\src\\engine\\base_layer_utils.py:384: The name tf.executing_eagerly_outside_functions is deprecated. Please use tf.compat.v1.executing_eagerly_outside_functions instead.\n",
      "3696/3696 [==============================] - 7s 2ms/step - loss: 185.3564 - accuracy: 0.7962\n",
      "Epoch 2/10\n",
      "3696/3696 [==============================] - 5s 1ms/step - loss: 67.4460 - accuracy: 0.7950\n",
      "Epoch 3/10\n",
      "3696/3696 [==============================] - 5s 1ms/step - loss: 29.6029 - accuracy: 0.7937\n",
      "Epoch 4/10\n",
      "3696/3696 [==============================] - 5s 1ms/step - loss: 10.2377 - accuracy: 0.8045\n",
      "Epoch 5/10\n",
      "3696/3696 [==============================] - 5s 1ms/step - loss: 1.3485 - accuracy: 0.8760\n",
      "Epoch 6/10\n",
      "3696/3696 [==============================] - 5s 1ms/step - loss: 0.4595 - accuracy: 0.8886\n",
      "Epoch 7/10\n",
      "3696/3696 [==============================] - 6s 2ms/step - loss: 0.4260 - accuracy: 0.8887\n",
      "Epoch 8/10\n",
      "3696/3696 [==============================] - 5s 1ms/step - loss: 0.4286 - accuracy: 0.8887\n",
      "Epoch 9/10\n",
      "3696/3696 [==============================] - 5s 1ms/step - loss: 0.4260 - accuracy: 0.8887\n",
      "Epoch 10/10\n",
      "3696/3696 [==============================] - 6s 2ms/step - loss: 0.4266 - accuracy: 0.8887\n"
     ]
    },
    {
     "data": {
      "text/plain": "<keras.src.callbacks.History at 0x27f2abb6f50>"
     },
     "execution_count": 9,
     "metadata": {},
     "output_type": "execute_result"
    }
   ],
   "source": [
    "model.compile(optimizer='adam', loss='sparse_categorical_crossentropy', metrics=['accuracy'])\n",
    "#model.fit(X_train, y_train, epochs=10, batch_size=32, validation_data=(X_val, y_val) )\n",
    "model.fit(X_train, y_train, epochs=10, batch_size=32)"
   ],
   "metadata": {
    "collapsed": false,
    "ExecuteTime": {
     "end_time": "2023-11-24T21:43:08.473432300Z",
     "start_time": "2023-11-24T21:42:12.424537400Z"
    }
   },
   "id": "3c08fc2dea3a3ddd"
  },
  {
   "cell_type": "code",
   "execution_count": 10,
   "outputs": [
    {
     "name": "stdout",
     "output_type": "stream",
     "text": [
      "924/924 [==============================] - 1s 1ms/step - loss: 0.4203 - accuracy: 0.8912\n"
     ]
    }
   ],
   "source": [
    "loss, accuracy = model.evaluate(X_test, y_test)"
   ],
   "metadata": {
    "collapsed": false,
    "ExecuteTime": {
     "end_time": "2023-11-24T21:43:09.900785500Z",
     "start_time": "2023-11-24T21:43:08.462421500Z"
    }
   },
   "id": "f02cb563a8cc2b63"
  }
 ],
 "metadata": {
  "kernelspec": {
   "display_name": "Python 3",
   "language": "python",
   "name": "python3"
  },
  "language_info": {
   "codemirror_mode": {
    "name": "ipython",
    "version": 2
   },
   "file_extension": ".py",
   "mimetype": "text/x-python",
   "name": "python",
   "nbconvert_exporter": "python",
   "pygments_lexer": "ipython2",
   "version": "2.7.6"
  }
 },
 "nbformat": 4,
 "nbformat_minor": 5
}
